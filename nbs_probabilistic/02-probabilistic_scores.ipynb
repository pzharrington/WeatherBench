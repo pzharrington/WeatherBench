{
 "cells": [
  {
   "cell_type": "markdown",
   "metadata": {},
   "source": [
    "# Implement probabilistic scores for ensemble forecasts\n",
    " \n",
    "Now let's implement the ensemble scores. Please refer to the Dropbox document for their definition. \n",
    "\n",
    "1. Spread/Skill ratio: As mentioned in Scher and Messori (2020) there is a right way to do the order of the computations. Read their paragraph on it.\n",
    "2. CRPS: Try the `properscoring` package. This one should be good.\n",
    "3. Rank histogram: Try the `rankhistogram` package. No idea if this one is good. If it's ok but requires minor changes, we can consider a pull request. Otherwise, let's just write our own implementation. \n",
    "\n",
    "For all three scores:\n",
    "- Use `xarray` as much as possible. Write a function similar to `src.score.compute_weighted_rmse.py`. \n",
    "- Ignore the weighted part at first.\n",
    "- Create simple synthetic datasets to test extreme cases. E.g. `ensemble = [1, 1, 1]`, `obs=[1]` should result in a CRPS of 0. Think about what good sanity checks are for each score. For the rank histogram, for example, try to build examples that should end up in the shapes from the Dropbox document (overdispersion, underdispersion, etc.)\n",
    "- Test the three functions with the \"real\" data from the dropout ensemble.\n",
    "- Now the weighted part: Because the area of each lat-lon square is not the same but in fact varies with cos(lat), we want to weigh each grid point proportional to its area. This is already implemented for the rmse and acc scores in `src/score.py`. Implement this for the three probabilistic scores and compare to the unweighted scores. They shouldn't be too different. Implementing this for the rank histogram might require some thinking. We can talk about this together."
   ]
  },
  {
   "cell_type": "markdown",
   "metadata": {},
   "source": [
    "ToDo:\n",
    "1. use command-line script to get prediction dataset\n",
    "2. shifting code to, working with full data on remote PC\n",
    "3. CRPS averaging. sanity checks.  re-writing rank histogram.\n",
    "4. creating function to compare different models on CRPS, Spread-skill, RankHistogram. should be simple.\n",
    "\n",
    "call niput_number- time"
   ]
  },
  {
   "cell_type": "code",
   "execution_count": 1,
   "metadata": {},
   "outputs": [],
   "source": [
    "%load_ext autoreload\n",
    "%autoreload 2"
   ]
  },
  {
   "cell_type": "code",
   "execution_count": 2,
   "metadata": {},
   "outputs": [
    {
     "name": "stderr",
     "output_type": "stream",
     "text": [
      "/anaconda3/lib/python3.7/site-packages/dask/config.py:168: YAMLLoadWarning: calling yaml.load() without Loader=... is deprecated, as the default Loader is unsafe. Please read https://msg.pyyaml.org/load for full details.\n",
      "  data = yaml.load(f.read()) or {}\n",
      "/anaconda3/lib/python3.7/site-packages/distributed/config.py:20: YAMLLoadWarning: calling yaml.load() without Loader=... is deprecated, as the default Loader is unsafe. Please read https://msg.pyyaml.org/load for full details.\n",
      "  defaults = yaml.load(f)\n",
      "/anaconda3/lib/python3.7/site-packages/tensorflow/python/framework/dtypes.py:516: FutureWarning: Passing (type, 1) or '1type' as a synonym of type is deprecated; in a future version of numpy, it will be understood as (type, (1,)) / '(1,)type'.\n",
      "  _np_qint8 = np.dtype([(\"qint8\", np.int8, 1)])\n",
      "/anaconda3/lib/python3.7/site-packages/tensorflow/python/framework/dtypes.py:517: FutureWarning: Passing (type, 1) or '1type' as a synonym of type is deprecated; in a future version of numpy, it will be understood as (type, (1,)) / '(1,)type'.\n",
      "  _np_quint8 = np.dtype([(\"quint8\", np.uint8, 1)])\n",
      "/anaconda3/lib/python3.7/site-packages/tensorflow/python/framework/dtypes.py:518: FutureWarning: Passing (type, 1) or '1type' as a synonym of type is deprecated; in a future version of numpy, it will be understood as (type, (1,)) / '(1,)type'.\n",
      "  _np_qint16 = np.dtype([(\"qint16\", np.int16, 1)])\n",
      "/anaconda3/lib/python3.7/site-packages/tensorflow/python/framework/dtypes.py:519: FutureWarning: Passing (type, 1) or '1type' as a synonym of type is deprecated; in a future version of numpy, it will be understood as (type, (1,)) / '(1,)type'.\n",
      "  _np_quint16 = np.dtype([(\"quint16\", np.uint16, 1)])\n",
      "/anaconda3/lib/python3.7/site-packages/tensorflow/python/framework/dtypes.py:520: FutureWarning: Passing (type, 1) or '1type' as a synonym of type is deprecated; in a future version of numpy, it will be understood as (type, (1,)) / '(1,)type'.\n",
      "  _np_qint32 = np.dtype([(\"qint32\", np.int32, 1)])\n",
      "/anaconda3/lib/python3.7/site-packages/tensorflow/python/framework/dtypes.py:525: FutureWarning: Passing (type, 1) or '1type' as a synonym of type is deprecated; in a future version of numpy, it will be understood as (type, (1,)) / '(1,)type'.\n",
      "  np_resource = np.dtype([(\"resource\", np.ubyte, 1)])\n",
      "/anaconda3/lib/python3.7/site-packages/tensorboard/compat/tensorflow_stub/dtypes.py:541: FutureWarning: Passing (type, 1) or '1type' as a synonym of type is deprecated; in a future version of numpy, it will be understood as (type, (1,)) / '(1,)type'.\n",
      "  _np_qint8 = np.dtype([(\"qint8\", np.int8, 1)])\n",
      "/anaconda3/lib/python3.7/site-packages/tensorboard/compat/tensorflow_stub/dtypes.py:542: FutureWarning: Passing (type, 1) or '1type' as a synonym of type is deprecated; in a future version of numpy, it will be understood as (type, (1,)) / '(1,)type'.\n",
      "  _np_quint8 = np.dtype([(\"quint8\", np.uint8, 1)])\n",
      "/anaconda3/lib/python3.7/site-packages/tensorboard/compat/tensorflow_stub/dtypes.py:543: FutureWarning: Passing (type, 1) or '1type' as a synonym of type is deprecated; in a future version of numpy, it will be understood as (type, (1,)) / '(1,)type'.\n",
      "  _np_qint16 = np.dtype([(\"qint16\", np.int16, 1)])\n",
      "/anaconda3/lib/python3.7/site-packages/tensorboard/compat/tensorflow_stub/dtypes.py:544: FutureWarning: Passing (type, 1) or '1type' as a synonym of type is deprecated; in a future version of numpy, it will be understood as (type, (1,)) / '(1,)type'.\n",
      "  _np_quint16 = np.dtype([(\"quint16\", np.uint16, 1)])\n",
      "/anaconda3/lib/python3.7/site-packages/tensorboard/compat/tensorflow_stub/dtypes.py:545: FutureWarning: Passing (type, 1) or '1type' as a synonym of type is deprecated; in a future version of numpy, it will be understood as (type, (1,)) / '(1,)type'.\n",
      "  _np_qint32 = np.dtype([(\"qint32\", np.int32, 1)])\n",
      "/anaconda3/lib/python3.7/site-packages/tensorboard/compat/tensorflow_stub/dtypes.py:550: FutureWarning: Passing (type, 1) or '1type' as a synonym of type is deprecated; in a future version of numpy, it will be understood as (type, (1,)) / '(1,)type'.\n",
      "  np_resource = np.dtype([(\"resource\", np.ubyte, 1)])\n"
     ]
    },
    {
     "name": "stdout",
     "output_type": "stream",
     "text": [
      "WARNING:tensorflow:From /Users/sagar/Library/Mobile Documents/com~apple~CloudDocs/studies/WeatherBench/Testing_WeatherBench/nbs_probabilistic/src/networks.py:3: The name tf.keras.layers.CuDNNGRU is deprecated. Please use tf.compat.v1.keras.layers.CuDNNGRU instead.\n",
      "\n",
      "WARNING:tensorflow:From /Users/sagar/Library/Mobile Documents/com~apple~CloudDocs/studies/WeatherBench/Testing_WeatherBench/nbs_probabilistic/src/networks.py:3: The name tf.keras.layers.CuDNNLSTM is deprecated. Please use tf.compat.v1.keras.layers.CuDNNLSTM instead.\n",
      "\n"
     ]
    }
   ],
   "source": [
    "from src.utils import *\n",
    "from src.score import *\n",
    "from src.data_generator import *\n",
    "from src.networks import *\n",
    "import matplotlib.pyplot as plt"
   ]
  },
  {
   "cell_type": "code",
   "execution_count": 3,
   "metadata": {},
   "outputs": [
    {
     "data": {
      "text/plain": [
       "'1.14.0'"
      ]
     },
     "execution_count": 3,
     "metadata": {},
     "output_type": "execute_result"
    }
   ],
   "source": [
    "tf.__version__"
   ]
  },
  {
   "cell_type": "code",
   "execution_count": 8,
   "metadata": {},
   "outputs": [],
   "source": [
    "datadir = '/Users/sagar/Library/Mobile\\ Documents/com~apple~CloudDocs/studies/WeatherBench/Testing_WeatherBench/5.625deg/'# Change this to where you downloaded the data"
   ]
  },
  {
   "cell_type": "code",
   "execution_count": 9,
   "metadata": {},
   "outputs": [
    {
     "name": "stdout",
     "output_type": "stream",
     "text": [
      "13-mean.nc                     \u001b[34mgeopotential\u001b[m\u001b[m\r\n",
      "13-resnet_bn_dr_0.1.h5         \u001b[34mtemperature\u001b[m\u001b[m\r\n",
      "13-resnet_bn_dr_0.1_weights.h5 \u001b[34mu_component_of_wind\u001b[m\u001b[m\r\n",
      "13-std.nc                      \u001b[34mv_component_of_wind\u001b[m\u001b[m\r\n",
      "\u001b[34mconstants\u001b[m\u001b[m\r\n"
     ]
    }
   ],
   "source": [
    "!ls $datadir"
   ]
  },
  {
   "cell_type": "code",
   "execution_count": 10,
   "metadata": {},
   "outputs": [],
   "source": [
    "exp_id = '13-resnet_bn_dr_0.1'\n",
    "var_dict = {'geopotential': ('z', [200, 500, 850]), 'temperature': ('t', [200, 500, 850]), \n",
    "            'u_component_of_wind': ('u', [200, 500, 850]), 'v_component_of_wind': ('v', [200, 500, 850]), \n",
    "            'constants': ['lsm','orography','lat2d']}  \n",
    "\n",
    "output_vars = ['z_500', 't_850']\n",
    "filters = [128, 128, 128, 128, 128, 128, 128, 128, 2]\n",
    "kernels = [7, 3, 3, 3, 3, 3, 3, 3, 3]\n",
    "lead_time = 72 #prediction of forecast is at 72 hours after input time.\n",
    "lr = 0.5e-4\n",
    "early_stopping_patience = 10\n",
    "reduce_lr_patience = 5\n",
    "data_subsample = 2\n",
    "norm_subsample = 30000\n",
    "bn_position = 'post'\n",
    "use_bias = 1\n",
    "dropout = 0.1  # This is the important one\n",
    "\n",
    "batch_size = 32\n",
    "nt_in = 1\n",
    "l2 = 0\n",
    "skip = True"
   ]
  },
  {
   "cell_type": "code",
   "execution_count": 11,
   "metadata": {},
   "outputs": [],
   "source": [
    "#ds = xr.merge([xr.open_mfdataset('../test/{var}/*.nc', combine='by_coords') for var in var_dict.keys()]) \n",
    "df1=xr.open_mfdataset('../5.625deg/geopotential/*.nc', combine='by_coords') \n",
    "df2=xr.open_mfdataset('../5.625deg/temperature/*.nc', combine='by_coords') \n",
    "df3=xr.open_mfdataset('../5.625deg/u_component_of_wind/*.nc', combine='by_coords') \n",
    "df4=xr.open_mfdataset('../5.625deg/v_component_of_wind/*.nc', combine='by_coords')  \n",
    "df5=xr.open_mfdataset('../5.625deg/constants/*.nc', combine='by_coords')  \n",
    "ds=xr.merge([df1,df2,df3,df4,df5])"
   ]
  },
  {
   "cell_type": "code",
   "execution_count": 12,
   "metadata": {},
   "outputs": [],
   "source": [
    "mean = xr.open_dataarray('../5.625deg/13-mean.nc') #for just our subsampled data. 15 levels ('the constants are at level=1)':z200,z500,z850,t200 and so on.\n",
    "std = xr.open_dataarray('../5.625deg/13-std.nc')"
   ]
  },
  {
   "cell_type": "code",
   "execution_count": 13,
   "metadata": {},
   "outputs": [
    {
     "name": "stdout",
     "output_type": "stream",
     "text": [
      "DG start 19:00:48.846015\n",
      "DG normalize 19:00:48.897251\n",
      "DG load 19:00:48.915102\n",
      "Loading data into RAM\n",
      "DG done 19:01:18.738878\n"
     ]
    }
   ],
   "source": [
    "dg_test = DataGenerator(\n",
    "    ds, var_dict, lead_time, batch_size=batch_size, mean=mean, std=std,\n",
    "    shuffle=False, output_vars=output_vars\n",
    ")"
   ]
  },
  {
   "cell_type": "code",
   "execution_count": 16,
   "metadata": {},
   "outputs": [
    {
     "data": {
      "text/plain": [
       "((32, 32, 64, 15), (32, 32, 64, 2))"
      ]
     },
     "execution_count": 16,
     "metadata": {},
     "output_type": "execute_result"
    }
   ],
   "source": [
    "# You can index into the data generator to obain a feature/target pair\n",
    "# [batch, x, y, channel]\n",
    "X,y=dg_test[0]\n",
    "X.shape, y.shape"
   ]
  },
  {
   "cell_type": "code",
   "execution_count": 23,
   "metadata": {},
   "outputs": [
    {
     "data": {
      "text/html": [
       "<pre>&lt;xarray.Dataset&gt;\n",
       "Dimensions:    (lat: 32, level: 11, lon: 64, time: 8760)\n",
       "Coordinates:\n",
       "  * lat        (lat) float64 -87.19 -81.56 -75.94 -70.31 ... 75.94 81.56 87.19\n",
       "  * level      (level) int32 1 10 100 200 300 400 500 600 700 850 1000\n",
       "  * lon        (lon) float64 0.0 5.625 11.25 16.88 ... 337.5 343.1 348.8 354.4\n",
       "  * time       (time) datetime64[ns] 2018-01-01 ... 2018-12-31T23:00:00\n",
       "Data variables:\n",
       "    z          (time, level, lat, lon) float32 dask.array&lt;chunksize=(8760, 11, 32, 64), meta=np.ndarray&gt;\n",
       "    t          (time, level, lat, lon) float32 dask.array&lt;chunksize=(8760, 11, 32, 64), meta=np.ndarray&gt;\n",
       "    u          (time, level, lat, lon) float32 dask.array&lt;chunksize=(8760, 11, 32, 64), meta=np.ndarray&gt;\n",
       "    v          (time, level, lat, lon) float32 dask.array&lt;chunksize=(8760, 11, 32, 64), meta=np.ndarray&gt;\n",
       "    orography  (lat, lon) float32 dask.array&lt;chunksize=(32, 64), meta=np.ndarray&gt;\n",
       "    lsm        (lat, lon) float32 dask.array&lt;chunksize=(32, 64), meta=np.ndarray&gt;\n",
       "    slt        (lat, lon) float32 dask.array&lt;chunksize=(32, 64), meta=np.ndarray&gt;\n",
       "    lat2d      (lat, lon) float64 dask.array&lt;chunksize=(32, 64), meta=np.ndarray&gt;\n",
       "    lon2d      (lat, lon) float64 dask.array&lt;chunksize=(32, 64), meta=np.ndarray&gt;</pre>"
      ],
      "text/plain": [
       "<xarray.Dataset>\n",
       "Dimensions:    (lat: 32, level: 11, lon: 64, time: 8760)\n",
       "Coordinates:\n",
       "  * lat        (lat) float64 -87.19 -81.56 -75.94 -70.31 ... 75.94 81.56 87.19\n",
       "  * level      (level) int32 1 10 100 200 300 400 500 600 700 850 1000\n",
       "  * lon        (lon) float64 0.0 5.625 11.25 16.88 ... 337.5 343.1 348.8 354.4\n",
       "  * time       (time) datetime64[ns] 2018-01-01 ... 2018-12-31T23:00:00\n",
       "Data variables:\n",
       "    z          (time, level, lat, lon) float32 dask.array<chunksize=(8760, 11, 32, 64), meta=np.ndarray>\n",
       "    t          (time, level, lat, lon) float32 dask.array<chunksize=(8760, 11, 32, 64), meta=np.ndarray>\n",
       "    u          (time, level, lat, lon) float32 dask.array<chunksize=(8760, 11, 32, 64), meta=np.ndarray>\n",
       "    v          (time, level, lat, lon) float32 dask.array<chunksize=(8760, 11, 32, 64), meta=np.ndarray>\n",
       "    orography  (lat, lon) float32 dask.array<chunksize=(32, 64), meta=np.ndarray>\n",
       "    lsm        (lat, lon) float32 dask.array<chunksize=(32, 64), meta=np.ndarray>\n",
       "    slt        (lat, lon) float32 dask.array<chunksize=(32, 64), meta=np.ndarray>\n",
       "    lat2d      (lat, lon) float64 dask.array<chunksize=(32, 64), meta=np.ndarray>\n",
       "    lon2d      (lat, lon) float64 dask.array<chunksize=(32, 64), meta=np.ndarray>"
      ]
     },
     "execution_count": 23,
     "metadata": {},
     "output_type": "execute_result"
    }
   ],
   "source": [
    "ds"
   ]
  },
  {
   "cell_type": "code",
   "execution_count": null,
   "metadata": {},
   "outputs": [],
   "source": [
    "#ToDo: #Get full data in X,Y instead of just 1 batch\n",
    "for (X,y) in dg_test\n",
    "     X,y=dg_test(i)\n",
    "      append"
   ]
  },
  {
   "cell_type": "code",
   "execution_count": 12,
   "metadata": {},
   "outputs": [
    {
     "data": {
      "text/plain": [
       "<matplotlib.image.AxesImage at 0x1c361e0240>"
      ]
     },
     "execution_count": 12,
     "metadata": {},
     "output_type": "execute_result"
    },
    {
     "data": {
      "image/png": "[encoded data removed]",
      "text/plain": [
       "<Figure size 576x288 with 1 Axes>"
      ]
     },
     "metadata": {
      "needs_background": "light"
     },
     "output_type": "display_data"
    }
   ],
   "source": [
    "plt.matshow(y[0, :, :, 1]) #y[...,0] is z500 and y[...,1] is t850. normalized. \n",
    "#y is the observation after lead_time (=72) hours from input X. The ground truth."
   ]
  },
  {
   "cell_type": "markdown",
   "metadata": {},
   "source": [
    "# Load the model\n",
    "Now let's load the pretrained model. Check the build resnet option ."
   ]
  },
  {
   "cell_type": "code",
   "execution_count": 13,
   "metadata": {},
   "outputs": [
    {
     "name": "stdout",
     "output_type": "stream",
     "text": [
      "WARNING:tensorflow:From /anaconda3/lib/python3.7/site-packages/tensorflow/python/ops/init_ops.py:1251: calling VarianceScaling.__init__ (from tensorflow.python.ops.init_ops) with dtype is deprecated and will be removed in a future version.\n",
      "Instructions for updating:\n",
      "Call initializer instance with the dtype argument instead of passing it to the constructor\n"
     ]
    }
   ],
   "source": [
    "model = build_resnet(\n",
    "    filters, kernels, input_shape=(\n",
    "        len(dg_test.data.lat), len(dg_test.data.lon), len(dg_test.data.level) * nt_in),\n",
    "    bn_position=bn_position, use_bias=use_bias, l2=l2, skip=skip,\n",
    "    dropout=dropout)"
   ]
  },
  {
   "cell_type": "code",
   "execution_count": 11,
   "metadata": {},
   "outputs": [
    {
     "data": {
      "text/plain": [
       "array([[[[-0.7220457 , -0.86677206, -0.8451589 , ...,  1.444262  ,\n",
       "           2.5708556 , -1.6787441 ],\n",
       "         [-0.716825  , -0.85551417, -0.8148069 , ...,  1.444262  ,\n",
       "           2.6368482 , -1.6787441 ],\n",
       "         [-0.7129068 , -0.8442563 , -0.7793859 , ...,  1.444262  ,\n",
       "           2.7012208 , -1.6787441 ],\n",
       "         ...,\n",
       "         [-0.73770785, -0.90505356, -0.9513914 , ...,  1.444262  ,\n",
       "           2.4068856 , -1.6787441 ],\n",
       "         [-0.73248714, -0.89379567, -0.92103946, ...,  1.444262  ,\n",
       "           2.473789  , -1.6787441 ],\n",
       "         [-0.72726643, -0.88028157, -0.8856288 , ...,  1.444262  ,\n",
       "           2.522474  , -1.6787441 ]],\n",
       "\n",
       "        [[-0.7794736 , -1.0311421 , -1.0424467 , ...,  1.444262  ,\n",
       "           2.0627558 , -1.570438  ],\n",
       "         [-0.7664218 , -0.9793557 , -0.9311561 , ...,  1.444262  ,\n",
       "           2.334417  , -1.570438  ],\n",
       "         [-0.7546752 , -0.92531776, -0.8198655 , ...,  1.444262  ,\n",
       "           2.4794586 , -1.570438  ],\n",
       "         ...,\n",
       "         [-0.8094954 , -1.1257131 , -1.3560961 , ...,  1.444262  ,\n",
       "           1.508088  , -1.570438  ],\n",
       "         [-0.80035913, -1.1077005 , -1.2650408 , ...,  1.444262  ,\n",
       "           1.7641674 , -1.570438  ],\n",
       "         [-0.79122025, -1.0739279 , -1.1537502 , ...,  1.444262  ,\n",
       "           1.8783393 , -1.570438  ]],\n",
       "\n",
       "        [[-0.8669233 , -1.0851846 , -1.1082094 , ...,  1.444262  ,\n",
       "           2.8007152 , -1.462132  ],\n",
       "         [-0.8603974 , -1.055914  , -1.0626813 , ...,  1.444262  ,\n",
       "           3.1238952 , -1.462132  ],\n",
       "         [-0.85126114, -1.0356452 , -1.0070361 , ...,  1.444262  ,\n",
       "           3.378957  , -1.462132  ],\n",
       "         ...,\n",
       "         [-0.87605953, -1.1054488 , -1.2195109 , ...,  1.444262  ,\n",
       "           0.8596946 , -1.462132  ],\n",
       "         [-0.87605953, -1.1167067 , -1.1689255 , ...,  1.444262  ,\n",
       "           2.033083  , -1.462132  ],\n",
       "         [-0.872144  , -1.1077005 , -1.1436323 , ...,  1.444262  ,\n",
       "           2.4915981 , -1.462132  ]],\n",
       "\n",
       "        ...,\n",
       "\n",
       "        [[-1.3720436 , -1.1414741 , -0.71868193, ..., -0.73436934,\n",
       "          -0.44150883,  1.462132  ],\n",
       "         [-1.3576866 , -1.1257131 , -0.7338579 , ..., -0.73436934,\n",
       "          -0.44090152,  1.462132  ],\n",
       "         [-1.3446348 , -1.1302162 , -0.7996309 , ..., -0.73436934,\n",
       "          -0.4419137 ,  1.462132  ],\n",
       "         ...,\n",
       "         [-1.4020654 , -1.1662403 , -0.61244744, ..., -0.7343693 ,\n",
       "          -0.435842  ,  1.462132  ],\n",
       "         [-1.3916212 , -1.2067746 , -0.74397206, ..., -0.73436934,\n",
       "          -0.44120517,  1.462132  ],\n",
       "         [-1.382485  , -1.1910146 , -0.79457223, ..., -0.73436934,\n",
       "          -0.441104  ,  1.462132  ]],\n",
       "\n",
       "        [[-1.4438311 , -1.3035926 , -1.052564  , ..., -0.73436934,\n",
       "          -0.44130638,  1.570438  ],\n",
       "         [-1.4333897 , -1.2585609 , -0.9463321 , ..., -0.73436934,\n",
       "          -0.44069907,  1.570438  ],\n",
       "         [-1.4242533 , -1.2270387 , -0.79457223, ..., -0.73436934,\n",
       "          -0.44241977,  1.570438  ],\n",
       "         ...,\n",
       "         [-1.4777658 , -1.3824024 , -0.7844426 , ...,  1.0643901 ,\n",
       "          -0.28301558,  1.570438  ],\n",
       "         [-1.4660192 , -1.364391  , -0.8805669 , ..., -0.2993331 ,\n",
       "          -0.39848176,  1.570438  ],\n",
       "         [-1.4529673 , -1.3441256 , -1.0120921 , ..., -0.73436934,\n",
       "          -0.44373518,  1.570438  ]],\n",
       "\n",
       "        [[-1.532586  , -1.4657109 , -0.9615081 , ..., -0.73436934,\n",
       "          -0.44130638,  1.6787441 ],\n",
       "         [-1.5299755 , -1.4657109 , -0.9615081 , ..., -0.73436934,\n",
       "          -0.44110394,  1.6787441 ],\n",
       "         [-1.5273652 , -1.4634594 , -0.95644945, ..., -0.73436934,\n",
       "          -0.44080028,  1.6787441 ],\n",
       "         ...,\n",
       "         [-1.5391119 , -1.4657109 , -0.9615081 , ..., -0.73436934,\n",
       "          -0.43999064,  1.6787441 ],\n",
       "         [-1.5365015 , -1.4657109 , -0.96656674, ..., -0.73436934,\n",
       "          -0.44191357,  1.6787441 ],\n",
       "         [-1.5351963 , -1.4657109 , -0.9615081 , ..., -0.73436934,\n",
       "          -0.44161007,  1.6787441 ]]],\n",
       "\n",
       "\n",
       "       [[[-0.731182  , -0.87803   , -0.85527617, ...,  1.444262  ,\n",
       "           2.5708556 , -1.6787441 ],\n",
       "         [-0.72726643, -0.86677206, -0.8198655 , ...,  1.444262  ,\n",
       "           2.6368482 , -1.6787441 ],\n",
       "         [-0.7220457 , -0.8532626 , -0.7895135 , ...,  1.444262  ,\n",
       "           2.7012208 , -1.6787441 ],\n",
       "         ...,\n",
       "         [-0.7468441 , -0.91631144, -0.9615081 , ...,  1.444262  ,\n",
       "           2.4068856 , -1.6787441 ],\n",
       "         [-0.7416234 , -0.90505356, -0.9260981 , ...,  1.444262  ,\n",
       "           2.473789  , -1.6787441 ],\n",
       "         [-0.7364027 , -0.89153945, -0.89068747, ...,  1.444262  ,\n",
       "           2.522474  , -1.6787441 ]],\n",
       "\n",
       "        [[-0.78338915, -1.0288905 , -1.0323294 , ...,  1.444262  ,\n",
       "           2.0627558 , -1.570438  ],\n",
       "         [-0.77033734, -0.9793557 , -0.9210388 , ...,  1.444262  ,\n",
       "           2.334417  , -1.570438  ],\n",
       "         [-0.75728554, -0.92531776, -0.80974823, ...,  1.444262  ,\n",
       "           2.4794586 , -1.570438  ],\n",
       "         ...,\n",
       "         [-0.81341094, -1.1302162 , -1.3409201 , ...,  1.444262  ,\n",
       "           1.508088  , -1.570438  ],\n",
       "         [-0.8042747 , -1.1077015 , -1.2498648 , ...,  1.444262  ,\n",
       "           1.7641674 , -1.570438  ],\n",
       "         [-0.79513574, -1.0739279 , -1.1436323 , ...,  1.444262  ,\n",
       "           1.8783393 , -1.570438  ]],\n",
       "\n",
       "        [[-0.87344915, -1.0874362 , -1.1233957 , ...,  1.444262  ,\n",
       "           2.8007152 , -1.462132  ],\n",
       "         [-0.8643129 , -1.0604172 , -1.0677401 , ...,  1.444262  ,\n",
       "           3.1238952 , -1.462132  ],\n",
       "         [-0.85387146, -1.040153  , -1.0019774 , ...,  1.444262  ,\n",
       "           3.378957  , -1.462132  ],\n",
       "         ...,\n",
       "         [-0.88128024, -1.109952  , -1.2346869 , ...,  1.444262  ,\n",
       "           0.8596946 , -1.462132  ],\n",
       "         [-0.88128024, -1.1212099 , -1.1739842 , ...,  1.444262  ,\n",
       "           2.033083  , -1.462132  ],\n",
       "         [-0.8799751 , -1.1099532 , -1.1537483 , ...,  1.444262  ,\n",
       "           2.4915981 , -1.462132  ]],\n",
       "\n",
       "        ...,\n",
       "\n",
       "        [[-1.3746539 , -1.1504804 , -0.7287993 , ..., -0.73436934,\n",
       "          -0.44150883,  1.462132  ],\n",
       "         [-1.3616022 , -1.1324677 , -0.7389166 , ..., -0.73436934,\n",
       "          -0.44090152,  1.462132  ],\n",
       "         [-1.3485503 , -1.1347194 , -0.7996309 , ..., -0.73436934,\n",
       "          -0.4419137 ,  1.462132  ],\n",
       "         ...,\n",
       "         [-1.4046757 , -1.1639888 , -0.60233074, ..., -0.7343693 ,\n",
       "          -0.435842  ,  1.462132  ],\n",
       "         [-1.3968446 , -1.2135282 , -0.73385537, ..., -0.73436934,\n",
       "          -0.44120517,  1.462132  ],\n",
       "         [-1.3877057 , -1.2000209 , -0.8046895 , ..., -0.73436934,\n",
       "          -0.441104  ,  1.462132  ]],\n",
       "\n",
       "        [[-1.4464414 , -1.3103473 , -1.0626813 , ..., -0.73436934,\n",
       "          -0.44130638,  1.570438  ],\n",
       "         [-1.436     , -1.263064  , -0.96656674, ..., -0.73436934,\n",
       "          -0.44069907,  1.570438  ],\n",
       "         [-1.4268638 , -1.2292904 , -0.8046895 , ..., -0.73436934,\n",
       "          -0.44241977,  1.570438  ],\n",
       "         ...,\n",
       "         [-1.4777658 , -1.3891572 , -0.77938396, ...,  1.0643901 ,\n",
       "          -0.28301558,  1.570438  ],\n",
       "         [-1.4673243 , -1.3711457 , -0.87550825, ..., -0.2993331 ,\n",
       "          -0.39848176,  1.570438  ],\n",
       "         [-1.4568828 , -1.3486298 , -1.0070329 , ..., -0.73436934,\n",
       "          -0.44373518,  1.570438  ]],\n",
       "\n",
       "        [[-1.532586  , -1.4657109 , -0.9615081 , ..., -0.73436934,\n",
       "          -0.44130638,  1.6787441 ],\n",
       "         [-1.5299755 , -1.4657109 , -0.9615081 , ..., -0.73436934,\n",
       "          -0.44110394,  1.6787441 ],\n",
       "         [-1.5273652 , -1.4657109 , -0.95644945, ..., -0.73436934,\n",
       "          -0.44080028,  1.6787441 ],\n",
       "         ...,\n",
       "         [-1.540417  , -1.4657109 , -0.96656674, ..., -0.73436934,\n",
       "          -0.43999064,  1.6787441 ],\n",
       "         [-1.5378066 , -1.4679625 , -0.96656674, ..., -0.73436934,\n",
       "          -0.44191357,  1.6787441 ],\n",
       "         [-1.5351963 , -1.4657109 , -0.9615081 , ..., -0.73436934,\n",
       "          -0.44161007,  1.6787441 ]]],\n",
       "\n",
       "\n",
       "       [[[-0.7350975 , -0.88028157, -0.8451589 , ...,  1.444262  ,\n",
       "           2.5708556 , -1.6787441 ],\n",
       "         [-0.7298768 , -0.86677206, -0.80974823, ...,  1.444262  ,\n",
       "           2.6368482 , -1.6787441 ],\n",
       "         [-0.72596127, -0.85551417, -0.7743272 , ...,  1.444262  ,\n",
       "           2.7012208 , -1.6787441 ],\n",
       "         ...,\n",
       "         [-0.7494545 , -0.92081463, -0.94633275, ...,  1.444262  ,\n",
       "           2.4068856 , -1.6787441 ],\n",
       "         [-0.7442338 , -0.9073051 , -0.91598076, ...,  1.444262  ,\n",
       "           2.473789  , -1.6787441 ],\n",
       "         [-0.7390131 , -0.89379567, -0.8805701 , ...,  1.444262  ,\n",
       "           2.522474  , -1.6787441 ]],\n",
       "\n",
       "        [[-0.7873047 , -1.0288905 , -1.022212  , ...,  1.444262  ,\n",
       "           2.0627558 , -1.570438  ],\n",
       "         [-0.7742529 , -0.9793557 , -0.91598016, ...,  1.444262  ,\n",
       "           2.334417  , -1.570438  ],\n",
       "         [-0.76381147, -0.92982095, -0.80974823, ...,  1.444262  ,\n",
       "           2.4794586 , -1.570438  ],\n",
       "         ...,\n",
       "         [-0.8173265 , -1.1324677 , -1.3257442 , ...,  1.444262  ,\n",
       "           1.508088  , -1.570438  ],\n",
       "         [-0.8081902 , -1.1077015 , -1.2346889 , ...,  1.444262  ,\n",
       "           1.7641674 , -1.570438  ],\n",
       "         [-0.7977461 , -1.0739279 , -1.1284562 , ...,  1.444262  ,\n",
       "           1.8783393 , -1.570438  ]],\n",
       "\n",
       "        [[-0.87344915, -1.0829331 , -1.118337  , ...,  1.444262  ,\n",
       "           2.8007152 , -1.462132  ],\n",
       "         [-0.8656181 , -1.0581657 , -1.0576227 , ...,  1.444262  ,\n",
       "           3.1238952 , -1.462132  ],\n",
       "         [-0.8590922 , -1.0446562 , -0.99691874, ...,  1.444262  ,\n",
       "           3.378957  , -1.462132  ],\n",
       "         ...,\n",
       "         [-0.8825854 , -1.1054488 , -1.2397449 , ...,  1.444262  ,\n",
       "           0.8596946 , -1.462132  ],\n",
       "         [-0.8825854 , -1.1167067 , -1.1790429 , ...,  1.444262  ,\n",
       "           2.033083  , -1.462132  ],\n",
       "         [-0.8799751 , -1.1077005 , -1.1436323 , ...,  1.444262  ,\n",
       "           2.4915981 , -1.462132  ]],\n",
       "\n",
       "        ...,\n",
       "\n",
       "        [[-1.3720436 , -1.152732  , -0.72374064, ..., -0.73436934,\n",
       "          -0.44150883,  1.462132  ],\n",
       "         [-1.3616022 , -1.1347194 , -0.7287993 , ..., -0.73436934,\n",
       "          -0.44090152,  1.462132  ],\n",
       "         [-1.3485503 , -1.136971  , -0.79457223, ..., -0.73436934,\n",
       "          -0.4419137 ,  1.462132  ],\n",
       "         ...,\n",
       "         [-1.4046757 , -1.1549824 , -0.5820961 , ..., -0.7343693 ,\n",
       "          -0.435842  ,  1.462132  ],\n",
       "         [-1.3955368 , -1.2067734 , -0.71362007, ..., -0.73436934,\n",
       "          -0.44120517,  1.462132  ],\n",
       "         [-1.3864006 , -1.2000209 , -0.7996302 , ..., -0.73436934,\n",
       "          -0.441104  ,  1.462132  ]],\n",
       "\n",
       "        [[-1.4490519 , -1.3193536 , -1.0727987 , ..., -0.73436934,\n",
       "          -0.44130638,  1.570438  ],\n",
       "         [-1.4386103 , -1.2653157 , -0.98174274, ..., -0.73436934,\n",
       "          -0.44069907,  1.570438  ],\n",
       "         [-1.4294741 , -1.2337935 , -0.8148069 , ..., -0.73436934,\n",
       "          -0.44241977,  1.570438  ],\n",
       "         ...,\n",
       "         [-1.4829891 , -1.3959119 , -0.7743253 , ...,  1.0643901 ,\n",
       "          -0.28301558,  1.570438  ],\n",
       "         [-1.4712398 , -1.3801509 , -0.86539155, ..., -0.2993331 ,\n",
       "          -0.39848176,  1.570438  ],\n",
       "         [-1.4594933 , -1.3576362 , -0.9969155 , ..., -0.73436934,\n",
       "          -0.44373518,  1.570438  ]],\n",
       "\n",
       "        [[-1.5365015 , -1.4702141 , -0.97162545, ..., -0.73436934,\n",
       "          -0.44130638,  1.6787441 ],\n",
       "         [-1.532586  , -1.4679625 , -0.96656674, ..., -0.73436934,\n",
       "          -0.44110394,  1.6787441 ],\n",
       "         [-1.5299755 , -1.4679625 , -0.96656674, ..., -0.73436934,\n",
       "          -0.44080028,  1.6787441 ],\n",
       "         ...,\n",
       "         [-1.5443325 , -1.4702141 , -0.97162545, ..., -0.73436934,\n",
       "          -0.43999064,  1.6787441 ],\n",
       "         [-1.5417222 , -1.4702141 , -0.97162545, ..., -0.73436934,\n",
       "          -0.44191357,  1.6787441 ],\n",
       "         [-1.5391119 , -1.4702141 , -0.97162545, ..., -0.73436934,\n",
       "          -0.44161007,  1.6787441 ]]],\n",
       "\n",
       "\n",
       "       ...,\n",
       "\n",
       "\n",
       "       [[[-0.7598959 , -0.9118083 , -0.7793859 , ...,  1.444262  ,\n",
       "           2.5708556 , -1.6787441 ],\n",
       "         [-0.7546752 , -0.8982988 , -0.7692686 , ...,  1.444262  ,\n",
       "           2.6368482 , -1.6787441 ],\n",
       "         [-0.75075966, -0.8870363 , -0.7490339 , ...,  1.444262  ,\n",
       "           2.7012208 , -1.6787441 ],\n",
       "         ...,\n",
       "         [-0.7716425 , -0.94558203, -0.80974823, ...,  1.444262  ,\n",
       "           2.4068856 , -1.6787441 ],\n",
       "         [-0.767727  , -0.9343241 , -0.79963154, ...,  1.444262  ,\n",
       "           2.473789  , -1.6787441 ],\n",
       "         [-0.76381147, -0.9230662 , -0.7895135 , ...,  1.444262  ,\n",
       "           2.522474  , -1.6787441 ]],\n",
       "\n",
       "        [[-0.8081902 , -0.9928652 , -0.95644945, ...,  1.444262  ,\n",
       "           2.0627558 , -1.570438  ],\n",
       "         [-0.8016643 , -0.972601  , -0.90080416, ...,  1.444262  ,\n",
       "           2.334417  , -1.570438  ],\n",
       "         [-0.79513574, -0.95458835, -0.8299829 , ...,  1.444262  ,\n",
       "           2.4794586 , -1.570438  ],\n",
       "         ...,\n",
       "         [-0.81863165, -1.0491593 , -1.0727987 , ...,  1.444262  ,\n",
       "           1.508088  , -1.570438  ],\n",
       "         [-0.81602126, -1.0288917 , -1.0525647 , ...,  1.444262  ,\n",
       "           1.7641674 , -1.570438  ],\n",
       "         [-0.8121058 , -1.0131295 , -1.001978  , ...,  1.444262  ,\n",
       "           1.8783393 , -1.570438  ]],\n",
       "\n",
       "        [[-0.8995554 , -1.1054488 , -1.0323294 , ...,  1.444262  ,\n",
       "           2.8007152 , -1.462132  ],\n",
       "         [-0.8982502 , -1.0986941 , -0.9766841 , ...,  1.444262  ,\n",
       "           3.1238952 , -1.462132  ],\n",
       "         [-0.8930295 , -1.0829331 , -0.91598016, ...,  1.444262  ,\n",
       "           3.378957  , -1.462132  ],\n",
       "         ...,\n",
       "         [-0.9008606 , -1.0851846 , -1.1031526 , ...,  1.444262  ,\n",
       "           0.8596946 , -1.462132  ],\n",
       "         [-0.90347093, -1.0964425 , -1.0171541 , ...,  1.444262  ,\n",
       "           2.033083  , -1.462132  ],\n",
       "         [-0.9021658 , -1.1054488 , -1.0120947 , ...,  1.444262  ,\n",
       "           2.4915981 , -1.462132  ]],\n",
       "\n",
       "        ...,\n",
       "\n",
       "        [[-1.4164224 , -1.1707447 , -0.673154  , ..., -0.73436934,\n",
       "          -0.44150883,  1.462132  ],\n",
       "         [-1.4033705 , -1.2000198 , -0.7439753 , ..., -0.73436934,\n",
       "          -0.44090152,  1.462132  ],\n",
       "         [-1.3877057 , -1.2157809 , -0.8755108 , ..., -0.73436934,\n",
       "          -0.4419137 ,  1.462132  ],\n",
       "         ...,\n",
       "         [-1.4607984 , -1.1797521 , -0.673154  , ..., -0.7343693 ,\n",
       "          -0.435842  ,  1.462132  ],\n",
       "         [-1.4464414 , -1.1392237 , -0.6326853 , ..., -0.73436934,\n",
       "          -0.44120517,  1.462132  ],\n",
       "         [-1.4320844 , -1.1347194 , -0.627626  , ..., -0.73436934,\n",
       "          -0.441104  ,  1.462132  ]],\n",
       "\n",
       "        [[-1.5365015 , -1.3936603 , -0.8198655 , ..., -0.73436934,\n",
       "          -0.44130638,  1.570438  ],\n",
       "         [-1.5234497 , -1.3981636 , -0.8603348 , ..., -0.73436934,\n",
       "          -0.44069907,  1.570438  ],\n",
       "         [-1.5090927 , -1.3914088 , -0.88562816, ..., -0.73436934,\n",
       "          -0.44241977,  1.570438  ],\n",
       "         ...,\n",
       "         [-1.5743543 , -1.3936603 , -0.7743279 , ...,  1.0643901 ,\n",
       "          -0.28301558,  1.570438  ],\n",
       "         [-1.562605  , -1.3891572 , -0.7642099 , ..., -0.2993331 ,\n",
       "          -0.39848176,  1.570438  ],\n",
       "         [-1.5495533 , -1.3891572 , -0.77938527, ..., -0.73436934,\n",
       "          -0.44373518,  1.570438  ]],\n",
       "\n",
       "        [[-1.5978476 , -1.6480981 , -1.2043343 , ..., -0.73436934,\n",
       "          -0.44130638,  1.6787441 ],\n",
       "         [-1.5952373 , -1.6571045 , -1.2448035 , ..., -0.73436934,\n",
       "          -0.44110394,  1.6787441 ],\n",
       "         [-1.5913217 , -1.6638592 , -1.2802142 , ..., -0.73436934,\n",
       "          -0.44080028,  1.6787441 ],\n",
       "         ...,\n",
       "         [-1.6043735 , -1.6143198 , -1.1284536 , ..., -0.73436934,\n",
       "          -0.43999064,  1.6787441 ],\n",
       "         [-1.6030682 , -1.6255778 , -1.1486889 , ..., -0.73436934,\n",
       "          -0.44191357,  1.6787441 ],\n",
       "         [-1.6004579 , -1.6368402 , -1.1790403 , ..., -0.73436934,\n",
       "          -0.44161007,  1.6787441 ]]],\n",
       "\n",
       "\n",
       "       [[[-0.7598959 , -0.9118083 , -0.7844446 , ...,  1.444262  ,\n",
       "           2.5708556 , -1.6787441 ],\n",
       "         [-0.7559804 , -0.90055037, -0.7692686 , ...,  1.444262  ,\n",
       "           2.6368482 , -1.6787441 ],\n",
       "         [-0.75075966, -0.8892879 , -0.7540926 , ...,  1.444262  ,\n",
       "           2.7012208 , -1.6787441 ],\n",
       "         ...,\n",
       "         [-0.7729477 , -0.94558203, -0.8148069 , ...,  1.444262  ,\n",
       "           2.4068856 , -1.6787441 ],\n",
       "         [-0.7690322 , -0.9343241 , -0.8046895 , ...,  1.444262  ,\n",
       "           2.473789  , -1.6787441 ],\n",
       "         [-0.76511663, -0.9230662 , -0.79457223, ...,  1.444262  ,\n",
       "           2.522474  , -1.6787441 ]],\n",
       "\n",
       "        [[-0.8029695 , -0.98611045, -0.9362148 , ...,  1.444262  ,\n",
       "           2.0627558 , -1.570438  ],\n",
       "         [-0.79644096, -0.96584624, -0.8805695 , ...,  1.444262  ,\n",
       "           2.334417  , -1.570438  ],\n",
       "         [-0.789915  , -0.9478336 , -0.8046895 , ...,  1.444262  ,\n",
       "           2.4794586 , -1.570438  ],\n",
       "         ...,\n",
       "         [-0.81602126, -1.0446562 , -1.0677407 , ...,  1.444262  ,\n",
       "           1.508088  , -1.570438  ],\n",
       "         [-0.81341094, -1.0243874 , -1.0424473 , ...,  1.444262  ,\n",
       "           1.7641674 , -1.570438  ],\n",
       "         [-0.8081902 , -1.0063747 , -0.98680204, ...,  1.444262  ,\n",
       "           1.8783393 , -1.570438  ]],\n",
       "\n",
       "        [[-0.8956399 , -1.1009457 , -1.0171534 , ...,  1.444262  ,\n",
       "           2.8007152 , -1.462132  ],\n",
       "         [-0.8930295 , -1.094191  , -0.95644945, ...,  1.444262  ,\n",
       "           3.1238952 , -1.462132  ],\n",
       "         [-0.88650364, -1.0761783 , -0.8906868 , ...,  1.444262  ,\n",
       "           3.378957  , -1.462132  ],\n",
       "         ...,\n",
       "         [-0.8982502 , -1.0829331 , -1.0879766 , ...,  1.444262  ,\n",
       "           0.8596946 , -1.462132  ],\n",
       "         [-0.8995554 , -1.0964425 , -1.001978  , ...,  1.444262  ,\n",
       "           2.033083  , -1.462132  ],\n",
       "         [-0.8982502 , -1.1031972 , -1.0019774 , ...,  1.444262  ,\n",
       "           2.4915981 , -1.462132  ]],\n",
       "\n",
       "        ...,\n",
       "\n",
       "        [[-1.4203379 , -1.168493  , -0.6680953 , ..., -0.73436934,\n",
       "          -0.44150883,  1.462132  ],\n",
       "         [-1.4046757 , -1.2000198 , -0.7389166 , ..., -0.73436934,\n",
       "          -0.44090152,  1.462132  ],\n",
       "         [-1.3890109 , -1.2180325 , -0.8755108 , ..., -0.73436934,\n",
       "          -0.4419137 ,  1.462132  ],\n",
       "         ...,\n",
       "         [-1.4594933 , -1.1797521 , -0.66809595, ..., -0.7343693 ,\n",
       "          -0.435842  ,  1.462132  ],\n",
       "         [-1.4451363 , -1.1459773 , -0.6326853 , ..., -0.73436934,\n",
       "          -0.44120517,  1.462132  ],\n",
       "         [-1.4320844 , -1.1347194 , -0.627626  , ..., -0.73436934,\n",
       "          -0.441104  ,  1.462132  ]],\n",
       "\n",
       "        [[-1.5351963 , -1.3778993 , -0.79457223, ..., -0.73436934,\n",
       "          -0.44130638,  1.570438  ],\n",
       "         [-1.5208393 , -1.3824024 , -0.84010017, ..., -0.73436934,\n",
       "          -0.44069907,  1.570438  ],\n",
       "         [-1.5077876 , -1.3778993 , -0.87045217, ..., -0.73436934,\n",
       "          -0.44241977,  1.570438  ],\n",
       "         ...,\n",
       "         [-1.5730492 , -1.3891572 , -0.7591519 , ...,  1.0643901 ,\n",
       "          -0.28301558,  1.570438  ],\n",
       "         [-1.5612999 , -1.3801509 , -0.7439753 , ..., -0.2993331 ,\n",
       "          -0.39848176,  1.570438  ],\n",
       "         [-1.548248  , -1.3756477 , -0.7540926 , ..., -0.73436934,\n",
       "          -0.44373518,  1.570438  ]],\n",
       "\n",
       "        [[-1.593932  , -1.6480981 , -1.194217  , ..., -0.73436934,\n",
       "          -0.44130638,  1.6787441 ],\n",
       "         [-1.5913217 , -1.6593561 , -1.2346863 , ..., -0.73436934,\n",
       "          -0.44110394,  1.6787441 ],\n",
       "         [-1.5874062 , -1.6661108 , -1.2700969 , ..., -0.73436934,\n",
       "          -0.44080028,  1.6787441 ],\n",
       "         ...,\n",
       "         [-1.6017631 , -1.6120683 , -1.113268  , ..., -0.73436934,\n",
       "          -0.43999064,  1.6787441 ],\n",
       "         [-1.5991527 , -1.6233262 , -1.138571  , ..., -0.73436934,\n",
       "          -0.44191357,  1.6787441 ],\n",
       "         [-1.5965424 , -1.6368402 , -1.1638643 , ..., -0.73436934,\n",
       "          -0.44161007,  1.6787441 ]]],\n",
       "\n",
       "\n",
       "       [[[-0.7559804 , -0.90505356, -0.7692686 , ...,  1.444262  ,\n",
       "           2.5708556 , -1.6787441 ],\n",
       "         [-0.75075966, -0.89153945, -0.7591513 , ...,  1.444262  ,\n",
       "           2.6368482 , -1.6787441 ],\n",
       "         [-0.7468441 , -0.88253313, -0.7389166 , ...,  1.444262  ,\n",
       "           2.7012208 , -1.6787441 ],\n",
       "         ...,\n",
       "         [-0.767727  , -0.9388273 , -0.79457223, ...,  1.444262  ,\n",
       "           2.4068856 , -1.6787441 ],\n",
       "         [-0.76381147, -0.9275693 , -0.7844452 , ...,  1.444262  ,\n",
       "           2.473789  , -1.6787441 ],\n",
       "         [-0.7598959 , -0.91631144, -0.7793859 , ...,  1.444262  ,\n",
       "           2.522474  , -1.6787441 ]],\n",
       "\n",
       "        [[-0.80557984, -0.99061364, -0.94127345, ...,  1.444262  ,\n",
       "           2.0627558 , -1.570438  ],\n",
       "         [-0.7990513 , -0.9703494 , -0.88562816, ...,  1.444262  ,\n",
       "           2.334417  , -1.570438  ],\n",
       "         [-0.79122025, -0.95008516, -0.8046895 , ...,  1.444262  ,\n",
       "           2.4794586 , -1.570438  ],\n",
       "         ...,\n",
       "         [-0.81863165, -1.0469078 , -1.0778574 , ...,  1.444262  ,\n",
       "           1.508088  , -1.570438  ],\n",
       "         [-0.81602126, -1.0266389 , -1.047506  , ...,  1.444262  ,\n",
       "           1.7641674 , -1.570438  ],\n",
       "         [-0.81080055, -1.0108778 , -0.99186075, ...,  1.444262  ,\n",
       "           1.8783393 , -1.570438  ]],\n",
       "\n",
       "        [[-0.8982502 , -1.1054488 , -1.0272707 , ...,  1.444262  ,\n",
       "           2.8007152 , -1.462132  ],\n",
       "         [-0.8956399 , -1.0986941 , -0.9615081 , ...,  1.444262  ,\n",
       "           3.1238952 , -1.462132  ],\n",
       "         [-0.88911396, -1.0806814 , -0.8906868 , ...,  1.444262  ,\n",
       "           3.378957  , -1.462132  ],\n",
       "         ...,\n",
       "         [-0.8982502 , -1.0874362 , -1.0879766 , ...,  1.444262  ,\n",
       "           0.8596946 , -1.462132  ],\n",
       "         [-0.8995554 , -1.1009457 , -1.0120953 , ...,  1.444262  ,\n",
       "           2.033083  , -1.462132  ],\n",
       "         [-0.8995554 , -1.1077005 , -1.0120947 , ...,  1.444262  ,\n",
       "           2.4915981 , -1.462132  ]],\n",
       "\n",
       "        ...,\n",
       "\n",
       "        [[-1.421643  , -1.1617384 , -0.66303664, ..., -0.73436934,\n",
       "          -0.44150883,  1.462132  ],\n",
       "         [-1.405981  , -1.1932651 , -0.7287993 , ..., -0.73436934,\n",
       "          -0.44090152,  1.462132  ],\n",
       "         [-1.3903161 , -1.2157809 , -0.8603348 , ..., -0.73436934,\n",
       "          -0.4419137 ,  1.462132  ],\n",
       "         ...,\n",
       "         [-1.4594933 , -1.1842552 , -0.6731546 , ..., -0.7343693 ,\n",
       "          -0.435842  ,  1.462132  ],\n",
       "         [-1.4451363 , -1.152732  , -0.64280266, ..., -0.73436934,\n",
       "          -0.44120517,  1.462132  ],\n",
       "         [-1.4320844 , -1.1347194 , -0.63268405, ..., -0.73436934,\n",
       "          -0.441104  ,  1.462132  ]],\n",
       "\n",
       "        [[-1.540417  , -1.3778993 , -0.7996309 , ..., -0.73436934,\n",
       "          -0.44130638,  1.570438  ],\n",
       "         [-1.5273652 , -1.3801509 , -0.8502175 , ..., -0.73436934,\n",
       "          -0.44069907,  1.570438  ],\n",
       "         [-1.5143135 , -1.3778993 , -0.88562816, ..., -0.73436934,\n",
       "          -0.44241977,  1.570438  ],\n",
       "         ...,\n",
       "         [-1.5756595 , -1.3959119 , -0.7692692 , ...,  1.0643901 ,\n",
       "          -0.28301558,  1.570438  ],\n",
       "         [-1.5652155 , -1.3869056 , -0.7540932 , ..., -0.2993331 ,\n",
       "          -0.39848176,  1.570438  ],\n",
       "         [-1.5534688 , -1.3801509 , -0.7642099 , ..., -0.73436934,\n",
       "          -0.44373518,  1.570438  ]],\n",
       "\n",
       "        [[-1.5965424 , -1.6548529 , -1.1992756 , ..., -0.73436934,\n",
       "          -0.44130638,  1.6787441 ],\n",
       "         [-1.5926268 , -1.6661108 , -1.2346863 , ..., -0.73436934,\n",
       "          -0.44110394,  1.6787441 ],\n",
       "         [-1.5887113 , -1.6728655 , -1.2751555 , ..., -0.73436934,\n",
       "          -0.44080028,  1.6787441 ],\n",
       "         ...,\n",
       "         [-1.6043735 , -1.618823  , -1.1183363 , ..., -0.73436934,\n",
       "          -0.43999064,  1.6787441 ],\n",
       "         [-1.6017631 , -1.6300855 , -1.1385716 , ..., -0.73436934,\n",
       "          -0.44191357,  1.6787441 ],\n",
       "         [-1.5991527 , -1.643595  , -1.168923  , ..., -0.73436934,\n",
       "          -0.44161007,  1.6787441 ]]]], dtype=float32)"
      ]
     },
     "execution_count": 11,
     "metadata": {},
     "output_type": "execute_result"
    }
   ],
   "source": [
    "dg_test.data.lat\n",
    "X"
   ]
  },
  {
   "cell_type": "code",
   "execution_count": 14,
   "metadata": {},
   "outputs": [
    {
     "name": "stdout",
     "output_type": "stream",
     "text": [
      "Model: \"model\"\n",
      "__________________________________________________________________________________________________\n",
      "Layer (type)                    Output Shape         Param #     Connected to                     \n",
      "==================================================================================================\n",
      "input_1 (InputLayer)            [(None, 32, 64, 15)] 0                                            \n",
      "__________________________________________________________________________________________________\n",
      "periodic_conv2d (PeriodicConv2D (None, 32, 64, 128)  94208       input_1[0][0]                    \n",
      "__________________________________________________________________________________________________\n",
      "activation (Activation)         (None, 32, 64, 128)  0           periodic_conv2d[0][0]            \n",
      "__________________________________________________________________________________________________\n",
      "batch_normalization (BatchNorma (None, 32, 64, 128)  512         activation[0][0]                 \n",
      "__________________________________________________________________________________________________\n",
      "dropout (Dropout)               (None, 32, 64, 128)  0           batch_normalization[0][0]        \n",
      "__________________________________________________________________________________________________\n",
      "periodic_conv2d_1 (PeriodicConv (None, 32, 64, 128)  147584      dropout[0][0]                    \n",
      "__________________________________________________________________________________________________\n",
      "activation_1 (Activation)       (None, 32, 64, 128)  0           periodic_conv2d_1[0][0]          \n",
      "__________________________________________________________________________________________________\n",
      "batch_normalization_1 (BatchNor (None, 32, 64, 128)  512         activation_1[0][0]               \n",
      "__________________________________________________________________________________________________\n",
      "dropout_1 (Dropout)             (None, 32, 64, 128)  0           batch_normalization_1[0][0]      \n",
      "__________________________________________________________________________________________________\n",
      "periodic_conv2d_2 (PeriodicConv (None, 32, 64, 128)  147584      dropout_1[0][0]                  \n",
      "__________________________________________________________________________________________________\n",
      "activation_2 (Activation)       (None, 32, 64, 128)  0           periodic_conv2d_2[0][0]          \n",
      "__________________________________________________________________________________________________\n",
      "batch_normalization_2 (BatchNor (None, 32, 64, 128)  512         activation_2[0][0]               \n",
      "__________________________________________________________________________________________________\n",
      "dropout_2 (Dropout)             (None, 32, 64, 128)  0           batch_normalization_2[0][0]      \n",
      "__________________________________________________________________________________________________\n",
      "add (Add)                       (None, 32, 64, 128)  0           dropout[0][0]                    \n",
      "                                                                 dropout_2[0][0]                  \n",
      "__________________________________________________________________________________________________\n",
      "periodic_conv2d_3 (PeriodicConv (None, 32, 64, 128)  147584      add[0][0]                        \n",
      "__________________________________________________________________________________________________\n",
      "activation_3 (Activation)       (None, 32, 64, 128)  0           periodic_conv2d_3[0][0]          \n",
      "__________________________________________________________________________________________________\n",
      "batch_normalization_3 (BatchNor (None, 32, 64, 128)  512         activation_3[0][0]               \n",
      "__________________________________________________________________________________________________\n",
      "dropout_3 (Dropout)             (None, 32, 64, 128)  0           batch_normalization_3[0][0]      \n",
      "__________________________________________________________________________________________________\n",
      "periodic_conv2d_4 (PeriodicConv (None, 32, 64, 128)  147584      dropout_3[0][0]                  \n",
      "__________________________________________________________________________________________________\n",
      "activation_4 (Activation)       (None, 32, 64, 128)  0           periodic_conv2d_4[0][0]          \n",
      "__________________________________________________________________________________________________\n",
      "batch_normalization_4 (BatchNor (None, 32, 64, 128)  512         activation_4[0][0]               \n",
      "__________________________________________________________________________________________________\n",
      "dropout_4 (Dropout)             (None, 32, 64, 128)  0           batch_normalization_4[0][0]      \n",
      "__________________________________________________________________________________________________\n",
      "add_1 (Add)                     (None, 32, 64, 128)  0           add[0][0]                        \n",
      "                                                                 dropout_4[0][0]                  \n",
      "__________________________________________________________________________________________________\n",
      "periodic_conv2d_5 (PeriodicConv (None, 32, 64, 128)  147584      add_1[0][0]                      \n",
      "__________________________________________________________________________________________________\n",
      "activation_5 (Activation)       (None, 32, 64, 128)  0           periodic_conv2d_5[0][0]          \n",
      "__________________________________________________________________________________________________\n",
      "batch_normalization_5 (BatchNor (None, 32, 64, 128)  512         activation_5[0][0]               \n",
      "__________________________________________________________________________________________________\n",
      "dropout_5 (Dropout)             (None, 32, 64, 128)  0           batch_normalization_5[0][0]      \n",
      "__________________________________________________________________________________________________\n",
      "periodic_conv2d_6 (PeriodicConv (None, 32, 64, 128)  147584      dropout_5[0][0]                  \n",
      "__________________________________________________________________________________________________\n",
      "activation_6 (Activation)       (None, 32, 64, 128)  0           periodic_conv2d_6[0][0]          \n",
      "__________________________________________________________________________________________________\n",
      "batch_normalization_6 (BatchNor (None, 32, 64, 128)  512         activation_6[0][0]               \n",
      "__________________________________________________________________________________________________\n",
      "dropout_6 (Dropout)             (None, 32, 64, 128)  0           batch_normalization_6[0][0]      \n",
      "__________________________________________________________________________________________________\n",
      "add_2 (Add)                     (None, 32, 64, 128)  0           add_1[0][0]                      \n",
      "                                                                 dropout_6[0][0]                  \n",
      "__________________________________________________________________________________________________\n",
      "periodic_conv2d_7 (PeriodicConv (None, 32, 64, 128)  147584      add_2[0][0]                      \n",
      "__________________________________________________________________________________________________\n",
      "activation_7 (Activation)       (None, 32, 64, 128)  0           periodic_conv2d_7[0][0]          \n",
      "__________________________________________________________________________________________________\n",
      "batch_normalization_7 (BatchNor (None, 32, 64, 128)  512         activation_7[0][0]               \n",
      "__________________________________________________________________________________________________\n",
      "dropout_7 (Dropout)             (None, 32, 64, 128)  0           batch_normalization_7[0][0]      \n",
      "__________________________________________________________________________________________________\n",
      "periodic_conv2d_8 (PeriodicConv (None, 32, 64, 128)  147584      dropout_7[0][0]                  \n",
      "__________________________________________________________________________________________________\n",
      "activation_8 (Activation)       (None, 32, 64, 128)  0           periodic_conv2d_8[0][0]          \n",
      "__________________________________________________________________________________________________\n",
      "batch_normalization_8 (BatchNor (None, 32, 64, 128)  512         activation_8[0][0]               \n",
      "__________________________________________________________________________________________________\n",
      "dropout_8 (Dropout)             (None, 32, 64, 128)  0           batch_normalization_8[0][0]      \n",
      "__________________________________________________________________________________________________\n",
      "add_3 (Add)                     (None, 32, 64, 128)  0           add_2[0][0]                      \n",
      "                                                                 dropout_8[0][0]                  \n",
      "__________________________________________________________________________________________________\n",
      "periodic_conv2d_9 (PeriodicConv (None, 32, 64, 128)  147584      add_3[0][0]                      \n",
      "__________________________________________________________________________________________________\n",
      "activation_9 (Activation)       (None, 32, 64, 128)  0           periodic_conv2d_9[0][0]          \n",
      "__________________________________________________________________________________________________\n",
      "batch_normalization_9 (BatchNor (None, 32, 64, 128)  512         activation_9[0][0]               \n",
      "__________________________________________________________________________________________________\n",
      "dropout_9 (Dropout)             (None, 32, 64, 128)  0           batch_normalization_9[0][0]      \n",
      "__________________________________________________________________________________________________\n",
      "periodic_conv2d_10 (PeriodicCon (None, 32, 64, 128)  147584      dropout_9[0][0]                  \n",
      "__________________________________________________________________________________________________\n",
      "activation_10 (Activation)      (None, 32, 64, 128)  0           periodic_conv2d_10[0][0]         \n",
      "__________________________________________________________________________________________________\n",
      "batch_normalization_10 (BatchNo (None, 32, 64, 128)  512         activation_10[0][0]              \n",
      "__________________________________________________________________________________________________\n",
      "dropout_10 (Dropout)            (None, 32, 64, 128)  0           batch_normalization_10[0][0]     \n",
      "__________________________________________________________________________________________________\n",
      "add_4 (Add)                     (None, 32, 64, 128)  0           add_3[0][0]                      \n",
      "                                                                 dropout_10[0][0]                 \n",
      "__________________________________________________________________________________________________\n",
      "periodic_conv2d_11 (PeriodicCon (None, 32, 64, 128)  147584      add_4[0][0]                      \n",
      "__________________________________________________________________________________________________\n",
      "activation_11 (Activation)      (None, 32, 64, 128)  0           periodic_conv2d_11[0][0]         \n",
      "__________________________________________________________________________________________________\n",
      "batch_normalization_11 (BatchNo (None, 32, 64, 128)  512         activation_11[0][0]              \n",
      "__________________________________________________________________________________________________\n",
      "dropout_11 (Dropout)            (None, 32, 64, 128)  0           batch_normalization_11[0][0]     \n",
      "__________________________________________________________________________________________________\n",
      "periodic_conv2d_12 (PeriodicCon (None, 32, 64, 128)  147584      dropout_11[0][0]                 \n",
      "__________________________________________________________________________________________________\n",
      "activation_12 (Activation)      (None, 32, 64, 128)  0           periodic_conv2d_12[0][0]         \n",
      "__________________________________________________________________________________________________\n",
      "batch_normalization_12 (BatchNo (None, 32, 64, 128)  512         activation_12[0][0]              \n",
      "__________________________________________________________________________________________________\n",
      "dropout_12 (Dropout)            (None, 32, 64, 128)  0           batch_normalization_12[0][0]     \n",
      "__________________________________________________________________________________________________\n",
      "add_5 (Add)                     (None, 32, 64, 128)  0           add_4[0][0]                      \n",
      "                                                                 dropout_12[0][0]                 \n",
      "__________________________________________________________________________________________________\n",
      "periodic_conv2d_13 (PeriodicCon (None, 32, 64, 128)  147584      add_5[0][0]                      \n",
      "__________________________________________________________________________________________________\n",
      "activation_13 (Activation)      (None, 32, 64, 128)  0           periodic_conv2d_13[0][0]         \n",
      "__________________________________________________________________________________________________\n",
      "batch_normalization_13 (BatchNo (None, 32, 64, 128)  512         activation_13[0][0]              \n",
      "__________________________________________________________________________________________________\n",
      "dropout_13 (Dropout)            (None, 32, 64, 128)  0           batch_normalization_13[0][0]     \n",
      "__________________________________________________________________________________________________\n",
      "periodic_conv2d_14 (PeriodicCon (None, 32, 64, 128)  147584      dropout_13[0][0]                 \n",
      "__________________________________________________________________________________________________\n",
      "activation_14 (Activation)      (None, 32, 64, 128)  0           periodic_conv2d_14[0][0]         \n",
      "__________________________________________________________________________________________________\n",
      "batch_normalization_14 (BatchNo (None, 32, 64, 128)  512         activation_14[0][0]              \n",
      "__________________________________________________________________________________________________\n",
      "dropout_14 (Dropout)            (None, 32, 64, 128)  0           batch_normalization_14[0][0]     \n",
      "__________________________________________________________________________________________________\n",
      "add_6 (Add)                     (None, 32, 64, 128)  0           add_5[0][0]                      \n",
      "                                                                 dropout_14[0][0]                 \n",
      "__________________________________________________________________________________________________\n",
      "periodic_conv2d_15 (PeriodicCon (None, 32, 64, 2)    2306        add_6[0][0]                      \n",
      "==================================================================================================\n",
      "Total params: 2,170,370\n",
      "Trainable params: 2,166,530\n",
      "Non-trainable params: 3,840\n",
      "__________________________________________________________________________________________________\n"
     ]
    }
   ],
   "source": [
    "model.compile('adam', 'mse')\n",
    "model.summary()"
   ]
  },
  {
   "cell_type": "code",
   "execution_count": 15,
   "metadata": {},
   "outputs": [],
   "source": [
    "model.load_weights('../test/13-resnet_bn_dr_0.1_weights.h5')"
   ]
  },
  {
   "cell_type": "markdown",
   "metadata": {},
   "source": [
    "## Create a deterministic prediction\n",
    "\n",
    "The model has been trained to create a deterministic prediction. For this dropout is turned off during test time. Let's create a prediction for the first sample. Thanks to Tensorflow 2 we can tread the model as a function just like in PyTorch."
   ]
  },
  {
   "cell_type": "code",
   "execution_count": 15,
   "metadata": {},
   "outputs": [],
   "source": [
    "#pred = model(X[:1]).numpy().squeeze(); pred.shape; #to add tf.enable_eager_execution() in src/networks.py line6. have to remove if you want to run ensemble prediction :(."
   ]
  },
  {
   "cell_type": "code",
   "execution_count": 16,
   "metadata": {},
   "outputs": [],
   "source": [
    "# Look at the predictions\n",
    "# fig, (ax1, ax2) = plt.subplots(1, 2, figsize=(10, 5))\n",
    "# ax1.matshow(pred[..., 0]) #z500 normalized\n",
    "# ax2.matshow(pred[..., 1]) #t850 normalized"
   ]
  },
  {
   "cell_type": "markdown",
   "metadata": {},
   "source": [
    "# Create an ensemble using test-time dropout\n",
    "Now it's your turn. The pretrained model contains several dropout layers which are only active during training. Your job is to turn dropout on during inference as well. This should result in a model that creates a slightly different prediction every time. Hint: Google \"Keras test-time dropout\"."
   ]
  },
  {
   "cell_type": "code",
   "execution_count": 16,
   "metadata": {},
   "outputs": [],
   "source": [
    "##weirdly this function works when tf.enable_eager_execution() is disabled.\n",
    "#but 'pred' for single determinstic works when tf.enable_eager_execution() is enabled. \n",
    "#issue with tensorflow version. couldn't solve right now.\n",
    "\n",
    "#keras switches off test time dropout by default. we could either switch it on permanently.. by putting somewhere an argument training=true). this will put both training and testing to use dropout\n",
    "#but since we have a pre trained model, better just to activate dropout in testing rather than training again. beware: we also activate bacthnorm or any other that was inactive in test phase by default.\n",
    "#https://stackoverflow.com/questions/52756283/adding-dropout-to-testing-inference-phase\n",
    "from tensorflow.keras import backend as K\n",
    "func = K.function(model.inputs + [K.learning_phase()], model.outputs)"
   ]
  },
  {
   "cell_type": "code",
   "execution_count": 17,
   "metadata": {},
   "outputs": [
    {
     "name": "stdout",
     "output_type": "stream",
     "text": [
      "(32, 64, 2)\n"
     ]
    }
   ],
   "source": [
    "# to use dropout in testing phase, pass 1 to set the learning phase to training mode\n",
    "outputs = func([X[:1]] + [1.]) #for a single sample. #gives a new prediction each time.\n",
    "pred2 = np.asarray(outputs, dtype=np.float32).squeeze(); print(pred2.shape) #reshape\n",
    "#outputs"
   ]
  },
  {
   "cell_type": "code",
   "execution_count": 18,
   "metadata": {},
   "outputs": [
    {
     "data": {
      "text/plain": [
       "<matplotlib.image.AxesImage at 0x1c45bdae10>"
      ]
     },
     "execution_count": 18,
     "metadata": {},
     "output_type": "execute_result"
    },
    {
     "data": {
      "image/png": "[encoded data removed]",
      "text/plain": [
       "<Figure size 720x360 with 2 Axes>"
      ]
     },
     "metadata": {
      "needs_background": "light"
     },
     "output_type": "display_data"
    }
   ],
   "source": [
    "# Look at the predictions\n",
    "fig, (ax1, ax2) = plt.subplots(1, 2, figsize=(10, 5))\n",
    "ax1.matshow(pred2[..., 0]) #z500 normalized\n",
    "ax2.matshow(pred2[..., 1]) #t850 normalized"
   ]
  },
  {
   "cell_type": "markdown",
   "metadata": {},
   "source": [
    "# Creating Ensemble Forecasts\n",
    " I Inputs. N forecasts per input."
   ]
  },
  {
   "cell_type": "code",
   "execution_count": 21,
   "metadata": {},
   "outputs": [],
   "source": [
    "number_of_forecasts=100\n",
    "time=10 ## keep it lower for testing code. takes time.\n",
    "#number of inputs. different input times each for which an ensemble of predictions is made. \n",
    "\n",
    "#explanatory version\n",
    "# pred_ensemble=np.ndarray(shape=(time,number_of_forecasts,32,64,2),dtype=np.float32)\n",
    "# for i in range(time):\n",
    "#     for f in range(number_of_forecasts):\n",
    "#         outputs = func([X[i:i+1]] + [1.]) #new prediction each time for same sample.\n",
    "#         pred1 = np.asarray(outputs, dtype=np.float32).squeeze()\n",
    "#         pred_ensemble[i,f,...] = pred1 \n",
    "\n",
    "#concise version\n",
    "pred_ensemble = np.array([np.asarray(func([X[:time]] + [1.]), dtype=np.float32).squeeze() for _ in range(number_of_forecasts)])\n"
   ]
  },
  {
   "cell_type": "code",
   "execution_count": 22,
   "metadata": {},
   "outputs": [
    {
     "name": "stdout",
     "output_type": "stream",
     "text": [
      "(100, 10, 32, 64, 2)\n"
     ]
    }
   ],
   "source": [
    "print(pred_ensemble.shape) #(forecast, time, lat, lon, variable)"
   ]
  },
  {
   "cell_type": "code",
   "execution_count": 23,
   "metadata": {},
   "outputs": [
    {
     "data": {
      "text/plain": [
       "(10, 32, 64, 2)"
      ]
     },
     "execution_count": 23,
     "metadata": {},
     "output_type": "execute_result"
    }
   ],
   "source": [
    "y[:time].shape #ground truth. Is this correct?"
   ]
  },
  {
   "cell_type": "code",
   "execution_count": 24,
   "metadata": {},
   "outputs": [],
   "source": [
    "#convert to xarray dataset\n",
    "preds = xr.Dataset({\n",
    "    'z500': xr.DataArray(pred_ensemble[...,0],\n",
    "        dims=['forecast_number', 'time','lat', 'lon'],\n",
    "        coords={'forecast_number': np.arange(number_of_forecasts),'time': np.arange(time), 'lat': dg_test.data.lat, 'lon': dg_test.data.lon,},)\n",
    "    ,\n",
    "    't850': xr.DataArray(pred_ensemble[...,1],\n",
    "        dims=['forecast_number', 'time','lat', 'lon'],\n",
    "        coords={'forecast_number': np.arange(number_of_forecasts),'time': np.arange(time), 'lat': dg_test.data.lat, 'lon': dg_test.data.lon,},)\n",
    "})\n",
    "\n",
    "observation= xr.Dataset({\n",
    "    'z500': xr.DataArray(y[:time,:,:,0],\n",
    "                         dims=['time','lat','lon'],\n",
    "                         coords={'time':np.arange(time),'lat':dg_test.data.lat,'lon':dg_test.data.lon},)\n",
    "    ,\n",
    "    't850': xr.DataArray(y[:time,:,:,1],dims=['time','lat','lon'],coords={'time':np.arange(time),'lat':dg_test.data.lat,'lon':dg_test.data.lon},)          \n",
    "})"
   ]
  },
  {
   "cell_type": "code",
   "execution_count": 25,
   "metadata": {},
   "outputs": [
    {
     "data": {
      "text/html": [
       "<pre>&lt;xarray.Dataset&gt;\n",
       "Dimensions:          (forecast_number: 100, lat: 32, lon: 64, time: 10)\n",
       "Coordinates:\n",
       "  * forecast_number  (forecast_number) int64 0 1 2 3 4 5 6 ... 94 95 96 97 98 99\n",
       "  * time             (time) int64 0 1 2 3 4 5 6 7 8 9\n",
       "  * lat              (lat) float64 -87.19 -81.56 -75.94 ... 75.94 81.56 87.19\n",
       "  * lon              (lon) float64 0.0 5.625 11.25 16.88 ... 343.1 348.8 354.4\n",
       "Data variables:\n",
       "    z500             (forecast_number, time, lat, lon) float32 -1.0821395 ... -1.6251754\n",
       "    t850             (forecast_number, time, lat, lon) float32 -1.2627084 ... -1.7247591</pre>"
      ],
      "text/plain": [
       "<xarray.Dataset>\n",
       "Dimensions:          (forecast_number: 100, lat: 32, lon: 64, time: 10)\n",
       "Coordinates:\n",
       "  * forecast_number  (forecast_number) int64 0 1 2 3 4 5 6 ... 94 95 96 97 98 99\n",
       "  * time             (time) int64 0 1 2 3 4 5 6 7 8 9\n",
       "  * lat              (lat) float64 -87.19 -81.56 -75.94 ... 75.94 81.56 87.19\n",
       "  * lon              (lon) float64 0.0 5.625 11.25 16.88 ... 343.1 348.8 354.4\n",
       "Data variables:\n",
       "    z500             (forecast_number, time, lat, lon) float32 -1.0821395 ... -1.6251754\n",
       "    t850             (forecast_number, time, lat, lon) float32 -1.2627084 ... -1.7247591"
      ]
     },
     "execution_count": 25,
     "metadata": {},
     "output_type": "execute_result"
    }
   ],
   "source": [
    "#preds"
   ]
  },
  {
   "cell_type": "code",
   "execution_count": 26,
   "metadata": {},
   "outputs": [
    {
     "data": {
      "text/html": [
       "<pre>&lt;xarray.Dataset&gt;\n",
       "Dimensions:  (lat: 32, lon: 64, time: 10)\n",
       "Coordinates:\n",
       "  * time     (time) int64 0 1 2 3 4 5 6 7 8 9\n",
       "  * lat      (lat) float64 -87.19 -81.56 -75.94 -70.31 ... 75.94 81.56 87.19\n",
       "  * lon      (lon) float64 0.0 5.625 11.25 16.88 ... 337.5 343.1 348.8 354.4\n",
       "Data variables:\n",
       "    z500     (time, lat, lon) float32 -1.1572351 -1.136971 ... -1.2945862\n",
       "    t850     (time, lat, lon) float32 -0.90364563 -0.89726615 ... -1.5544755</pre>"
      ],
      "text/plain": [
       "<xarray.Dataset>\n",
       "Dimensions:  (lat: 32, lon: 64, time: 10)\n",
       "Coordinates:\n",
       "  * time     (time) int64 0 1 2 3 4 5 6 7 8 9\n",
       "  * lat      (lat) float64 -87.19 -81.56 -75.94 -70.31 ... 75.94 81.56 87.19\n",
       "  * lon      (lon) float64 0.0 5.625 11.25 16.88 ... 337.5 343.1 348.8 354.4\n",
       "Data variables:\n",
       "    z500     (time, lat, lon) float32 -1.1572351 -1.136971 ... -1.2945862\n",
       "    t850     (time, lat, lon) float32 -0.90364563 -0.89726615 ... -1.5544755"
      ]
     },
     "execution_count": 26,
     "metadata": {},
     "output_type": "execute_result"
    }
   ],
   "source": [
    "#observation"
   ]
  },
  {
   "cell_type": "markdown",
   "metadata": {},
   "source": [
    "# Evaluation methods: Spread-skill, CRPS, Rank histogram\n",
    "check src/score.py.\n",
    "#ToDo: \n",
    "unnormalize data for all scores.\n",
    "check if properscoring exists for xarray\n",
    "build sanity checks (Eg: MAE=CRPS for 1 ensemble member)\n",
    "see why rank histogram behaviour is weird:\n",
    "    spread-skill ratio is high: so forecast has high spread, low peak\n",
    "    rank histogram shows opposite: overconfident (underdispersive): low spread, high peak."
   ]
  },
  {
   "cell_type": "code",
   "execution_count": 68,
   "metadata": {},
   "outputs": [
    {
     "name": "stdout",
     "output_type": "stream",
     "text": [
      "<xarray.Dataset>\n",
      "Dimensions:           ()\n",
      "Data variables:\n",
      "    z500_mean_spread  float64 0.1983\n",
      "    t850_mean_spread  float64 0.2001\n",
      "<xarray.Dataset>\n",
      "Dimensions:    ()\n",
      "Data variables:\n",
      "    z500_rmse  float64 0.1255\n",
      "    t850_rmse  float64 0.141\n",
      "<xarray.DataArray ()>\n",
      "array(1.57983298)\n",
      "<xarray.DataArray ()>\n",
      "array(1.41961822)\n"
     ]
    }
   ],
   "source": [
    "#Method 1: Evaluating Spread-Skill Ratio (Based on Paper by scher and Messori 2020: Ensemble NN forecasts with SVD)\n",
    "mean_spread=compute_weighted_meanspread(preds); print(mean_spread)\n",
    "\n",
    "ensemblemean=preds.mean('forecast_number')\n",
    "mean_rmse=compute_weighted_rmse(observation,ensemblemean); print(mean_rmse)\n",
    "\n",
    "#spread_skill_ratio=mean_spread/mean_rmse; print(spread_skill_ratio)\n",
    "spread_skill_ratio_z500=mean_spread.z500_mean_spread/mean_rmse.z500_rmse\n",
    "spread_skill_ratio_t850=mean_spread.t850_mean_spread/mean_rmse.t850_rmse\n",
    "print(spread_skill_ratio_z500)\n",
    "print(spread_skill_ratio_t850) #CouldDo: make a single Dataset by keeping same name as z500, t850"
   ]
  },
  {
   "cell_type": "code",
   "execution_count": null,
   "metadata": {},
   "outputs": [],
   "source": []
  },
  {
   "cell_type": "code",
   "execution_count": 43,
   "metadata": {},
   "outputs": [],
   "source": []
  },
  {
   "cell_type": "code",
   "execution_count": null,
   "metadata": {},
   "outputs": [],
   "source": []
  },
  {
   "cell_type": "code",
   "execution_count": null,
   "metadata": {},
   "outputs": [],
   "source": []
  },
  {
   "cell_type": "code",
   "execution_count": null,
   "metadata": {},
   "outputs": [],
   "source": []
  },
  {
   "cell_type": "code",
   "execution_count": null,
   "metadata": {},
   "outputs": [],
   "source": []
  },
  {
   "cell_type": "code",
   "execution_count": null,
   "metadata": {},
   "outputs": [],
   "source": []
  },
  {
   "cell_type": "code",
   "execution_count": 82,
   "metadata": {},
   "outputs": [
    {
     "ename": "TypeError",
     "evalue": "'Dataset' object is not callable",
     "output_type": "error",
     "traceback": [
      "\u001b[0;31m---------------------------------------------------------------------------\u001b[0m",
      "\u001b[0;31mTypeError\u001b[0m                                 Traceback (most recent call last)",
      "\u001b[0;32m<ipython-input-82-0a60d6919c16>\u001b[0m in \u001b[0;36m<module>\u001b[0;34m\u001b[0m\n\u001b[1;32m      1\u001b[0m \u001b[0;31m#Method 2: Continuous Ranked Probablity Score (properscoring package)\u001b[0m\u001b[0;34m\u001b[0m\u001b[0;34m\u001b[0m\u001b[0;34m\u001b[0m\u001b[0m\n\u001b[0;32m----> 2\u001b[0;31m \u001b[0mcrps_score\u001b[0m\u001b[0;34m=\u001b[0m\u001b[0mcrps_score\u001b[0m\u001b[0;34m(\u001b[0m\u001b[0mobservation\u001b[0m\u001b[0;34m,\u001b[0m \u001b[0mpreds\u001b[0m\u001b[0;34m,\u001b[0m\u001b[0;36m1\u001b[0m\u001b[0;34m)\u001b[0m\u001b[0;34m;\u001b[0m \u001b[0mprint\u001b[0m\u001b[0;34m(\u001b[0m\u001b[0mcrps_score\u001b[0m\u001b[0;34m)\u001b[0m\u001b[0;34m\u001b[0m\u001b[0;34m\u001b[0m\u001b[0m\n\u001b[0m\u001b[1;32m      3\u001b[0m \u001b[0;31m#ToDo: solve this error. if i re-run cell block 2 (from src.score import *), then it runs fine. See next cell block. possibly becasue  change datatype by calling to_array() function)\u001b[0m\u001b[0;34m\u001b[0m\u001b[0;34m\u001b[0m\u001b[0;34m\u001b[0m\u001b[0m\n",
      "\u001b[0;31mTypeError\u001b[0m: 'Dataset' object is not callable"
     ]
    }
   ],
   "source": [
    "#Method 2: Continuous Ranked Probablity Score (properscoring package)\n",
    "crps_score=crps_score(observation, preds,1); print(crps_score)\n",
    "#ToDo: solve this error. if i re-run cell block 2 (from src.score import *), then it runs fine. See next cell block. possibly becasue  change datatype by calling to_array() function)"
   ]
  },
  {
   "cell_type": "code",
   "execution_count": 84,
   "metadata": {},
   "outputs": [
    {
     "name": "stdout",
     "output_type": "stream",
     "text": [
      "<xarray.Dataset>\n",
      "Dimensions:  ()\n",
      "Data variables:\n",
      "    z500     float64 0.06523\n",
      "    t850     float64 0.08424\n"
     ]
    }
   ],
   "source": [
    "#Method 2: Continuous Ranked Probablity Score\n",
    "#!pip install properscoring\n",
    "crps_score=crps_score(observation, preds,1); print(crps_score)\n",
    "#ToDo: 1 refers to forecast_number dimension. need to generalize that.\n",
    "#check if propoerscoring function exists for xarray"
   ]
  },
  {
   "cell_type": "code",
   "execution_count": 31,
   "metadata": {},
   "outputs": [
    {
     "name": "stdout",
     "output_type": "stream",
     "text": [
      "<xarray.Dataset>\n",
      "Dimensions:  ()\n",
      "Data variables:\n",
      "    z500     float64 0.08901\n",
      "    t850     float64 0.09419\n",
      "<xarray.Dataset>\n",
      "Dimensions:  ()\n",
      "Data variables:\n",
      "    z500     float64 0.06513\n",
      "    t850     float64 0.08452\n"
     ]
    }
   ],
   "source": [
    "\n",
    "#sanity check\n",
    "#create function for MAE. MAE=crps for 1 ensemble member"
   ]
  },
  {
   "cell_type": "code",
   "execution_count": null,
   "metadata": {},
   "outputs": [],
   "source": []
  },
  {
   "cell_type": "code",
   "execution_count": null,
   "metadata": {},
   "outputs": [],
   "source": []
  },
  {
   "cell_type": "code",
   "execution_count": null,
   "metadata": {},
   "outputs": [],
   "source": []
  },
  {
   "cell_type": "code",
   "execution_count": 32,
   "metadata": {},
   "outputs": [
    {
     "data": {
      "image/png": "[encoded data removed]",
      "text/plain": [
       "<Figure size 432x288 with 1 Axes>"
      ]
     },
     "metadata": {
      "needs_background": "light"
     },
     "output_type": "display_data"
    }
   ],
   "source": [
    "#Method 3: Rank Histogram\n",
    "# !pip install rank-histogram\n",
    "# does prediction need to be a sorted array? How does that work for a data that has lat,lon?\n",
    "# R code: https://rdrr.io/cran/SpecsVerification/src/R/Rankhist.R\n",
    "from ranky import rankz\n",
    "\n",
    "obs = np.asarray(observation.to_array(), dtype=np.float32).squeeze();\n",
    "obs_z500=obs[0,...].squeeze()\n",
    "obs_t850=obs[1,...].squeeze()\n",
    "\n",
    "pred=np.asarray(preds.to_array(), dtype=np.float32).squeeze();\n",
    "pred_z500=pred[0,...].squeeze() \n",
    "pred_t850=pred[1,...].squeeze() \n",
    "\n",
    "mask=np.ones(obs_z500.shape) #useless\n",
    "# feed into rankz function\n",
    "result = rankz(obs_z500, pred_z500, mask)\n",
    "# plot histogram\n",
    "plt.bar(range(1,pred_z500.shape[0]+2), result[0])\n",
    "# view histogram\n",
    "plt.show() #Definitely bad. maybe because too few observations or beacuse of bad implementation"
   ]
  },
  {
   "cell_type": "code",
   "execution_count": 33,
   "metadata": {},
   "outputs": [
    {
     "data": {
      "image/png": "[encoded data removed]",
      "text/plain": [
       "<Figure size 432x288 with 1 Axes>"
      ]
     },
     "metadata": {
      "needs_background": "light"
     },
     "output_type": "display_data"
    }
   ],
   "source": [
    "result = rankz(obs_t850, pred_t850, mask)\n",
    "plt.bar(range(1,pred_t850.shape[0]+2), result[0])\n",
    "plt.show() "
   ]
  },
  {
   "cell_type": "code",
   "execution_count": 34,
   "metadata": {},
   "outputs": [
    {
     "name": "stdout",
     "output_type": "stream",
     "text": [
      "(32, 32, 64)\n"
     ]
    },
    {
     "data": {
      "text/plain": [
       "(100, 32, 32, 64)"
      ]
     },
     "execution_count": 34,
     "metadata": {},
     "output_type": "execute_result"
    }
   ],
   "source": [
    "print(obs_t850.shape)\n",
    "pred_t850.shape"
   ]
  },
  {
   "cell_type": "code",
   "execution_count": 35,
   "metadata": {
    "scrolled": true
   },
   "outputs": [
    {
     "data": {
      "image/png": "[encoded data removed]",
      "text/plain": [
       "<Figure size 432x288 with 1 Axes>"
      ]
     },
     "metadata": {
      "needs_background": "light"
     },
     "output_type": "display_data"
    }
   ],
   "source": [
    "#sanity check: for a random sample\n",
    "obs = np.random.randn(10, 40, 40)\n",
    "ensemble = np.random.randn(20, 10, 40, 40)\n",
    "mask = np.random.randint(0, 2, (10, 40, 40)) #masked where 0/false.\n",
    "# feed into rankz function\n",
    "result = rankz(obs, ensemble, mask)\n",
    "# plot histogram\n",
    "plt.bar(range(1,ensemble.shape[0]+2), result[0])\n",
    "# view histogram\n",
    "plt.show()"
   ]
  },
  {
   "cell_type": "code",
   "execution_count": 36,
   "metadata": {},
   "outputs": [
    {
     "name": "stdout",
     "output_type": "stream",
     "text": [
      "(32, 3)\n",
      "(100, 32, 3)\n",
      "(32, 3)\n"
     ]
    },
    {
     "data": {
      "image/png": "[encoded data removed]",
      "text/plain": [
       "<Figure size 432x288 with 1 Axes>"
      ]
     },
     "metadata": {
      "needs_background": "light"
     },
     "output_type": "display_data"
    }
   ],
   "source": [
    "#testing for only few points\n",
    "obs_small=obs_z500[:,15:18,0].squeeze()\n",
    "pred_small=pred_z500[:,:,15:18,0]\n",
    "mask=np.ones(obs_small.shape).squeeze()\n",
    "print(obs_small.shape)\n",
    "print(pred_small.shape)\n",
    "print(mask.shape)\n",
    "\n",
    "result = rankz(obs_small, pred_small, mask)\n",
    "plt.bar(range(1,pred_small.shape[0]+2), result[0])\n",
    "plt.show()"
   ]
  },
  {
   "cell_type": "code",
   "execution_count": 37,
   "metadata": {},
   "outputs": [
    {
     "name": "stdout",
     "output_type": "stream",
     "text": [
      "(32, 32, 64)\n",
      "(10, 32, 32, 64)\n",
      "(32, 32, 64)\n"
     ]
    },
    {
     "data": {
      "image/png": "[encoded data removed]",
      "text/plain": [
       "<Figure size 432x288 with 1 Axes>"
      ]
     },
     "metadata": {
      "needs_background": "light"
     },
     "output_type": "display_data"
    }
   ],
   "source": [
    "#testing for smaller number of bins (i.e. forecasts)\n",
    "obs_small=obs_z500[:,:,:].squeeze()\n",
    "pred_small=pred_z500[0:10,:,:,:]\n",
    "mask=np.ones(obs_small.shape).squeeze()\n",
    "print(obs_small.shape)\n",
    "print(pred_small.shape)\n",
    "print(mask.shape)\n",
    "\n",
    "result = rankz(obs_small, pred_small, mask)\n",
    "plt.bar(range(1,pred_small.shape[0]+2), result[0])\n",
    "plt.show() #still bad. same shape. overconfident (underdispersive)"
   ]
  },
  {
   "cell_type": "code",
   "execution_count": null,
   "metadata": {},
   "outputs": [],
   "source": [
    "#self implementation\n",
    "import pandas as pd #will make for xarray later.\n",
    "combined=np.vstack((obs[np.newaxis],ensemble))\n",
    "# print('computing ranks')\n",
    "ranks=np.apply_along_axis(lambda x: rankdata(x,method='min'),0,combined)\n",
    "\n",
    "# print('computing ties')\n",
    "ties=np.sum(ranks[0]==ranks[1:], axis=0)\n",
    "ranks=ranks[0]\n",
    "tie=np.unique(ties)\n",
    "\n",
    "    for i in range(1,len(tie)):\n",
    "        index=ranks[ties==tie[i]]\n",
    "        # print('randomizing tied ranks for ' + str(len(index)) + ' instances where there is ' + str(tie[i]) + ' tie/s. ' + str(len(tie)-i-1) + ' more to go')\n",
    "        ranks[ties==tie[i]]=[np.random.randint(index[j],index[j]+tie[i]+1,tie[i])[0] for j in range(len(index))]\n",
    "\n",
    "    return np.histogram(ranks, bins=np.linspace(0.5, combined.shape[0]+0.5, combined.shape[0]+1))"
   ]
  },
  {
   "cell_type": "code",
   "execution_count": 38,
   "metadata": {},
   "outputs": [],
   "source": [
    "import pandas as pd\n",
    "obs_small=observation.to_dataframe()\n",
    "pred_small=preds.to_dataframe()"
   ]
  },
  {
   "cell_type": "code",
   "execution_count": 41,
   "metadata": {},
   "outputs": [
    {
     "data": {
      "text/plain": [
       "(6553600, 2)"
      ]
     },
     "execution_count": 41,
     "metadata": {},
     "output_type": "execute_result"
    }
   ],
   "source": [
    "pred_small.shape"
   ]
  },
  {
   "cell_type": "code",
   "execution_count": 44,
   "metadata": {},
   "outputs": [
    {
     "data": {
      "text/plain": [
       "0    2.0\n",
       "1    4.0\n",
       "2    6.0\n",
       "3    3.0\n",
       "4    5.0\n",
       "5    1.0\n",
       "dtype: float64"
      ]
     },
     "execution_count": 44,
     "metadata": {},
     "output_type": "execute_result"
    }
   ],
   "source": [
    "my_vec = pd.Series([1,2,4,2,3,1])\n",
    "my_vec.sample(frac=1).rank(method='first').reindex_like(my_vec)"
   ]
  },
  {
   "cell_type": "code",
   "execution_count": 46,
   "metadata": {},
   "outputs": [
    {
     "data": {
      "text/plain": [
       "0    2.0\n",
       "1    3.0\n",
       "2    6.0\n",
       "3    4.0\n",
       "4    5.0\n",
       "5    1.0\n",
       "dtype: float64"
      ]
     },
     "execution_count": 46,
     "metadata": {},
     "output_type": "execute_result"
    }
   ],
   "source": [
    "my_vec.sample(frac=1).rank(method='first').reindex_like(my_vec)"
   ]
  },
  {
   "cell_type": "code",
   "execution_count": 50,
   "metadata": {},
   "outputs": [],
   "source": [
    "obs_small=obs_z500[:,:,:].squeeze()\n",
    "pred_small=pred_z500[0:10,:,:,:]\n",
    "combined=np.vstack((obs_small[np.newaxis],pred_small))"
   ]
  },
  {
   "cell_type": "code",
   "execution_count": 51,
   "metadata": {},
   "outputs": [
    {
     "data": {
      "text/plain": [
       "(11, 32, 32, 64)"
      ]
     },
     "execution_count": 51,
     "metadata": {},
     "output_type": "execute_result"
    }
   ],
   "source": [
    "combined.shape"
   ]
  },
  {
   "cell_type": "code",
   "execution_count": 53,
   "metadata": {},
   "outputs": [
    {
     "ename": "ValueError",
     "evalue": "Must pass 2-d input",
     "output_type": "error",
     "traceback": [
      "\u001b[0;31m---------------------------------------------------------------------------\u001b[0m",
      "\u001b[0;31mValueError\u001b[0m                                Traceback (most recent call last)",
      "\u001b[0;32m<ipython-input-53-3c7b6cb49858>\u001b[0m in \u001b[0;36m<module>\u001b[0;34m\u001b[0m\n\u001b[0;32m----> 1\u001b[0;31m \u001b[0mdf\u001b[0m \u001b[0;34m=\u001b[0m \u001b[0mpd\u001b[0m\u001b[0;34m.\u001b[0m\u001b[0mDataFrame\u001b[0m\u001b[0;34m(\u001b[0m\u001b[0mdata\u001b[0m\u001b[0;34m=\u001b[0m\u001b[0mcombined\u001b[0m\u001b[0;34m,\u001b[0m \u001b[0mindex\u001b[0m\u001b[0;34m=\u001b[0m\u001b[0;34m[\u001b[0m\u001b[0;34m\"row1\"\u001b[0m\u001b[0;34m,\u001b[0m \u001b[0;34m\"row2\"\u001b[0m\u001b[0;34m]\u001b[0m\u001b[0;34m,\u001b[0m \u001b[0mcolumns\u001b[0m\u001b[0;34m=\u001b[0m\u001b[0;34m[\u001b[0m\u001b[0;34m\"column1\"\u001b[0m\u001b[0;34m,\u001b[0m \u001b[0;34m\"column2\"\u001b[0m\u001b[0;34m]\u001b[0m\u001b[0;34m)\u001b[0m\u001b[0;34m\u001b[0m\u001b[0;34m\u001b[0m\u001b[0m\n\u001b[0m",
      "\u001b[0;32m/anaconda3/lib/python3.7/site-packages/pandas/core/frame.py\u001b[0m in \u001b[0;36m__init__\u001b[0;34m(self, data, index, columns, dtype, copy)\u001b[0m\n\u001b[1;32m    422\u001b[0m             \u001b[0;32melse\u001b[0m\u001b[0;34m:\u001b[0m\u001b[0;34m\u001b[0m\u001b[0;34m\u001b[0m\u001b[0m\n\u001b[1;32m    423\u001b[0m                 mgr = init_ndarray(data, index, columns, dtype=dtype,\n\u001b[0;32m--> 424\u001b[0;31m                                    copy=copy)\n\u001b[0m\u001b[1;32m    425\u001b[0m \u001b[0;34m\u001b[0m\u001b[0m\n\u001b[1;32m    426\u001b[0m         \u001b[0;31m# For data is list-like, or Iterable (will consume into list)\u001b[0m\u001b[0;34m\u001b[0m\u001b[0;34m\u001b[0m\u001b[0;34m\u001b[0m\u001b[0m\n",
      "\u001b[0;32m/anaconda3/lib/python3.7/site-packages/pandas/core/internals/construction.py\u001b[0m in \u001b[0;36minit_ndarray\u001b[0;34m(values, index, columns, dtype, copy)\u001b[0m\n\u001b[1;32m    144\u001b[0m     \u001b[0;31m# by definition an array here\u001b[0m\u001b[0;34m\u001b[0m\u001b[0;34m\u001b[0m\u001b[0;34m\u001b[0m\u001b[0m\n\u001b[1;32m    145\u001b[0m     \u001b[0;31m# the dtypes will be coerced to a single dtype\u001b[0m\u001b[0;34m\u001b[0m\u001b[0;34m\u001b[0m\u001b[0;34m\u001b[0m\u001b[0m\n\u001b[0;32m--> 146\u001b[0;31m     \u001b[0mvalues\u001b[0m \u001b[0;34m=\u001b[0m \u001b[0mprep_ndarray\u001b[0m\u001b[0;34m(\u001b[0m\u001b[0mvalues\u001b[0m\u001b[0;34m,\u001b[0m \u001b[0mcopy\u001b[0m\u001b[0;34m=\u001b[0m\u001b[0mcopy\u001b[0m\u001b[0;34m)\u001b[0m\u001b[0;34m\u001b[0m\u001b[0;34m\u001b[0m\u001b[0m\n\u001b[0m\u001b[1;32m    147\u001b[0m \u001b[0;34m\u001b[0m\u001b[0m\n\u001b[1;32m    148\u001b[0m     \u001b[0;32mif\u001b[0m \u001b[0mdtype\u001b[0m \u001b[0;32mis\u001b[0m \u001b[0;32mnot\u001b[0m \u001b[0;32mNone\u001b[0m\u001b[0;34m:\u001b[0m\u001b[0;34m\u001b[0m\u001b[0;34m\u001b[0m\u001b[0m\n",
      "\u001b[0;32m/anaconda3/lib/python3.7/site-packages/pandas/core/internals/construction.py\u001b[0m in \u001b[0;36mprep_ndarray\u001b[0;34m(values, copy)\u001b[0m\n\u001b[1;32m    247\u001b[0m         \u001b[0mvalues\u001b[0m \u001b[0;34m=\u001b[0m \u001b[0mvalues\u001b[0m\u001b[0;34m.\u001b[0m\u001b[0mreshape\u001b[0m\u001b[0;34m(\u001b[0m\u001b[0;34m(\u001b[0m\u001b[0mvalues\u001b[0m\u001b[0;34m.\u001b[0m\u001b[0mshape\u001b[0m\u001b[0;34m[\u001b[0m\u001b[0;36m0\u001b[0m\u001b[0;34m]\u001b[0m\u001b[0;34m,\u001b[0m \u001b[0;36m1\u001b[0m\u001b[0;34m)\u001b[0m\u001b[0;34m)\u001b[0m\u001b[0;34m\u001b[0m\u001b[0;34m\u001b[0m\u001b[0m\n\u001b[1;32m    248\u001b[0m     \u001b[0;32melif\u001b[0m \u001b[0mvalues\u001b[0m\u001b[0;34m.\u001b[0m\u001b[0mndim\u001b[0m \u001b[0;34m!=\u001b[0m \u001b[0;36m2\u001b[0m\u001b[0;34m:\u001b[0m\u001b[0;34m\u001b[0m\u001b[0;34m\u001b[0m\u001b[0m\n\u001b[0;32m--> 249\u001b[0;31m         \u001b[0;32mraise\u001b[0m \u001b[0mValueError\u001b[0m\u001b[0;34m(\u001b[0m\u001b[0;34m'Must pass 2-d input'\u001b[0m\u001b[0;34m)\u001b[0m\u001b[0;34m\u001b[0m\u001b[0;34m\u001b[0m\u001b[0m\n\u001b[0m\u001b[1;32m    250\u001b[0m \u001b[0;34m\u001b[0m\u001b[0m\n\u001b[1;32m    251\u001b[0m     \u001b[0;32mreturn\u001b[0m \u001b[0mvalues\u001b[0m\u001b[0;34m\u001b[0m\u001b[0;34m\u001b[0m\u001b[0m\n",
      "\u001b[0;31mValueError\u001b[0m: Must pass 2-d input"
     ]
    }
   ],
   "source": [
    "df = pd.DataFrame(data=combined, index=[\"row1\", \"row2\"], columns=[\"column1\", \"column2\"])"
   ]
  },
  {
   "cell_type": "code",
   "execution_count": null,
   "metadata": {},
   "outputs": [],
   "source": []
  }
 ],
 "metadata": {
  "kernelspec": {
   "display_name": "Python 3",
   "language": "python",
   "name": "python3"
  },
  "language_info": {
   "codemirror_mode": {
    "name": "ipython",
    "version": 3
   },
   "file_extension": ".py",
   "mimetype": "text/x-python",
   "name": "python",
   "nbconvert_exporter": "python",
   "pygments_lexer": "ipython3",
   "version": "3.7.3"
  }
 },
 "nbformat": 4,
 "nbformat_minor": 4
}
