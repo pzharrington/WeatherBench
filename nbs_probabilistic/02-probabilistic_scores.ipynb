{
 "cells": [
  {
   "cell_type": "markdown",
   "metadata": {},
   "source": [
    "# Implement probabilistic scores for ensemble forecasts\n",
    " \n",
    "Now let's implement the ensemble scores. Please refer to the Dropbox document for their definition. \n",
    "\n",
    "1. Spread/Skill ratio: As mentioned in Scher and Messori (2020) there is a right way to do the order of the computations. Read their paragraph on it.\n",
    "2. CRPS: Try the `properscoring` package. This one should be good.\n",
    "3. Rank histogram: Try the `rankhistogram` package. No idea if this one is good. If it's ok but requires minor changes, we can consider a pull request. Otherwise, let's just write our own implementation. \n",
    "\n",
    "For all three scores:\n",
    "- Use `xarray` as much as possible. Write a function similar to `src.score.compute_weighted_rmse.py`. \n",
    "- Ignore the weighted part at first.\n",
    "- Create simple synthetic datasets to test extreme cases. E.g. `ensemble = [1, 1, 1]`, `obs=[1]` should result in a CRPS of 0. Think about what good sanity checks are for each score. For the rank histogram, for example, try to build examples that should end up in the shapes from the Dropbox document (overdispersion, underdispersion, etc.)\n",
    "- Test the three functions with the \"real\" data from the dropout ensemble.\n",
    "- Now the weighted part: Because the area of each lat-lon square is not the same but in fact varies with cos(lat), we want to weigh each grid point proportional to its area. This is already implemented for the rmse and acc scores in `src/score.py`. Implement this for the three probabilistic scores and compare to the unweighted scores. They shouldn't be too different. Implementing this for the rank histogram might require some thinking. We can talk about this together."
   ]
  },
  {
   "cell_type": "markdown",
   "metadata": {},
   "source": [
    "ToDo:\n",
    "1. use command-line script to get prediction dataset\n",
    "2. shifting code to, working with full data on remote PC\n",
    "3. CRPS averaging. sanity checks.  re-writing rank histogram.\n",
    "4. creating function to compare different models on CRPS, Spread-skill, RankHistogram. should be simple."
   ]
  },
  {
   "cell_type": "code",
   "execution_count": 1,
   "metadata": {},
   "outputs": [],
   "source": [
    "%load_ext autoreload\n",
    "%autoreload 2"
   ]
  },
  {
   "cell_type": "code",
   "execution_count": 271,
   "metadata": {},
   "outputs": [],
   "source": [
    "from src.utils import *\n",
    "from src.score import *\n",
    "from src.data_generator import *\n",
    "from src.networks import *\n",
    "import matplotlib.pyplot as plt"
   ]
  },
  {
   "cell_type": "code",
   "execution_count": 3,
   "metadata": {},
   "outputs": [
    {
     "data": {
      "text/plain": [
       "'1.14.0'"
      ]
     },
     "execution_count": 3,
     "metadata": {},
     "output_type": "execute_result"
    }
   ],
   "source": [
    "tf.__version__"
   ]
  },
  {
   "cell_type": "code",
   "execution_count": 4,
   "metadata": {},
   "outputs": [],
   "source": [
    "datadir = '/Users/sagar/Library/Mobile\\ Documents/com~apple~CloudDocs/studies/WeatherBench/Testing_WeatherBench/test/'# Change this to where you downloaded the data"
   ]
  },
  {
   "cell_type": "code",
   "execution_count": 6,
   "metadata": {},
   "outputs": [
    {
     "name": "stdout",
     "output_type": "stream",
     "text": [
      "13-mean.nc                     \u001b[34mgeopotential\u001b[m\u001b[m\r\n",
      "13-resnet_bn_dr_0.1.h5         \u001b[34mtemperature\u001b[m\u001b[m\r\n",
      "13-resnet_bn_dr_0.1_weights.h5 \u001b[34mu_component_of_wind\u001b[m\u001b[m\r\n",
      "13-std.nc                      \u001b[34mv_component_of_wind\u001b[m\u001b[m\r\n",
      "\u001b[34mconstants\u001b[m\u001b[m\r\n"
     ]
    }
   ],
   "source": [
    "!ls $datadir"
   ]
  },
  {
   "cell_type": "code",
   "execution_count": 5,
   "metadata": {},
   "outputs": [],
   "source": [
    "exp_id = '13-resnet_bn_dr_0.1'\n",
    "var_dict = {'geopotential': ('z', [200, 500, 850]), 'temperature': ('t', [200, 500, 850]), \n",
    "            'u_component_of_wind': ('u', [200, 500, 850]), 'v_component_of_wind': ('v', [200, 500, 850]), \n",
    "            'constants': ['lsm','orography','lat2d']}  \n",
    "#our input data has 'levels'. is that geopotential height?  \n",
    "#why just 3 constants, not 5\n",
    "output_vars = ['z_500', 't_850']\n",
    "filters = [128, 128, 128, 128, 128, 128, 128, 128, 2]\n",
    "kernels = [7, 3, 3, 3, 3, 3, 3, 3, 3]\n",
    "lead_time = 72 #prediction of forecast is at 72 hours after input time.\n",
    "lr = 0.5e-4\n",
    "early_stopping_patience = 10\n",
    "reduce_lr_patience = 5\n",
    "data_subsample = 2\n",
    "norm_subsample = 30000\n",
    "bn_position = 'post'\n",
    "use_bias = 1\n",
    "dropout = 0.1  # This is the important one\n",
    "\n",
    "batch_size = 32\n",
    "nt_in = 1\n",
    "l2 = 0\n",
    "skip = True"
   ]
  },
  {
   "cell_type": "code",
   "execution_count": 7,
   "metadata": {},
   "outputs": [],
   "source": [
    "#ds = xr.merge([xr.open_mfdataset('../test/{var}/*.nc', combine='by_coords') for var in var_dict.keys()]) \n",
    "df1=xr.open_mfdataset('../test/geopotential/*.nc', combine='by_coords') \n",
    "df2=xr.open_mfdataset('../test/temperature/*.nc', combine='by_coords') \n",
    "df3=xr.open_mfdataset('../test/u_component_of_wind/*.nc', combine='by_coords') \n",
    "df4=xr.open_mfdataset('../test/v_component_of_wind/*.nc', combine='by_coords')  \n",
    "df5=xr.open_mfdataset('../test/constants/*.nc', combine='by_coords')  \n",
    "ds=xr.merge([df1,df2,df3,df4,df5])"
   ]
  },
  {
   "cell_type": "code",
   "execution_count": 8,
   "metadata": {},
   "outputs": [],
   "source": [
    "mean = xr.open_dataarray('../test/13-mean.nc') #for just our subsampled data. 15 levels ('the constants are at level=1)':z200,z500,z850,t200 and so on.\n",
    "std = xr.open_dataarray('../test/13-std.nc')"
   ]
  },
  {
   "cell_type": "code",
   "execution_count": 9,
   "metadata": {},
   "outputs": [
    {
     "name": "stdout",
     "output_type": "stream",
     "text": [
      "DG start 18:31:15.231140\n",
      "DG normalize 18:31:15.257698\n",
      "DG load 18:31:15.270257\n",
      "Loading data into RAM\n",
      "DG done 18:31:46.228804\n"
     ]
    }
   ],
   "source": [
    "dg_test = DataGenerator(\n",
    "    ds, var_dict, lead_time, batch_size=batch_size, mean=mean, std=std,\n",
    "    shuffle=False, output_vars=output_vars\n",
    ")"
   ]
  },
  {
   "cell_type": "code",
   "execution_count": 10,
   "metadata": {},
   "outputs": [
    {
     "data": {
      "text/plain": [
       "((32, 32, 64, 15), (32, 32, 64, 2))"
      ]
     },
     "execution_count": 10,
     "metadata": {},
     "output_type": "execute_result"
    }
   ],
   "source": [
    "# You can index into the data generator to obain a feature/target pair\n",
    "# [batch, x, y, channel]\n",
    "X, y = dg_test[0]\n",
    "X.shape, y.shape"
   ]
  },
  {
   "cell_type": "code",
   "execution_count": 11,
   "metadata": {},
   "outputs": [
    {
     "data": {
      "text/plain": [
       "<matplotlib.image.AxesImage at 0x1c3f6b2828>"
      ]
     },
     "execution_count": 11,
     "metadata": {},
     "output_type": "execute_result"
    },
    {
     "data": {
      "image/png": "[encoded data removed]",
      "text/plain": [
       "<Figure size 576x288 with 1 Axes>"
      ]
     },
     "metadata": {
      "needs_background": "light"
     },
     "output_type": "display_data"
    }
   ],
   "source": [
    "plt.matshow(y[0, :, :, 1]) #y[...,0] is z500 and y[...,1] is t850. normalized. \n",
    "#y is the observation after lead_time (=72) hours from input X. The ground truth."
   ]
  },
  {
   "cell_type": "markdown",
   "metadata": {},
   "source": [
    "# Load the model\n",
    "Now let's load the pretrained model. Check the build resnet option ."
   ]
  },
  {
   "cell_type": "code",
   "execution_count": 12,
   "metadata": {},
   "outputs": [
    {
     "name": "stdout",
     "output_type": "stream",
     "text": [
      "WARNING:tensorflow:From /anaconda3/lib/python3.7/site-packages/tensorflow/python/ops/init_ops.py:1251: calling VarianceScaling.__init__ (from tensorflow.python.ops.init_ops) with dtype is deprecated and will be removed in a future version.\n",
      "Instructions for updating:\n",
      "Call initializer instance with the dtype argument instead of passing it to the constructor\n"
     ]
    }
   ],
   "source": [
    "model = build_resnet(\n",
    "    filters, kernels, input_shape=(\n",
    "        len(dg_test.data.lat), len(dg_test.data.lon), len(dg_test.data.level) * nt_in\n",
    "    ),\n",
    "    bn_position=bn_position, use_bias=use_bias, l2=l2, skip=skip,\n",
    "    dropout=dropout\n",
    ")"
   ]
  },
  {
   "cell_type": "code",
   "execution_count": 13,
   "metadata": {},
   "outputs": [
    {
     "name": "stdout",
     "output_type": "stream",
     "text": [
      "Model: \"model\"\n",
      "__________________________________________________________________________________________________\n",
      "Layer (type)                    Output Shape         Param #     Connected to                     \n",
      "==================================================================================================\n",
      "input_1 (InputLayer)            [(None, 32, 64, 15)] 0                                            \n",
      "__________________________________________________________________________________________________\n",
      "periodic_conv2d (PeriodicConv2D (None, 32, 64, 128)  94208       input_1[0][0]                    \n",
      "__________________________________________________________________________________________________\n",
      "activation (Activation)         (None, 32, 64, 128)  0           periodic_conv2d[0][0]            \n",
      "__________________________________________________________________________________________________\n",
      "batch_normalization (BatchNorma (None, 32, 64, 128)  512         activation[0][0]                 \n",
      "__________________________________________________________________________________________________\n",
      "dropout (Dropout)               (None, 32, 64, 128)  0           batch_normalization[0][0]        \n",
      "__________________________________________________________________________________________________\n",
      "periodic_conv2d_1 (PeriodicConv (None, 32, 64, 128)  147584      dropout[0][0]                    \n",
      "__________________________________________________________________________________________________\n",
      "activation_1 (Activation)       (None, 32, 64, 128)  0           periodic_conv2d_1[0][0]          \n",
      "__________________________________________________________________________________________________\n",
      "batch_normalization_1 (BatchNor (None, 32, 64, 128)  512         activation_1[0][0]               \n",
      "__________________________________________________________________________________________________\n",
      "dropout_1 (Dropout)             (None, 32, 64, 128)  0           batch_normalization_1[0][0]      \n",
      "__________________________________________________________________________________________________\n",
      "periodic_conv2d_2 (PeriodicConv (None, 32, 64, 128)  147584      dropout_1[0][0]                  \n",
      "__________________________________________________________________________________________________\n",
      "activation_2 (Activation)       (None, 32, 64, 128)  0           periodic_conv2d_2[0][0]          \n",
      "__________________________________________________________________________________________________\n",
      "batch_normalization_2 (BatchNor (None, 32, 64, 128)  512         activation_2[0][0]               \n",
      "__________________________________________________________________________________________________\n",
      "dropout_2 (Dropout)             (None, 32, 64, 128)  0           batch_normalization_2[0][0]      \n",
      "__________________________________________________________________________________________________\n",
      "add (Add)                       (None, 32, 64, 128)  0           dropout[0][0]                    \n",
      "                                                                 dropout_2[0][0]                  \n",
      "__________________________________________________________________________________________________\n",
      "periodic_conv2d_3 (PeriodicConv (None, 32, 64, 128)  147584      add[0][0]                        \n",
      "__________________________________________________________________________________________________\n",
      "activation_3 (Activation)       (None, 32, 64, 128)  0           periodic_conv2d_3[0][0]          \n",
      "__________________________________________________________________________________________________\n",
      "batch_normalization_3 (BatchNor (None, 32, 64, 128)  512         activation_3[0][0]               \n",
      "__________________________________________________________________________________________________\n",
      "dropout_3 (Dropout)             (None, 32, 64, 128)  0           batch_normalization_3[0][0]      \n",
      "__________________________________________________________________________________________________\n",
      "periodic_conv2d_4 (PeriodicConv (None, 32, 64, 128)  147584      dropout_3[0][0]                  \n",
      "__________________________________________________________________________________________________\n",
      "activation_4 (Activation)       (None, 32, 64, 128)  0           periodic_conv2d_4[0][0]          \n",
      "__________________________________________________________________________________________________\n",
      "batch_normalization_4 (BatchNor (None, 32, 64, 128)  512         activation_4[0][0]               \n",
      "__________________________________________________________________________________________________\n",
      "dropout_4 (Dropout)             (None, 32, 64, 128)  0           batch_normalization_4[0][0]      \n",
      "__________________________________________________________________________________________________\n",
      "add_1 (Add)                     (None, 32, 64, 128)  0           add[0][0]                        \n",
      "                                                                 dropout_4[0][0]                  \n",
      "__________________________________________________________________________________________________\n",
      "periodic_conv2d_5 (PeriodicConv (None, 32, 64, 128)  147584      add_1[0][0]                      \n",
      "__________________________________________________________________________________________________\n",
      "activation_5 (Activation)       (None, 32, 64, 128)  0           periodic_conv2d_5[0][0]          \n",
      "__________________________________________________________________________________________________\n",
      "batch_normalization_5 (BatchNor (None, 32, 64, 128)  512         activation_5[0][0]               \n",
      "__________________________________________________________________________________________________\n",
      "dropout_5 (Dropout)             (None, 32, 64, 128)  0           batch_normalization_5[0][0]      \n",
      "__________________________________________________________________________________________________\n",
      "periodic_conv2d_6 (PeriodicConv (None, 32, 64, 128)  147584      dropout_5[0][0]                  \n",
      "__________________________________________________________________________________________________\n",
      "activation_6 (Activation)       (None, 32, 64, 128)  0           periodic_conv2d_6[0][0]          \n",
      "__________________________________________________________________________________________________\n",
      "batch_normalization_6 (BatchNor (None, 32, 64, 128)  512         activation_6[0][0]               \n",
      "__________________________________________________________________________________________________\n",
      "dropout_6 (Dropout)             (None, 32, 64, 128)  0           batch_normalization_6[0][0]      \n",
      "__________________________________________________________________________________________________\n",
      "add_2 (Add)                     (None, 32, 64, 128)  0           add_1[0][0]                      \n",
      "                                                                 dropout_6[0][0]                  \n",
      "__________________________________________________________________________________________________\n",
      "periodic_conv2d_7 (PeriodicConv (None, 32, 64, 128)  147584      add_2[0][0]                      \n",
      "__________________________________________________________________________________________________\n",
      "activation_7 (Activation)       (None, 32, 64, 128)  0           periodic_conv2d_7[0][0]          \n",
      "__________________________________________________________________________________________________\n",
      "batch_normalization_7 (BatchNor (None, 32, 64, 128)  512         activation_7[0][0]               \n",
      "__________________________________________________________________________________________________\n",
      "dropout_7 (Dropout)             (None, 32, 64, 128)  0           batch_normalization_7[0][0]      \n",
      "__________________________________________________________________________________________________\n",
      "periodic_conv2d_8 (PeriodicConv (None, 32, 64, 128)  147584      dropout_7[0][0]                  \n",
      "__________________________________________________________________________________________________\n",
      "activation_8 (Activation)       (None, 32, 64, 128)  0           periodic_conv2d_8[0][0]          \n",
      "__________________________________________________________________________________________________\n",
      "batch_normalization_8 (BatchNor (None, 32, 64, 128)  512         activation_8[0][0]               \n",
      "__________________________________________________________________________________________________\n",
      "dropout_8 (Dropout)             (None, 32, 64, 128)  0           batch_normalization_8[0][0]      \n",
      "__________________________________________________________________________________________________\n",
      "add_3 (Add)                     (None, 32, 64, 128)  0           add_2[0][0]                      \n",
      "                                                                 dropout_8[0][0]                  \n",
      "__________________________________________________________________________________________________\n",
      "periodic_conv2d_9 (PeriodicConv (None, 32, 64, 128)  147584      add_3[0][0]                      \n",
      "__________________________________________________________________________________________________\n",
      "activation_9 (Activation)       (None, 32, 64, 128)  0           periodic_conv2d_9[0][0]          \n",
      "__________________________________________________________________________________________________\n",
      "batch_normalization_9 (BatchNor (None, 32, 64, 128)  512         activation_9[0][0]               \n",
      "__________________________________________________________________________________________________\n",
      "dropout_9 (Dropout)             (None, 32, 64, 128)  0           batch_normalization_9[0][0]      \n",
      "__________________________________________________________________________________________________\n",
      "periodic_conv2d_10 (PeriodicCon (None, 32, 64, 128)  147584      dropout_9[0][0]                  \n",
      "__________________________________________________________________________________________________\n",
      "activation_10 (Activation)      (None, 32, 64, 128)  0           periodic_conv2d_10[0][0]         \n",
      "__________________________________________________________________________________________________\n",
      "batch_normalization_10 (BatchNo (None, 32, 64, 128)  512         activation_10[0][0]              \n",
      "__________________________________________________________________________________________________\n",
      "dropout_10 (Dropout)            (None, 32, 64, 128)  0           batch_normalization_10[0][0]     \n",
      "__________________________________________________________________________________________________\n",
      "add_4 (Add)                     (None, 32, 64, 128)  0           add_3[0][0]                      \n",
      "                                                                 dropout_10[0][0]                 \n",
      "__________________________________________________________________________________________________\n",
      "periodic_conv2d_11 (PeriodicCon (None, 32, 64, 128)  147584      add_4[0][0]                      \n",
      "__________________________________________________________________________________________________\n",
      "activation_11 (Activation)      (None, 32, 64, 128)  0           periodic_conv2d_11[0][0]         \n",
      "__________________________________________________________________________________________________\n",
      "batch_normalization_11 (BatchNo (None, 32, 64, 128)  512         activation_11[0][0]              \n",
      "__________________________________________________________________________________________________\n",
      "dropout_11 (Dropout)            (None, 32, 64, 128)  0           batch_normalization_11[0][0]     \n",
      "__________________________________________________________________________________________________\n",
      "periodic_conv2d_12 (PeriodicCon (None, 32, 64, 128)  147584      dropout_11[0][0]                 \n",
      "__________________________________________________________________________________________________\n",
      "activation_12 (Activation)      (None, 32, 64, 128)  0           periodic_conv2d_12[0][0]         \n",
      "__________________________________________________________________________________________________\n",
      "batch_normalization_12 (BatchNo (None, 32, 64, 128)  512         activation_12[0][0]              \n",
      "__________________________________________________________________________________________________\n",
      "dropout_12 (Dropout)            (None, 32, 64, 128)  0           batch_normalization_12[0][0]     \n",
      "__________________________________________________________________________________________________\n",
      "add_5 (Add)                     (None, 32, 64, 128)  0           add_4[0][0]                      \n",
      "                                                                 dropout_12[0][0]                 \n",
      "__________________________________________________________________________________________________\n",
      "periodic_conv2d_13 (PeriodicCon (None, 32, 64, 128)  147584      add_5[0][0]                      \n",
      "__________________________________________________________________________________________________\n",
      "activation_13 (Activation)      (None, 32, 64, 128)  0           periodic_conv2d_13[0][0]         \n",
      "__________________________________________________________________________________________________\n",
      "batch_normalization_13 (BatchNo (None, 32, 64, 128)  512         activation_13[0][0]              \n",
      "__________________________________________________________________________________________________\n",
      "dropout_13 (Dropout)            (None, 32, 64, 128)  0           batch_normalization_13[0][0]     \n",
      "__________________________________________________________________________________________________\n",
      "periodic_conv2d_14 (PeriodicCon (None, 32, 64, 128)  147584      dropout_13[0][0]                 \n",
      "__________________________________________________________________________________________________\n",
      "activation_14 (Activation)      (None, 32, 64, 128)  0           periodic_conv2d_14[0][0]         \n",
      "__________________________________________________________________________________________________\n",
      "batch_normalization_14 (BatchNo (None, 32, 64, 128)  512         activation_14[0][0]              \n",
      "__________________________________________________________________________________________________\n",
      "dropout_14 (Dropout)            (None, 32, 64, 128)  0           batch_normalization_14[0][0]     \n",
      "__________________________________________________________________________________________________\n",
      "add_6 (Add)                     (None, 32, 64, 128)  0           add_5[0][0]                      \n",
      "                                                                 dropout_14[0][0]                 \n",
      "__________________________________________________________________________________________________\n",
      "periodic_conv2d_15 (PeriodicCon (None, 32, 64, 2)    2306        add_6[0][0]                      \n",
      "==================================================================================================\n",
      "Total params: 2,170,370\n",
      "Trainable params: 2,166,530\n",
      "Non-trainable params: 3,840\n",
      "__________________________________________________________________________________________________\n"
     ]
    }
   ],
   "source": [
    "model.compile('adam', 'mse')\n",
    "model.summary()"
   ]
  },
  {
   "cell_type": "code",
   "execution_count": 14,
   "metadata": {},
   "outputs": [],
   "source": [
    "model.load_weights('../test/13-resnet_bn_dr_0.1_weights.h5')"
   ]
  },
  {
   "cell_type": "markdown",
   "metadata": {},
   "source": [
    "## Create a deterministic prediction\n",
    "\n",
    "The model has been trained to create a deterministic prediction. For this dropout is turned off during test time. Let's create a prediction for the first sample. Thanks to Tensorflow 2 we can tread the model as a function just like in PyTorch."
   ]
  },
  {
   "cell_type": "code",
   "execution_count": 15,
   "metadata": {},
   "outputs": [],
   "source": [
    "#pred = model(X[:1]).numpy().squeeze(); pred.shape; #to add tf.enable_eager_execution() in src/networks.py line6. have to remove if you want to run ensemble prediction :(."
   ]
  },
  {
   "cell_type": "code",
   "execution_count": 16,
   "metadata": {},
   "outputs": [],
   "source": [
    "# Look at the predictions\n",
    "# fig, (ax1, ax2) = plt.subplots(1, 2, figsize=(10, 5))\n",
    "# ax1.matshow(pred[..., 0]) #z500 normalized\n",
    "# ax2.matshow(pred[..., 1]) #t850 normalized"
   ]
  },
  {
   "cell_type": "markdown",
   "metadata": {},
   "source": [
    "# Create an ensemble using test-time dropout\n",
    "Now it's your turn. The pretrained model contains several dropout layers which are only active during training. Your job is to turn dropout on during inference as well. This should result in a model that creates a slightly different prediction every time. Hint: Google \"Keras test-time dropout\"."
   ]
  },
  {
   "cell_type": "code",
   "execution_count": 17,
   "metadata": {},
   "outputs": [],
   "source": [
    "##weirdly this function works when tf.enable_eager_execution() is disabled.\n",
    "#but 'pred' for single determinstic works when tf.enable_eager_execution() is enabled. \n",
    "#issue with tensorflow version. couldn't solve right now.\n",
    "\n",
    "#keras switches off test time dropout by default. we could either switch it on permanently.. by putting somewhere an argument training=true). this will put both training and testing to use dropout\n",
    "#but since we have a pre trained model, better just to activate dropout in testing rather than training again. beware: we also activate bacthnorm or any other that was inactive in test phase by default.\n",
    "#https://stackoverflow.com/questions/52756283/adding-dropout-to-testing-inference-phase\n",
    "from tensorflow.keras import backend as K\n",
    "func = K.function(model.inputs + [K.learning_phase()], model.outputs)"
   ]
  },
  {
   "cell_type": "code",
   "execution_count": 18,
   "metadata": {},
   "outputs": [
    {
     "name": "stdout",
     "output_type": "stream",
     "text": [
      "(32, 64, 2)\n"
     ]
    }
   ],
   "source": [
    "# to use dropout in testing phase, pass 1 to set the learning phase to training mode\n",
    "outputs = func([X[:1]] + [1.]) #for a single sample. #gives a new prediction each time.\n",
    "pred2 = np.asarray(outputs, dtype=np.float32).squeeze(); print(pred2.shape) #reshape\n",
    "#outputs"
   ]
  },
  {
   "cell_type": "code",
   "execution_count": 19,
   "metadata": {},
   "outputs": [
    {
     "data": {
      "text/plain": [
       "<matplotlib.image.AxesImage at 0x1c452110f0>"
      ]
     },
     "execution_count": 19,
     "metadata": {},
     "output_type": "execute_result"
    },
    {
     "data": {
      "image/png": "[encoded data removed]",
      "text/plain": [
       "<Figure size 720x360 with 2 Axes>"
      ]
     },
     "metadata": {
      "needs_background": "light"
     },
     "output_type": "display_data"
    }
   ],
   "source": [
    "# Look at the predictions\n",
    "fig, (ax1, ax2) = plt.subplots(1, 2, figsize=(10, 5))\n",
    "ax1.matshow(pred2[..., 0]) #z500 normalized\n",
    "ax2.matshow(pred2[..., 1]) #t850 normalized"
   ]
  },
  {
   "cell_type": "markdown",
   "metadata": {},
   "source": [
    "# Creating Ensemble Forecasts\n",
    " I Inputs. N forecasts per input."
   ]
  },
  {
   "cell_type": "code",
   "execution_count": 223,
   "metadata": {},
   "outputs": [],
   "source": [
    "input_number=32 #keep it lower for testing. takes time.\n",
    "#Different input times each for which an ensemble of predictions is made. \n",
    "#Ques: limited to batch size 32???\n",
    "number_of_forecasts=100\n",
    "# pred_ensemble=np.ndarray(shape=(input_number,number_of_forecasts,32,64,2),dtype=np.float32)\n",
    "# for i in range(input_number):\n",
    "#     for f in range(number_of_forecasts):\n",
    "#         outputs = func([X[i:i+1]] + [1.]) #new prediction each time for same sample.\n",
    "#         pred1 = np.asarray(outputs, dtype=np.float32).squeeze()\n",
    "#         pred_ensemble[i,f,...] = pred1 \n",
    "\n",
    "#concise version\n",
    "pred_ensemble = np.array([np.asarray(func([X[:input_number]] + [1.]), dtype=np.float32).squeeze() for _ in range(number_of_forecasts)])\n"
   ]
  },
  {
   "cell_type": "code",
   "execution_count": 224,
   "metadata": {},
   "outputs": [
    {
     "name": "stdout",
     "output_type": "stream",
     "text": [
      "(100, 32, 32, 64, 2)\n"
     ]
    }
   ],
   "source": [
    "print(pred_ensemble.shape) #(forecast, input, lat, lon, variable)"
   ]
  },
  {
   "cell_type": "code",
   "execution_count": 225,
   "metadata": {},
   "outputs": [
    {
     "data": {
      "text/plain": [
       "(32, 32, 64, 2)"
      ]
     },
     "execution_count": 225,
     "metadata": {},
     "output_type": "execute_result"
    }
   ],
   "source": [
    "y[:input_number].shape #ground truth. Is this correct?"
   ]
  },
  {
   "cell_type": "code",
   "execution_count": 226,
   "metadata": {},
   "outputs": [],
   "source": [
    "#convert to xarray dataset\n",
    "preds = xr.Dataset({\n",
    "    'z500': xr.DataArray(pred_ensemble[...,0],\n",
    "        dims=['forecast_number', 'input_number','lat', 'lon'],\n",
    "        coords={'forecast_number': np.arange(number_of_forecasts),'input_number': np.arange(input_number), 'lat': dg_test.data.lat, 'lon': dg_test.data.lon,},)\n",
    "    ,\n",
    "    't850': xr.DataArray(pred_ensemble[...,1],\n",
    "        dims=['forecast_number', 'input_number','lat', 'lon'],\n",
    "        coords={'forecast_number': np.arange(number_of_forecasts),'input_number': np.arange(input_number), 'lat': dg_test.data.lat, 'lon': dg_test.data.lon,},)\n",
    "})\n",
    "\n",
    "observation= xr.Dataset({\n",
    "    'z500': xr.DataArray(y[:input_number,:,:,0],\n",
    "                         dims=['input_number','lat','lon'],\n",
    "                         coords={'input_number':np.arange(input_number),'lat':dg_test.data.lat,'lon':dg_test.data.lon},)\n",
    "    ,\n",
    "    't850': xr.DataArray(y[:input_number,:,:,1],dims=['input_number','lat','lon'],coords={'input_number':np.arange(input_number),'lat':dg_test.data.lat,'lon':dg_test.data.lon},)          \n",
    "})"
   ]
  },
  {
   "cell_type": "code",
   "execution_count": 227,
   "metadata": {},
   "outputs": [
    {
     "data": {
      "text/html": [
       "<pre>&lt;xarray.Dataset&gt;\n",
       "Dimensions:          (forecast_number: 100, input_number: 32, lat: 32, lon: 64)\n",
       "Coordinates:\n",
       "  * forecast_number  (forecast_number) int64 0 1 2 3 4 5 6 ... 94 95 96 97 98 99\n",
       "  * input_number     (input_number) int64 0 1 2 3 4 5 6 ... 25 26 27 28 29 30 31\n",
       "  * lat              (lat) float64 -87.19 -81.56 -75.94 ... 75.94 81.56 87.19\n",
       "  * lon              (lon) float64 0.0 5.625 11.25 16.88 ... 343.1 348.8 354.4\n",
       "Data variables:\n",
       "    z500             (forecast_number, input_number, lat, lon) float32 -0.8921148 ... -1.640721\n",
       "    t850             (forecast_number, input_number, lat, lon) float32 -1.1058306 ... -1.7279617</pre>"
      ],
      "text/plain": [
       "<xarray.Dataset>\n",
       "Dimensions:          (forecast_number: 100, input_number: 32, lat: 32, lon: 64)\n",
       "Coordinates:\n",
       "  * forecast_number  (forecast_number) int64 0 1 2 3 4 5 6 ... 94 95 96 97 98 99\n",
       "  * input_number     (input_number) int64 0 1 2 3 4 5 6 ... 25 26 27 28 29 30 31\n",
       "  * lat              (lat) float64 -87.19 -81.56 -75.94 ... 75.94 81.56 87.19\n",
       "  * lon              (lon) float64 0.0 5.625 11.25 16.88 ... 343.1 348.8 354.4\n",
       "Data variables:\n",
       "    z500             (forecast_number, input_number, lat, lon) float32 -0.8921148 ... -1.640721\n",
       "    t850             (forecast_number, input_number, lat, lon) float32 -1.1058306 ... -1.7279617"
      ]
     },
     "execution_count": 227,
     "metadata": {},
     "output_type": "execute_result"
    }
   ],
   "source": [
    "#preds"
   ]
  },
  {
   "cell_type": "markdown",
   "metadata": {},
   "source": [
    "# Evaluation methods: Spread-skill, CRPS, Rank histogram\n",
    "check src/score.py."
   ]
  },
  {
   "cell_type": "code",
   "execution_count": 228,
   "metadata": {},
   "outputs": [
    {
     "name": "stdout",
     "output_type": "stream",
     "text": [
      "<xarray.Dataset>\n",
      "Dimensions:           ()\n",
      "Data variables:\n",
      "    z500_mean_spread  float32 0.2161823\n",
      "    t850_mean_spread  float32 0.21091646\n",
      "<xarray.Dataset>\n",
      "Dimensions:         ()\n",
      "Data variables:\n",
      "    z500_mean_rmse  float32 0.15734786\n",
      "    t850_mean_rmse  float32 0.15593107\n",
      "<xarray.DataArray ()>\n",
      "array(1.3739133, dtype=float32)\n",
      "<xarray.DataArray ()>\n",
      "array(1.3526262, dtype=float32)\n"
     ]
    }
   ],
   "source": [
    "#Method 1: Evaluating Spread-Skill Ratio (Based on Paper by scher and Messori 2020: Ensemble NN forecasts with SVD)\n",
    "mean_spread=compute_weighted_meanspread(preds); print(mean_spread)\n",
    "mean_rmse=compute_weighted_meanrmse(observation,preds); print(mean_rmse)\n",
    "\n",
    "spread_skill_ratio_z500=mean_spread.z500_mean_spread/mean_rmse.z500_mean_rmse\n",
    "spread_skill_ratio_t850=mean_spread.t850_mean_spread/mean_rmse.t850_mean_rmse\n",
    "print(spread_skill_ratio_z500)\n",
    "print(spread_skill_ratio_t850) #CouldDo: make a single Dataset by keeping same name as z500, t850"
   ]
  },
  {
   "cell_type": "code",
   "execution_count": 269,
   "metadata": {},
   "outputs": [
    {
     "name": "stdout",
     "output_type": "stream",
     "text": [
      "<xarray.Dataset>\n",
      "Dimensions:           ()\n",
      "Data variables:\n",
      "    z500_mean_spread  float64 0.1979\n",
      "    t850_mean_spread  float64 0.1997\n",
      "<xarray.Dataset>\n",
      "Dimensions:         ()\n",
      "Data variables:\n",
      "    z500_mean_rmse  float64 0.1269\n",
      "    t850_mean_rmse  float64 0.1425\n",
      "<xarray.DataArray ()>\n",
      "array(1.55995965)\n",
      "<xarray.DataArray ()>\n",
      "array(1.40177969)\n"
     ]
    }
   ],
   "source": [
    "#this implementation is with weighted latitude. the above one is not.\n",
    "mean_spread=compute_weighted_meanspread(preds); print(mean_spread)\n",
    "mean_rmse=compute_weighted_meanrmse(observation,preds); print(mean_rmse)\n",
    "\n",
    "spread_skill_ratio_z500=mean_spread.z500_mean_spread/mean_rmse.z500_mean_rmse\n",
    "spread_skill_ratio_t850=mean_spread.t850_mean_spread/mean_rmse.t850_mean_rmse\n",
    "print(spread_skill_ratio_z500)\n",
    "print(spread_skill_ratio_t850) #CouldDo: make a single Dataset by keeping same name as z500, t850"
   ]
  },
  {
   "cell_type": "code",
   "execution_count": 270,
   "metadata": {},
   "outputs": [
    {
     "ename": "TypeError",
     "evalue": "'Dataset' object is not callable",
     "output_type": "error",
     "traceback": [
      "\u001b[0;31m---------------------------------------------------------------------------\u001b[0m",
      "\u001b[0;31mTypeError\u001b[0m                                 Traceback (most recent call last)",
      "\u001b[0;32m<ipython-input-270-869e7df60260>\u001b[0m in \u001b[0;36m<module>\u001b[0;34m\u001b[0m\n\u001b[1;32m      1\u001b[0m \u001b[0;31m#Method 2: Continuous Ranked Probablity Score\u001b[0m\u001b[0;34m\u001b[0m\u001b[0;34m\u001b[0m\u001b[0;34m\u001b[0m\u001b[0m\n\u001b[1;32m      2\u001b[0m \u001b[0;31m#!pip install properscoring\u001b[0m\u001b[0;34m\u001b[0m\u001b[0;34m\u001b[0m\u001b[0;34m\u001b[0m\u001b[0m\n\u001b[0;32m----> 3\u001b[0;31m \u001b[0mcrps_score\u001b[0m\u001b[0;34m=\u001b[0m\u001b[0mcrps_score\u001b[0m\u001b[0;34m(\u001b[0m\u001b[0mobservation\u001b[0m\u001b[0;34m,\u001b[0m \u001b[0mpreds\u001b[0m\u001b[0;34m,\u001b[0m\u001b[0;36m1\u001b[0m\u001b[0;34m)\u001b[0m\u001b[0;34m;\u001b[0m \u001b[0mprint\u001b[0m\u001b[0;34m(\u001b[0m\u001b[0mcrps_score\u001b[0m\u001b[0;34m)\u001b[0m\u001b[0;34m\u001b[0m\u001b[0;34m\u001b[0m\u001b[0m\n\u001b[0m",
      "\u001b[0;31mTypeError\u001b[0m: 'Dataset' object is not callable"
     ]
    }
   ],
   "source": [
    "#Method 2: Continuous Ranked Probablity Score\n",
    "#!pip install properscoring\n",
    "crps_score=crps_score(observation, preds,1); print(crps_score)\n",
    "#ToDo: solve this error. if i re-run cell block 2 (from src.score import *), then it runs fine. See next cell block. possibly becasue  change datatype by calling to_array() function)"
   ]
  },
  {
   "cell_type": "code",
   "execution_count": 272,
   "metadata": {},
   "outputs": [
    {
     "name": "stdout",
     "output_type": "stream",
     "text": [
      "<xarray.Dataset>\n",
      "Dimensions:       (input_number: 32, lat: 32, lon: 64)\n",
      "Coordinates:\n",
      "  * input_number  (input_number) int64 0 1 2 3 4 5 6 7 ... 25 26 27 28 29 30 31\n",
      "  * lat           (lat) float64 -87.19 -81.56 -75.94 ... 75.94 81.56 87.19\n",
      "  * lon           (lon) float64 0.0 5.625 11.25 16.88 ... 343.1 348.8 354.4\n",
      "Data variables:\n",
      "    z500          (input_number, lat, lon) float64 0.1195 0.09359 ... 0.2569\n",
      "    t850          (input_number, lat, lon) float64 0.2959 0.3 ... 0.07194\n"
     ]
    }
   ],
   "source": [
    "#Method 2: Continuous Ranked Probablity Score\n",
    "#!pip install properscoring\n",
    "crps_score=crps_score(observation, preds,1); print(crps_score)"
   ]
  },
  {
   "cell_type": "code",
   "execution_count": 273,
   "metadata": {},
   "outputs": [
    {
     "name": "stdout",
     "output_type": "stream",
     "text": [
      "<xarray.Dataset>\n",
      "Dimensions:  ()\n",
      "Data variables:\n",
      "    z500     float64 0.0891\n",
      "    t850     float64 0.09422\n",
      "<xarray.Dataset>\n",
      "Dimensions:  ()\n",
      "Data variables:\n",
      "    z500     float64 0.0652\n",
      "    t850     float64 0.08455\n"
     ]
    }
   ],
   "source": [
    "#Question: How to average? \n",
    "#ToDo: once resolved. add to src/score.py\n",
    "#way 1\n",
    "crps=crps_score.mean(); print(crps)\n",
    "\n",
    "#way 2: weighted\n",
    "weights_lat = np.cos(np.deg2rad(crps_score.lat))\n",
    "weights_lat /= weights_lat.mean()\n",
    "var1 = (crps_score* weights_lat).mean(dim={'lat','lon'})\n",
    "crps=var1.mean('input_number'); print(crps)"
   ]
  },
  {
   "cell_type": "code",
   "execution_count": 231,
   "metadata": {},
   "outputs": [],
   "source": [
    "#ToDo: sanity check"
   ]
  },
  {
   "cell_type": "code",
   "execution_count": 239,
   "metadata": {},
   "outputs": [
    {
     "data": {
      "image/png": "[encoded data removed]",
      "text/plain": [
       "<Figure size 432x288 with 1 Axes>"
      ]
     },
     "metadata": {
      "needs_background": "light"
     },
     "output_type": "display_data"
    }
   ],
   "source": [
    "#Method 3: Rank Histogram\n",
    "# !pip install rank-histogram\n",
    "from ranky import rankz\n",
    "\n",
    "obs = np.asarray(observation.to_array(), dtype=np.float32).squeeze();\n",
    "obs_z500=obs[0,...].squeeze()\n",
    "obs_t850=obs[1,...].squeeze()\n",
    "\n",
    "pred=np.asarray(preds.to_array(), dtype=np.float32).squeeze();\n",
    "pred_z500=pred[0,...].squeeze() \n",
    "pred_t850=pred[1,...].squeeze() \n",
    "\n",
    "mask=np.ones(obs_z500.shape) #useless\n",
    "# feed into rankz function\n",
    "result = rankz(obs_z500, pred_z500, mask)\n",
    "# plot histogram\n",
    "plt.bar(range(1,pred_z500.shape[0]+2), result[0])\n",
    "# view histogram\n",
    "plt.show() #Definitely bad. maybe because too few observations or beacuse of bad implementation"
   ]
  },
  {
   "cell_type": "code",
   "execution_count": 240,
   "metadata": {},
   "outputs": [
    {
     "data": {
      "image/png": "[encoded data removed]",
      "text/plain": [
       "<Figure size 432x288 with 1 Axes>"
      ]
     },
     "metadata": {
      "needs_background": "light"
     },
     "output_type": "display_data"
    }
   ],
   "source": [
    "result = rankz(obs_t850, pred_t850, mask)\n",
    "plt.bar(range(1,pred_t850.shape[0]+2), result[0])\n",
    "plt.show() "
   ]
  },
  {
   "cell_type": "code",
   "execution_count": 241,
   "metadata": {},
   "outputs": [
    {
     "name": "stdout",
     "output_type": "stream",
     "text": [
      "(32, 32, 64)\n"
     ]
    },
    {
     "data": {
      "text/plain": [
       "(100, 32, 32, 64)"
      ]
     },
     "execution_count": 241,
     "metadata": {},
     "output_type": "execute_result"
    }
   ],
   "source": [
    "print(obs_t850.shape)\n",
    "pred_t850.shape"
   ]
  },
  {
   "cell_type": "code",
   "execution_count": 234,
   "metadata": {
    "scrolled": true
   },
   "outputs": [
    {
     "data": {
      "image/png": "[encoded data removed]",
      "text/plain": [
       "<Figure size 432x288 with 1 Axes>"
      ]
     },
     "metadata": {
      "needs_background": "light"
     },
     "output_type": "display_data"
    }
   ],
   "source": [
    "#sanity check: for a random sample\n",
    "obs = np.random.randn(10, 40, 40)\n",
    "ensemble = np.random.randn(20, 10, 40, 40)\n",
    "mask = np.random.randint(0, 2, (10, 40, 40)) #masked where 0/false.\n",
    "# feed into rankz function\n",
    "result = rankz(obs, ensemble, mask)\n",
    "# plot histogram\n",
    "plt.bar(range(1,ensemble.shape[0]+2), result[0])\n",
    "# view histogram\n",
    "plt.show()"
   ]
  },
  {
   "cell_type": "code",
   "execution_count": 274,
   "metadata": {},
   "outputs": [
    {
     "name": "stdout",
     "output_type": "stream",
     "text": [
      "(32, 3)\n",
      "(100, 32, 3)\n",
      "(32, 3)\n"
     ]
    },
    {
     "data": {
      "image/png": "[encoded data removed]",
      "text/plain": [
       "<Figure size 432x288 with 1 Axes>"
      ]
     },
     "metadata": {
      "needs_background": "light"
     },
     "output_type": "display_data"
    }
   ],
   "source": [
    "#testing for only few points\n",
    "obs_small=obs_z500[:,15:18,0].squeeze()\n",
    "pred_small=pred_z500[:,:,15:18,0]\n",
    "mask=np.ones(obs_small.shape).squeeze()\n",
    "print(obs_small.shape)\n",
    "print(pred_small.shape)\n",
    "print(mask.shape)\n",
    "\n",
    "result = rankz(obs_small, pred_small, mask)\n",
    "plt.bar(range(1,pred_small.shape[0]+2), result[0])\n",
    "plt.show()"
   ]
  },
  {
   "cell_type": "code",
   "execution_count": 277,
   "metadata": {},
   "outputs": [
    {
     "name": "stdout",
     "output_type": "stream",
     "text": [
      "(32, 32, 64)\n",
      "(10, 32, 32, 64)\n",
      "(32, 32, 64)\n"
     ]
    },
    {
     "data": {
      "image/png": "[encoded data removed]",
      "text/plain": [
       "<Figure size 432x288 with 1 Axes>"
      ]
     },
     "metadata": {
      "needs_background": "light"
     },
     "output_type": "display_data"
    }
   ],
   "source": [
    "#testing for smaller number of bins (i.e. forecasts)\n",
    "obs_small=obs_z500[:,:,:].squeeze()\n",
    "pred_small=pred_z500[0:10,:,:,:]\n",
    "mask=np.ones(obs_small.shape).squeeze()\n",
    "print(obs_small.shape)\n",
    "print(pred_small.shape)\n",
    "print(mask.shape)\n",
    "\n",
    "result = rankz(obs_small, pred_small, mask)\n",
    "plt.bar(range(1,pred_small.shape[0]+2), result[0])\n",
    "plt.show() #still bad. same shape."
   ]
  },
  {
   "cell_type": "code",
   "execution_count": null,
   "metadata": {},
   "outputs": [],
   "source": []
  }
 ],
 "metadata": {
  "kernelspec": {
   "display_name": "Python 3",
   "language": "python",
   "name": "python3"
  },
  "language_info": {
   "codemirror_mode": {
    "name": "ipython",
    "version": 3
   },
   "file_extension": ".py",
   "mimetype": "text/x-python",
   "name": "python",
   "nbconvert_exporter": "python",
   "pygments_lexer": "ipython3",
   "version": "3.7.3"
  }
 },
 "nbformat": 4,
 "nbformat_minor": 4
}
