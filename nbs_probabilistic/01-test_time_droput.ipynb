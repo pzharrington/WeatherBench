{
 "cells": [
  {
   "cell_type": "markdown",
   "metadata": {},
   "source": [
    "# Test-time dropout script\n",
    "\n",
    "The goal is to develop a function with a command line interface that takes a trained model with dropout and returns an ensemble prediction, so I imagine something like:\n",
    "\n",
    "```\n",
    "python create_dropout_ensemble.py --exp_id 44-resnet_deeper2 --members 100 ...\n",
    "```\n",
    "\n",
    "The script should return and save a xarray dataset just like `create_prediction` but with an added dimension `ens_member`.\n",
    "\n",
    "You basically already did the work in the starter exercise I gave you. You can also check out my solution. Now it's just a matter of creating a convenient script. For examples of command line scripts I wrote, check out `src/extract_level.py` using `argparse` or `scripts/download_tigge.py` using Google's `fire`. Also, see whether your or my method of implementing the test-time dropout is more convenient. Whatever requires fewer changes to the rest of the code (probably yours).\n",
    "\n",
    "As mentioned in the WeatherBench paper, testing is done using the years 2017 and 2018. This means the ensemble predictions also have to be created for these two years. The data can be downloaded here: https://mediatum.ub.tum.de/1524895. However, the files, which contain all years, are quite large, so you probably don't want to download it to your laptop. I uploaded just the last two years for each variable here: To come...\n",
    "\n",
    "Next, you need a trained model. I number my experiments (see Dropbox document). You can find two different models in the link above. \n",
    "\n",
    "As mentioned in the Dropbox document, I would suggest developing the main function in the notebook. Once that works, you can create a CLI around it and save the script. \n",
    "\n",
    "Also, let's use `tensorflow>=2.0`."
   ]
  },
  {
   "cell_type": "markdown",
   "metadata": {},
   "source": [
    "To Do:\n",
    "get data for 2017, 18 in test/. right now just for 17\n",
    "python run_ensemble.py --input dg_test --exp_id resent --members 100\n",
    "    "
   ]
  },
  {
   "cell_type": "code",
   "execution_count": 1,
   "metadata": {},
   "outputs": [],
   "source": [
    "# Here is a useful tip: Using autoreload allows you to make changes to an imported module\n",
    "# which are then automatically updated in this notebook. This is how I start all my notebooks.\n",
    "%load_ext autoreload\n",
    "%autoreload 2 # Every two seconds"
   ]
  },
  {
   "cell_type": "code",
   "execution_count": 2,
   "metadata": {},
   "outputs": [
    {
     "name": "stderr",
     "output_type": "stream",
     "text": [
      "/anaconda3/lib/python3.7/site-packages/dask/config.py:168: YAMLLoadWarning: calling yaml.load() without Loader=... is deprecated, as the default Loader is unsafe. Please read https://msg.pyyaml.org/load for full details.\n",
      "  data = yaml.load(f.read()) or {}\n",
      "/anaconda3/lib/python3.7/site-packages/distributed/config.py:20: YAMLLoadWarning: calling yaml.load() without Loader=... is deprecated, as the default Loader is unsafe. Please read https://msg.pyyaml.org/load for full details.\n",
      "  defaults = yaml.load(f)\n",
      "/anaconda3/lib/python3.7/site-packages/tensorflow/python/framework/dtypes.py:516: FutureWarning: Passing (type, 1) or '1type' as a synonym of type is deprecated; in a future version of numpy, it will be understood as (type, (1,)) / '(1,)type'.\n",
      "  _np_qint8 = np.dtype([(\"qint8\", np.int8, 1)])\n",
      "/anaconda3/lib/python3.7/site-packages/tensorflow/python/framework/dtypes.py:517: FutureWarning: Passing (type, 1) or '1type' as a synonym of type is deprecated; in a future version of numpy, it will be understood as (type, (1,)) / '(1,)type'.\n",
      "  _np_quint8 = np.dtype([(\"quint8\", np.uint8, 1)])\n",
      "/anaconda3/lib/python3.7/site-packages/tensorflow/python/framework/dtypes.py:518: FutureWarning: Passing (type, 1) or '1type' as a synonym of type is deprecated; in a future version of numpy, it will be understood as (type, (1,)) / '(1,)type'.\n",
      "  _np_qint16 = np.dtype([(\"qint16\", np.int16, 1)])\n",
      "/anaconda3/lib/python3.7/site-packages/tensorflow/python/framework/dtypes.py:519: FutureWarning: Passing (type, 1) or '1type' as a synonym of type is deprecated; in a future version of numpy, it will be understood as (type, (1,)) / '(1,)type'.\n",
      "  _np_quint16 = np.dtype([(\"quint16\", np.uint16, 1)])\n",
      "/anaconda3/lib/python3.7/site-packages/tensorflow/python/framework/dtypes.py:520: FutureWarning: Passing (type, 1) or '1type' as a synonym of type is deprecated; in a future version of numpy, it will be understood as (type, (1,)) / '(1,)type'.\n",
      "  _np_qint32 = np.dtype([(\"qint32\", np.int32, 1)])\n",
      "/anaconda3/lib/python3.7/site-packages/tensorflow/python/framework/dtypes.py:525: FutureWarning: Passing (type, 1) or '1type' as a synonym of type is deprecated; in a future version of numpy, it will be understood as (type, (1,)) / '(1,)type'.\n",
      "  np_resource = np.dtype([(\"resource\", np.ubyte, 1)])\n",
      "/anaconda3/lib/python3.7/site-packages/tensorboard/compat/tensorflow_stub/dtypes.py:541: FutureWarning: Passing (type, 1) or '1type' as a synonym of type is deprecated; in a future version of numpy, it will be understood as (type, (1,)) / '(1,)type'.\n",
      "  _np_qint8 = np.dtype([(\"qint8\", np.int8, 1)])\n",
      "/anaconda3/lib/python3.7/site-packages/tensorboard/compat/tensorflow_stub/dtypes.py:542: FutureWarning: Passing (type, 1) or '1type' as a synonym of type is deprecated; in a future version of numpy, it will be understood as (type, (1,)) / '(1,)type'.\n",
      "  _np_quint8 = np.dtype([(\"quint8\", np.uint8, 1)])\n",
      "/anaconda3/lib/python3.7/site-packages/tensorboard/compat/tensorflow_stub/dtypes.py:543: FutureWarning: Passing (type, 1) or '1type' as a synonym of type is deprecated; in a future version of numpy, it will be understood as (type, (1,)) / '(1,)type'.\n",
      "  _np_qint16 = np.dtype([(\"qint16\", np.int16, 1)])\n",
      "/anaconda3/lib/python3.7/site-packages/tensorboard/compat/tensorflow_stub/dtypes.py:544: FutureWarning: Passing (type, 1) or '1type' as a synonym of type is deprecated; in a future version of numpy, it will be understood as (type, (1,)) / '(1,)type'.\n",
      "  _np_quint16 = np.dtype([(\"quint16\", np.uint16, 1)])\n",
      "/anaconda3/lib/python3.7/site-packages/tensorboard/compat/tensorflow_stub/dtypes.py:545: FutureWarning: Passing (type, 1) or '1type' as a synonym of type is deprecated; in a future version of numpy, it will be understood as (type, (1,)) / '(1,)type'.\n",
      "  _np_qint32 = np.dtype([(\"qint32\", np.int32, 1)])\n",
      "/anaconda3/lib/python3.7/site-packages/tensorboard/compat/tensorflow_stub/dtypes.py:550: FutureWarning: Passing (type, 1) or '1type' as a synonym of type is deprecated; in a future version of numpy, it will be understood as (type, (1,)) / '(1,)type'.\n",
      "  np_resource = np.dtype([(\"resource\", np.ubyte, 1)])\n"
     ]
    },
    {
     "name": "stdout",
     "output_type": "stream",
     "text": [
      "WARNING:tensorflow:From /Users/sagar/Library/Mobile Documents/com~apple~CloudDocs/studies/WeatherBench/Testing_WeatherBench/nbs_probabilistic/src/networks.py:3: The name tf.keras.layers.CuDNNGRU is deprecated. Please use tf.compat.v1.keras.layers.CuDNNGRU instead.\n",
      "\n",
      "WARNING:tensorflow:From /Users/sagar/Library/Mobile Documents/com~apple~CloudDocs/studies/WeatherBench/Testing_WeatherBench/nbs_probabilistic/src/networks.py:3: The name tf.keras.layers.CuDNNLSTM is deprecated. Please use tf.compat.v1.keras.layers.CuDNNLSTM instead.\n",
      "\n"
     ]
    }
   ],
   "source": [
    "from fire import Fire\n",
    "#!pip install xesmf\n",
    "import argparse\n",
    "import xarray as xr\n",
    "import numpy as np\n",
    "import xesmf as xe\n",
    "from glob import glob\n",
    "import os\n",
    "from src.data_generator import *\n",
    "from src.train import *"
   ]
  },
  {
   "cell_type": "code",
   "execution_count": 15,
   "metadata": {},
   "outputs": [],
   "source": [
    "args = load_args('../nn_configs/B/54-resnet_d2_new_levs.yml')"
   ]
  },
  {
   "cell_type": "code",
   "execution_count": 22,
   "metadata": {},
   "outputs": [],
   "source": [
    "args['datadir']= '/Users/sagar/Library/Mobile\\ Documents/com~apple~CloudDocs/studies/WeatherBench/Testing_WeatherBench/5.625deg/'\n",
    "#args['model_save_dir']= '/Users/sagar/Library/Mobile\\ Documents/com~apple~CloudDocs/studies/WeatherBench/Testing_WeatherBench/predictions/saved_models/'\n",
    "args['pred_save_dir']= '/Users/sagar/Library/Mobile\\ Documents/com~apple~CloudDocs/studies/WeatherBench/Testing_WeatherBench/predictions/'\n",
    "args['pretrained_model']='/Users/sagar/Library/Mobile\\ Documents/com~apple~CloudDocs/studies/WeatherBench/Testing_WeatherBench/predictions/saved_models/'"
   ]
  },
  {
   "cell_type": "code",
   "execution_count": 19,
   "metadata": {},
   "outputs": [],
   "source": [
    "args['test_years'] = ['2017', '2018']"
   ]
  },
  {
   "cell_type": "code",
   "execution_count": 25,
   "metadata": {},
   "outputs": [
    {
     "data": {
      "text/plain": [
       "5"
      ]
     },
     "execution_count": 25,
     "metadata": {},
     "output_type": "execute_result"
    }
   ],
   "source": []
  },
  {
   "cell_type": "code",
   "execution_count": 4,
   "metadata": {},
   "outputs": [],
   "source": [
    "def main(dg_test, network_type, model_id, forecast_number):\n",
    "    '''\n",
    "    #inputs needed: dg_test (should we instead use a numpy array X?),filters, kernels, nt_in, bn_position, use_bias, skip, dropout\n",
    "    #(for unet: input_shape, n_layers, filters_start, channels_out, kernel, u_ski, res_skip, \n",
    "    #directory of model weights\n",
    "    #output directory\n",
    "    #forecast_number: number of forecasts per input time.\n",
    "    '''\n",
    "    \n",
    "    args = load_args('../nn_configs/B/54-resnet_d2_new_levs.yml')\n",
    "    \n",
    "    #check for network_type (see networks.py), build network\n",
    "    if network_type == 'resnet':\n",
    "            model = build_resnet(\n",
    "                filters, kernels, input_shape=(\n",
    "            len(dg_test.data.lat), len(dg_test.data.lon), len(dg_test.data.level) * nt_in),\n",
    "                bn_position=bn_position, use_bias=use_bias, l2=l2, skip=skip,\n",
    "                dropout=dropout\n",
    "            )\n",
    "    elif network_type == 'unet_google':\n",
    "            model = build_unet_google(\n",
    "                filters,\n",
    "                input_shape=(len(dg_test.data.lat), len(dg_test.data.lon),len(dg_test.data.level) * nt_in),\n",
    "                output_channels=len(dg_test.output_idxs),\n",
    "                dropout=dropout\n",
    "            )\n",
    "#     elif network_type == 'unet': #dont know if this works.\n",
    "#             model = build_unet(input_shape, n_layers, filters_start, channels_out, kernel=3, u_skip=True,\n",
    "#                res_skip=True, l2=0, bn_position=None, dropout=0):"
   ]
  },
  {
   "cell_type": "code",
   "execution_count": null,
   "metadata": {},
   "outputs": [],
   "source": []
  }
 ],
 "metadata": {
  "kernelspec": {
   "display_name": "Python 3",
   "language": "python",
   "name": "python3"
  },
  "language_info": {
   "codemirror_mode": {
    "name": "ipython",
    "version": 3
   },
   "file_extension": ".py",
   "mimetype": "text/x-python",
   "name": "python",
   "nbconvert_exporter": "python",
   "pygments_lexer": "ipython3",
   "version": "3.7.3"
  }
 },
 "nbformat": 4,
 "nbformat_minor": 4
}
