{
 "cells": [
  {
   "cell_type": "markdown",
   "metadata": {},
   "source": [
    "# Test-time dropout script\n",
    "\n",
    "The goal is to develop a function with a command line interface that takes a trained model with dropout and returns an ensemble prediction, so I imagine something like:\n",
    "\n",
    "```\n",
    "python create_dropout_ensemble.py --exp_id 44-resnet_deeper2 --members 100 ...\n",
    "```\n",
    "\n",
    "The script should return and save a xarray dataset just like `create_prediction` but with an added dimension `ens_member`.\n",
    "\n",
    "You basically already did the work in the starter exercise I gave you. You can also check out my solution. Now it's just a matter of creating a convenient script. For examples of command line scripts I wrote, check out `src/extract_level.py` using `argparse` or `scripts/download_tigge.py` using Google's `fire`. Also, see whether your or my method of implementing the test-time dropout is more convenient. Whatever requires fewer changes to the rest of the code (probably yours).\n",
    "\n",
    "As mentioned in the WeatherBench paper, testing is done using the years 2017 and 2018. This means the ensemble predictions also have to be created for these two years. The data can be downloaded here: https://mediatum.ub.tum.de/1524895. However, the files, which contain all years, are quite large, so you probably don't want to download it to your laptop. I uploaded just the last two years for each variable here: To come...\n",
    "\n",
    "Next, you need a trained model. I number my experiments (see Dropbox document). You can find two different models in the link above. \n",
    "\n",
    "As mentioned in the Dropbox document, I would suggest developing the main function in the notebook. Once that works, you can create a CLI around it and save the script. \n",
    "\n",
    "Also, let's use `tensorflow>=2.0`."
   ]
  },
  {
   "cell_type": "code",
   "execution_count": null,
   "metadata": {},
   "outputs": [],
   "source": [
    "# Here is a useful tip: Using autoreload allows you to make changes to an imported module\n",
    "# which are then automatically updated in this notebook. This is how I start all my notebooks.\n",
    "%load_ext autoreload\n",
    "%autoreload 2 # Every two seconds"
   ]
  }
 ],
 "metadata": {
  "kernelspec": {
   "display_name": "Python 3",
   "language": "python",
   "name": "python3"
  },
  "language_info": {
   "codemirror_mode": {
    "name": "ipython",
    "version": 3
   },
   "file_extension": ".py",
   "mimetype": "text/x-python",
   "name": "python",
   "nbconvert_exporter": "python",
   "pygments_lexer": "ipython3",
   "version": "3.7.4"
  }
 },
 "nbformat": 4,
 "nbformat_minor": 4
}
