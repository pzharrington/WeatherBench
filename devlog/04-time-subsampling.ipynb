{
 "cells": [
  {
   "cell_type": "markdown",
   "metadata": {
    "Collapsed": "false"
   },
   "source": [
    "# Test whether 1h data is needed"
   ]
  },
  {
   "cell_type": "code",
   "execution_count": 5,
   "metadata": {
    "Collapsed": "false"
   },
   "outputs": [],
   "source": [
    "%load_ext autoreload\n",
    "%autoreload 2"
   ]
  },
  {
   "cell_type": "code",
   "execution_count": 7,
   "metadata": {
    "Collapsed": "false"
   },
   "outputs": [],
   "source": [
    "from src.score import *\n",
    "# from src.train_nn import *\n",
    "import matplotlib.pyplot as plt"
   ]
  },
  {
   "cell_type": "code",
   "execution_count": 8,
   "metadata": {
    "Collapsed": "false"
   },
   "outputs": [],
   "source": [
    "datadir = '/data/stephan/WeatherBench/5.625deg/'\n",
    "var_dict = {'geopotential': ('z', [500]), 'temperature': ('t', [850])}\n",
    "output_vars = None\n",
    "filters = [64, 64, 64, 64, 2]\n",
    "kernels = [5, 5, 5, 5, 5]\n",
    "lead_time = 72\n",
    "batch_size = 128\n",
    "activation = 'elu'"
   ]
  },
  {
   "cell_type": "markdown",
   "metadata": {
    "Collapsed": "false"
   },
   "source": [
    "## New data generator"
   ]
  },
  {
   "cell_type": "code",
   "execution_count": 4,
   "metadata": {
    "Collapsed": "false"
   },
   "outputs": [],
   "source": [
    "ds = xr.merge([xr.open_mfdataset(f'{datadir}/{var}/*.nc', combine='by_coords') for var in var_dict.keys()])"
   ]
  },
  {
   "cell_type": "code",
   "execution_count": 5,
   "metadata": {
    "Collapsed": "false"
   },
   "outputs": [],
   "source": [
    "ds_train = ds.sel(time=slice('1979', '2015'))\n",
    "ds_valid = ds.sel(time=slice('2016', '2016'))\n",
    "ds_test = ds.sel(time=slice('2017', '2018'))"
   ]
  },
  {
   "cell_type": "code",
   "execution_count": 6,
   "metadata": {
    "Collapsed": "false"
   },
   "outputs": [
    {
     "data": {
      "text/plain": [
       "<xarray.Dataset>\n",
       "Dimensions:  (lat: 32, level: 11, lon: 64, time: 324336)\n",
       "Coordinates:\n",
       "  * lat      (lat) float64 -87.19 -81.56 -75.94 -70.31 ... 75.94 81.56 87.19\n",
       "  * level    (level) int32 1 10 100 200 300 400 500 600 700 850 1000\n",
       "  * lon      (lon) float64 0.0 5.625 11.25 16.88 ... 337.5 343.1 348.8 354.4\n",
       "  * time     (time) datetime64[ns] 1979-01-01 ... 2015-12-31T23:00:00\n",
       "Data variables:\n",
       "    z        (time, level, lat, lon) float32 dask.array<chunksize=(8760, 11, 32, 64), meta=np.ndarray>\n",
       "    t        (time, level, lat, lon) float32 dask.array<chunksize=(8760, 11, 32, 64), meta=np.ndarray>"
      ]
     },
     "execution_count": 6,
     "metadata": {},
     "output_type": "execute_result"
    }
   ],
   "source": [
    "ds_train"
   ]
  },
  {
   "cell_type": "code",
   "execution_count": 18,
   "metadata": {
    "Collapsed": "false"
   },
   "outputs": [],
   "source": [
    "dt = ds_train.time.diff('time')[0].values / np.timedelta64(1, 'h')"
   ]
  },
  {
   "cell_type": "code",
   "execution_count": 21,
   "metadata": {
    "Collapsed": "false"
   },
   "outputs": [
    {
     "data": {
      "text/plain": [
       "True"
      ]
     },
     "execution_count": 21,
     "metadata": {},
     "output_type": "execute_result"
    }
   ],
   "source": [
    "dt.is_integer()"
   ]
  },
  {
   "cell_type": "code",
   "execution_count": 22,
   "metadata": {
    "Collapsed": "false"
   },
   "outputs": [
    {
     "data": {
      "text/plain": [
       "12.0"
      ]
     },
     "execution_count": 22,
     "metadata": {},
     "output_type": "execute_result"
    }
   ],
   "source": [
    " 72 /6"
   ]
  },
  {
   "cell_type": "code",
   "execution_count": 30,
   "metadata": {
    "Collapsed": "false"
   },
   "outputs": [],
   "source": [
    "class DataGenerator(keras.utils.Sequence):\n",
    "    def __init__(self, ds, var_dict, lead_time, batch_size=32, shuffle=True, load=True,\n",
    "                 mean=None, std=None, output_vars=None, data_subsample=1, norm_subsample=1):\n",
    "        \"\"\"\n",
    "        Data generator for WeatherBench data.\n",
    "        Template from https://stanford.edu/~shervine/blog/keras-how-to-generate-data-on-the-fly\n",
    "        Args:\n",
    "            ds: Dataset containing all variables\n",
    "            var_dict: Dictionary of the form {'var': level}. Use None for level if data is of single level\n",
    "            lead_time: Lead time in hours\n",
    "            batch_size: Batch size\n",
    "            shuffle: bool. If True, data is shuffled.\n",
    "            load: bool. If True, datadet is loaded into RAM.\n",
    "            mean: If None, compute mean from data.\n",
    "            std: If None, compute standard deviation from data.\n",
    "        \"\"\"\n",
    "        print('DG start', datetime.datetime.now().time())\n",
    "        self.ds = ds\n",
    "        self.var_dict = var_dict\n",
    "        self.batch_size = batch_size\n",
    "        self.shuffle = shuffle\n",
    "        self.lead_time = lead_time\n",
    "\n",
    "        data = []\n",
    "        level_names = []\n",
    "        generic_level = xr.DataArray([1], coords={'level': [1]}, dims=['level'])\n",
    "        for long_var, params in var_dict.items():\n",
    "            if long_var == 'constants':\n",
    "                for var in params:\n",
    "                    data.append(ds[var].expand_dims(\n",
    "                        {'level': generic_level, 'time': ds.time}, (1, 0)\n",
    "                    ))\n",
    "                    level_names.append(var)\n",
    "            else:\n",
    "                var, levels = params\n",
    "                try:\n",
    "                    data.append(ds[var].sel(level=levels))\n",
    "                    level_names += [f'{var}_{level}' for level in levels]\n",
    "                except ValueError:\n",
    "                    data.append(ds[var].expand_dims({'level': generic_level}, 1))\n",
    "                    level_names.append(var)\n",
    "\n",
    "        self.data = xr.concat(data, 'level').transpose('time', 'lat', 'lon', 'level')\n",
    "        self.data['level_names'] = xr.DataArray(\n",
    "            level_names, dims=['level'], coords={'level': self.data.level})\n",
    "        if output_vars is None:\n",
    "            self.output_idxs = range(len(self.data.level))\n",
    "        else:\n",
    "            self.output_idxs = [i for i, l in enumerate(self.data.level_names.values)\n",
    "                                if any([bool(re.match(o, l)) for o in output_vars])]\n",
    "        \n",
    "        # Subsample\n",
    "        self.data = self.data.isel(time=slice(0, None, data_subsample))\n",
    "        self.dt = self.data.time.diff('time')[0].values / np.timedelta64(1, 'h')\n",
    "        assert (self.lead_time / self.dt).is_integer(), \"lead_time and dt not compatible.\"\n",
    "        self.nt = int(self.lead_time / self.dt)\n",
    "        \n",
    "        # Normalize\n",
    "        print('DG normalize', datetime.datetime.now().time())\n",
    "        self.mean = self.data.isel(time=slice(0, None, norm_subsample)).mean(\n",
    "            ('time', 'lat', 'lon')).compute() if mean is None else mean\n",
    "        #         self.std = self.data.std('time').mean(('lat', 'lon')).compute() if std is None else std\n",
    "        self.std = self.data.isel(time=slice(0, None, norm_subsample)).std(\n",
    "            ('time', 'lat', 'lon')).compute() if std is None else std\n",
    "        self.data = (self.data - self.mean) / self.std\n",
    "\n",
    "        self.n_samples = self.data.isel(time=slice(0, -self.nt)).shape[0]\n",
    "        self.init_time = self.data.isel(time=slice(0, -self.nt)).time\n",
    "        self.valid_time = self.data.isel(time=slice(self.nt, None)).time\n",
    "\n",
    "        self.on_epoch_end()\n",
    "\n",
    "        # For some weird reason calling .load() earlier messes up the mean and std computations\n",
    "        print('DG load', datetime.datetime.now().time())\n",
    "        if load: print('Loading data into RAM'); self.data.load()\n",
    "        print('DG done', datetime.datetime.now().time())\n",
    "\n",
    "    def __len__(self):\n",
    "        'Denotes the number of batches per epoch'\n",
    "        return int(np.ceil(self.n_samples / self.batch_size))\n",
    "\n",
    "    def __getitem__(self, i):\n",
    "        'Generate one batch of data'\n",
    "        idxs = self.idxs[i * self.batch_size:(i + 1) * self.batch_size]\n",
    "        X = self.data.isel(time=idxs).values\n",
    "        y = self.data.isel(time=idxs + self.nt, level=self.output_idxs).values\n",
    "        return X, y\n",
    "\n",
    "    def on_epoch_end(self):\n",
    "        'Updates indexes after each epoch'\n",
    "        self.idxs = np.arange(self.n_samples)\n",
    "        if self.shuffle == True:\n",
    "            np.random.shuffle(self.idxs)"
   ]
  },
  {
   "cell_type": "code",
   "execution_count": 31,
   "metadata": {
    "Collapsed": "false"
   },
   "outputs": [
    {
     "name": "stdout",
     "output_type": "stream",
     "text": [
      "DG start 09:58:17.796737\n",
      "DG normalize 09:58:17.817060\n",
      "DG load 09:58:20.850457\n",
      "Loading data into RAM\n",
      "DG done 09:58:39.789801\n",
      "DG start 09:58:39.790622\n",
      "DG normalize 09:58:39.799591\n",
      "DG load 09:58:39.806914\n",
      "Loading data into RAM\n",
      "DG done 09:58:40.434889\n",
      "DG start 09:58:40.435710\n",
      "DG normalize 09:58:40.445164\n",
      "DG load 09:58:40.451914\n",
      "Loading data into RAM\n",
      "DG done 09:58:41.553692\n",
      "Mean = <xarray.DataArray 'z' (level: 2)>\n",
      "array([54098.188  ,   274.42715], dtype=float32)\n",
      "Coordinates:\n",
      "  * level        (level) int64 500 850\n",
      "    level_names  (level) <U5 'z_500' 't_850'; Std = <xarray.DataArray 'z' (level: 2)>\n",
      "array([3336.1562  ,   15.807501], dtype=float32)\n",
      "Coordinates:\n",
      "  * level        (level) int64 500 850\n",
      "    level_names  (level) <U5 'z_500' 't_850'\n"
     ]
    }
   ],
   "source": [
    "dg_train = DataGenerator(ds_train, var_dict, lead_time, batch_size=batch_size, \n",
    "                         output_vars=output_vars, data_subsample=6, norm_subsample=20000)\n",
    "dg_valid = DataGenerator(ds_valid, var_dict, lead_time, batch_size=batch_size, mean=dg_train.mean,\n",
    "                         std=dg_train.std, shuffle=False, output_vars=output_vars)\n",
    "dg_test =  DataGenerator(ds_test, var_dict, lead_time, batch_size=batch_size, mean=dg_train.mean,\n",
    "                         std=dg_train.std, shuffle=False, output_vars=output_vars)\n",
    "print(f'Mean = {dg_train.mean}; Std = {dg_train.std}')"
   ]
  },
  {
   "cell_type": "code",
   "execution_count": 33,
   "metadata": {
    "Collapsed": "false"
   },
   "outputs": [],
   "source": [
    "X, y = dg_train[0]"
   ]
  },
  {
   "cell_type": "code",
   "execution_count": 36,
   "metadata": {
    "Collapsed": "false",
    "collapsed": true,
    "jupyter": {
     "outputs_hidden": true
    }
   },
   "outputs": [
    {
     "data": {
      "text/plain": [
       "<matplotlib.image.AxesImage at 0x7ff091334b70>"
      ]
     },
     "execution_count": 36,
     "metadata": {},
     "output_type": "execute_result"
    },
    {
     "data": {
      "image/png": "[encoded data removed]",
      "text/plain": [
       "<Figure size 576x288 with 1 Axes>"
      ]
     },
     "metadata": {
      "needs_background": "light"
     },
     "output_type": "display_data"
    }
   ],
   "source": [
    "plt.matshow(X[0, :, :, 0])"
   ]
  },
  {
   "cell_type": "code",
   "execution_count": 37,
   "metadata": {
    "Collapsed": "false",
    "collapsed": true,
    "jupyter": {
     "outputs_hidden": true
    }
   },
   "outputs": [
    {
     "data": {
      "text/plain": [
       "<matplotlib.image.AxesImage at 0x7ff0912d6128>"
      ]
     },
     "execution_count": 37,
     "metadata": {},
     "output_type": "execute_result"
    },
    {
     "data": {
      "image/png": "[encoded data removed]",
      "text/plain": [
       "<Figure size 576x288 with 1 Axes>"
      ]
     },
     "metadata": {
      "needs_background": "light"
     },
     "output_type": "display_data"
    }
   ],
   "source": [
    "plt.matshow(y[0, :, :, 0])"
   ]
  },
  {
   "cell_type": "code",
   "execution_count": 38,
   "metadata": {
    "Collapsed": "false",
    "collapsed": true,
    "jupyter": {
     "outputs_hidden": true
    }
   },
   "outputs": [
    {
     "name": "stderr",
     "output_type": "stream",
     "text": [
      "[autoreload of h5py failed: Traceback (most recent call last):\n",
      "  File \"/home/stephan/miniconda3/lib/python3.6/site-packages/IPython/extensions/autoreload.py\", line 245, in check\n",
      "    superreload(m, reload, self.old_objects)\n",
      "  File \"/home/stephan/miniconda3/lib/python3.6/site-packages/IPython/extensions/autoreload.py\", line 394, in superreload\n",
      "    module = reload(module)\n",
      "  File \"/home/stephan/miniconda3/lib/python3.6/imp.py\", line 315, in reload\n",
      "    return importlib.reload(module)\n",
      "  File \"/home/stephan/miniconda3/lib/python3.6/importlib/__init__.py\", line 166, in reload\n",
      "    _bootstrap._exec(spec, module)\n",
      "  File \"<frozen importlib._bootstrap>\", line 618, in _exec\n",
      "  File \"<frozen importlib._bootstrap_external>\", line 678, in exec_module\n",
      "  File \"<frozen importlib._bootstrap>\", line 219, in _call_with_frames_removed\n",
      "  File \"/home/stephan/miniconda3/lib/python3.6/site-packages/h5py/__init__.py\", line 55, in <module>\n",
      "    from . import h5a, h5d, h5ds, h5f, h5fd, h5g, h5r, h5s, h5t, h5p, h5z, h5pl\n",
      "  File \"h5py/h5pl.pyx\", line 1, in init h5py.h5pl\n",
      "ImportError: h5py.defs does not export expected C function H5PLappend\n",
      "]\n",
      "[autoreload of h5py._hl.files failed: Traceback (most recent call last):\n",
      "  File \"/home/stephan/miniconda3/lib/python3.6/site-packages/IPython/extensions/autoreload.py\", line 245, in check\n",
      "    superreload(m, reload, self.old_objects)\n",
      "  File \"/home/stephan/miniconda3/lib/python3.6/site-packages/IPython/extensions/autoreload.py\", line 394, in superreload\n",
      "    module = reload(module)\n",
      "  File \"/home/stephan/miniconda3/lib/python3.6/imp.py\", line 315, in reload\n",
      "    return importlib.reload(module)\n",
      "  File \"/home/stephan/miniconda3/lib/python3.6/importlib/__init__.py\", line 166, in reload\n",
      "    _bootstrap._exec(spec, module)\n",
      "  File \"<frozen importlib._bootstrap>\", line 618, in _exec\n",
      "  File \"<frozen importlib._bootstrap_external>\", line 678, in exec_module\n",
      "  File \"<frozen importlib._bootstrap>\", line 219, in _call_with_frames_removed\n",
      "  File \"/home/stephan/miniconda3/lib/python3.6/site-packages/h5py/_hl/files.py\", line 41, in <module>\n",
      "    libver_dict.update({'v108': h5f.LIBVER_V18, 'v110': h5f.LIBVER_V110})\n",
      "AttributeError: module 'h5py.h5f' has no attribute 'LIBVER_V18'\n",
      "]\n",
      "[autoreload of netCDF4 failed: Traceback (most recent call last):\n",
      "  File \"/home/stephan/miniconda3/lib/python3.6/site-packages/IPython/extensions/autoreload.py\", line 245, in check\n",
      "    superreload(m, reload, self.old_objects)\n",
      "  File \"/home/stephan/miniconda3/lib/python3.6/site-packages/IPython/extensions/autoreload.py\", line 394, in superreload\n",
      "    module = reload(module)\n",
      "  File \"/home/stephan/miniconda3/lib/python3.6/imp.py\", line 315, in reload\n",
      "    return importlib.reload(module)\n",
      "  File \"/home/stephan/miniconda3/lib/python3.6/importlib/__init__.py\", line 166, in reload\n",
      "    _bootstrap._exec(spec, module)\n",
      "  File \"<frozen importlib._bootstrap>\", line 618, in _exec\n",
      "  File \"<frozen importlib._bootstrap_external>\", line 678, in exec_module\n",
      "  File \"<frozen importlib._bootstrap>\", line 219, in _call_with_frames_removed\n",
      "  File \"/home/stephan/miniconda3/lib/python3.6/site-packages/netCDF4/__init__.py\", line 6, in <module>\n",
      "    from ._netCDF4 import (__version__, __netcdf4libversion__, __hdf5libversion__,\n",
      "ImportError: cannot import name '__has_nc_create_mem__'\n",
      "]\n"
     ]
    }
   ],
   "source": [
    "model = build_cnn(filters, kernels, input_shape=(32, 64, len(dg_train.data.level)), activation=activation)\n",
    "model.compile(keras.optimizers.Adam(), 'mse')"
   ]
  },
  {
   "cell_type": "code",
   "execution_count": 39,
   "metadata": {
    "Collapsed": "false"
   },
   "outputs": [
    {
     "name": "stdout",
     "output_type": "stream",
     "text": [
      "Epoch 1/1\n",
      "423/423 [==============================] - 33s 79ms/step - loss: 9.8180\n"
     ]
    }
   ],
   "source": [
    "h = model.fit_generator(dg_train, epochs=1)"
   ]
  },
  {
   "cell_type": "code",
   "execution_count": 40,
   "metadata": {
    "Collapsed": "false"
   },
   "outputs": [
    {
     "data": {
      "text/plain": [
       "tensorflow.python.keras.callbacks.History"
      ]
     },
     "execution_count": 40,
     "metadata": {},
     "output_type": "execute_result"
    }
   ],
   "source": [
    "type(h)"
   ]
  },
  {
   "cell_type": "code",
   "execution_count": 41,
   "metadata": {
    "Collapsed": "false"
   },
   "outputs": [
    {
     "data": {
      "text/plain": [
       "<tensorflow.python.keras.callbacks.History at 0x7ff0744357f0>"
      ]
     },
     "execution_count": 41,
     "metadata": {},
     "output_type": "execute_result"
    }
   ],
   "source": [
    "h"
   ]
  },
  {
   "cell_type": "code",
   "execution_count": 43,
   "metadata": {
    "Collapsed": "false"
   },
   "outputs": [
    {
     "data": {
      "text/plain": [
       "[0]"
      ]
     },
     "execution_count": 43,
     "metadata": {},
     "output_type": "execute_result"
    }
   ],
   "source": [
    "h.epoch"
   ]
  },
  {
   "cell_type": "markdown",
   "metadata": {
    "Collapsed": "false"
   },
   "source": [
    "## Compare training"
   ]
  },
  {
   "cell_type": "code",
   "execution_count": 9,
   "metadata": {
    "Collapsed": "false"
   },
   "outputs": [],
   "source": [
    "from src.utils import *"
   ]
  },
  {
   "cell_type": "code",
   "execution_count": 37,
   "metadata": {
    "Collapsed": "false"
   },
   "outputs": [
    {
     "name": "stdout",
     "output_type": "stream",
     "text": [
      "/home/stephan/data/myWeatherBench/predictions/saved_models/01.1-default_no_es_history.pkl\n",
      "/home/stephan/data/myWeatherBench/predictions/saved_models/02-6h_subsample_history.pkl\n",
      "/home/stephan/data/myWeatherBench/predictions/saved_models/03-12h_subsample_history.pkl\n",
      "/home/stephan/data/myWeatherBench/predictions/saved_models/04-36h_subsample_history.pkl\n",
      "/home/stephan/data/myWeatherBench/predictions/saved_models/05-2.5e-4_no_decay_history.pkl\n",
      "/home/stephan/data/myWeatherBench/predictions/saved_models/06-decay_10_5_history.pkl\n",
      "/home/stephan/data/myWeatherBench/predictions/saved_models/test_history.pkl\n"
     ]
    }
   ],
   "source": [
    "!ls /home/stephan/data/myWeatherBench/predictions/saved_models/*hist*"
   ]
  },
  {
   "cell_type": "code",
   "execution_count": 38,
   "metadata": {
    "Collapsed": "false"
   },
   "outputs": [],
   "source": [
    "h01 = read_pickle(\n",
    "    '/home/stephan/data/myWeatherBench/predictions/saved_models/01.1-default_no_es_history.pkl')\n",
    "h02 = read_pickle(\n",
    "    '/home/stephan/data/myWeatherBench/predictions/saved_models/02-6h_subsample_history.pkl')\n",
    "h03 = read_pickle(\n",
    "    '/home/stephan/data/myWeatherBench/predictions/saved_models/03-12h_subsample_history.pkl')\n",
    "h04 = read_pickle(\n",
    "    '/home/stephan/data/myWeatherBench/predictions/saved_models/04-36h_subsample_history.pkl')"
   ]
  },
  {
   "cell_type": "code",
   "execution_count": 39,
   "metadata": {
    "Collapsed": "false"
   },
   "outputs": [],
   "source": [
    "def plot_hist(h, ax=None, ylim=None):\n",
    "    if ax is None: fig, ax = plt.subplots()\n",
    "    ax.plot(h['loss'], label='train')\n",
    "    ax.plot(h['val_loss'], label='valid')\n",
    "    ax.legend()\n",
    "    if ylim is not None: ax.set_ylim(ylim)"
   ]
  },
  {
   "cell_type": "code",
   "execution_count": 40,
   "metadata": {
    "Collapsed": "false"
   },
   "outputs": [
    {
     "data": {
      "image/png": "[encoded data removed]",
      "text/plain": [
       "<Figure size 864x288 with 4 Axes>"
      ]
     },
     "metadata": {
      "needs_background": "light"
     },
     "output_type": "display_data"
    }
   ],
   "source": [
    "fig, axs = plt.subplots(1, 4, figsize=(12, 4))\n",
    "for h, ax in zip([h01, h02, h03, h04], axs):\n",
    "    plot_hist(h, ax, (5, 10))\n",
    "for ax in axs:\n",
    "    pass\n",
    "#     ax.set_yscale('log')"
   ]
  },
  {
   "cell_type": "code",
   "execution_count": 42,
   "metadata": {
    "Collapsed": "false"
   },
   "outputs": [
    {
     "data": {
      "image/png": "[encoded data removed]",
      "text/plain": [
       "<Figure size 432x288 with 1 Axes>"
      ]
     },
     "metadata": {
      "needs_background": "light"
     },
     "output_type": "display_data"
    }
   ],
   "source": [
    "for h, ss in zip([h01, h02, h03, h04], [1, 6, 12, 36]):\n",
    "    plt.scatter(ss, h['loss'][-1], c='b')\n",
    "    plt.scatter(ss, h['val_loss'][-1], c='orange', marker='x')\n",
    "plt.xscale('log')"
   ]
  },
  {
   "cell_type": "code",
   "execution_count": null,
   "metadata": {
    "Collapsed": "false"
   },
   "outputs": [],
   "source": []
  }
 ],
 "metadata": {
  "kernelspec": {
   "display_name": "Python 3",
   "language": "python",
   "name": "python3"
  },
  "language_info": {
   "codemirror_mode": {
    "name": "ipython",
    "version": 3
   },
   "file_extension": ".py",
   "mimetype": "text/x-python",
   "name": "python",
   "nbconvert_exporter": "python",
   "pygments_lexer": "ipython3",
   "version": "3.6.9"
  }
 },
 "nbformat": 4,
 "nbformat_minor": 4
}
