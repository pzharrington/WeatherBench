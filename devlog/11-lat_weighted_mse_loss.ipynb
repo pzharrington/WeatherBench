{
 "cells": [
  {
   "cell_type": "code",
   "execution_count": 1,
   "metadata": {},
   "outputs": [],
   "source": [
    "%load_ext autoreload\n",
    "%autoreload 2"
   ]
  },
  {
   "cell_type": "code",
   "execution_count": 2,
   "metadata": {},
   "outputs": [],
   "source": [
    "from src.utils import *\n",
    "from src.score import *\n",
    "from src.data_generator import *\n",
    "from src.networks import *\n",
    "import matplotlib.pyplot as plt\n",
    "import yaml"
   ]
  },
  {
   "cell_type": "code",
   "execution_count": 3,
   "metadata": {},
   "outputs": [],
   "source": [
    "os.environ[\"CUDA_VISIBLE_DEVICES\"]=str(7)\n",
    "limit_mem()"
   ]
  },
  {
   "cell_type": "code",
   "execution_count": 4,
   "metadata": {},
   "outputs": [],
   "source": [
    "exp_id = '13-resnet_bn_dr_0.1'\n",
    "# datadir = '/data/stephan/WeatherBench/2.8125deg/'\n",
    "datadir = '/data/stephan/WeatherBench/5.625deg/'\n",
    "model_save_dir = '/home/rasp/data/myWeatherBench/predictions/saved_models/'\n",
    "pred_save_dir = '/home/rasp/data/myWeatherBench/predictions/'\n",
    "var_dict = {'geopotential': ('z', [200, 500, 850]), 'temperature': ('t', [200, 500, 850]), 'u_component_of_wind': ('u', [200, 500, 850]), 'v_component_of_wind': ('v', [200, 500, 850]), 'constants': ['lsm','orography','lat2d']}\n",
    "output_vars = ['z_500', 't_850']\n",
    "filters = [128, 128, 128, 128, 128, 128, 128, 128, 2]\n",
    "kernels = [7, 3, 3, 3, 3, 3, 3, 3, 3]\n",
    "lead_time = 72\n",
    "lr = 0.5e-4\n",
    "early_stopping_patience = 10\n",
    "reduce_lr_patience = 5\n",
    "data_subsample = 2\n",
    "norm_subsample = 30000\n",
    "bn_position = 'post'\n",
    "use_bias = False\n",
    "dropout = 0.1\n",
    "\n",
    "batch_size = 32\n",
    "nt_in = 1\n",
    "l2 = 0\n",
    "skip = True"
   ]
  },
  {
   "cell_type": "code",
   "execution_count": 5,
   "metadata": {},
   "outputs": [],
   "source": [
    "ds = xr.merge([xr.open_mfdataset(f'{datadir}/{var}/*.nc', combine='by_coords') for var in var_dict.keys()])"
   ]
  },
  {
   "cell_type": "code",
   "execution_count": 6,
   "metadata": {},
   "outputs": [],
   "source": [
    "ds_train = ds.sel(time=slice('2015', '2015'))\n",
    "ds_valid = ds.sel(time=slice('2016', '2016'))\n",
    "ds_test = ds.sel(time=slice('2017', '2018'))"
   ]
  },
  {
   "cell_type": "code",
   "execution_count": 7,
   "metadata": {},
   "outputs": [
    {
     "name": "stdout",
     "output_type": "stream",
     "text": [
      "DG start 14:08:57.260237\n",
      "DG normalize 14:08:57.282564\n",
      "DG load 14:09:00.490292\n",
      "Loading data into RAM\n",
      "DG done 14:09:03.372915\n",
      "DG start 14:09:03.373235\n",
      "DG normalize 14:09:03.404124\n",
      "DG load 14:09:03.412138\n",
      "Loading data into RAM\n",
      "DG done 14:09:07.587957\n",
      "DG start 14:09:07.589085\n",
      "DG normalize 14:09:07.622331\n",
      "DG load 14:09:07.633060\n",
      "Loading data into RAM\n",
      "DG done 14:09:15.329595\n"
     ]
    }
   ],
   "source": [
    "dg_train = DataGenerator(\n",
    "    ds_train, var_dict, lead_time, batch_size=batch_size, output_vars=output_vars,\n",
    "    data_subsample=data_subsample, norm_subsample=norm_subsample\n",
    ")\n",
    "dg_valid = DataGenerator(\n",
    "    ds_valid, var_dict, lead_time, batch_size=batch_size, mean=dg_train.mean, std=dg_train.std,\n",
    "    shuffle=False, output_vars=output_vars\n",
    ")\n",
    "dg_test =  DataGenerator(\n",
    "    ds_test, var_dict, lead_time, batch_size=batch_size, mean=dg_train.mean, std=dg_train.std,\n",
    "    shuffle=False, output_vars=output_vars\n",
    ")"
   ]
  },
  {
   "cell_type": "code",
   "execution_count": 10,
   "metadata": {},
   "outputs": [
    {
     "data": {
      "text/plain": [
       "(32, 32, 64, 15)"
      ]
     },
     "execution_count": 10,
     "metadata": {},
     "output_type": "execute_result"
    }
   ],
   "source": [
    "X, y = dg_train[0]; X.shape"
   ]
  },
  {
   "cell_type": "code",
   "execution_count": 13,
   "metadata": {},
   "outputs": [],
   "source": [
    "model = keras.models.load_model(f'{model_save_dir}/{exp_id}.h5', \n",
    "                                custom_objects={'PeriodicConv2D': PeriodicConv2D})"
   ]
  },
  {
   "cell_type": "code",
   "execution_count": 14,
   "metadata": {},
   "outputs": [],
   "source": [
    "pred = model(X)"
   ]
  },
  {
   "cell_type": "code",
   "execution_count": 18,
   "metadata": {},
   "outputs": [
    {
     "data": {
      "text/plain": [
       "0.028542088"
      ]
     },
     "execution_count": 18,
     "metadata": {},
     "output_type": "execute_result"
    }
   ],
   "source": [
    "keras.losses.mse(y, pred).numpy().mean()"
   ]
  },
  {
   "cell_type": "code",
   "execution_count": 32,
   "metadata": {},
   "outputs": [],
   "source": [
    "def create_lat_mse(lat):\n",
    "    weights_lat = np.cos(np.deg2rad(lat)).values\n",
    "    weights_lat /= weights_lat.mean()\n",
    "    def lat_mse(y_true, y_pred):\n",
    "        error = y_true - y_pred\n",
    "        mse = ((error)**2 * weights_lat[None, : , None, None])\n",
    "        return mse\n",
    "    return lat_mse"
   ]
  },
  {
   "cell_type": "code",
   "execution_count": 33,
   "metadata": {},
   "outputs": [],
   "source": [
    "lmse = create_lat_mse(dg_train.data.lat)"
   ]
  },
  {
   "cell_type": "code",
   "execution_count": 36,
   "metadata": {},
   "outputs": [
    {
     "data": {
      "text/plain": [
       "0.021703219"
      ]
     },
     "execution_count": 36,
     "metadata": {},
     "output_type": "execute_result"
    }
   ],
   "source": [
    "lmse(y, pred).numpy().mean()"
   ]
  },
  {
   "cell_type": "code",
   "execution_count": 39,
   "metadata": {},
   "outputs": [],
   "source": [
    "model.compile(keras.optimizers.Adam(lr), lmse, metrics=['mse'])"
   ]
  },
  {
   "cell_type": "code",
   "execution_count": 40,
   "metadata": {},
   "outputs": [
    {
     "name": "stdout",
     "output_type": "stream",
     "text": [
      "WARNING:tensorflow:sample_weight modes were coerced from\n",
      "  ...\n",
      "    to  \n",
      "  ['...']\n",
      "WARNING:tensorflow:sample_weight modes were coerced from\n",
      "  ...\n",
      "    to  \n",
      "  ['...']\n",
      "Train for 136 steps, validate for 273 steps\n",
      "136/136 [==============================] - 28s 203ms/step - loss: 0.0189 - mse: 0.0257 - val_loss: 0.0233 - val_mse: 0.0337\n"
     ]
    }
   ],
   "source": [
    "history = model.fit(dg_train, epochs=1, validation_data=dg_valid)"
   ]
  }
 ],
 "metadata": {
  "kernelspec": {
   "display_name": "Python 3",
   "language": "python",
   "name": "python3"
  },
  "language_info": {
   "codemirror_mode": {
    "name": "ipython",
    "version": 3
   },
   "file_extension": ".py",
   "mimetype": "text/x-python",
   "name": "python",
   "nbconvert_exporter": "python",
   "pygments_lexer": "ipython3",
   "version": "3.7.4"
  }
 },
 "nbformat": 4,
 "nbformat_minor": 4
}
