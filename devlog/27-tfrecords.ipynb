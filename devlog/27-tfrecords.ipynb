{
 "cells": [
  {
   "cell_type": "code",
   "execution_count": 1,
   "metadata": {},
   "outputs": [],
   "source": [
    "%load_ext autoreload\n",
    "%autoreload 2"
   ]
  },
  {
   "cell_type": "code",
   "execution_count": 2,
   "metadata": {},
   "outputs": [],
   "source": [
    "import re, os\n",
    "import numpy as np\n",
    "import xarray as xr\n",
    "import tensorflow.keras as keras\n",
    "import datetime\n",
    "import pdb\n",
    "import matplotlib.pyplot as plt\n",
    "from src.utils import *\n",
    "from src.score import *\n",
    "from src.data_generator import *\n",
    "from src.networks import *\n",
    "from src.train import *\n",
    "import cartopy.crs as ccrs\n",
    "import seaborn as sns"
   ]
  },
  {
   "cell_type": "code",
   "execution_count": 3,
   "metadata": {},
   "outputs": [],
   "source": [
    "os.environ[\"CUDA_VISIBLE_DEVICES\"]=str(3)\n",
    "limit_mem()"
   ]
  },
  {
   "cell_type": "code",
   "execution_count": 4,
   "metadata": {},
   "outputs": [],
   "source": [
    "args = load_args('../nn_configs/B/81-resnet_d3_dr_0.1.yml')\n",
    "args['exp_id'] = '81.1-resnet_d3_dr_0.1.yml'"
   ]
  },
  {
   "cell_type": "code",
   "execution_count": 5,
   "metadata": {},
   "outputs": [],
   "source": [
    "ds = xr.merge(\n",
    "    [xr.open_mfdataset(f'{args[\"datadir\"]}/{var}/*.nc', combine='by_coords')\n",
    "     for var in args[\"var_dict\"].keys()],\n",
    "    fill_value=0  # For the 'tisr' NaNs\n",
    ")"
   ]
  },
  {
   "cell_type": "code",
   "execution_count": 6,
   "metadata": {},
   "outputs": [],
   "source": [
    "ds_train = ds.sel(time=slice('2015', '2015'))"
   ]
  },
  {
   "cell_type": "code",
   "execution_count": 7,
   "metadata": {},
   "outputs": [],
   "source": [
    "dg_train = DataGenerator(\n",
    "    ds_train, args['var_dict'], args['lead_time'], batch_size=args['batch_size'], output_vars=args['output_vars'],\n",
    "    data_subsample=1, norm_subsample=10, nt_in=args['nt_in'], dt_in=args['dt_in'], load=False\n",
    ")"
   ]
  },
  {
   "cell_type": "markdown",
   "metadata": {
    "collapsed": "true"
   },
   "source": [
    "## Reference tests"
   ]
  },
  {
   "cell_type": "code",
   "execution_count": 7,
   "metadata": {},
   "outputs": [
    {
     "name": "stdout",
     "output_type": "stream",
     "text": [
      "CPU times: user 7.73 s, sys: 19.4 s, total: 27.1 s\n",
      "Wall time: 12.1 s\n"
     ]
    }
   ],
   "source": [
    "%%time\n",
    "# Default engine\n",
    "X, y = dg_train[np.random.randint(len(dg_train))]"
   ]
  },
  {
   "cell_type": "code",
   "execution_count": 8,
   "metadata": {},
   "outputs": [],
   "source": [
    "dg_train.shuffle = False; dg_train.on_epoch_end()  # Maybe doesn't matter because I am just reading in one year"
   ]
  },
  {
   "cell_type": "code",
   "execution_count": 9,
   "metadata": {},
   "outputs": [
    {
     "name": "stdout",
     "output_type": "stream",
     "text": [
      "CPU times: user 7.62 s, sys: 17.1 s, total: 24.8 s\n",
      "Wall time: 10 s\n"
     ]
    }
   ],
   "source": [
    "%%time\n",
    "X, y = dg_train[np.random.randint(len(dg_train))]"
   ]
  },
  {
   "cell_type": "code",
   "execution_count": 10,
   "metadata": {},
   "outputs": [
    {
     "name": "stdout",
     "output_type": "stream",
     "text": [
      "CPU times: user 404 ms, sys: 1.19 s, total: 1.59 s\n",
      "Wall time: 1.59 s\n"
     ]
    }
   ],
   "source": [
    "%%time\n",
    "_ = dg_train.data.isel(time=777, level=0).load();"
   ]
  },
  {
   "cell_type": "code",
   "execution_count": 24,
   "metadata": {},
   "outputs": [
    {
     "name": "stdout",
     "output_type": "stream",
     "text": [
      "CPU times: user 16.6 ms, sys: 1.21 ms, total: 17.8 ms\n",
      "Wall time: 14.7 ms\n"
     ]
    }
   ],
   "source": [
    "%%time\n",
    "_ = ds_train.isel(time=777, level=0).load();"
   ]
  },
  {
   "cell_type": "markdown",
   "metadata": {},
   "source": [
    "Ok, this doesn't make any sense because it's accessing the same data. Is it because I've concatenated the levels?"
   ]
  },
  {
   "cell_type": "code",
   "execution_count": 26,
   "metadata": {},
   "outputs": [],
   "source": [
    "var_dict = args['var_dict']\n",
    "data = []\n",
    "level_names = []\n",
    "generic_level = xr.DataArray([1], coords={'level': [1]}, dims=['level'])\n",
    "for long_var, params in var_dict.items():\n",
    "    if long_var == 'constants':\n",
    "        for var in params:\n",
    "            data.append(ds_train[var].expand_dims(\n",
    "                {'level': generic_level, 'time': ds_train.time}, (1, 0)\n",
    "            ))\n",
    "            level_names.append(var)\n",
    "    else:\n",
    "        var, levels = params\n",
    "        try:\n",
    "            data.append(ds_train[var].sel(level=levels))\n",
    "            level_names += [f'{var}_{level}' for level in levels]\n",
    "        except ValueError:\n",
    "            data.append(ds_train[var].expand_dims({'level': generic_level}, 1))\n",
    "            level_names.append(var)\n",
    "\n",
    "data = xr.concat(data, 'level').transpose('time', 'lat', 'lon', 'level')\n",
    "data['level_names'] = xr.DataArray(\n",
    "    level_names, dims=['level'], coords={'level': data.level})"
   ]
  },
  {
   "cell_type": "code",
   "execution_count": 27,
   "metadata": {},
   "outputs": [
    {
     "name": "stdout",
     "output_type": "stream",
     "text": [
      "CPU times: user 163 ms, sys: 643 ms, total: 806 ms\n",
      "Wall time: 804 ms\n"
     ]
    }
   ],
   "source": [
    "%%time\n",
    "_ = data.isel(time=777, level=0).load();"
   ]
  },
  {
   "cell_type": "markdown",
   "metadata": {},
   "source": [
    "Ok, weird. Somewhere inbetween but unacceptably slow. What about the normalization?"
   ]
  },
  {
   "cell_type": "code",
   "execution_count": 28,
   "metadata": {},
   "outputs": [],
   "source": [
    "data = data.isel(time=slice(0, None, args['data_subsample']))"
   ]
  },
  {
   "cell_type": "code",
   "execution_count": 29,
   "metadata": {},
   "outputs": [
    {
     "name": "stdout",
     "output_type": "stream",
     "text": [
      "CPU times: user 175 ms, sys: 551 ms, total: 726 ms\n",
      "Wall time: 723 ms\n"
     ]
    }
   ],
   "source": [
    "%%time\n",
    "_ = data.isel(time=777, level=0).load();"
   ]
  },
  {
   "cell_type": "code",
   "execution_count": 30,
   "metadata": {},
   "outputs": [],
   "source": [
    "data = (data - dg_train.mean) / dg_train.std"
   ]
  },
  {
   "cell_type": "code",
   "execution_count": 31,
   "metadata": {},
   "outputs": [
    {
     "name": "stdout",
     "output_type": "stream",
     "text": [
      "CPU times: user 262 ms, sys: 832 ms, total: 1.09 s\n",
      "Wall time: 1.09 s\n"
     ]
    }
   ],
   "source": [
    "%%time\n",
    "_ = data.isel(time=777, level=0).load();"
   ]
  },
  {
   "cell_type": "markdown",
   "metadata": {},
   "source": [
    "Ok, so the concatenation makes it unbearably slow. Before we try to fix it, let's investigate accessing random time indices."
   ]
  },
  {
   "cell_type": "code",
   "execution_count": 34,
   "metadata": {},
   "outputs": [
    {
     "data": {
      "text/plain": [
       "array([7871, 6466, 4342, 1703, 8173, 4710, 1983, 8113, 1876, 6970])"
      ]
     },
     "execution_count": 34,
     "metadata": {},
     "output_type": "execute_result"
    }
   ],
   "source": [
    "rand = np.random.randint(len(ds_train.time), size=10); rand"
   ]
  },
  {
   "cell_type": "code",
   "execution_count": 35,
   "metadata": {},
   "outputs": [
    {
     "name": "stdout",
     "output_type": "stream",
     "text": [
      "CPU times: user 424 ms, sys: 925 ms, total: 1.35 s\n",
      "Wall time: 1.34 s\n"
     ]
    }
   ],
   "source": [
    "%%time\n",
    "_ = dg_train.data.isel(time=rand, level=0).load();"
   ]
  },
  {
   "cell_type": "code",
   "execution_count": 36,
   "metadata": {},
   "outputs": [
    {
     "name": "stdout",
     "output_type": "stream",
     "text": [
      "CPU times: user 21.1 ms, sys: 1.54 s, total: 1.56 s\n",
      "Wall time: 1.55 s\n"
     ]
    }
   ],
   "source": [
    "%%time\n",
    "_ = ds_train.isel(time=rand, level=0).load();"
   ]
  },
  {
   "cell_type": "code",
   "execution_count": 37,
   "metadata": {},
   "outputs": [
    {
     "name": "stdout",
     "output_type": "stream",
     "text": [
      "CPU times: user 13.2 ms, sys: 1.56 s, total: 1.57 s\n",
      "Wall time: 1.56 s\n"
     ]
    }
   ],
   "source": [
    "%%time\n",
    "_ = ds_train.isel(time=list(rand), level=0).load();"
   ]
  },
  {
   "cell_type": "code",
   "execution_count": 38,
   "metadata": {},
   "outputs": [
    {
     "name": "stdout",
     "output_type": "stream",
     "text": [
      "CPU times: user 302 ms, sys: 15 s, total: 15.3 s\n",
      "Wall time: 49.1 s\n"
     ]
    }
   ],
   "source": [
    "%%time\n",
    "_ = ds.isel(time=np.random.randint(len(ds.time), size=10), level=0).load();"
   ]
  },
  {
   "cell_type": "markdown",
   "metadata": {},
   "source": [
    "Ok, so this still takes forever. Especially across multiple files. So fixing the concatenation is kind of pointless. TFRecords it is..."
   ]
  },
  {
   "cell_type": "code",
   "execution_count": 39,
   "metadata": {},
   "outputs": [
    {
     "name": "stdout",
     "output_type": "stream",
     "text": [
      "CPU times: user 5.8 s, sys: 6.2 s, total: 12 s\n",
      "Wall time: 7.11 s\n"
     ]
    },
    {
     "data": {
      "text/html": [
       "<div><svg style=\"position: absolute; width: 0; height: 0; overflow: hidden\">\n",
       "<defs>\n",
       "<symbol id=\"icon-database\" viewBox=\"0 0 32 32\">\n",
       "<title>Show/Hide data repr</title>\n",
       "<path d=\"M16 0c-8.837 0-16 2.239-16 5v4c0 2.761 7.163 5 16 5s16-2.239 16-5v-4c0-2.761-7.163-5-16-5z\"></path>\n",
       "<path d=\"M16 17c-8.837 0-16-2.239-16-5v6c0 2.761 7.163 5 16 5s16-2.239 16-5v-6c0 2.761-7.163 5-16 5z\"></path>\n",
       "<path d=\"M16 26c-8.837 0-16-2.239-16-5v6c0 2.761 7.163 5 16 5s16-2.239 16-5v-6c0 2.761-7.163 5-16 5z\"></path>\n",
       "</symbol>\n",
       "<symbol id=\"icon-file-text2\" viewBox=\"0 0 32 32\">\n",
       "<title>Show/Hide attributes</title>\n",
       "<path d=\"M28.681 7.159c-0.694-0.947-1.662-2.053-2.724-3.116s-2.169-2.030-3.116-2.724c-1.612-1.182-2.393-1.319-2.841-1.319h-15.5c-1.378 0-2.5 1.121-2.5 2.5v27c0 1.378 1.122 2.5 2.5 2.5h23c1.378 0 2.5-1.122 2.5-2.5v-19.5c0-0.448-0.137-1.23-1.319-2.841zM24.543 5.457c0.959 0.959 1.712 1.825 2.268 2.543h-4.811v-4.811c0.718 0.556 1.584 1.309 2.543 2.268zM28 29.5c0 0.271-0.229 0.5-0.5 0.5h-23c-0.271 0-0.5-0.229-0.5-0.5v-27c0-0.271 0.229-0.5 0.5-0.5 0 0 15.499-0 15.5 0v7c0 0.552 0.448 1 1 1h7v19.5z\"></path>\n",
       "<path d=\"M23 26h-14c-0.552 0-1-0.448-1-1s0.448-1 1-1h14c0.552 0 1 0.448 1 1s-0.448 1-1 1z\"></path>\n",
       "<path d=\"M23 22h-14c-0.552 0-1-0.448-1-1s0.448-1 1-1h14c0.552 0 1 0.448 1 1s-0.448 1-1 1z\"></path>\n",
       "<path d=\"M23 18h-14c-0.552 0-1-0.448-1-1s0.448-1 1-1h14c0.552 0 1 0.448 1 1s-0.448 1-1 1z\"></path>\n",
       "</symbol>\n",
       "</defs>\n",
       "</svg>\n",
       "<style>/* CSS stylesheet for displaying xarray objects in jupyterlab.\n",
       " *\n",
       " */\n",
       "\n",
       ":root {\n",
       "  --xr-font-color0: var(--jp-content-font-color0, rgba(0, 0, 0, 1));\n",
       "  --xr-font-color2: var(--jp-content-font-color2, rgba(0, 0, 0, 0.54));\n",
       "  --xr-font-color3: var(--jp-content-font-color3, rgba(0, 0, 0, 0.38));\n",
       "  --xr-border-color: var(--jp-border-color2, #e0e0e0);\n",
       "  --xr-disabled-color: var(--jp-layout-color3, #bdbdbd);\n",
       "  --xr-background-color: var(--jp-layout-color0, white);\n",
       "  --xr-background-color-row-even: var(--jp-layout-color1, white);\n",
       "  --xr-background-color-row-odd: var(--jp-layout-color2, #eeeeee);\n",
       "}\n",
       "\n",
       ".xr-wrap {\n",
       "  min-width: 300px;\n",
       "  max-width: 700px;\n",
       "}\n",
       "\n",
       ".xr-header {\n",
       "  padding-top: 6px;\n",
       "  padding-bottom: 6px;\n",
       "  margin-bottom: 4px;\n",
       "  border-bottom: solid 1px var(--xr-border-color);\n",
       "}\n",
       "\n",
       ".xr-header > div,\n",
       ".xr-header > ul {\n",
       "  display: inline;\n",
       "  margin-top: 0;\n",
       "  margin-bottom: 0;\n",
       "}\n",
       "\n",
       ".xr-obj-type,\n",
       ".xr-array-name {\n",
       "  margin-left: 2px;\n",
       "  margin-right: 10px;\n",
       "}\n",
       "\n",
       ".xr-obj-type {\n",
       "  color: var(--xr-font-color2);\n",
       "}\n",
       "\n",
       ".xr-sections {\n",
       "  padding-left: 0 !important;\n",
       "  display: grid;\n",
       "  grid-template-columns: 150px auto auto 1fr 20px 20px;\n",
       "}\n",
       "\n",
       ".xr-section-item {\n",
       "  display: contents;\n",
       "}\n",
       "\n",
       ".xr-section-item input {\n",
       "  display: none;\n",
       "}\n",
       "\n",
       ".xr-section-item input + label {\n",
       "  color: var(--xr-disabled-color);\n",
       "}\n",
       "\n",
       ".xr-section-item input:enabled + label {\n",
       "  cursor: pointer;\n",
       "  color: var(--xr-font-color2);\n",
       "}\n",
       "\n",
       ".xr-section-item input:enabled + label:hover {\n",
       "  color: var(--xr-font-color0);\n",
       "}\n",
       "\n",
       ".xr-section-summary {\n",
       "  grid-column: 1;\n",
       "  color: var(--xr-font-color2);\n",
       "  font-weight: 500;\n",
       "}\n",
       "\n",
       ".xr-section-summary > span {\n",
       "  display: inline-block;\n",
       "  padding-left: 0.5em;\n",
       "}\n",
       "\n",
       ".xr-section-summary-in:disabled + label {\n",
       "  color: var(--xr-font-color2);\n",
       "}\n",
       "\n",
       ".xr-section-summary-in + label:before {\n",
       "  display: inline-block;\n",
       "  content: '►';\n",
       "  font-size: 11px;\n",
       "  width: 15px;\n",
       "  text-align: center;\n",
       "}\n",
       "\n",
       ".xr-section-summary-in:disabled + label:before {\n",
       "  color: var(--xr-disabled-color);\n",
       "}\n",
       "\n",
       ".xr-section-summary-in:checked + label:before {\n",
       "  content: '▼';\n",
       "}\n",
       "\n",
       ".xr-section-summary-in:checked + label > span {\n",
       "  display: none;\n",
       "}\n",
       "\n",
       ".xr-section-summary,\n",
       ".xr-section-inline-details {\n",
       "  padding-top: 4px;\n",
       "  padding-bottom: 4px;\n",
       "}\n",
       "\n",
       ".xr-section-inline-details {\n",
       "  grid-column: 2 / -1;\n",
       "}\n",
       "\n",
       ".xr-section-details {\n",
       "  display: none;\n",
       "  grid-column: 1 / -1;\n",
       "  margin-bottom: 5px;\n",
       "}\n",
       "\n",
       ".xr-section-summary-in:checked ~ .xr-section-details {\n",
       "  display: contents;\n",
       "}\n",
       "\n",
       ".xr-array-wrap {\n",
       "  grid-column: 1 / -1;\n",
       "  display: grid;\n",
       "  grid-template-columns: 20px auto;\n",
       "}\n",
       "\n",
       ".xr-array-wrap > label {\n",
       "  grid-column: 1;\n",
       "  vertical-align: top;\n",
       "}\n",
       "\n",
       ".xr-preview {\n",
       "  color: var(--xr-font-color3);\n",
       "}\n",
       "\n",
       ".xr-array-preview,\n",
       ".xr-array-data {\n",
       "  padding: 0 5px !important;\n",
       "  grid-column: 2;\n",
       "}\n",
       "\n",
       ".xr-array-data,\n",
       ".xr-array-in:checked ~ .xr-array-preview {\n",
       "  display: none;\n",
       "}\n",
       "\n",
       ".xr-array-in:checked ~ .xr-array-data,\n",
       ".xr-array-preview {\n",
       "  display: inline-block;\n",
       "}\n",
       "\n",
       ".xr-dim-list {\n",
       "  display: inline-block !important;\n",
       "  list-style: none;\n",
       "  padding: 0 !important;\n",
       "  margin: 0;\n",
       "}\n",
       "\n",
       ".xr-dim-list li {\n",
       "  display: inline-block;\n",
       "  padding: 0;\n",
       "  margin: 0;\n",
       "}\n",
       "\n",
       ".xr-dim-list:before {\n",
       "  content: '(';\n",
       "}\n",
       "\n",
       ".xr-dim-list:after {\n",
       "  content: ')';\n",
       "}\n",
       "\n",
       ".xr-dim-list li:not(:last-child):after {\n",
       "  content: ',';\n",
       "  padding-right: 5px;\n",
       "}\n",
       "\n",
       ".xr-has-index {\n",
       "  font-weight: bold;\n",
       "}\n",
       "\n",
       ".xr-var-list,\n",
       ".xr-var-item {\n",
       "  display: contents;\n",
       "}\n",
       "\n",
       ".xr-var-item > div,\n",
       ".xr-var-item label,\n",
       ".xr-var-item > .xr-var-name span {\n",
       "  background-color: var(--xr-background-color-row-even);\n",
       "  margin-bottom: 0;\n",
       "}\n",
       "\n",
       ".xr-var-item > .xr-var-name:hover span {\n",
       "  padding-right: 5px;\n",
       "}\n",
       "\n",
       ".xr-var-list > li:nth-child(odd) > div,\n",
       ".xr-var-list > li:nth-child(odd) > label,\n",
       ".xr-var-list > li:nth-child(odd) > .xr-var-name span {\n",
       "  background-color: var(--xr-background-color-row-odd);\n",
       "}\n",
       "\n",
       ".xr-var-name {\n",
       "  grid-column: 1;\n",
       "}\n",
       "\n",
       ".xr-var-dims {\n",
       "  grid-column: 2;\n",
       "}\n",
       "\n",
       ".xr-var-dtype {\n",
       "  grid-column: 3;\n",
       "  text-align: right;\n",
       "  color: var(--xr-font-color2);\n",
       "}\n",
       "\n",
       ".xr-var-preview {\n",
       "  grid-column: 4;\n",
       "}\n",
       "\n",
       ".xr-var-name,\n",
       ".xr-var-dims,\n",
       ".xr-var-dtype,\n",
       ".xr-preview,\n",
       ".xr-attrs dt {\n",
       "  white-space: nowrap;\n",
       "  overflow: hidden;\n",
       "  text-overflow: ellipsis;\n",
       "  padding-right: 10px;\n",
       "}\n",
       "\n",
       ".xr-var-name:hover,\n",
       ".xr-var-dims:hover,\n",
       ".xr-var-dtype:hover,\n",
       ".xr-attrs dt:hover {\n",
       "  overflow: visible;\n",
       "  width: auto;\n",
       "  z-index: 1;\n",
       "}\n",
       "\n",
       ".xr-var-attrs,\n",
       ".xr-var-data {\n",
       "  display: none;\n",
       "  background-color: var(--xr-background-color) !important;\n",
       "  padding-bottom: 5px !important;\n",
       "}\n",
       "\n",
       ".xr-var-attrs-in:checked ~ .xr-var-attrs,\n",
       ".xr-var-data-in:checked ~ .xr-var-data {\n",
       "  display: block;\n",
       "}\n",
       "\n",
       ".xr-var-data > table {\n",
       "  float: right;\n",
       "}\n",
       "\n",
       ".xr-var-name span,\n",
       ".xr-var-data,\n",
       ".xr-attrs {\n",
       "  padding-left: 25px !important;\n",
       "}\n",
       "\n",
       ".xr-attrs,\n",
       ".xr-var-attrs,\n",
       ".xr-var-data {\n",
       "  grid-column: 1 / -1;\n",
       "}\n",
       "\n",
       "dl.xr-attrs {\n",
       "  padding: 0;\n",
       "  margin: 0;\n",
       "  display: grid;\n",
       "  grid-template-columns: 125px auto;\n",
       "}\n",
       "\n",
       ".xr-attrs dt, dd {\n",
       "  padding: 0;\n",
       "  margin: 0;\n",
       "  float: left;\n",
       "  padding-right: 10px;\n",
       "  width: auto;\n",
       "}\n",
       "\n",
       ".xr-attrs dt {\n",
       "  font-weight: normal;\n",
       "  grid-column: 1;\n",
       "}\n",
       "\n",
       ".xr-attrs dt:hover span {\n",
       "  display: inline-block;\n",
       "  background: var(--xr-background-color);\n",
       "  padding-right: 10px;\n",
       "}\n",
       "\n",
       ".xr-attrs dd {\n",
       "  grid-column: 2;\n",
       "  white-space: pre-wrap;\n",
       "  word-break: break-all;\n",
       "}\n",
       "\n",
       ".xr-icon-database,\n",
       ".xr-icon-file-text2 {\n",
       "  display: inline-block;\n",
       "  vertical-align: middle;\n",
       "  width: 1em;\n",
       "  height: 1.5em !important;\n",
       "  stroke-width: 0;\n",
       "  stroke: currentColor;\n",
       "  fill: currentColor;\n",
       "}\n",
       "</style><div class='xr-wrap'><div class='xr-header'><div class='xr-obj-type'>xarray.DataArray</div><div class='xr-array-name'>'z'</div><ul class='xr-dim-list'><li><span class='xr-has-index'>time</span>: 8760</li><li><span class='xr-has-index'>lat</span>: 32</li><li><span class='xr-has-index'>lon</span>: 64</li><li><span class='xr-has-index'>level</span>: 38</li></ul></div><ul class='xr-sections'><li class='xr-section-item'><div class='xr-array-wrap'><input id='section-e0cd122f-97d2-4ea7-a6a9-a502806ab816' class='xr-array-in' type='checkbox' ><label for='section-e0cd122f-97d2-4ea7-a6a9-a502806ab816' title='Show/hide data repr'><svg class='icon xr-icon-database'><use xlink:href='#icon-database'></use></svg></label><div class='xr-array-preview xr-preview'><span>0.3193 -1.078 -1.162 -1.141 -1.067 ... -0.7404 -0.7344 -0.4416 1.679</span></div><pre class='xr-array-data'>array([[[[ 0.31925519, -1.07835869, -1.1621174 , ...,  1.44426201,\n",
       "           2.57085561, -1.67874412],\n",
       "         [ 0.3187487 , -1.07663579, -1.15079192, ...,  1.44426201,\n",
       "           2.63684811, -1.67874412],\n",
       "         [ 0.31773573, -1.07491425, -1.13946645, ...,  1.44426201,\n",
       "           2.70122081, -1.67874412],\n",
       "         ...,\n",
       "         [ 0.32077947, -1.08008022, -1.19137591, ...,  1.44426201,\n",
       "           2.40688572, -1.67874412],\n",
       "         [ 0.32027298, -1.08008022, -1.18382522, ...,  1.44426201,\n",
       "           2.47378905, -1.67874412],\n",
       "         [ 0.31976408, -1.07950592, -1.17344288, ...,  1.44426201,\n",
       "           2.52247395, -1.67874412]],\n",
       "\n",
       "        [[ 0.31976408, -1.03817677, -1.11587124, ...,  1.44426201,\n",
       "           2.06275586, -1.57043805],\n",
       "         [ 0.31519848, -1.03243649, -1.09322028, ...,  1.44426201,\n",
       "           2.33441714, -1.57043805],\n",
       "         [ 0.31063047, -1.02612192, -1.0705682 , ...,  1.44426201,\n",
       "           2.4794585 , -1.57043805],\n",
       "         ...,\n",
       "         [ 0.33752483, -1.04506564, -1.15267932, ...,  1.44426201,\n",
       "           1.50808802, -1.57043805],\n",
       "         [ 0.33092846, -1.04678718, -1.14607288, ...,  1.44426201,\n",
       "           1.76416741, -1.57043805],\n",
       "         [ 0.3238232 , -1.04391704, -1.13380315, ...,  1.44426201,\n",
       "           1.87833927, -1.57043805]],\n",
       "\n",
       "        [[ 0.25633285, -1.13346423, -1.228184  , ...,  1.44426201,\n",
       "           2.80071523, -1.46213197],\n",
       "         [ 0.24314012, -1.13748297, -1.19609496, ...,  1.44426201,\n",
       "           3.12389527, -1.46213197],\n",
       "         [ 0.23096277, -1.13576143, -1.16117427, ...,  1.44426201,\n",
       "           3.37895707, -1.46213197],\n",
       "         ...,\n",
       "         [ 0.30656894, -1.09443091, -1.2036434 , ...,  1.44426201,\n",
       "           0.85969458, -1.46213197],\n",
       "         [ 0.28830171, -1.11280033, -1.23573469, ...,  1.44426201,\n",
       "           2.03308297, -1.46213197],\n",
       "         [ 0.27054096, -1.12600242, -1.24611591, ...,  1.44426201,\n",
       "           2.49159806, -1.46213197]],\n",
       "\n",
       "        ...,\n",
       "\n",
       "        [[-0.85497753, -1.00545666, -1.15079192, ..., -0.73436932,\n",
       "          -0.44150882,  1.46213197],\n",
       "         [-0.88593342, -0.9870886 , -1.12908411, ..., -0.73436932,\n",
       "          -0.44090151,  1.46213197],\n",
       "         [-0.93870676, -0.98364416, -1.12247767, ..., -0.73436932,\n",
       "          -0.44191369,  1.46213197],\n",
       "         ...,\n",
       "         [-0.85548643, -1.09213644, -1.20742043, ..., -0.7343693 ,\n",
       "          -0.435842  ,  1.46213197],\n",
       "         [-0.84229128, -1.06056493, -1.20553304, ..., -0.73436932,\n",
       "          -0.44120516,  1.46213197],\n",
       "         [-0.84026293, -1.03128789, -1.18382634, ..., -0.73436932,\n",
       "          -0.441104  ,  1.46213197]],\n",
       "\n",
       "        [[-1.291382  , -1.2408079 , -1.27065538, ..., -0.73436932,\n",
       "          -0.44130638,  1.57043805],\n",
       "         [-1.31726098, -1.22186418, -1.25838564, ..., -0.73436932,\n",
       "          -0.44069907,  1.57043805],\n",
       "         [-1.346695  , -1.20636626, -1.24234112, ..., -0.73436932,\n",
       "          -0.44241978,  1.57043805],\n",
       "         ...,\n",
       "         [-1.26499654, -1.29648774, -1.28009346, ...,  1.06439006,\n",
       "          -0.28301559,  1.57043805],\n",
       "         [-1.26397874, -1.28098982, -1.28292511, ..., -0.29933311,\n",
       "          -0.39848176,  1.57043805],\n",
       "         [-1.27362126, -1.2620461 , -1.2791492 , ..., -0.73436932,\n",
       "          -0.44373519,  1.57043805]],\n",
       "\n",
       "        [[-1.56844866, -1.30050648, -1.21969017, ..., -0.73436932,\n",
       "          -0.44130638,  1.67874412],\n",
       "         [-1.57251019, -1.29821065, -1.21685852, ..., -0.73436932,\n",
       "          -0.44110395,  1.67874412],\n",
       "         [-1.57758469, -1.29648774, -1.21308261, ..., -0.73436932,\n",
       "          -0.44080029,  1.67874412],\n",
       "         ...,\n",
       "         [-1.56286768, -1.31198703, -1.21969017, ..., -0.73436932,\n",
       "          -0.43999064,  1.67874412],\n",
       "         [-1.56388065, -1.30796829, -1.2206333 , ..., -0.73436932,\n",
       "          -0.44191358,  1.67874412],\n",
       "         [-1.56591141, -1.30395092, -1.22157756, ..., -0.73436932,\n",
       "          -0.44161007,  1.67874412]]],\n",
       "\n",
       "\n",
       "       [[[ 0.31671794, -1.07548855, -1.15645522, ...,  1.44426201,\n",
       "           2.57085561, -1.67874412],\n",
       "         [ 0.31621145, -1.07376565, -1.14512863, ...,  1.44426201,\n",
       "           2.63684811, -1.67874412],\n",
       "         [ 0.31621145, -1.07204411, -1.13380315, ...,  1.44426201,\n",
       "           2.70122081, -1.67874412],\n",
       "         ...,\n",
       "         [ 0.31671794, -1.07778439, -1.18665687, ...,  1.44426201,\n",
       "           2.40688572, -1.67874412],\n",
       "         [ 0.31671794, -1.07778439, -1.17816192, ...,  1.44426201,\n",
       "           2.47378905, -1.67874412],\n",
       "         [ 0.31671794, -1.07721009, -1.1677807 , ...,  1.44426201,\n",
       "           2.52247395, -1.67874412]],\n",
       "\n",
       "        [[ 0.31671794, -1.04276844, -1.12059028, ...,  1.44426201,\n",
       "           2.06275586, -1.57043805],\n",
       "         [ 0.31164344, -1.03875107, -1.09888246, ...,  1.44426201,\n",
       "           2.33441714, -1.57043805],\n",
       "         [ 0.30656894, -1.03358509, -1.07528725, ...,  1.44426201,\n",
       "           2.4794585 , -1.57043805],\n",
       "         ...,\n",
       "         [ 0.33194143, -1.04736148, -1.15834262, ...,  1.44426201,\n",
       "           1.50808802, -1.57043805],\n",
       "         [ 0.32483858, -1.05080455, -1.15079192, ...,  1.44426201,\n",
       "           1.76416741, -1.57043805],\n",
       "         [ 0.31925519, -1.04736148, -1.13757905, ...,  1.44426201,\n",
       "           1.87833927, -1.57043805]],\n",
       "\n",
       "        [[ 0.24516847, -1.1392045 , -1.23667782, ...,  1.44426201,\n",
       "           2.80071523, -1.46213197],\n",
       "         [ 0.23349761, -1.14379754, -1.20553304, ...,  1.44426201,\n",
       "           3.12389527, -1.46213197],\n",
       "         [ 0.22182674, -1.14207464, -1.16966809, ...,  1.44426201,\n",
       "           3.37895707, -1.46213197],\n",
       "         ...,\n",
       "         [ 0.30149444, -1.09672675, -1.21025096, ...,  1.44426201,\n",
       "           0.85969458, -1.46213197],\n",
       "         [ 0.28119886, -1.11681771, -1.24517165, ...,  1.44426201,\n",
       "           2.03308297, -1.46213197],\n",
       "         [ 0.26191625, -1.13059409, -1.25461086, ...,  1.44426201,\n",
       "           2.49159806, -1.46213197]],\n",
       "\n",
       "        ...,\n",
       "\n",
       "        [[-0.84330666, -1.01578997, -1.1621174 , ..., -0.73436932,\n",
       "          -0.44150882,  1.46213197],\n",
       "         [-0.86918564, -0.99397611, -1.13380315, ..., -0.73436932,\n",
       "          -0.44090151,  1.46213197],\n",
       "         [-0.91739338, -0.9876629 , -1.12436506, ..., -0.73436932,\n",
       "          -0.44191369,  1.46213197],\n",
       "         ...,\n",
       "         [-0.8514249 , -1.09845101, -1.21402687, ..., -0.7343693 ,\n",
       "          -0.435842  ,  1.46213197],\n",
       "         [-0.83569492, -1.06917398, -1.21497113, ..., -0.73436932,\n",
       "          -0.44120516,  1.46213197],\n",
       "         [-0.8311269 , -1.04162121, -1.19609608, ..., -0.73436932,\n",
       "          -0.441104  ,  1.46213197]],\n",
       "\n",
       "        [[-1.28580102, -1.24769541, -1.27820607, ..., -0.73436932,\n",
       "          -0.44130638,  1.57043805],\n",
       "         [-1.30964923, -1.23047459, -1.26499208, ..., -0.73436932,\n",
       "          -0.44069907,  1.57043805],\n",
       "         [-1.33553062, -1.21382807, -1.24894756, ..., -0.73436932,\n",
       "          -0.44241978,  1.57043805],\n",
       "         ...,\n",
       "         [-1.25839776, -1.29648774, -1.28386825, ...,  1.06439006,\n",
       "          -0.28301559,  1.57043805],\n",
       "         [-1.25890425, -1.28328566, -1.28858729, ..., -0.29933311,\n",
       "          -0.39848176,  1.57043805],\n",
       "         [-1.26854676, -1.26606484, -1.28575564, ..., -0.73436932,\n",
       "          -0.44373519,  1.57043805]],\n",
       "\n",
       "        [[-1.5567778 , -1.29763635, -1.21213948, ..., -0.73436932,\n",
       "          -0.44130638,  1.67874412],\n",
       "         [-1.56083691, -1.29476621, -1.20742043, ..., -0.73436932,\n",
       "          -0.44110395,  1.67874412],\n",
       "         [-1.56591141, -1.29247037, -1.20175713, ..., -0.73436932,\n",
       "          -0.44080029,  1.67874412],\n",
       "         ...,\n",
       "         [-1.54916605, -1.30854259, -1.21685852, ..., -0.73436932,\n",
       "          -0.43999064,  1.67874412],\n",
       "         [-1.55068792, -1.30452386, -1.21685852, ..., -0.73436932,\n",
       "          -0.44191358,  1.67874412],\n",
       "         [-1.55322517, -1.30050648, -1.21497113, ..., -0.73436932,\n",
       "          -0.44161007,  1.67874412]]],\n",
       "\n",
       "\n",
       "       [[[ 0.32128595, -1.06917398, -1.14701714, ...,  1.44426201,\n",
       "           2.57085561, -1.67874412],\n",
       "         [ 0.32077947, -1.06802538, -1.13569054, ...,  1.44426201,\n",
       "           2.63684811, -1.67874412],\n",
       "         [ 0.32027298, -1.06630384, -1.12530932, ...,  1.44426201,\n",
       "           2.70122081, -1.67874412],\n",
       "         ...,\n",
       "         [ 0.32230133, -1.07089551, -1.17627453, ...,  1.44426201,\n",
       "           2.40688572, -1.67874412],\n",
       "         [ 0.32230133, -1.07089551, -1.1677807 , ...,  1.44426201,\n",
       "           2.47378905, -1.67874412],\n",
       "         [ 0.32179244, -1.07032258, -1.15834262, ...,  1.44426201,\n",
       "           2.52247395, -1.67874412]],\n",
       "\n",
       "        [[ 0.32027298, -1.0410469 , -1.11587124, ...,  1.44426201,\n",
       "           2.06275586, -1.57043805],\n",
       "         [ 0.31519848, -1.03817677, -1.09416342, ...,  1.44426201,\n",
       "           2.33441714, -1.57043805],\n",
       "         [ 0.31012398, -1.03415803, -1.0705682 , ...,  1.44426201,\n",
       "           2.4794585 , -1.57043805],\n",
       "         ...,\n",
       "         [ 0.33752483, -1.04449134, -1.15739836, ...,  1.44426201,\n",
       "           1.50808802, -1.57043805],\n",
       "         [ 0.33042198, -1.04850872, -1.14701714, ...,  1.44426201,\n",
       "           1.76416741, -1.57043805],\n",
       "         [ 0.32636045, -1.04506564, -1.13286001, ...,  1.44426201,\n",
       "           1.87833927, -1.57043805]],\n",
       "\n",
       "        [[ 0.24923   , -1.13633437, -1.23384729, ...,  1.44426201,\n",
       "           2.80071523, -1.46213197],\n",
       "         [ 0.23603486, -1.1415017 , -1.20270139, ...,  1.44426201,\n",
       "           3.12389527, -1.46213197],\n",
       "         [ 0.22436399, -1.1403531 , -1.16589331, ...,  1.44426201,\n",
       "           3.37895707, -1.46213197],\n",
       "         ...,\n",
       "         [ 0.30555597, -1.09500521, -1.21025096, ...,  1.44426201,\n",
       "           0.85969458, -1.46213197],\n",
       "         [ 0.28627336, -1.11509617, -1.24517277, ...,  1.44426201,\n",
       "           2.03308297, -1.46213197],\n",
       "         [ 0.26699074, -1.12829825, -1.25272234, ...,  1.44426201,\n",
       "           2.49159806, -1.46213197]],\n",
       "\n",
       "        ...,\n",
       "\n",
       "        [[-0.81539692, -1.01636427, -1.16117427, ..., -0.73436932,\n",
       "          -0.44150882,  1.46213197],\n",
       "         [-0.8412759 , -0.99569901, -1.13191576, ..., -0.73436932,\n",
       "          -0.44090151,  1.46213197],\n",
       "         [-0.89252737, -0.98938444, -1.12059028, ..., -0.73436932,\n",
       "          -0.44191369,  1.46213197],\n",
       "         ...,\n",
       "         [-0.83670789, -1.09500521, -1.20364453, ..., -0.7343693 ,\n",
       "          -0.435842  ,  1.46213197],\n",
       "         [-0.81438154, -1.06630384, -1.20647618, ..., -0.73436932,\n",
       "          -0.44120516,  1.46213197],\n",
       "         [-0.8062609 , -1.0404726 , -1.19137591, ..., -0.73436932,\n",
       "          -0.441104  ,  1.46213197]],\n",
       "\n",
       "        [[-1.26245929, -1.24826971, -1.27631755, ..., -0.73436932,\n",
       "          -0.44130638,  1.57043805],\n",
       "         [-1.28173949, -1.23104889, -1.26310468, ..., -0.73436932,\n",
       "          -0.44069907,  1.57043805],\n",
       "         [-1.30762088, -1.21440237, -1.24706016, ..., -0.73436932,\n",
       "          -0.44241978,  1.57043805],\n",
       "         ...,\n",
       "         [-1.24317426, -1.29476621, -1.2866999 , ...,  1.06439006,\n",
       "          -0.28301559,  1.57043805],\n",
       "         [-1.24216129, -1.28271136, -1.28858729, ..., -0.29933311,\n",
       "          -0.39848176,  1.57043805],\n",
       "         [-1.24875525, -1.26549054, -1.28575564, ..., -0.73436932,\n",
       "          -0.44373519,  1.57043805]],\n",
       "\n",
       "        [[-1.5517033 , -1.30165372, -1.21591426, ..., -0.73436932,\n",
       "          -0.44130638,  1.67874412],\n",
       "         [-1.55525593, -1.29821065, -1.21025208, ..., -0.73436932,\n",
       "          -0.44110395,  1.67874412],\n",
       "         [-1.55880615, -1.29591344, -1.20458878, ..., -0.73436932,\n",
       "          -0.44080029,  1.67874412],\n",
       "         ...,\n",
       "         [-1.5461199 , -1.31198703, -1.22440921, ..., -0.73436932,\n",
       "          -0.43999064,  1.67874412],\n",
       "         [-1.5471377 , -1.30854259, -1.22346495, ..., -0.73436932,\n",
       "          -0.44191358,  1.67874412],\n",
       "         [-1.54916605, -1.30452386, -1.21969017, ..., -0.73436932,\n",
       "          -0.44161007,  1.67874412]]],\n",
       "\n",
       "\n",
       "       ...,\n",
       "\n",
       "\n",
       "       [[[ 0.08583066, -1.33494813, -1.51226967, ...,  1.44426201,\n",
       "           2.57085561, -1.67874412],\n",
       "         [ 0.08227803, -1.33379953, -1.51415707, ...,  1.44426201,\n",
       "           2.63684811, -1.67874412],\n",
       "         [ 0.07923429, -1.33207799, -1.51415707, ...,  1.44426201,\n",
       "           2.70122081, -1.67874412],\n",
       "         ...,\n",
       "         [ 0.09800801, -1.33494813, -1.4952809 , ...,  1.44426201,\n",
       "           2.40688572, -1.67874412],\n",
       "         [ 0.09395131, -1.33552106, -1.50188733, ...,  1.44426201,\n",
       "           2.47378905, -1.67874412],\n",
       "         [ 0.08988978, -1.33552106, -1.50755063, ...,  1.44426201,\n",
       "           2.52247395, -1.67874412]],\n",
       "\n",
       "        [[ 0.04675654, -1.24826971, -1.39334936, ...,  1.44426201,\n",
       "           2.06275586, -1.57043805],\n",
       "         [ 0.03559457, -1.22875305, -1.36409197, ...,  1.44426201,\n",
       "           2.33441714, -1.57043805],\n",
       "         [ 0.02493668, -1.20694056, -1.33105867, ...,  1.44426201,\n",
       "           2.4794585 , -1.57043805],\n",
       "         ...,\n",
       "         [ 0.08633956, -1.26893497, -1.43204595, ...,  1.44426201,\n",
       "           1.50808802, -1.57043805],\n",
       "         [ 0.07365331, -1.26836067, -1.4292143 , ...,  1.44426201,\n",
       "           1.76416741, -1.57043805],\n",
       "         [ 0.05994927, -1.2614718 , -1.41600143, ...,  1.44426201,\n",
       "           1.87833927, -1.57043805]],\n",
       "\n",
       "        [[-0.0105824 , -1.0622851 , -1.16494905, ...,  1.44426201,\n",
       "           2.80071523, -1.46213197],\n",
       "         [-0.02885204, -1.01808581, -1.12436506, ...,  1.44426201,\n",
       "           3.12389527, -1.46213197],\n",
       "         [-0.04001642, -0.98134833, -1.08283794, ...,  1.44426201,\n",
       "           3.37895707, -1.46213197],\n",
       "         ...,\n",
       "         [ 0.06654805, -1.13576143, -1.25838564, ...,  1.44426201,\n",
       "           0.85969458, -1.46213197],\n",
       "         [ 0.03762292, -1.13231699, -1.24234112, ...,  1.44426201,\n",
       "           2.03308297, -1.46213197],\n",
       "         [ 0.01072856, -1.10246838, -1.20930895, ...,  1.44426201,\n",
       "           2.49159806, -1.46213197]],\n",
       "\n",
       "        ...,\n",
       "\n",
       "        [[-1.77853387, -0.88433796, -0.8091346 , ..., -0.73436932,\n",
       "          -0.44150882,  1.46213197],\n",
       "         [-1.66537062, -0.67481932, -0.64208073, ..., -0.73436932,\n",
       "          -0.44090151,  1.46213197],\n",
       "         [-1.56844866, -0.47276248, -0.4618151 , ..., -0.73436932,\n",
       "          -0.44191369,  1.46213197],\n",
       "         ...,\n",
       "         [-2.09010664, -1.35561339, -1.21403023, ..., -0.7343693 ,\n",
       "          -0.435842  ,  1.46213197],\n",
       "         [-2.00434906, -1.24253217, -1.0885046 , ..., -0.73436932,\n",
       "          -0.44120516,  1.46213197],\n",
       "         [-1.88459186, -1.08065862, -0.94410168, ..., -0.73436932,\n",
       "          -0.441104  ,  1.46213197]],\n",
       "\n",
       "        [[-1.90336557, -1.22129124, -1.23573469, ..., -0.73436932,\n",
       "          -0.44130638,  1.57043805],\n",
       "         [-1.84602181, -1.1397788 , -1.15362357, ..., -0.73436932,\n",
       "          -0.44069907,  1.57043805],\n",
       "         [-1.7866521 , -1.03760247, -1.06396177, ..., -0.73436932,\n",
       "          -0.44241978,  1.57043805],\n",
       "         ...,\n",
       "         [-2.06879326, -1.35159465, -1.3650351 , ...,  1.06439006,\n",
       "          -0.28301559,  1.57043805],\n",
       "         [-2.01551344, -1.32346894, -1.34049788, ..., -0.29933311,\n",
       "          -0.39848176,  1.57043805],\n",
       "         [-1.95867857, -1.28271272, -1.29708336, ..., -0.73436932,\n",
       "          -0.44373519,  1.57043805]],\n",
       "\n",
       "        [[-1.95715429, -1.36824117, -1.45186526, ..., -0.73436932,\n",
       "          -0.44130638,  1.67874412],\n",
       "         [-1.93888706, -1.34872451, -1.42166361, ..., -0.73436932,\n",
       "          -0.44110395,  1.67874412],\n",
       "         [-1.92010852, -1.32518912, -1.38485553, ..., -0.73436932,\n",
       "          -0.44080029,  1.67874412],\n",
       "         ...,\n",
       "         [-2.0068839 , -1.40842309, -1.48678595, ..., -0.73436932,\n",
       "          -0.43999064,  1.67874412],\n",
       "         [-1.99115151, -1.39808978, -1.48584281, ..., -0.73436932,\n",
       "          -0.44191358,  1.67874412],\n",
       "         [-1.97440855, -1.3848877 , -1.47357308, ..., -0.73436932,\n",
       "          -0.44161007,  1.67874412]]],\n",
       "\n",
       "\n",
       "       [[[ 0.08532176, -1.33666966, -1.52265089, ...,  1.44426201,\n",
       "           2.57085561, -1.67874412],\n",
       "         [ 0.08126506, -1.33552106, -1.52548254, ...,  1.44426201,\n",
       "           2.63684811, -1.67874412],\n",
       "         [ 0.07821891, -1.33379953, -1.52548254, ...,  1.44426201,\n",
       "           2.70122081, -1.67874412],\n",
       "         ...,\n",
       "         [ 0.09699504, -1.33609536, -1.50471898, ...,  1.44426201,\n",
       "           2.40688572, -1.67874412],\n",
       "         [ 0.09293351, -1.33666966, -1.51226967, ...,  1.44426201,\n",
       "           2.47378905, -1.67874412],\n",
       "         [ 0.08887681, -1.33666966, -1.51887611, ...,  1.44426201,\n",
       "           2.52247395, -1.67874412]],\n",
       "\n",
       "        [[ 0.03863831, -1.25458429, -1.41033813, ...,  1.44426201,\n",
       "           2.06275586, -1.57043805],\n",
       "         [ 0.02848931, -1.23449333, -1.37919223, ...,  1.44426201,\n",
       "           2.33441714, -1.57043805],\n",
       "         [ 0.01935569, -1.21210653, -1.34238415, ...,  1.44426201,\n",
       "           2.4794585 , -1.57043805],\n",
       "         ...,\n",
       "         [ 0.07466628, -1.27869262, -1.45092212, ...,  1.44426201,\n",
       "           1.50808802, -1.57043805],\n",
       "         [ 0.06198003, -1.27639679, -1.44903473, ...,  1.44426201,\n",
       "           1.76416741, -1.57043805],\n",
       "         [ 0.05081807, -1.26836067, -1.43393335, ...,  1.44426201,\n",
       "           1.87833927, -1.57043805]],\n",
       "\n",
       "        [[-0.01261317, -1.06515524, -1.16494905, ...,  1.44426201,\n",
       "           2.80071523, -1.46213197],\n",
       "         [-0.02986743, -1.02210455, -1.12530932, ...,  1.44426201,\n",
       "           3.12389527, -1.46213197],\n",
       "         [-0.04102939, -0.98249556, -1.0837822 , ...,  1.44426201,\n",
       "           3.37895707, -1.46213197],\n",
       "         ...,\n",
       "         [ 0.05994927, -1.13863157, -1.27348703, ...,  1.44426201,\n",
       "           0.85969458, -1.46213197],\n",
       "         [ 0.03356381, -1.13518713, -1.24800442, ...,  1.44426201,\n",
       "           2.03308297, -1.46213197],\n",
       "         [ 0.0086978 , -1.10648712, -1.2121406 , ...,  1.44426201,\n",
       "           2.49159806, -1.46213197]],\n",
       "\n",
       "        ...,\n",
       "\n",
       "        [[-1.78360837, -0.8648213 , -0.783652  , ..., -0.73436932,\n",
       "          -0.44150882,  1.46213197],\n",
       "         [-1.66892325, -0.65874573, -0.61565499, ..., -0.73436932,\n",
       "          -0.44090151,  1.46213197],\n",
       "         [-1.57352316, -0.46070763, -0.45426441, ..., -0.73436932,\n",
       "          -0.44191369,  1.46213197],\n",
       "         ...,\n",
       "         [-2.08706291, -1.33954253, -1.19704146, ..., -0.7343693 ,\n",
       "          -0.435842  ,  1.46213197],\n",
       "         [-1.99420006, -1.21842383, -1.05452705, ..., -0.73436932,\n",
       "          -0.44120516,  1.46213197],\n",
       "         [-1.88256109, -1.05367878, -0.91673056, ..., -0.73436932,\n",
       "          -0.441104  ,  1.46213197]],\n",
       "\n",
       "        [[-1.89422955, -1.19029267, -1.17249974, ..., -0.73436932,\n",
       "          -0.44130638,  1.57043805],\n",
       "         [-1.84348456, -1.1082073 , -1.09888246, ..., -0.73436932,\n",
       "          -0.44069907,  1.57043805],\n",
       "         [-1.79223309, -1.0100497 , -1.02149039, ..., -0.73436932,\n",
       "          -0.44241978,  1.57043805],\n",
       "         ...,\n",
       "         [-2.06321228, -1.33781827, -1.32445224, ...,  1.06439006,\n",
       "          -0.28301559,  1.57043805],\n",
       "         [-2.00840818, -1.30509952, -1.29142006, ..., -0.29933311,\n",
       "          -0.39848176,  1.57043805],\n",
       "         [-1.94954496, -1.25745579, -1.23951059, ..., -0.73436932,\n",
       "          -0.44373519,  1.57043805]],\n",
       "\n",
       "        [[-1.9520798 , -1.38833213, -1.49905568, ..., -0.73436932,\n",
       "          -0.44130638,  1.67874412],\n",
       "         [-1.93431905, -1.36938841, -1.47262882, ..., -0.73436932,\n",
       "          -0.44110395,  1.67874412],\n",
       "         [-1.91605182, -1.34700161, -1.43865239, ..., -0.73436932,\n",
       "          -0.44080029,  1.67874412],\n",
       "         ...,\n",
       "         [-2.00028753, -1.42736545, -1.52831419, ..., -0.73436932,\n",
       "          -0.43999064,  1.67874412],\n",
       "         [-1.98506404, -1.4176078 , -1.52736994, ..., -0.73436932,\n",
       "          -0.44191358,  1.67874412],\n",
       "         [-1.96882516, -1.40440436, -1.51698872, ..., -0.73436932,\n",
       "          -0.44161007,  1.67874412]]],\n",
       "\n",
       "\n",
       "       [[[ 0.08430879, -1.33724396, -1.52359515, ...,  1.44426201,\n",
       "           2.57085561, -1.67874412],\n",
       "         [ 0.08177154, -1.33609536, -1.52642568, ...,  1.44426201,\n",
       "           2.63684811, -1.67874412],\n",
       "         [ 0.07923429, -1.33494813, -1.52642568, ...,  1.44426201,\n",
       "           2.70122081, -1.67874412],\n",
       "         ...,\n",
       "         [ 0.09395131, -1.33666966, -1.50471898, ...,  1.44426201,\n",
       "           2.40688572, -1.67874412],\n",
       "         [ 0.09039626, -1.33724396, -1.51226967, ...,  1.44426201,\n",
       "           2.47378905, -1.67874412],\n",
       "         [ 0.08735253, -1.33781827, -1.51793185, ...,  1.44426201,\n",
       "           2.52247395, -1.67874412]],\n",
       "\n",
       "        [[ 0.04777192, -1.24941831, -1.39995691, ...,  1.44426201,\n",
       "           2.06275586, -1.57043805],\n",
       "         [ 0.03762292, -1.23047459, -1.36975415, ...,  1.44426201,\n",
       "           2.33441714, -1.57043805],\n",
       "         [ 0.02848931, -1.20866209, -1.33389032, ...,  1.44426201,\n",
       "           2.4794585 , -1.57043805],\n",
       "         ...,\n",
       "         [ 0.08633956, -1.27065651, -1.436765  , ...,  1.44426201,\n",
       "           1.50808802, -1.57043805],\n",
       "         [ 0.07162255, -1.26893497, -1.436765  , ...,  1.44426201,\n",
       "           1.76416741, -1.57043805],\n",
       "         [ 0.05944279, -1.2620461 , -1.423551  , ...,  1.44426201,\n",
       "           1.87833927, -1.57043805]],\n",
       "\n",
       "        [[-0.01464393, -1.06056356, -1.15551097, ...,  1.44426201,\n",
       "           2.80071523, -1.46213197],\n",
       "         [-0.0308804 , -1.01751151, -1.11587124, ...,  1.44426201,\n",
       "           3.12389527, -1.46213197],\n",
       "         [-0.04458444, -0.97905249, -1.0781189 , ...,  1.44426201,\n",
       "           3.37895707, -1.46213197],\n",
       "         ...,\n",
       "         [ 0.06654805, -1.13174269, -1.26876798, ...,  1.44426201,\n",
       "           0.85969458, -1.46213197],\n",
       "         [ 0.03711644, -1.12887256, -1.24045485, ...,  1.44426201,\n",
       "           2.03308297, -1.46213197],\n",
       "         [ 0.0092067 , -1.10132115, -1.20364565, ...,  1.44426201,\n",
       "           2.49159806, -1.46213197]],\n",
       "\n",
       "        ...,\n",
       "\n",
       "        [[-1.79223309, -0.85047062, -0.76100104, ..., -0.73436932,\n",
       "          -0.44150882,  1.46213197],\n",
       "         [-1.66587711, -0.64611795, -0.59583456, ..., -0.73436932,\n",
       "          -0.44090151,  1.46213197],\n",
       "         [-1.57402965, -0.4561146 , -0.44482633, ..., -0.73436932,\n",
       "          -0.44191369,  1.46213197],\n",
       "         ...,\n",
       "         [-2.08756939, -1.32519184, -1.16117763, ..., -0.7343693 ,\n",
       "          -0.435842  ,  1.46213197],\n",
       "         [-1.99470896, -1.20062871, -1.02149375, ..., -0.73436932,\n",
       "          -0.44120516,  1.46213197],\n",
       "         [-1.89524734, -1.03244059, -0.89407961, ..., -0.73436932,\n",
       "          -0.441104  ,  1.46213197]],\n",
       "\n",
       "        [[-1.90082832, -1.17364615, -1.13757905, ..., -0.73436932,\n",
       "          -0.44130638,  1.57043805],\n",
       "         [-1.85109631, -1.09098647, -1.06679342, ..., -0.73436932,\n",
       "          -0.44069907,  1.57043805],\n",
       "         [-1.79324847, -0.99340317, -0.99412039, ..., -0.73436932,\n",
       "          -0.44241978,  1.57043805],\n",
       "         ...,\n",
       "         [-2.06067503, -1.33150369, -1.29425171, ...,  1.06439006,\n",
       "          -0.28301559,  1.57043805],\n",
       "         [-2.0114495 , -1.29591481, -1.25555511, ..., -0.29933311,\n",
       "          -0.39848176,  1.57043805],\n",
       "         [-1.95563243, -1.24425234, -1.20270251, ..., -0.73436932,\n",
       "          -0.44373519,  1.57043805]],\n",
       "\n",
       "        [[-1.96933406, -1.4153106 , -1.56700967, ..., -0.73436932,\n",
       "          -0.44130638,  1.67874412],\n",
       "         [-1.95106441, -1.39866408, -1.54530185, ..., -0.73436932,\n",
       "          -0.44110395,  1.67874412],\n",
       "         [-1.93228829, -1.37914742, -1.51698872, ..., -0.73436932,\n",
       "          -0.44080029,  1.67874412],\n",
       "         ...,\n",
       "         [-2.02007904, -1.45090085, -1.58211105, ..., -0.73436932,\n",
       "          -0.43999064,  1.67874412],\n",
       "         [-2.00434665, -1.44229044, -1.58588584, ..., -0.73436932,\n",
       "          -0.44191358,  1.67874412],\n",
       "         [-1.9870948 , -1.43023559, -1.58116679, ..., -0.73436932,\n",
       "          -0.44161007,  1.67874412]]]])</pre></div></li><li class='xr-section-item'><input id='section-225488ad-c776-41c0-bd91-1e9d05441812' class='xr-section-summary-in' type='checkbox'  checked><label for='section-225488ad-c776-41c0-bd91-1e9d05441812' class='xr-section-summary' >Coordinates: <span>(5)</span></label><div class='xr-section-inline-details'></div><div class='xr-section-details'><ul class='xr-var-list'><li class='xr-var-item'><div class='xr-var-name'><span class='xr-has-index'>lat</span></div><div class='xr-var-dims'>(lat)</div><div class='xr-var-dtype'>float64</div><div class='xr-var-preview xr-preview'>-87.19 -81.56 ... 81.56 87.19</div><input id='attrs-43309fc0-8363-4735-b4d1-c82db8232b85' class='xr-var-attrs-in' type='checkbox' disabled><label for='attrs-43309fc0-8363-4735-b4d1-c82db8232b85' title='Show/Hide attributes'><svg class='icon xr-icon-file-text2'><use xlink:href='#icon-file-text2'></use></svg></label><input id='data-1b4536e9-5ffa-4035-b703-777da74972f1' class='xr-var-data-in' type='checkbox'><label for='data-1b4536e9-5ffa-4035-b703-777da74972f1' title='Show/Hide data repr'><svg class='icon xr-icon-database'><use xlink:href='#icon-database'></use></svg></label><div class='xr-var-attrs'><dl class='xr-attrs'></dl></div><pre class='xr-var-data'>array([-87.1875, -81.5625, -75.9375, -70.3125, -64.6875, -59.0625, -53.4375,\n",
       "       -47.8125, -42.1875, -36.5625, -30.9375, -25.3125, -19.6875, -14.0625,\n",
       "        -8.4375,  -2.8125,   2.8125,   8.4375,  14.0625,  19.6875,  25.3125,\n",
       "        30.9375,  36.5625,  42.1875,  47.8125,  53.4375,  59.0625,  64.6875,\n",
       "        70.3125,  75.9375,  81.5625,  87.1875])</pre></li><li class='xr-var-item'><div class='xr-var-name'><span class='xr-has-index'>lon</span></div><div class='xr-var-dims'>(lon)</div><div class='xr-var-dtype'>float64</div><div class='xr-var-preview xr-preview'>0.0 5.625 11.25 ... 348.8 354.4</div><input id='attrs-a8913caf-5a10-4033-9c6b-31d72a34c6d6' class='xr-var-attrs-in' type='checkbox' disabled><label for='attrs-a8913caf-5a10-4033-9c6b-31d72a34c6d6' title='Show/Hide attributes'><svg class='icon xr-icon-file-text2'><use xlink:href='#icon-file-text2'></use></svg></label><input id='data-fe37b8ae-e393-4608-8929-23c061432a27' class='xr-var-data-in' type='checkbox'><label for='data-fe37b8ae-e393-4608-8929-23c061432a27' title='Show/Hide data repr'><svg class='icon xr-icon-database'><use xlink:href='#icon-database'></use></svg></label><div class='xr-var-attrs'><dl class='xr-attrs'></dl></div><pre class='xr-var-data'>array([  0.   ,   5.625,  11.25 ,  16.875,  22.5  ,  28.125,  33.75 ,  39.375,\n",
       "        45.   ,  50.625,  56.25 ,  61.875,  67.5  ,  73.125,  78.75 ,  84.375,\n",
       "        90.   ,  95.625, 101.25 , 106.875, 112.5  , 118.125, 123.75 , 129.375,\n",
       "       135.   , 140.625, 146.25 , 151.875, 157.5  , 163.125, 168.75 , 174.375,\n",
       "       180.   , 185.625, 191.25 , 196.875, 202.5  , 208.125, 213.75 , 219.375,\n",
       "       225.   , 230.625, 236.25 , 241.875, 247.5  , 253.125, 258.75 , 264.375,\n",
       "       270.   , 275.625, 281.25 , 286.875, 292.5  , 298.125, 303.75 , 309.375,\n",
       "       315.   , 320.625, 326.25 , 331.875, 337.5  , 343.125, 348.75 , 354.375])</pre></li><li class='xr-var-item'><div class='xr-var-name'><span class='xr-has-index'>time</span></div><div class='xr-var-dims'>(time)</div><div class='xr-var-dtype'>datetime64[ns]</div><div class='xr-var-preview xr-preview'>2015-01-01 ... 2015-12-31T23:00:00</div><input id='attrs-2b9fde7c-8d04-48a9-af4d-9ca21a957e60' class='xr-var-attrs-in' type='checkbox' ><label for='attrs-2b9fde7c-8d04-48a9-af4d-9ca21a957e60' title='Show/Hide attributes'><svg class='icon xr-icon-file-text2'><use xlink:href='#icon-file-text2'></use></svg></label><input id='data-b5a36211-ef8c-4951-bcbf-db272fcca3ac' class='xr-var-data-in' type='checkbox'><label for='data-b5a36211-ef8c-4951-bcbf-db272fcca3ac' title='Show/Hide data repr'><svg class='icon xr-icon-database'><use xlink:href='#icon-database'></use></svg></label><div class='xr-var-attrs'><dl class='xr-attrs'><dt><span>long_name :</span></dt><dd>time</dd></dl></div><pre class='xr-var-data'>array([&#x27;2015-01-01T00:00:00.000000000&#x27;, &#x27;2015-01-01T01:00:00.000000000&#x27;,\n",
       "       &#x27;2015-01-01T02:00:00.000000000&#x27;, ..., &#x27;2015-12-31T21:00:00.000000000&#x27;,\n",
       "       &#x27;2015-12-31T22:00:00.000000000&#x27;, &#x27;2015-12-31T23:00:00.000000000&#x27;],\n",
       "      dtype=&#x27;datetime64[ns]&#x27;)</pre></li><li class='xr-var-item'><div class='xr-var-name'><span class='xr-has-index'>level</span></div><div class='xr-var-dims'>(level)</div><div class='xr-var-dtype'>int64</div><div class='xr-var-preview xr-preview'>50 250 500 600 700 ... 925 1 1 1</div><input id='attrs-877c3e7c-0f03-4b00-867b-1442e0c2dc7f' class='xr-var-attrs-in' type='checkbox' disabled><label for='attrs-877c3e7c-0f03-4b00-867b-1442e0c2dc7f' title='Show/Hide attributes'><svg class='icon xr-icon-file-text2'><use xlink:href='#icon-file-text2'></use></svg></label><input id='data-137a9248-a6db-4111-be1f-05c70ba3a2c6' class='xr-var-data-in' type='checkbox'><label for='data-137a9248-a6db-4111-be1f-05c70ba3a2c6' title='Show/Hide data repr'><svg class='icon xr-icon-database'><use xlink:href='#icon-database'></use></svg></label><div class='xr-var-attrs'><dl class='xr-attrs'></dl></div><pre class='xr-var-data'>array([ 50, 250, 500, 600, 700, 850, 925,  50, 250, 500, 600, 700, 850, 925,\n",
       "        50, 250, 500, 600, 700, 850, 925,  50, 250, 500, 600, 700, 850, 925,\n",
       "        50, 250, 500, 600, 700, 850, 925,   1,   1,   1])</pre></li><li class='xr-var-item'><div class='xr-var-name'><span>level_names</span></div><div class='xr-var-dims'>(level)</div><div class='xr-var-dtype'>&lt;U9</div><div class='xr-var-preview xr-preview'>&#x27;z_50&#x27; &#x27;z_250&#x27; ... &#x27;lat2d&#x27;</div><input id='attrs-2413cf88-130e-44f8-ab6d-f41bc4c66f7f' class='xr-var-attrs-in' type='checkbox' disabled><label for='attrs-2413cf88-130e-44f8-ab6d-f41bc4c66f7f' title='Show/Hide attributes'><svg class='icon xr-icon-file-text2'><use xlink:href='#icon-file-text2'></use></svg></label><input id='data-c99cdd38-78b4-468b-8b0f-233021a78bea' class='xr-var-data-in' type='checkbox'><label for='data-c99cdd38-78b4-468b-8b0f-233021a78bea' title='Show/Hide data repr'><svg class='icon xr-icon-database'><use xlink:href='#icon-database'></use></svg></label><div class='xr-var-attrs'><dl class='xr-attrs'></dl></div><pre class='xr-var-data'>array([&#x27;z_50&#x27;, &#x27;z_250&#x27;, &#x27;z_500&#x27;, &#x27;z_600&#x27;, &#x27;z_700&#x27;, &#x27;z_850&#x27;, &#x27;z_925&#x27;,\n",
       "       &#x27;t_50&#x27;, &#x27;t_250&#x27;, &#x27;t_500&#x27;, &#x27;t_600&#x27;, &#x27;t_700&#x27;, &#x27;t_850&#x27;, &#x27;t_925&#x27;,\n",
       "       &#x27;u_50&#x27;, &#x27;u_250&#x27;, &#x27;u_500&#x27;, &#x27;u_600&#x27;, &#x27;u_700&#x27;, &#x27;u_850&#x27;, &#x27;u_925&#x27;,\n",
       "       &#x27;v_50&#x27;, &#x27;v_250&#x27;, &#x27;v_500&#x27;, &#x27;v_600&#x27;, &#x27;v_700&#x27;, &#x27;v_850&#x27;, &#x27;v_925&#x27;,\n",
       "       &#x27;q_50&#x27;, &#x27;q_250&#x27;, &#x27;q_500&#x27;, &#x27;q_600&#x27;, &#x27;q_700&#x27;, &#x27;q_850&#x27;, &#x27;q_925&#x27;,\n",
       "       &#x27;lsm&#x27;, &#x27;orography&#x27;, &#x27;lat2d&#x27;], dtype=&#x27;&lt;U9&#x27;)</pre></li></ul></div></li><li class='xr-section-item'><input id='section-73a6afd0-5952-41d8-a686-44086b5fc6ca' class='xr-section-summary-in' type='checkbox' disabled ><label for='section-73a6afd0-5952-41d8-a686-44086b5fc6ca' class='xr-section-summary'  title='Expand/collapse section'>Attributes: <span>(0)</span></label><div class='xr-section-inline-details'></div><div class='xr-section-details'><dl class='xr-attrs'></dl></div></li></ul></div></div>"
      ],
      "text/plain": [
       "<xarray.DataArray 'z' (time: 8760, lat: 32, lon: 64, level: 38)>\n",
       "array([[[[ 0.31925519, -1.07835869, -1.1621174 , ...,  1.44426201,\n",
       "           2.57085561, -1.67874412],\n",
       "         [ 0.3187487 , -1.07663579, -1.15079192, ...,  1.44426201,\n",
       "           2.63684811, -1.67874412],\n",
       "         [ 0.31773573, -1.07491425, -1.13946645, ...,  1.44426201,\n",
       "           2.70122081, -1.67874412],\n",
       "         ...,\n",
       "         [ 0.32077947, -1.08008022, -1.19137591, ...,  1.44426201,\n",
       "           2.40688572, -1.67874412],\n",
       "         [ 0.32027298, -1.08008022, -1.18382522, ...,  1.44426201,\n",
       "           2.47378905, -1.67874412],\n",
       "         [ 0.31976408, -1.07950592, -1.17344288, ...,  1.44426201,\n",
       "           2.52247395, -1.67874412]],\n",
       "\n",
       "        [[ 0.31976408, -1.03817677, -1.11587124, ...,  1.44426201,\n",
       "           2.06275586, -1.57043805],\n",
       "         [ 0.31519848, -1.03243649, -1.09322028, ...,  1.44426201,\n",
       "           2.33441714, -1.57043805],\n",
       "         [ 0.31063047, -1.02612192, -1.0705682 , ...,  1.44426201,\n",
       "           2.4794585 , -1.57043805],\n",
       "         ...,\n",
       "         [ 0.33752483, -1.04506564, -1.15267932, ...,  1.44426201,\n",
       "           1.50808802, -1.57043805],\n",
       "         [ 0.33092846, -1.04678718, -1.14607288, ...,  1.44426201,\n",
       "           1.76416741, -1.57043805],\n",
       "         [ 0.3238232 , -1.04391704, -1.13380315, ...,  1.44426201,\n",
       "           1.87833927, -1.57043805]],\n",
       "\n",
       "        [[ 0.25633285, -1.13346423, -1.228184  , ...,  1.44426201,\n",
       "           2.80071523, -1.46213197],\n",
       "         [ 0.24314012, -1.13748297, -1.19609496, ...,  1.44426201,\n",
       "           3.12389527, -1.46213197],\n",
       "         [ 0.23096277, -1.13576143, -1.16117427, ...,  1.44426201,\n",
       "           3.37895707, -1.46213197],\n",
       "         ...,\n",
       "         [ 0.30656894, -1.09443091, -1.2036434 , ...,  1.44426201,\n",
       "           0.85969458, -1.46213197],\n",
       "         [ 0.28830171, -1.11280033, -1.23573469, ...,  1.44426201,\n",
       "           2.03308297, -1.46213197],\n",
       "         [ 0.27054096, -1.12600242, -1.24611591, ...,  1.44426201,\n",
       "           2.49159806, -1.46213197]],\n",
       "\n",
       "        ...,\n",
       "\n",
       "        [[-0.85497753, -1.00545666, -1.15079192, ..., -0.73436932,\n",
       "          -0.44150882,  1.46213197],\n",
       "         [-0.88593342, -0.9870886 , -1.12908411, ..., -0.73436932,\n",
       "          -0.44090151,  1.46213197],\n",
       "         [-0.93870676, -0.98364416, -1.12247767, ..., -0.73436932,\n",
       "          -0.44191369,  1.46213197],\n",
       "         ...,\n",
       "         [-0.85548643, -1.09213644, -1.20742043, ..., -0.7343693 ,\n",
       "          -0.435842  ,  1.46213197],\n",
       "         [-0.84229128, -1.06056493, -1.20553304, ..., -0.73436932,\n",
       "          -0.44120516,  1.46213197],\n",
       "         [-0.84026293, -1.03128789, -1.18382634, ..., -0.73436932,\n",
       "          -0.441104  ,  1.46213197]],\n",
       "\n",
       "        [[-1.291382  , -1.2408079 , -1.27065538, ..., -0.73436932,\n",
       "          -0.44130638,  1.57043805],\n",
       "         [-1.31726098, -1.22186418, -1.25838564, ..., -0.73436932,\n",
       "          -0.44069907,  1.57043805],\n",
       "         [-1.346695  , -1.20636626, -1.24234112, ..., -0.73436932,\n",
       "          -0.44241978,  1.57043805],\n",
       "         ...,\n",
       "         [-1.26499654, -1.29648774, -1.28009346, ...,  1.06439006,\n",
       "          -0.28301559,  1.57043805],\n",
       "         [-1.26397874, -1.28098982, -1.28292511, ..., -0.29933311,\n",
       "          -0.39848176,  1.57043805],\n",
       "         [-1.27362126, -1.2620461 , -1.2791492 , ..., -0.73436932,\n",
       "          -0.44373519,  1.57043805]],\n",
       "\n",
       "        [[-1.56844866, -1.30050648, -1.21969017, ..., -0.73436932,\n",
       "          -0.44130638,  1.67874412],\n",
       "         [-1.57251019, -1.29821065, -1.21685852, ..., -0.73436932,\n",
       "          -0.44110395,  1.67874412],\n",
       "         [-1.57758469, -1.29648774, -1.21308261, ..., -0.73436932,\n",
       "          -0.44080029,  1.67874412],\n",
       "         ...,\n",
       "         [-1.56286768, -1.31198703, -1.21969017, ..., -0.73436932,\n",
       "          -0.43999064,  1.67874412],\n",
       "         [-1.56388065, -1.30796829, -1.2206333 , ..., -0.73436932,\n",
       "          -0.44191358,  1.67874412],\n",
       "         [-1.56591141, -1.30395092, -1.22157756, ..., -0.73436932,\n",
       "          -0.44161007,  1.67874412]]],\n",
       "\n",
       "\n",
       "       [[[ 0.31671794, -1.07548855, -1.15645522, ...,  1.44426201,\n",
       "           2.57085561, -1.67874412],\n",
       "         [ 0.31621145, -1.07376565, -1.14512863, ...,  1.44426201,\n",
       "           2.63684811, -1.67874412],\n",
       "         [ 0.31621145, -1.07204411, -1.13380315, ...,  1.44426201,\n",
       "           2.70122081, -1.67874412],\n",
       "         ...,\n",
       "         [ 0.31671794, -1.07778439, -1.18665687, ...,  1.44426201,\n",
       "           2.40688572, -1.67874412],\n",
       "         [ 0.31671794, -1.07778439, -1.17816192, ...,  1.44426201,\n",
       "           2.47378905, -1.67874412],\n",
       "         [ 0.31671794, -1.07721009, -1.1677807 , ...,  1.44426201,\n",
       "           2.52247395, -1.67874412]],\n",
       "\n",
       "        [[ 0.31671794, -1.04276844, -1.12059028, ...,  1.44426201,\n",
       "           2.06275586, -1.57043805],\n",
       "         [ 0.31164344, -1.03875107, -1.09888246, ...,  1.44426201,\n",
       "           2.33441714, -1.57043805],\n",
       "         [ 0.30656894, -1.03358509, -1.07528725, ...,  1.44426201,\n",
       "           2.4794585 , -1.57043805],\n",
       "         ...,\n",
       "         [ 0.33194143, -1.04736148, -1.15834262, ...,  1.44426201,\n",
       "           1.50808802, -1.57043805],\n",
       "         [ 0.32483858, -1.05080455, -1.15079192, ...,  1.44426201,\n",
       "           1.76416741, -1.57043805],\n",
       "         [ 0.31925519, -1.04736148, -1.13757905, ...,  1.44426201,\n",
       "           1.87833927, -1.57043805]],\n",
       "\n",
       "        [[ 0.24516847, -1.1392045 , -1.23667782, ...,  1.44426201,\n",
       "           2.80071523, -1.46213197],\n",
       "         [ 0.23349761, -1.14379754, -1.20553304, ...,  1.44426201,\n",
       "           3.12389527, -1.46213197],\n",
       "         [ 0.22182674, -1.14207464, -1.16966809, ...,  1.44426201,\n",
       "           3.37895707, -1.46213197],\n",
       "         ...,\n",
       "         [ 0.30149444, -1.09672675, -1.21025096, ...,  1.44426201,\n",
       "           0.85969458, -1.46213197],\n",
       "         [ 0.28119886, -1.11681771, -1.24517165, ...,  1.44426201,\n",
       "           2.03308297, -1.46213197],\n",
       "         [ 0.26191625, -1.13059409, -1.25461086, ...,  1.44426201,\n",
       "           2.49159806, -1.46213197]],\n",
       "\n",
       "        ...,\n",
       "\n",
       "        [[-0.84330666, -1.01578997, -1.1621174 , ..., -0.73436932,\n",
       "          -0.44150882,  1.46213197],\n",
       "         [-0.86918564, -0.99397611, -1.13380315, ..., -0.73436932,\n",
       "          -0.44090151,  1.46213197],\n",
       "         [-0.91739338, -0.9876629 , -1.12436506, ..., -0.73436932,\n",
       "          -0.44191369,  1.46213197],\n",
       "         ...,\n",
       "         [-0.8514249 , -1.09845101, -1.21402687, ..., -0.7343693 ,\n",
       "          -0.435842  ,  1.46213197],\n",
       "         [-0.83569492, -1.06917398, -1.21497113, ..., -0.73436932,\n",
       "          -0.44120516,  1.46213197],\n",
       "         [-0.8311269 , -1.04162121, -1.19609608, ..., -0.73436932,\n",
       "          -0.441104  ,  1.46213197]],\n",
       "\n",
       "        [[-1.28580102, -1.24769541, -1.27820607, ..., -0.73436932,\n",
       "          -0.44130638,  1.57043805],\n",
       "         [-1.30964923, -1.23047459, -1.26499208, ..., -0.73436932,\n",
       "          -0.44069907,  1.57043805],\n",
       "         [-1.33553062, -1.21382807, -1.24894756, ..., -0.73436932,\n",
       "          -0.44241978,  1.57043805],\n",
       "         ...,\n",
       "         [-1.25839776, -1.29648774, -1.28386825, ...,  1.06439006,\n",
       "          -0.28301559,  1.57043805],\n",
       "         [-1.25890425, -1.28328566, -1.28858729, ..., -0.29933311,\n",
       "          -0.39848176,  1.57043805],\n",
       "         [-1.26854676, -1.26606484, -1.28575564, ..., -0.73436932,\n",
       "          -0.44373519,  1.57043805]],\n",
       "\n",
       "        [[-1.5567778 , -1.29763635, -1.21213948, ..., -0.73436932,\n",
       "          -0.44130638,  1.67874412],\n",
       "         [-1.56083691, -1.29476621, -1.20742043, ..., -0.73436932,\n",
       "          -0.44110395,  1.67874412],\n",
       "         [-1.56591141, -1.29247037, -1.20175713, ..., -0.73436932,\n",
       "          -0.44080029,  1.67874412],\n",
       "         ...,\n",
       "         [-1.54916605, -1.30854259, -1.21685852, ..., -0.73436932,\n",
       "          -0.43999064,  1.67874412],\n",
       "         [-1.55068792, -1.30452386, -1.21685852, ..., -0.73436932,\n",
       "          -0.44191358,  1.67874412],\n",
       "         [-1.55322517, -1.30050648, -1.21497113, ..., -0.73436932,\n",
       "          -0.44161007,  1.67874412]]],\n",
       "\n",
       "\n",
       "       [[[ 0.32128595, -1.06917398, -1.14701714, ...,  1.44426201,\n",
       "           2.57085561, -1.67874412],\n",
       "         [ 0.32077947, -1.06802538, -1.13569054, ...,  1.44426201,\n",
       "           2.63684811, -1.67874412],\n",
       "         [ 0.32027298, -1.06630384, -1.12530932, ...,  1.44426201,\n",
       "           2.70122081, -1.67874412],\n",
       "         ...,\n",
       "         [ 0.32230133, -1.07089551, -1.17627453, ...,  1.44426201,\n",
       "           2.40688572, -1.67874412],\n",
       "         [ 0.32230133, -1.07089551, -1.1677807 , ...,  1.44426201,\n",
       "           2.47378905, -1.67874412],\n",
       "         [ 0.32179244, -1.07032258, -1.15834262, ...,  1.44426201,\n",
       "           2.52247395, -1.67874412]],\n",
       "\n",
       "        [[ 0.32027298, -1.0410469 , -1.11587124, ...,  1.44426201,\n",
       "           2.06275586, -1.57043805],\n",
       "         [ 0.31519848, -1.03817677, -1.09416342, ...,  1.44426201,\n",
       "           2.33441714, -1.57043805],\n",
       "         [ 0.31012398, -1.03415803, -1.0705682 , ...,  1.44426201,\n",
       "           2.4794585 , -1.57043805],\n",
       "         ...,\n",
       "         [ 0.33752483, -1.04449134, -1.15739836, ...,  1.44426201,\n",
       "           1.50808802, -1.57043805],\n",
       "         [ 0.33042198, -1.04850872, -1.14701714, ...,  1.44426201,\n",
       "           1.76416741, -1.57043805],\n",
       "         [ 0.32636045, -1.04506564, -1.13286001, ...,  1.44426201,\n",
       "           1.87833927, -1.57043805]],\n",
       "\n",
       "        [[ 0.24923   , -1.13633437, -1.23384729, ...,  1.44426201,\n",
       "           2.80071523, -1.46213197],\n",
       "         [ 0.23603486, -1.1415017 , -1.20270139, ...,  1.44426201,\n",
       "           3.12389527, -1.46213197],\n",
       "         [ 0.22436399, -1.1403531 , -1.16589331, ...,  1.44426201,\n",
       "           3.37895707, -1.46213197],\n",
       "         ...,\n",
       "         [ 0.30555597, -1.09500521, -1.21025096, ...,  1.44426201,\n",
       "           0.85969458, -1.46213197],\n",
       "         [ 0.28627336, -1.11509617, -1.24517277, ...,  1.44426201,\n",
       "           2.03308297, -1.46213197],\n",
       "         [ 0.26699074, -1.12829825, -1.25272234, ...,  1.44426201,\n",
       "           2.49159806, -1.46213197]],\n",
       "\n",
       "        ...,\n",
       "\n",
       "        [[-0.81539692, -1.01636427, -1.16117427, ..., -0.73436932,\n",
       "          -0.44150882,  1.46213197],\n",
       "         [-0.8412759 , -0.99569901, -1.13191576, ..., -0.73436932,\n",
       "          -0.44090151,  1.46213197],\n",
       "         [-0.89252737, -0.98938444, -1.12059028, ..., -0.73436932,\n",
       "          -0.44191369,  1.46213197],\n",
       "         ...,\n",
       "         [-0.83670789, -1.09500521, -1.20364453, ..., -0.7343693 ,\n",
       "          -0.435842  ,  1.46213197],\n",
       "         [-0.81438154, -1.06630384, -1.20647618, ..., -0.73436932,\n",
       "          -0.44120516,  1.46213197],\n",
       "         [-0.8062609 , -1.0404726 , -1.19137591, ..., -0.73436932,\n",
       "          -0.441104  ,  1.46213197]],\n",
       "\n",
       "        [[-1.26245929, -1.24826971, -1.27631755, ..., -0.73436932,\n",
       "          -0.44130638,  1.57043805],\n",
       "         [-1.28173949, -1.23104889, -1.26310468, ..., -0.73436932,\n",
       "          -0.44069907,  1.57043805],\n",
       "         [-1.30762088, -1.21440237, -1.24706016, ..., -0.73436932,\n",
       "          -0.44241978,  1.57043805],\n",
       "         ...,\n",
       "         [-1.24317426, -1.29476621, -1.2866999 , ...,  1.06439006,\n",
       "          -0.28301559,  1.57043805],\n",
       "         [-1.24216129, -1.28271136, -1.28858729, ..., -0.29933311,\n",
       "          -0.39848176,  1.57043805],\n",
       "         [-1.24875525, -1.26549054, -1.28575564, ..., -0.73436932,\n",
       "          -0.44373519,  1.57043805]],\n",
       "\n",
       "        [[-1.5517033 , -1.30165372, -1.21591426, ..., -0.73436932,\n",
       "          -0.44130638,  1.67874412],\n",
       "         [-1.55525593, -1.29821065, -1.21025208, ..., -0.73436932,\n",
       "          -0.44110395,  1.67874412],\n",
       "         [-1.55880615, -1.29591344, -1.20458878, ..., -0.73436932,\n",
       "          -0.44080029,  1.67874412],\n",
       "         ...,\n",
       "         [-1.5461199 , -1.31198703, -1.22440921, ..., -0.73436932,\n",
       "          -0.43999064,  1.67874412],\n",
       "         [-1.5471377 , -1.30854259, -1.22346495, ..., -0.73436932,\n",
       "          -0.44191358,  1.67874412],\n",
       "         [-1.54916605, -1.30452386, -1.21969017, ..., -0.73436932,\n",
       "          -0.44161007,  1.67874412]]],\n",
       "\n",
       "\n",
       "       ...,\n",
       "\n",
       "\n",
       "       [[[ 0.08583066, -1.33494813, -1.51226967, ...,  1.44426201,\n",
       "           2.57085561, -1.67874412],\n",
       "         [ 0.08227803, -1.33379953, -1.51415707, ...,  1.44426201,\n",
       "           2.63684811, -1.67874412],\n",
       "         [ 0.07923429, -1.33207799, -1.51415707, ...,  1.44426201,\n",
       "           2.70122081, -1.67874412],\n",
       "         ...,\n",
       "         [ 0.09800801, -1.33494813, -1.4952809 , ...,  1.44426201,\n",
       "           2.40688572, -1.67874412],\n",
       "         [ 0.09395131, -1.33552106, -1.50188733, ...,  1.44426201,\n",
       "           2.47378905, -1.67874412],\n",
       "         [ 0.08988978, -1.33552106, -1.50755063, ...,  1.44426201,\n",
       "           2.52247395, -1.67874412]],\n",
       "\n",
       "        [[ 0.04675654, -1.24826971, -1.39334936, ...,  1.44426201,\n",
       "           2.06275586, -1.57043805],\n",
       "         [ 0.03559457, -1.22875305, -1.36409197, ...,  1.44426201,\n",
       "           2.33441714, -1.57043805],\n",
       "         [ 0.02493668, -1.20694056, -1.33105867, ...,  1.44426201,\n",
       "           2.4794585 , -1.57043805],\n",
       "         ...,\n",
       "         [ 0.08633956, -1.26893497, -1.43204595, ...,  1.44426201,\n",
       "           1.50808802, -1.57043805],\n",
       "         [ 0.07365331, -1.26836067, -1.4292143 , ...,  1.44426201,\n",
       "           1.76416741, -1.57043805],\n",
       "         [ 0.05994927, -1.2614718 , -1.41600143, ...,  1.44426201,\n",
       "           1.87833927, -1.57043805]],\n",
       "\n",
       "        [[-0.0105824 , -1.0622851 , -1.16494905, ...,  1.44426201,\n",
       "           2.80071523, -1.46213197],\n",
       "         [-0.02885204, -1.01808581, -1.12436506, ...,  1.44426201,\n",
       "           3.12389527, -1.46213197],\n",
       "         [-0.04001642, -0.98134833, -1.08283794, ...,  1.44426201,\n",
       "           3.37895707, -1.46213197],\n",
       "         ...,\n",
       "         [ 0.06654805, -1.13576143, -1.25838564, ...,  1.44426201,\n",
       "           0.85969458, -1.46213197],\n",
       "         [ 0.03762292, -1.13231699, -1.24234112, ...,  1.44426201,\n",
       "           2.03308297, -1.46213197],\n",
       "         [ 0.01072856, -1.10246838, -1.20930895, ...,  1.44426201,\n",
       "           2.49159806, -1.46213197]],\n",
       "\n",
       "        ...,\n",
       "\n",
       "        [[-1.77853387, -0.88433796, -0.8091346 , ..., -0.73436932,\n",
       "          -0.44150882,  1.46213197],\n",
       "         [-1.66537062, -0.67481932, -0.64208073, ..., -0.73436932,\n",
       "          -0.44090151,  1.46213197],\n",
       "         [-1.56844866, -0.47276248, -0.4618151 , ..., -0.73436932,\n",
       "          -0.44191369,  1.46213197],\n",
       "         ...,\n",
       "         [-2.09010664, -1.35561339, -1.21403023, ..., -0.7343693 ,\n",
       "          -0.435842  ,  1.46213197],\n",
       "         [-2.00434906, -1.24253217, -1.0885046 , ..., -0.73436932,\n",
       "          -0.44120516,  1.46213197],\n",
       "         [-1.88459186, -1.08065862, -0.94410168, ..., -0.73436932,\n",
       "          -0.441104  ,  1.46213197]],\n",
       "\n",
       "        [[-1.90336557, -1.22129124, -1.23573469, ..., -0.73436932,\n",
       "          -0.44130638,  1.57043805],\n",
       "         [-1.84602181, -1.1397788 , -1.15362357, ..., -0.73436932,\n",
       "          -0.44069907,  1.57043805],\n",
       "         [-1.7866521 , -1.03760247, -1.06396177, ..., -0.73436932,\n",
       "          -0.44241978,  1.57043805],\n",
       "         ...,\n",
       "         [-2.06879326, -1.35159465, -1.3650351 , ...,  1.06439006,\n",
       "          -0.28301559,  1.57043805],\n",
       "         [-2.01551344, -1.32346894, -1.34049788, ..., -0.29933311,\n",
       "          -0.39848176,  1.57043805],\n",
       "         [-1.95867857, -1.28271272, -1.29708336, ..., -0.73436932,\n",
       "          -0.44373519,  1.57043805]],\n",
       "\n",
       "        [[-1.95715429, -1.36824117, -1.45186526, ..., -0.73436932,\n",
       "          -0.44130638,  1.67874412],\n",
       "         [-1.93888706, -1.34872451, -1.42166361, ..., -0.73436932,\n",
       "          -0.44110395,  1.67874412],\n",
       "         [-1.92010852, -1.32518912, -1.38485553, ..., -0.73436932,\n",
       "          -0.44080029,  1.67874412],\n",
       "         ...,\n",
       "         [-2.0068839 , -1.40842309, -1.48678595, ..., -0.73436932,\n",
       "          -0.43999064,  1.67874412],\n",
       "         [-1.99115151, -1.39808978, -1.48584281, ..., -0.73436932,\n",
       "          -0.44191358,  1.67874412],\n",
       "         [-1.97440855, -1.3848877 , -1.47357308, ..., -0.73436932,\n",
       "          -0.44161007,  1.67874412]]],\n",
       "\n",
       "\n",
       "       [[[ 0.08532176, -1.33666966, -1.52265089, ...,  1.44426201,\n",
       "           2.57085561, -1.67874412],\n",
       "         [ 0.08126506, -1.33552106, -1.52548254, ...,  1.44426201,\n",
       "           2.63684811, -1.67874412],\n",
       "         [ 0.07821891, -1.33379953, -1.52548254, ...,  1.44426201,\n",
       "           2.70122081, -1.67874412],\n",
       "         ...,\n",
       "         [ 0.09699504, -1.33609536, -1.50471898, ...,  1.44426201,\n",
       "           2.40688572, -1.67874412],\n",
       "         [ 0.09293351, -1.33666966, -1.51226967, ...,  1.44426201,\n",
       "           2.47378905, -1.67874412],\n",
       "         [ 0.08887681, -1.33666966, -1.51887611, ...,  1.44426201,\n",
       "           2.52247395, -1.67874412]],\n",
       "\n",
       "        [[ 0.03863831, -1.25458429, -1.41033813, ...,  1.44426201,\n",
       "           2.06275586, -1.57043805],\n",
       "         [ 0.02848931, -1.23449333, -1.37919223, ...,  1.44426201,\n",
       "           2.33441714, -1.57043805],\n",
       "         [ 0.01935569, -1.21210653, -1.34238415, ...,  1.44426201,\n",
       "           2.4794585 , -1.57043805],\n",
       "         ...,\n",
       "         [ 0.07466628, -1.27869262, -1.45092212, ...,  1.44426201,\n",
       "           1.50808802, -1.57043805],\n",
       "         [ 0.06198003, -1.27639679, -1.44903473, ...,  1.44426201,\n",
       "           1.76416741, -1.57043805],\n",
       "         [ 0.05081807, -1.26836067, -1.43393335, ...,  1.44426201,\n",
       "           1.87833927, -1.57043805]],\n",
       "\n",
       "        [[-0.01261317, -1.06515524, -1.16494905, ...,  1.44426201,\n",
       "           2.80071523, -1.46213197],\n",
       "         [-0.02986743, -1.02210455, -1.12530932, ...,  1.44426201,\n",
       "           3.12389527, -1.46213197],\n",
       "         [-0.04102939, -0.98249556, -1.0837822 , ...,  1.44426201,\n",
       "           3.37895707, -1.46213197],\n",
       "         ...,\n",
       "         [ 0.05994927, -1.13863157, -1.27348703, ...,  1.44426201,\n",
       "           0.85969458, -1.46213197],\n",
       "         [ 0.03356381, -1.13518713, -1.24800442, ...,  1.44426201,\n",
       "           2.03308297, -1.46213197],\n",
       "         [ 0.0086978 , -1.10648712, -1.2121406 , ...,  1.44426201,\n",
       "           2.49159806, -1.46213197]],\n",
       "\n",
       "        ...,\n",
       "\n",
       "        [[-1.78360837, -0.8648213 , -0.783652  , ..., -0.73436932,\n",
       "          -0.44150882,  1.46213197],\n",
       "         [-1.66892325, -0.65874573, -0.61565499, ..., -0.73436932,\n",
       "          -0.44090151,  1.46213197],\n",
       "         [-1.57352316, -0.46070763, -0.45426441, ..., -0.73436932,\n",
       "          -0.44191369,  1.46213197],\n",
       "         ...,\n",
       "         [-2.08706291, -1.33954253, -1.19704146, ..., -0.7343693 ,\n",
       "          -0.435842  ,  1.46213197],\n",
       "         [-1.99420006, -1.21842383, -1.05452705, ..., -0.73436932,\n",
       "          -0.44120516,  1.46213197],\n",
       "         [-1.88256109, -1.05367878, -0.91673056, ..., -0.73436932,\n",
       "          -0.441104  ,  1.46213197]],\n",
       "\n",
       "        [[-1.89422955, -1.19029267, -1.17249974, ..., -0.73436932,\n",
       "          -0.44130638,  1.57043805],\n",
       "         [-1.84348456, -1.1082073 , -1.09888246, ..., -0.73436932,\n",
       "          -0.44069907,  1.57043805],\n",
       "         [-1.79223309, -1.0100497 , -1.02149039, ..., -0.73436932,\n",
       "          -0.44241978,  1.57043805],\n",
       "         ...,\n",
       "         [-2.06321228, -1.33781827, -1.32445224, ...,  1.06439006,\n",
       "          -0.28301559,  1.57043805],\n",
       "         [-2.00840818, -1.30509952, -1.29142006, ..., -0.29933311,\n",
       "          -0.39848176,  1.57043805],\n",
       "         [-1.94954496, -1.25745579, -1.23951059, ..., -0.73436932,\n",
       "          -0.44373519,  1.57043805]],\n",
       "\n",
       "        [[-1.9520798 , -1.38833213, -1.49905568, ..., -0.73436932,\n",
       "          -0.44130638,  1.67874412],\n",
       "         [-1.93431905, -1.36938841, -1.47262882, ..., -0.73436932,\n",
       "          -0.44110395,  1.67874412],\n",
       "         [-1.91605182, -1.34700161, -1.43865239, ..., -0.73436932,\n",
       "          -0.44080029,  1.67874412],\n",
       "         ...,\n",
       "         [-2.00028753, -1.42736545, -1.52831419, ..., -0.73436932,\n",
       "          -0.43999064,  1.67874412],\n",
       "         [-1.98506404, -1.4176078 , -1.52736994, ..., -0.73436932,\n",
       "          -0.44191358,  1.67874412],\n",
       "         [-1.96882516, -1.40440436, -1.51698872, ..., -0.73436932,\n",
       "          -0.44161007,  1.67874412]]],\n",
       "\n",
       "\n",
       "       [[[ 0.08430879, -1.33724396, -1.52359515, ...,  1.44426201,\n",
       "           2.57085561, -1.67874412],\n",
       "         [ 0.08177154, -1.33609536, -1.52642568, ...,  1.44426201,\n",
       "           2.63684811, -1.67874412],\n",
       "         [ 0.07923429, -1.33494813, -1.52642568, ...,  1.44426201,\n",
       "           2.70122081, -1.67874412],\n",
       "         ...,\n",
       "         [ 0.09395131, -1.33666966, -1.50471898, ...,  1.44426201,\n",
       "           2.40688572, -1.67874412],\n",
       "         [ 0.09039626, -1.33724396, -1.51226967, ...,  1.44426201,\n",
       "           2.47378905, -1.67874412],\n",
       "         [ 0.08735253, -1.33781827, -1.51793185, ...,  1.44426201,\n",
       "           2.52247395, -1.67874412]],\n",
       "\n",
       "        [[ 0.04777192, -1.24941831, -1.39995691, ...,  1.44426201,\n",
       "           2.06275586, -1.57043805],\n",
       "         [ 0.03762292, -1.23047459, -1.36975415, ...,  1.44426201,\n",
       "           2.33441714, -1.57043805],\n",
       "         [ 0.02848931, -1.20866209, -1.33389032, ...,  1.44426201,\n",
       "           2.4794585 , -1.57043805],\n",
       "         ...,\n",
       "         [ 0.08633956, -1.27065651, -1.436765  , ...,  1.44426201,\n",
       "           1.50808802, -1.57043805],\n",
       "         [ 0.07162255, -1.26893497, -1.436765  , ...,  1.44426201,\n",
       "           1.76416741, -1.57043805],\n",
       "         [ 0.05944279, -1.2620461 , -1.423551  , ...,  1.44426201,\n",
       "           1.87833927, -1.57043805]],\n",
       "\n",
       "        [[-0.01464393, -1.06056356, -1.15551097, ...,  1.44426201,\n",
       "           2.80071523, -1.46213197],\n",
       "         [-0.0308804 , -1.01751151, -1.11587124, ...,  1.44426201,\n",
       "           3.12389527, -1.46213197],\n",
       "         [-0.04458444, -0.97905249, -1.0781189 , ...,  1.44426201,\n",
       "           3.37895707, -1.46213197],\n",
       "         ...,\n",
       "         [ 0.06654805, -1.13174269, -1.26876798, ...,  1.44426201,\n",
       "           0.85969458, -1.46213197],\n",
       "         [ 0.03711644, -1.12887256, -1.24045485, ...,  1.44426201,\n",
       "           2.03308297, -1.46213197],\n",
       "         [ 0.0092067 , -1.10132115, -1.20364565, ...,  1.44426201,\n",
       "           2.49159806, -1.46213197]],\n",
       "\n",
       "        ...,\n",
       "\n",
       "        [[-1.79223309, -0.85047062, -0.76100104, ..., -0.73436932,\n",
       "          -0.44150882,  1.46213197],\n",
       "         [-1.66587711, -0.64611795, -0.59583456, ..., -0.73436932,\n",
       "          -0.44090151,  1.46213197],\n",
       "         [-1.57402965, -0.4561146 , -0.44482633, ..., -0.73436932,\n",
       "          -0.44191369,  1.46213197],\n",
       "         ...,\n",
       "         [-2.08756939, -1.32519184, -1.16117763, ..., -0.7343693 ,\n",
       "          -0.435842  ,  1.46213197],\n",
       "         [-1.99470896, -1.20062871, -1.02149375, ..., -0.73436932,\n",
       "          -0.44120516,  1.46213197],\n",
       "         [-1.89524734, -1.03244059, -0.89407961, ..., -0.73436932,\n",
       "          -0.441104  ,  1.46213197]],\n",
       "\n",
       "        [[-1.90082832, -1.17364615, -1.13757905, ..., -0.73436932,\n",
       "          -0.44130638,  1.57043805],\n",
       "         [-1.85109631, -1.09098647, -1.06679342, ..., -0.73436932,\n",
       "          -0.44069907,  1.57043805],\n",
       "         [-1.79324847, -0.99340317, -0.99412039, ..., -0.73436932,\n",
       "          -0.44241978,  1.57043805],\n",
       "         ...,\n",
       "         [-2.06067503, -1.33150369, -1.29425171, ...,  1.06439006,\n",
       "          -0.28301559,  1.57043805],\n",
       "         [-2.0114495 , -1.29591481, -1.25555511, ..., -0.29933311,\n",
       "          -0.39848176,  1.57043805],\n",
       "         [-1.95563243, -1.24425234, -1.20270251, ..., -0.73436932,\n",
       "          -0.44373519,  1.57043805]],\n",
       "\n",
       "        [[-1.96933406, -1.4153106 , -1.56700967, ..., -0.73436932,\n",
       "          -0.44130638,  1.67874412],\n",
       "         [-1.95106441, -1.39866408, -1.54530185, ..., -0.73436932,\n",
       "          -0.44110395,  1.67874412],\n",
       "         [-1.93228829, -1.37914742, -1.51698872, ..., -0.73436932,\n",
       "          -0.44080029,  1.67874412],\n",
       "         ...,\n",
       "         [-2.02007904, -1.45090085, -1.58211105, ..., -0.73436932,\n",
       "          -0.43999064,  1.67874412],\n",
       "         [-2.00434665, -1.44229044, -1.58588584, ..., -0.73436932,\n",
       "          -0.44191358,  1.67874412],\n",
       "         [-1.9870948 , -1.43023559, -1.58116679, ..., -0.73436932,\n",
       "          -0.44161007,  1.67874412]]]])\n",
       "Coordinates:\n",
       "  * lat          (lat) float64 -87.19 -81.56 -75.94 -70.31 ... 75.94 81.56 87.19\n",
       "  * lon          (lon) float64 0.0 5.625 11.25 16.88 ... 337.5 343.1 348.8 354.4\n",
       "  * time         (time) datetime64[ns] 2015-01-01 ... 2015-12-31T23:00:00\n",
       "  * level        (level) int64 50 250 500 600 700 850 925 ... 700 850 925 1 1 1\n",
       "    level_names  (level) <U9 'z_50' 'z_250' 'z_500' ... 'orography' 'lat2d'"
      ]
     },
     "execution_count": 39,
     "metadata": {},
     "output_type": "execute_result"
    }
   ],
   "source": [
    "%%time\n",
    "# 461G-->463G\n",
    "dg_train.data.load()"
   ]
  },
  {
   "cell_type": "code",
   "execution_count": 40,
   "metadata": {},
   "outputs": [
    {
     "name": "stdout",
     "output_type": "stream",
     "text": [
      "CPU times: user 39.1 ms, sys: 18.5 ms, total: 57.6 ms\n",
      "Wall time: 56.4 ms\n"
     ]
    }
   ],
   "source": [
    "%%time\n",
    "X, y = dg_train[np.random.randint(len(dg_train))]"
   ]
  },
  {
   "cell_type": "markdown",
   "metadata": {
    "collapsed": "true"
   },
   "source": [
    "## TFRecords"
   ]
  },
  {
   "cell_type": "code",
   "execution_count": 259,
   "metadata": {},
   "outputs": [],
   "source": [
    "var_dict = args['var_dict']\n",
    "data = []\n",
    "level_names = []\n",
    "generic_level = xr.DataArray([1], coords={'level': [1]}, dims=['level'])\n",
    "for long_var, params in var_dict.items():\n",
    "    if long_var == 'constants':\n",
    "        for var in params:\n",
    "            data.append(ds_train[var].expand_dims(\n",
    "                {'level': generic_level, 'time': ds_train.time}, (1, 0)\n",
    "            ))\n",
    "            level_names.append(var)\n",
    "    else:\n",
    "        var, levels = params\n",
    "        try:\n",
    "            data.append(ds_train[var].sel(level=levels))\n",
    "            level_names += [f'{var}_{level}' for level in levels]\n",
    "        except ValueError:\n",
    "            data.append(ds_train[var].expand_dims({'level': generic_level}, 1))\n",
    "            level_names.append(var)\n",
    "\n",
    "data = xr.concat(data, 'level').transpose('time', 'lat', 'lon', 'level')\n",
    "data['level_names'] = xr.DataArray(\n",
    "    level_names, dims=['level'], coords={'level': data.level})"
   ]
  },
  {
   "cell_type": "code",
   "execution_count": 260,
   "metadata": {},
   "outputs": [],
   "source": [
    "ds = data"
   ]
  },
  {
   "cell_type": "code",
   "execution_count": 264,
   "metadata": {},
   "outputs": [],
   "source": [
    "def _tensor_feature(value):\n",
    "    \"\"\"Returns a float_list from a float / double.\"\"\"\n",
    "    value = tf.io.serialize_tensor(value).numpy()\n",
    "    return tf.train.Feature(bytes_list=tf.train.BytesList(value=[value]))"
   ]
  },
  {
   "cell_type": "code",
   "execution_count": 265,
   "metadata": {},
   "outputs": [],
   "source": [
    "def _bytes_feature(value):\n",
    "    \"\"\"Returns a bytes_list from a string / byte.\"\"\"\n",
    "    if isinstance(value, type(tf.constant(0))):\n",
    "        value = value.numpy() # BytesList won't unpack a string from an EagerTensor.\n",
    "    return tf.train.Feature(bytes_list=tf.train.BytesList(value=[value]))"
   ]
  },
  {
   "cell_type": "code",
   "execution_count": 266,
   "metadata": {},
   "outputs": [],
   "source": [
    "def serialize_example(time, data):\n",
    "    feature = {\n",
    "        'time': _bytes_feature(time),\n",
    "        'data': _tensor_feature(data)\n",
    "    }\n",
    "    feature = tf.train.Features(feature=feature)\n",
    "    example_proto = tf.train.Example(features=feature)\n",
    "    return example_proto.SerializeToString()"
   ]
  },
  {
   "cell_type": "code",
   "execution_count": 257,
   "metadata": {},
   "outputs": [
    {
     "data": {
      "text/plain": [
       "bytes"
      ]
     },
     "execution_count": 257,
     "metadata": {},
     "output_type": "execute_result"
    }
   ],
   "source": [
    "type(time.encode('utf-8'))"
   ]
  },
  {
   "cell_type": "code",
   "execution_count": 267,
   "metadata": {},
   "outputs": [],
   "source": [
    "filename = 'test4.tfrecord'\n",
    "writer = tf.io.TFRecordWriter(filename)\n",
    "for i in range(10):\n",
    "    time = str(ds.isel(time=i).time.values).encode('utf-8')\n",
    "    data = ds.isel(time=i).values.astype('float32')\n",
    "    serialized_example = serialize_example(time, data)\n",
    "    writer.write(serialized_example)"
   ]
  },
  {
   "cell_type": "code",
   "execution_count": 268,
   "metadata": {},
   "outputs": [],
   "source": [
    "raw_ds = tf.data.TFRecordDataset([filename])"
   ]
  },
  {
   "cell_type": "code",
   "execution_count": 269,
   "metadata": {},
   "outputs": [],
   "source": [
    "features = {\n",
    "    'time': tf.io.FixedLenFeature([], tf.string),\n",
    "    'data': tf.io.FixedLenFeature([], tf.string)\n",
    "}"
   ]
  },
  {
   "cell_type": "code",
   "execution_count": 270,
   "metadata": {},
   "outputs": [],
   "source": [
    "def _parse(example_proto):\n",
    "    return tf.io.parse_single_example(example_proto, features)"
   ]
  },
  {
   "cell_type": "code",
   "execution_count": null,
   "metadata": {},
   "outputs": [],
   "source": [
    "def decode(example_proto):\n",
    "    dic = _parse(example_proto)\n",
    "    # Get the data and normalize!"
   ]
  },
  {
   "cell_type": "code",
   "execution_count": 271,
   "metadata": {},
   "outputs": [],
   "source": [
    "parsed_ds = raw_ds.map(_parse)"
   ]
  },
  {
   "cell_type": "code",
   "execution_count": 272,
   "metadata": {},
   "outputs": [
    {
     "data": {
      "text/plain": [
       "<MapDataset shapes: {data: (), time: ()}, types: {data: tf.string, time: tf.string}>"
      ]
     },
     "execution_count": 272,
     "metadata": {},
     "output_type": "execute_result"
    }
   ],
   "source": [
    "parsed_ds"
   ]
  },
  {
   "cell_type": "code",
   "execution_count": 290,
   "metadata": {},
   "outputs": [],
   "source": [
    "parsed_ds = parsed_ds.shuffle(5)"
   ]
  },
  {
   "cell_type": "code",
   "execution_count": 291,
   "metadata": {
    "collapsed": true,
    "jupyter": {
     "outputs_hidden": true
    }
   },
   "outputs": [
    {
     "name": "stdout",
     "output_type": "stream",
     "text": [
      "tf.Tensor(b'2015-01-01T00:00:00.000000000', shape=(), dtype=string)\n",
      "tf.Tensor(b'2015-01-01T05:00:00.000000000', shape=(), dtype=string)\n",
      "tf.Tensor(b'2015-01-01T04:00:00.000000000', shape=(), dtype=string)\n",
      "tf.Tensor(b'2015-01-01T06:00:00.000000000', shape=(), dtype=string)\n",
      "tf.Tensor(b'2015-01-01T01:00:00.000000000', shape=(), dtype=string)\n"
     ]
    },
    {
     "ename": "DataLossError",
     "evalue": "truncated record at 2802609",
     "output_type": "error",
     "traceback": [
      "\u001b[0;31m---------------------------------------------------------------------------\u001b[0m",
      "\u001b[0;31mDataLossError\u001b[0m                             Traceback (most recent call last)",
      "\u001b[0;32m~/miniconda3/lib/python3.7/site-packages/tensorflow_core/python/eager/context.py\u001b[0m in \u001b[0;36mexecution_mode\u001b[0;34m(mode)\u001b[0m\n\u001b[1;32m   1896\u001b[0m     \u001b[0mctx\u001b[0m\u001b[0;34m.\u001b[0m\u001b[0mexecutor\u001b[0m \u001b[0;34m=\u001b[0m \u001b[0mexecutor_new\u001b[0m\u001b[0;34m\u001b[0m\u001b[0;34m\u001b[0m\u001b[0m\n\u001b[0;32m-> 1897\u001b[0;31m     \u001b[0;32myield\u001b[0m\u001b[0;34m\u001b[0m\u001b[0;34m\u001b[0m\u001b[0m\n\u001b[0m\u001b[1;32m   1898\u001b[0m   \u001b[0;32mfinally\u001b[0m\u001b[0;34m:\u001b[0m\u001b[0;34m\u001b[0m\u001b[0;34m\u001b[0m\u001b[0m\n",
      "\u001b[0;32m~/miniconda3/lib/python3.7/site-packages/tensorflow_core/python/data/ops/iterator_ops.py\u001b[0m in \u001b[0;36m_next_internal\u001b[0;34m(self)\u001b[0m\n\u001b[1;32m    658\u001b[0m             \u001b[0moutput_types\u001b[0m\u001b[0;34m=\u001b[0m\u001b[0mself\u001b[0m\u001b[0;34m.\u001b[0m\u001b[0m_flat_output_types\u001b[0m\u001b[0;34m,\u001b[0m\u001b[0;34m\u001b[0m\u001b[0;34m\u001b[0m\u001b[0m\n\u001b[0;32m--> 659\u001b[0;31m             output_shapes=self._flat_output_shapes)\n\u001b[0m\u001b[1;32m    660\u001b[0m \u001b[0;34m\u001b[0m\u001b[0m\n",
      "\u001b[0;32m~/miniconda3/lib/python3.7/site-packages/tensorflow_core/python/ops/gen_dataset_ops.py\u001b[0m in \u001b[0;36miterator_get_next_sync\u001b[0;34m(iterator, output_types, output_shapes, name)\u001b[0m\n\u001b[1;32m   2478\u001b[0m     \u001b[0;32mexcept\u001b[0m \u001b[0m_core\u001b[0m\u001b[0;34m.\u001b[0m\u001b[0m_NotOkStatusException\u001b[0m \u001b[0;32mas\u001b[0m \u001b[0me\u001b[0m\u001b[0;34m:\u001b[0m\u001b[0;34m\u001b[0m\u001b[0;34m\u001b[0m\u001b[0m\n\u001b[0;32m-> 2479\u001b[0;31m       \u001b[0m_ops\u001b[0m\u001b[0;34m.\u001b[0m\u001b[0mraise_from_not_ok_status\u001b[0m\u001b[0;34m(\u001b[0m\u001b[0me\u001b[0m\u001b[0;34m,\u001b[0m \u001b[0mname\u001b[0m\u001b[0;34m)\u001b[0m\u001b[0;34m\u001b[0m\u001b[0;34m\u001b[0m\u001b[0m\n\u001b[0m\u001b[1;32m   2480\u001b[0m   \u001b[0;31m# Add nodes to the TensorFlow graph.\u001b[0m\u001b[0;34m\u001b[0m\u001b[0;34m\u001b[0m\u001b[0;34m\u001b[0m\u001b[0m\n",
      "\u001b[0;32m~/miniconda3/lib/python3.7/site-packages/tensorflow_core/python/framework/ops.py\u001b[0m in \u001b[0;36mraise_from_not_ok_status\u001b[0;34m(e, name)\u001b[0m\n\u001b[1;32m   6605\u001b[0m   \u001b[0;31m# pylint: disable=protected-access\u001b[0m\u001b[0;34m\u001b[0m\u001b[0;34m\u001b[0m\u001b[0;34m\u001b[0m\u001b[0m\n\u001b[0;32m-> 6606\u001b[0;31m   \u001b[0msix\u001b[0m\u001b[0;34m.\u001b[0m\u001b[0mraise_from\u001b[0m\u001b[0;34m(\u001b[0m\u001b[0mcore\u001b[0m\u001b[0;34m.\u001b[0m\u001b[0m_status_to_exception\u001b[0m\u001b[0;34m(\u001b[0m\u001b[0me\u001b[0m\u001b[0;34m.\u001b[0m\u001b[0mcode\u001b[0m\u001b[0;34m,\u001b[0m \u001b[0mmessage\u001b[0m\u001b[0;34m)\u001b[0m\u001b[0;34m,\u001b[0m \u001b[0;32mNone\u001b[0m\u001b[0;34m)\u001b[0m\u001b[0;34m\u001b[0m\u001b[0;34m\u001b[0m\u001b[0m\n\u001b[0m\u001b[1;32m   6607\u001b[0m   \u001b[0;31m# pylint: enable=protected-access\u001b[0m\u001b[0;34m\u001b[0m\u001b[0;34m\u001b[0m\u001b[0;34m\u001b[0m\u001b[0m\n",
      "\u001b[0;32m~/miniconda3/lib/python3.7/site-packages/six.py\u001b[0m in \u001b[0;36mraise_from\u001b[0;34m(value, from_value)\u001b[0m\n",
      "\u001b[0;31mDataLossError\u001b[0m: truncated record at 2802609 [Op:IteratorGetNextSync]",
      "\nDuring handling of the above exception, another exception occurred:\n",
      "\u001b[0;31mDataLossError\u001b[0m                             Traceback (most recent call last)",
      "\u001b[0;32m<ipython-input-291-db1fcdce45a6>\u001b[0m in \u001b[0;36m<module>\u001b[0;34m\u001b[0m\n\u001b[0;32m----> 1\u001b[0;31m \u001b[0;32mfor\u001b[0m \u001b[0mp\u001b[0m \u001b[0;32min\u001b[0m \u001b[0mparsed_ds\u001b[0m\u001b[0;34m.\u001b[0m\u001b[0mtake\u001b[0m\u001b[0;34m(\u001b[0m\u001b[0;36m9\u001b[0m\u001b[0;34m)\u001b[0m\u001b[0;34m:\u001b[0m\u001b[0;34m\u001b[0m\u001b[0;34m\u001b[0m\u001b[0m\n\u001b[0m\u001b[1;32m      2\u001b[0m     \u001b[0mprint\u001b[0m\u001b[0;34m(\u001b[0m\u001b[0mp\u001b[0m\u001b[0;34m[\u001b[0m\u001b[0;34m'time'\u001b[0m\u001b[0;34m]\u001b[0m\u001b[0;34m)\u001b[0m\u001b[0;34m\u001b[0m\u001b[0;34m\u001b[0m\u001b[0m\n",
      "\u001b[0;32m~/miniconda3/lib/python3.7/site-packages/tensorflow_core/python/data/ops/iterator_ops.py\u001b[0m in \u001b[0;36m__next__\u001b[0;34m(self)\u001b[0m\n\u001b[1;32m    628\u001b[0m \u001b[0;34m\u001b[0m\u001b[0m\n\u001b[1;32m    629\u001b[0m   \u001b[0;32mdef\u001b[0m \u001b[0m__next__\u001b[0m\u001b[0;34m(\u001b[0m\u001b[0mself\u001b[0m\u001b[0;34m)\u001b[0m\u001b[0;34m:\u001b[0m  \u001b[0;31m# For Python 3 compatibility\u001b[0m\u001b[0;34m\u001b[0m\u001b[0;34m\u001b[0m\u001b[0m\n\u001b[0;32m--> 630\u001b[0;31m     \u001b[0;32mreturn\u001b[0m \u001b[0mself\u001b[0m\u001b[0;34m.\u001b[0m\u001b[0mnext\u001b[0m\u001b[0;34m(\u001b[0m\u001b[0;34m)\u001b[0m\u001b[0;34m\u001b[0m\u001b[0;34m\u001b[0m\u001b[0m\n\u001b[0m\u001b[1;32m    631\u001b[0m \u001b[0;34m\u001b[0m\u001b[0m\n\u001b[1;32m    632\u001b[0m   \u001b[0;32mdef\u001b[0m \u001b[0m_next_internal\u001b[0m\u001b[0;34m(\u001b[0m\u001b[0mself\u001b[0m\u001b[0;34m)\u001b[0m\u001b[0;34m:\u001b[0m\u001b[0;34m\u001b[0m\u001b[0;34m\u001b[0m\u001b[0m\n",
      "\u001b[0;32m~/miniconda3/lib/python3.7/site-packages/tensorflow_core/python/data/ops/iterator_ops.py\u001b[0m in \u001b[0;36mnext\u001b[0;34m(self)\u001b[0m\n\u001b[1;32m    672\u001b[0m     \u001b[0;34m\"\"\"Returns a nested structure of `Tensor`s containing the next element.\"\"\"\u001b[0m\u001b[0;34m\u001b[0m\u001b[0;34m\u001b[0m\u001b[0m\n\u001b[1;32m    673\u001b[0m     \u001b[0;32mtry\u001b[0m\u001b[0;34m:\u001b[0m\u001b[0;34m\u001b[0m\u001b[0;34m\u001b[0m\u001b[0m\n\u001b[0;32m--> 674\u001b[0;31m       \u001b[0;32mreturn\u001b[0m \u001b[0mself\u001b[0m\u001b[0;34m.\u001b[0m\u001b[0m_next_internal\u001b[0m\u001b[0;34m(\u001b[0m\u001b[0;34m)\u001b[0m\u001b[0;34m\u001b[0m\u001b[0;34m\u001b[0m\u001b[0m\n\u001b[0m\u001b[1;32m    675\u001b[0m     \u001b[0;32mexcept\u001b[0m \u001b[0merrors\u001b[0m\u001b[0;34m.\u001b[0m\u001b[0mOutOfRangeError\u001b[0m\u001b[0;34m:\u001b[0m\u001b[0;34m\u001b[0m\u001b[0;34m\u001b[0m\u001b[0m\n\u001b[1;32m    676\u001b[0m       \u001b[0;32mraise\u001b[0m \u001b[0mStopIteration\u001b[0m\u001b[0;34m\u001b[0m\u001b[0;34m\u001b[0m\u001b[0m\n",
      "\u001b[0;32m~/miniconda3/lib/python3.7/site-packages/tensorflow_core/python/data/ops/iterator_ops.py\u001b[0m in \u001b[0;36m_next_internal\u001b[0;34m(self)\u001b[0m\n\u001b[1;32m    663\u001b[0m         \u001b[0;32mreturn\u001b[0m \u001b[0mself\u001b[0m\u001b[0;34m.\u001b[0m\u001b[0m_element_spec\u001b[0m\u001b[0;34m.\u001b[0m\u001b[0m_from_compatible_tensor_list\u001b[0m\u001b[0;34m(\u001b[0m\u001b[0mret\u001b[0m\u001b[0;34m)\u001b[0m  \u001b[0;31m# pylint: disable=protected-access\u001b[0m\u001b[0;34m\u001b[0m\u001b[0;34m\u001b[0m\u001b[0m\n\u001b[1;32m    664\u001b[0m       \u001b[0;32mexcept\u001b[0m \u001b[0mAttributeError\u001b[0m\u001b[0;34m:\u001b[0m\u001b[0;34m\u001b[0m\u001b[0;34m\u001b[0m\u001b[0m\n\u001b[0;32m--> 665\u001b[0;31m         \u001b[0;32mreturn\u001b[0m \u001b[0mstructure\u001b[0m\u001b[0;34m.\u001b[0m\u001b[0mfrom_compatible_tensor_list\u001b[0m\u001b[0;34m(\u001b[0m\u001b[0mself\u001b[0m\u001b[0;34m.\u001b[0m\u001b[0m_element_spec\u001b[0m\u001b[0;34m,\u001b[0m \u001b[0mret\u001b[0m\u001b[0;34m)\u001b[0m\u001b[0;34m\u001b[0m\u001b[0;34m\u001b[0m\u001b[0m\n\u001b[0m\u001b[1;32m    666\u001b[0m \u001b[0;34m\u001b[0m\u001b[0m\n\u001b[1;32m    667\u001b[0m   \u001b[0;34m@\u001b[0m\u001b[0mproperty\u001b[0m\u001b[0;34m\u001b[0m\u001b[0;34m\u001b[0m\u001b[0m\n",
      "\u001b[0;32m~/miniconda3/lib/python3.7/contextlib.py\u001b[0m in \u001b[0;36m__exit__\u001b[0;34m(self, type, value, traceback)\u001b[0m\n\u001b[1;32m    128\u001b[0m                 \u001b[0mvalue\u001b[0m \u001b[0;34m=\u001b[0m \u001b[0mtype\u001b[0m\u001b[0;34m(\u001b[0m\u001b[0;34m)\u001b[0m\u001b[0;34m\u001b[0m\u001b[0;34m\u001b[0m\u001b[0m\n\u001b[1;32m    129\u001b[0m             \u001b[0;32mtry\u001b[0m\u001b[0;34m:\u001b[0m\u001b[0;34m\u001b[0m\u001b[0;34m\u001b[0m\u001b[0m\n\u001b[0;32m--> 130\u001b[0;31m                 \u001b[0mself\u001b[0m\u001b[0;34m.\u001b[0m\u001b[0mgen\u001b[0m\u001b[0;34m.\u001b[0m\u001b[0mthrow\u001b[0m\u001b[0;34m(\u001b[0m\u001b[0mtype\u001b[0m\u001b[0;34m,\u001b[0m \u001b[0mvalue\u001b[0m\u001b[0;34m,\u001b[0m \u001b[0mtraceback\u001b[0m\u001b[0;34m)\u001b[0m\u001b[0;34m\u001b[0m\u001b[0;34m\u001b[0m\u001b[0m\n\u001b[0m\u001b[1;32m    131\u001b[0m             \u001b[0;32mexcept\u001b[0m \u001b[0mStopIteration\u001b[0m \u001b[0;32mas\u001b[0m \u001b[0mexc\u001b[0m\u001b[0;34m:\u001b[0m\u001b[0;34m\u001b[0m\u001b[0;34m\u001b[0m\u001b[0m\n\u001b[1;32m    132\u001b[0m                 \u001b[0;31m# Suppress StopIteration *unless* it's the same exception that\u001b[0m\u001b[0;34m\u001b[0m\u001b[0;34m\u001b[0m\u001b[0;34m\u001b[0m\u001b[0m\n",
      "\u001b[0;32m~/miniconda3/lib/python3.7/site-packages/tensorflow_core/python/eager/context.py\u001b[0m in \u001b[0;36mexecution_mode\u001b[0;34m(mode)\u001b[0m\n\u001b[1;32m   1898\u001b[0m   \u001b[0;32mfinally\u001b[0m\u001b[0;34m:\u001b[0m\u001b[0;34m\u001b[0m\u001b[0;34m\u001b[0m\u001b[0m\n\u001b[1;32m   1899\u001b[0m     \u001b[0mctx\u001b[0m\u001b[0;34m.\u001b[0m\u001b[0mexecutor\u001b[0m \u001b[0;34m=\u001b[0m \u001b[0mexecutor_old\u001b[0m\u001b[0;34m\u001b[0m\u001b[0;34m\u001b[0m\u001b[0m\n\u001b[0;32m-> 1900\u001b[0;31m     \u001b[0mexecutor_new\u001b[0m\u001b[0;34m.\u001b[0m\u001b[0mwait\u001b[0m\u001b[0;34m(\u001b[0m\u001b[0;34m)\u001b[0m\u001b[0;34m\u001b[0m\u001b[0;34m\u001b[0m\u001b[0m\n\u001b[0m\u001b[1;32m   1901\u001b[0m \u001b[0;34m\u001b[0m\u001b[0m\n\u001b[1;32m   1902\u001b[0m \u001b[0;34m\u001b[0m\u001b[0m\n",
      "\u001b[0;32m~/miniconda3/lib/python3.7/site-packages/tensorflow_core/python/eager/executor.py\u001b[0m in \u001b[0;36mwait\u001b[0;34m(self)\u001b[0m\n\u001b[1;32m     65\u001b[0m   \u001b[0;32mdef\u001b[0m \u001b[0mwait\u001b[0m\u001b[0;34m(\u001b[0m\u001b[0mself\u001b[0m\u001b[0;34m)\u001b[0m\u001b[0;34m:\u001b[0m\u001b[0;34m\u001b[0m\u001b[0;34m\u001b[0m\u001b[0m\n\u001b[1;32m     66\u001b[0m     \u001b[0;34m\"\"\"Waits for ops dispatched in this executor to finish.\"\"\"\u001b[0m\u001b[0;34m\u001b[0m\u001b[0;34m\u001b[0m\u001b[0m\n\u001b[0;32m---> 67\u001b[0;31m     \u001b[0mpywrap_tensorflow\u001b[0m\u001b[0;34m.\u001b[0m\u001b[0mTFE_ExecutorWaitForAllPendingNodes\u001b[0m\u001b[0;34m(\u001b[0m\u001b[0mself\u001b[0m\u001b[0;34m.\u001b[0m\u001b[0m_handle\u001b[0m\u001b[0;34m)\u001b[0m\u001b[0;34m\u001b[0m\u001b[0;34m\u001b[0m\u001b[0m\n\u001b[0m\u001b[1;32m     68\u001b[0m \u001b[0;34m\u001b[0m\u001b[0m\n\u001b[1;32m     69\u001b[0m   \u001b[0;32mdef\u001b[0m \u001b[0mclear_error\u001b[0m\u001b[0;34m(\u001b[0m\u001b[0mself\u001b[0m\u001b[0;34m)\u001b[0m\u001b[0;34m:\u001b[0m\u001b[0;34m\u001b[0m\u001b[0;34m\u001b[0m\u001b[0m\n",
      "\u001b[0;31mDataLossError\u001b[0m: truncated record at 2802609"
     ]
    }
   ],
   "source": [
    "for p in parsed_ds.take(9):\n",
    "    print(p['time'])"
   ]
  },
  {
   "cell_type": "code",
   "execution_count": 282,
   "metadata": {},
   "outputs": [],
   "source": [
    "o = next(iter(parsed_ds))"
   ]
  },
  {
   "cell_type": "code",
   "execution_count": 283,
   "metadata": {},
   "outputs": [
    {
     "data": {
      "text/plain": [
       "<tf.Tensor: shape=(), dtype=string, numpy=b'2015-01-01T00:00:00.000000000'>"
      ]
     },
     "execution_count": 283,
     "metadata": {},
     "output_type": "execute_result"
    }
   ],
   "source": [
    "o['time']"
   ]
  },
  {
   "cell_type": "markdown",
   "metadata": {
    "collapsed": "true"
   },
   "source": [
    "## Shuffle across files"
   ]
  },
  {
   "cell_type": "code",
   "execution_count": 8,
   "metadata": {},
   "outputs": [],
   "source": [
    "def _tensor_feature(value):\n",
    "    \"\"\"Returns a float_list from a float / double.\"\"\"\n",
    "    value = tf.io.serialize_tensor(value).numpy()\n",
    "    return tf.train.Feature(bytes_list=tf.train.BytesList(value=[value]))"
   ]
  },
  {
   "cell_type": "code",
   "execution_count": 9,
   "metadata": {},
   "outputs": [],
   "source": [
    "def serialize_example(data):\n",
    "    feature = {\n",
    "        'data': _tensor_feature(data)\n",
    "    }\n",
    "    feature = tf.train.Features(feature=feature)\n",
    "    example_proto = tf.train.Example(features=feature)\n",
    "    return example_proto.SerializeToString()"
   ]
  },
  {
   "cell_type": "code",
   "execution_count": 10,
   "metadata": {},
   "outputs": [],
   "source": [
    "n = 10"
   ]
  },
  {
   "cell_type": "code",
   "execution_count": 11,
   "metadata": {},
   "outputs": [],
   "source": [
    "data = np.arange(n*10).reshape(n, -1).astype('float32')"
   ]
  },
  {
   "cell_type": "code",
   "execution_count": 12,
   "metadata": {},
   "outputs": [],
   "source": [
    "for i in range(n):\n",
    "    filename = f'ttest_data{i}.tfrecord'\n",
    "    writer = tf.io.TFRecordWriter(filename)\n",
    "    for j in range(10):\n",
    "        serialized_example = serialize_example(data[i, j])\n",
    "        writer.write(serialized_example)\n",
    "    writer.close()"
   ]
  },
  {
   "cell_type": "code",
   "execution_count": 13,
   "metadata": {},
   "outputs": [],
   "source": [
    "filenames = sorted(glob('ttest*'))"
   ]
  },
  {
   "cell_type": "code",
   "execution_count": 62,
   "metadata": {},
   "outputs": [
    {
     "data": {
      "text/plain": [
       "['ttest_data0.tfrecord',\n",
       " 'ttest_data1.tfrecord',\n",
       " 'ttest_data2.tfrecord',\n",
       " 'ttest_data3.tfrecord',\n",
       " 'ttest_data4.tfrecord',\n",
       " 'ttest_data5.tfrecord',\n",
       " 'ttest_data6.tfrecord',\n",
       " 'ttest_data7.tfrecord',\n",
       " 'ttest_data8.tfrecord',\n",
       " 'ttest_data9.tfrecord']"
      ]
     },
     "execution_count": 62,
     "metadata": {},
     "output_type": "execute_result"
    }
   ],
   "source": [
    "filenames"
   ]
  },
  {
   "cell_type": "markdown",
   "metadata": {},
   "source": [
    "### Current implementation"
   ]
  },
  {
   "cell_type": "code",
   "execution_count": 14,
   "metadata": {},
   "outputs": [],
   "source": [
    "def _parse(example_proto):\n",
    "    return tf.io.parse_single_example(example_proto, {'data': tf.io.FixedLenFeature([], tf.string)})"
   ]
  },
  {
   "cell_type": "code",
   "execution_count": 15,
   "metadata": {},
   "outputs": [],
   "source": [
    "def decode(example_proto):\n",
    "    dic = _parse(example_proto)\n",
    "    data = dic['data']\n",
    "    return tf.io.parse_tensor(data, np.float32)"
   ]
  },
  {
   "cell_type": "code",
   "execution_count": 16,
   "metadata": {},
   "outputs": [],
   "source": [
    "dataset = tf.data.TFRecordDataset(filenames).map(decode)"
   ]
  },
  {
   "cell_type": "code",
   "execution_count": 17,
   "metadata": {},
   "outputs": [],
   "source": [
    "batches = dataset.shuffle(20).batch(10).as_numpy_iterator()"
   ]
  },
  {
   "cell_type": "code",
   "execution_count": 18,
   "metadata": {},
   "outputs": [],
   "source": [
    "bb = [b for b in batches]"
   ]
  },
  {
   "cell_type": "code",
   "execution_count": 19,
   "metadata": {},
   "outputs": [
    {
     "data": {
      "text/plain": [
       "[array([ 7.,  1., 18., 14., 21., 10., 13.,  6.,  2., 15.], dtype=float32),\n",
       " array([12., 25., 27., 20., 33., 28., 19., 16., 22.,  3.], dtype=float32),\n",
       " array([23., 24., 32., 29.,  5., 39., 11., 37., 43., 44.], dtype=float32),\n",
       " array([40., 34., 46., 52., 41., 26., 55.,  9., 30.,  4.], dtype=float32),\n",
       " array([50., 45., 36., 61., 51., 62., 35., 65., 60., 59.], dtype=float32),\n",
       " array([68., 48., 56.,  8., 58., 53., 74., 49., 66., 78.], dtype=float32),\n",
       " array([17., 64., 67., 72., 80., 42., 57., 85., 63., 83.], dtype=float32),\n",
       " array([88., 89., 91., 81.,  0., 87., 71., 96., 38., 93.], dtype=float32),\n",
       " array([99., 47., 82., 94., 84., 86., 79., 73., 95., 70.], dtype=float32),\n",
       " array([90., 77., 69., 97., 54., 98., 92., 75., 31., 76.], dtype=float32)]"
      ]
     },
     "execution_count": 19,
     "metadata": {},
     "output_type": "execute_result"
    }
   ],
   "source": [
    "bb"
   ]
  },
  {
   "cell_type": "markdown",
   "metadata": {
    "collapsed": "true"
   },
   "source": [
    "## Try with interleave"
   ]
  },
  {
   "cell_type": "code",
   "execution_count": 20,
   "metadata": {},
   "outputs": [],
   "source": [
    "datasets = [tf.data.TFRecordDataset(fn).map(decode).shuffle(20).batch(2) for fn in filenames]"
   ]
  },
  {
   "cell_type": "code",
   "execution_count": 21,
   "metadata": {},
   "outputs": [],
   "source": [
    "dataset = tf.data.Dataset.zip(tuple(datasets))"
   ]
  },
  {
   "cell_type": "code",
   "execution_count": 22,
   "metadata": {},
   "outputs": [],
   "source": [
    "batches = dataset.as_numpy_iterator()"
   ]
  },
  {
   "cell_type": "code",
   "execution_count": 23,
   "metadata": {},
   "outputs": [],
   "source": [
    "b = list(batches)[0]"
   ]
  },
  {
   "cell_type": "code",
   "execution_count": 25,
   "metadata": {},
   "outputs": [
    {
     "data": {
      "text/plain": [
       "array([[ 4.,  7.],\n",
       "       [16., 10.],\n",
       "       [27., 22.],\n",
       "       [37., 33.],\n",
       "       [43., 44.],\n",
       "       [57., 50.],\n",
       "       [69., 61.],\n",
       "       [71., 77.],\n",
       "       [80., 88.],\n",
       "       [97., 99.]], dtype=float32)"
      ]
     },
     "execution_count": 25,
     "metadata": {},
     "output_type": "execute_result"
    }
   ],
   "source": [
    "np.array(b)"
   ]
  },
  {
   "cell_type": "code",
   "execution_count": 87,
   "metadata": {},
   "outputs": [],
   "source": [
    "# batches = dataset.shuffle(20).batch(10).as_numpy_iterator()"
   ]
  },
  {
   "cell_type": "code",
   "execution_count": 79,
   "metadata": {},
   "outputs": [
    {
     "data": {
      "text/plain": [
       "[array([ 0., 11., 21., 30., 24.,  2., 13.,  1., 10., 25.], dtype=float32),\n",
       " array([ 6., 17., 22.,  4., 20., 16., 32., 18.,  9., 29.], dtype=float32),\n",
       " array([ 8.,  5., 19., 50., 26.,  3., 27., 12., 70., 31.], dtype=float32),\n",
       " array([38., 42., 52., 40., 37.,  7., 53., 61., 71., 44.], dtype=float32),\n",
       " array([60., 23., 34., 39., 74., 28., 54., 55., 56., 73.], dtype=float32),\n",
       " array([51., 76., 43., 47., 58., 67., 45., 68., 15., 48.], dtype=float32),\n",
       " array([35., 57., 36., 49., 81., 41., 91., 66., 62., 46.], dtype=float32),\n",
       " array([75., 65., 59., 64., 84., 82., 72., 69., 14., 97.], dtype=float32),\n",
       " array([79., 94., 95., 63., 80., 88., 99., 87., 78., 92.], dtype=float32),\n",
       " array([93., 96., 77., 33., 90., 86., 85., 98., 83., 89.], dtype=float32)]"
      ]
     },
     "execution_count": 79,
     "metadata": {},
     "output_type": "execute_result"
    }
   ],
   "source": [
    "bb"
   ]
  },
  {
   "cell_type": "code",
   "execution_count": null,
   "metadata": {},
   "outputs": [],
   "source": []
  },
  {
   "cell_type": "code",
   "execution_count": 110,
   "metadata": {},
   "outputs": [],
   "source": [
    "dataset = tf.data.Dataset.from_tensor_slices(filenames)"
   ]
  },
  {
   "cell_type": "code",
   "execution_count": null,
   "metadata": {},
   "outputs": [],
   "source": []
  },
  {
   "cell_type": "code",
   "execution_count": null,
   "metadata": {},
   "outputs": [],
   "source": []
  },
  {
   "cell_type": "code",
   "execution_count": 34,
   "metadata": {},
   "outputs": [
    {
     "data": {
      "text/plain": [
       "<TensorSliceDataset shapes: (), types: tf.string>"
      ]
     },
     "execution_count": 34,
     "metadata": {},
     "output_type": "execute_result"
    }
   ],
   "source": [
    "dataset"
   ]
  },
  {
   "cell_type": "code",
   "execution_count": null,
   "metadata": {},
   "outputs": [],
   "source": []
  },
  {
   "cell_type": "code",
   "execution_count": 268,
   "metadata": {},
   "outputs": [],
   "source": [
    "raw_ds = tf.data.TFRecordDataset([filename])"
   ]
  },
  {
   "cell_type": "code",
   "execution_count": 269,
   "metadata": {},
   "outputs": [],
   "source": [
    "features = {\n",
    "    'time': tf.io.FixedLenFeature([], tf.string),\n",
    "    'data': tf.io.FixedLenFeature([], tf.string)\n",
    "}"
   ]
  },
  {
   "cell_type": "code",
   "execution_count": 270,
   "metadata": {},
   "outputs": [],
   "source": [
    "def _parse(example_proto):\n",
    "    return tf.io.parse_single_example(example_proto, features)"
   ]
  },
  {
   "cell_type": "code",
   "execution_count": null,
   "metadata": {},
   "outputs": [],
   "source": [
    "def decode(example_proto):\n",
    "    dic = _parse(example_proto)\n",
    "    # Get the data and normalize!"
   ]
  },
  {
   "cell_type": "code",
   "execution_count": 271,
   "metadata": {},
   "outputs": [],
   "source": [
    "parsed_ds = raw_ds.map(_parse)"
   ]
  },
  {
   "cell_type": "code",
   "execution_count": 272,
   "metadata": {},
   "outputs": [
    {
     "data": {
      "text/plain": [
       "<MapDataset shapes: {data: (), time: ()}, types: {data: tf.string, time: tf.string}>"
      ]
     },
     "execution_count": 272,
     "metadata": {},
     "output_type": "execute_result"
    }
   ],
   "source": [
    "parsed_ds"
   ]
  },
  {
   "cell_type": "code",
   "execution_count": 290,
   "metadata": {},
   "outputs": [],
   "source": [
    "parsed_ds = parsed_ds.shuffle(5)"
   ]
  },
  {
   "cell_type": "code",
   "execution_count": 291,
   "metadata": {
    "collapsed": true,
    "jupyter": {
     "outputs_hidden": true
    }
   },
   "outputs": [
    {
     "name": "stdout",
     "output_type": "stream",
     "text": [
      "tf.Tensor(b'2015-01-01T00:00:00.000000000', shape=(), dtype=string)\n",
      "tf.Tensor(b'2015-01-01T05:00:00.000000000', shape=(), dtype=string)\n",
      "tf.Tensor(b'2015-01-01T04:00:00.000000000', shape=(), dtype=string)\n",
      "tf.Tensor(b'2015-01-01T06:00:00.000000000', shape=(), dtype=string)\n",
      "tf.Tensor(b'2015-01-01T01:00:00.000000000', shape=(), dtype=string)\n"
     ]
    },
    {
     "ename": "DataLossError",
     "evalue": "truncated record at 2802609",
     "output_type": "error",
     "traceback": [
      "\u001b[0;31m---------------------------------------------------------------------------\u001b[0m",
      "\u001b[0;31mDataLossError\u001b[0m                             Traceback (most recent call last)",
      "\u001b[0;32m~/miniconda3/lib/python3.7/site-packages/tensorflow_core/python/eager/context.py\u001b[0m in \u001b[0;36mexecution_mode\u001b[0;34m(mode)\u001b[0m\n\u001b[1;32m   1896\u001b[0m     \u001b[0mctx\u001b[0m\u001b[0;34m.\u001b[0m\u001b[0mexecutor\u001b[0m \u001b[0;34m=\u001b[0m \u001b[0mexecutor_new\u001b[0m\u001b[0;34m\u001b[0m\u001b[0;34m\u001b[0m\u001b[0m\n\u001b[0;32m-> 1897\u001b[0;31m     \u001b[0;32myield\u001b[0m\u001b[0;34m\u001b[0m\u001b[0;34m\u001b[0m\u001b[0m\n\u001b[0m\u001b[1;32m   1898\u001b[0m   \u001b[0;32mfinally\u001b[0m\u001b[0;34m:\u001b[0m\u001b[0;34m\u001b[0m\u001b[0;34m\u001b[0m\u001b[0m\n",
      "\u001b[0;32m~/miniconda3/lib/python3.7/site-packages/tensorflow_core/python/data/ops/iterator_ops.py\u001b[0m in \u001b[0;36m_next_internal\u001b[0;34m(self)\u001b[0m\n\u001b[1;32m    658\u001b[0m             \u001b[0moutput_types\u001b[0m\u001b[0;34m=\u001b[0m\u001b[0mself\u001b[0m\u001b[0;34m.\u001b[0m\u001b[0m_flat_output_types\u001b[0m\u001b[0;34m,\u001b[0m\u001b[0;34m\u001b[0m\u001b[0;34m\u001b[0m\u001b[0m\n\u001b[0;32m--> 659\u001b[0;31m             output_shapes=self._flat_output_shapes)\n\u001b[0m\u001b[1;32m    660\u001b[0m \u001b[0;34m\u001b[0m\u001b[0m\n",
      "\u001b[0;32m~/miniconda3/lib/python3.7/site-packages/tensorflow_core/python/ops/gen_dataset_ops.py\u001b[0m in \u001b[0;36miterator_get_next_sync\u001b[0;34m(iterator, output_types, output_shapes, name)\u001b[0m\n\u001b[1;32m   2478\u001b[0m     \u001b[0;32mexcept\u001b[0m \u001b[0m_core\u001b[0m\u001b[0;34m.\u001b[0m\u001b[0m_NotOkStatusException\u001b[0m \u001b[0;32mas\u001b[0m \u001b[0me\u001b[0m\u001b[0;34m:\u001b[0m\u001b[0;34m\u001b[0m\u001b[0;34m\u001b[0m\u001b[0m\n\u001b[0;32m-> 2479\u001b[0;31m       \u001b[0m_ops\u001b[0m\u001b[0;34m.\u001b[0m\u001b[0mraise_from_not_ok_status\u001b[0m\u001b[0;34m(\u001b[0m\u001b[0me\u001b[0m\u001b[0;34m,\u001b[0m \u001b[0mname\u001b[0m\u001b[0;34m)\u001b[0m\u001b[0;34m\u001b[0m\u001b[0;34m\u001b[0m\u001b[0m\n\u001b[0m\u001b[1;32m   2480\u001b[0m   \u001b[0;31m# Add nodes to the TensorFlow graph.\u001b[0m\u001b[0;34m\u001b[0m\u001b[0;34m\u001b[0m\u001b[0;34m\u001b[0m\u001b[0m\n",
      "\u001b[0;32m~/miniconda3/lib/python3.7/site-packages/tensorflow_core/python/framework/ops.py\u001b[0m in \u001b[0;36mraise_from_not_ok_status\u001b[0;34m(e, name)\u001b[0m\n\u001b[1;32m   6605\u001b[0m   \u001b[0;31m# pylint: disable=protected-access\u001b[0m\u001b[0;34m\u001b[0m\u001b[0;34m\u001b[0m\u001b[0;34m\u001b[0m\u001b[0m\n\u001b[0;32m-> 6606\u001b[0;31m   \u001b[0msix\u001b[0m\u001b[0;34m.\u001b[0m\u001b[0mraise_from\u001b[0m\u001b[0;34m(\u001b[0m\u001b[0mcore\u001b[0m\u001b[0;34m.\u001b[0m\u001b[0m_status_to_exception\u001b[0m\u001b[0;34m(\u001b[0m\u001b[0me\u001b[0m\u001b[0;34m.\u001b[0m\u001b[0mcode\u001b[0m\u001b[0;34m,\u001b[0m \u001b[0mmessage\u001b[0m\u001b[0;34m)\u001b[0m\u001b[0;34m,\u001b[0m \u001b[0;32mNone\u001b[0m\u001b[0;34m)\u001b[0m\u001b[0;34m\u001b[0m\u001b[0;34m\u001b[0m\u001b[0m\n\u001b[0m\u001b[1;32m   6607\u001b[0m   \u001b[0;31m# pylint: enable=protected-access\u001b[0m\u001b[0;34m\u001b[0m\u001b[0;34m\u001b[0m\u001b[0;34m\u001b[0m\u001b[0m\n",
      "\u001b[0;32m~/miniconda3/lib/python3.7/site-packages/six.py\u001b[0m in \u001b[0;36mraise_from\u001b[0;34m(value, from_value)\u001b[0m\n",
      "\u001b[0;31mDataLossError\u001b[0m: truncated record at 2802609 [Op:IteratorGetNextSync]",
      "\nDuring handling of the above exception, another exception occurred:\n",
      "\u001b[0;31mDataLossError\u001b[0m                             Traceback (most recent call last)",
      "\u001b[0;32m<ipython-input-291-db1fcdce45a6>\u001b[0m in \u001b[0;36m<module>\u001b[0;34m\u001b[0m\n\u001b[0;32m----> 1\u001b[0;31m \u001b[0;32mfor\u001b[0m \u001b[0mp\u001b[0m \u001b[0;32min\u001b[0m \u001b[0mparsed_ds\u001b[0m\u001b[0;34m.\u001b[0m\u001b[0mtake\u001b[0m\u001b[0;34m(\u001b[0m\u001b[0;36m9\u001b[0m\u001b[0;34m)\u001b[0m\u001b[0;34m:\u001b[0m\u001b[0;34m\u001b[0m\u001b[0;34m\u001b[0m\u001b[0m\n\u001b[0m\u001b[1;32m      2\u001b[0m     \u001b[0mprint\u001b[0m\u001b[0;34m(\u001b[0m\u001b[0mp\u001b[0m\u001b[0;34m[\u001b[0m\u001b[0;34m'time'\u001b[0m\u001b[0;34m]\u001b[0m\u001b[0;34m)\u001b[0m\u001b[0;34m\u001b[0m\u001b[0;34m\u001b[0m\u001b[0m\n",
      "\u001b[0;32m~/miniconda3/lib/python3.7/site-packages/tensorflow_core/python/data/ops/iterator_ops.py\u001b[0m in \u001b[0;36m__next__\u001b[0;34m(self)\u001b[0m\n\u001b[1;32m    628\u001b[0m \u001b[0;34m\u001b[0m\u001b[0m\n\u001b[1;32m    629\u001b[0m   \u001b[0;32mdef\u001b[0m \u001b[0m__next__\u001b[0m\u001b[0;34m(\u001b[0m\u001b[0mself\u001b[0m\u001b[0;34m)\u001b[0m\u001b[0;34m:\u001b[0m  \u001b[0;31m# For Python 3 compatibility\u001b[0m\u001b[0;34m\u001b[0m\u001b[0;34m\u001b[0m\u001b[0m\n\u001b[0;32m--> 630\u001b[0;31m     \u001b[0;32mreturn\u001b[0m \u001b[0mself\u001b[0m\u001b[0;34m.\u001b[0m\u001b[0mnext\u001b[0m\u001b[0;34m(\u001b[0m\u001b[0;34m)\u001b[0m\u001b[0;34m\u001b[0m\u001b[0;34m\u001b[0m\u001b[0m\n\u001b[0m\u001b[1;32m    631\u001b[0m \u001b[0;34m\u001b[0m\u001b[0m\n\u001b[1;32m    632\u001b[0m   \u001b[0;32mdef\u001b[0m \u001b[0m_next_internal\u001b[0m\u001b[0;34m(\u001b[0m\u001b[0mself\u001b[0m\u001b[0;34m)\u001b[0m\u001b[0;34m:\u001b[0m\u001b[0;34m\u001b[0m\u001b[0;34m\u001b[0m\u001b[0m\n",
      "\u001b[0;32m~/miniconda3/lib/python3.7/site-packages/tensorflow_core/python/data/ops/iterator_ops.py\u001b[0m in \u001b[0;36mnext\u001b[0;34m(self)\u001b[0m\n\u001b[1;32m    672\u001b[0m     \u001b[0;34m\"\"\"Returns a nested structure of `Tensor`s containing the next element.\"\"\"\u001b[0m\u001b[0;34m\u001b[0m\u001b[0;34m\u001b[0m\u001b[0m\n\u001b[1;32m    673\u001b[0m     \u001b[0;32mtry\u001b[0m\u001b[0;34m:\u001b[0m\u001b[0;34m\u001b[0m\u001b[0;34m\u001b[0m\u001b[0m\n\u001b[0;32m--> 674\u001b[0;31m       \u001b[0;32mreturn\u001b[0m \u001b[0mself\u001b[0m\u001b[0;34m.\u001b[0m\u001b[0m_next_internal\u001b[0m\u001b[0;34m(\u001b[0m\u001b[0;34m)\u001b[0m\u001b[0;34m\u001b[0m\u001b[0;34m\u001b[0m\u001b[0m\n\u001b[0m\u001b[1;32m    675\u001b[0m     \u001b[0;32mexcept\u001b[0m \u001b[0merrors\u001b[0m\u001b[0;34m.\u001b[0m\u001b[0mOutOfRangeError\u001b[0m\u001b[0;34m:\u001b[0m\u001b[0;34m\u001b[0m\u001b[0;34m\u001b[0m\u001b[0m\n\u001b[1;32m    676\u001b[0m       \u001b[0;32mraise\u001b[0m \u001b[0mStopIteration\u001b[0m\u001b[0;34m\u001b[0m\u001b[0;34m\u001b[0m\u001b[0m\n",
      "\u001b[0;32m~/miniconda3/lib/python3.7/site-packages/tensorflow_core/python/data/ops/iterator_ops.py\u001b[0m in \u001b[0;36m_next_internal\u001b[0;34m(self)\u001b[0m\n\u001b[1;32m    663\u001b[0m         \u001b[0;32mreturn\u001b[0m \u001b[0mself\u001b[0m\u001b[0;34m.\u001b[0m\u001b[0m_element_spec\u001b[0m\u001b[0;34m.\u001b[0m\u001b[0m_from_compatible_tensor_list\u001b[0m\u001b[0;34m(\u001b[0m\u001b[0mret\u001b[0m\u001b[0;34m)\u001b[0m  \u001b[0;31m# pylint: disable=protected-access\u001b[0m\u001b[0;34m\u001b[0m\u001b[0;34m\u001b[0m\u001b[0m\n\u001b[1;32m    664\u001b[0m       \u001b[0;32mexcept\u001b[0m \u001b[0mAttributeError\u001b[0m\u001b[0;34m:\u001b[0m\u001b[0;34m\u001b[0m\u001b[0;34m\u001b[0m\u001b[0m\n\u001b[0;32m--> 665\u001b[0;31m         \u001b[0;32mreturn\u001b[0m \u001b[0mstructure\u001b[0m\u001b[0;34m.\u001b[0m\u001b[0mfrom_compatible_tensor_list\u001b[0m\u001b[0;34m(\u001b[0m\u001b[0mself\u001b[0m\u001b[0;34m.\u001b[0m\u001b[0m_element_spec\u001b[0m\u001b[0;34m,\u001b[0m \u001b[0mret\u001b[0m\u001b[0;34m)\u001b[0m\u001b[0;34m\u001b[0m\u001b[0;34m\u001b[0m\u001b[0m\n\u001b[0m\u001b[1;32m    666\u001b[0m \u001b[0;34m\u001b[0m\u001b[0m\n\u001b[1;32m    667\u001b[0m   \u001b[0;34m@\u001b[0m\u001b[0mproperty\u001b[0m\u001b[0;34m\u001b[0m\u001b[0;34m\u001b[0m\u001b[0m\n",
      "\u001b[0;32m~/miniconda3/lib/python3.7/contextlib.py\u001b[0m in \u001b[0;36m__exit__\u001b[0;34m(self, type, value, traceback)\u001b[0m\n\u001b[1;32m    128\u001b[0m                 \u001b[0mvalue\u001b[0m \u001b[0;34m=\u001b[0m \u001b[0mtype\u001b[0m\u001b[0;34m(\u001b[0m\u001b[0;34m)\u001b[0m\u001b[0;34m\u001b[0m\u001b[0;34m\u001b[0m\u001b[0m\n\u001b[1;32m    129\u001b[0m             \u001b[0;32mtry\u001b[0m\u001b[0;34m:\u001b[0m\u001b[0;34m\u001b[0m\u001b[0;34m\u001b[0m\u001b[0m\n\u001b[0;32m--> 130\u001b[0;31m                 \u001b[0mself\u001b[0m\u001b[0;34m.\u001b[0m\u001b[0mgen\u001b[0m\u001b[0;34m.\u001b[0m\u001b[0mthrow\u001b[0m\u001b[0;34m(\u001b[0m\u001b[0mtype\u001b[0m\u001b[0;34m,\u001b[0m \u001b[0mvalue\u001b[0m\u001b[0;34m,\u001b[0m \u001b[0mtraceback\u001b[0m\u001b[0;34m)\u001b[0m\u001b[0;34m\u001b[0m\u001b[0;34m\u001b[0m\u001b[0m\n\u001b[0m\u001b[1;32m    131\u001b[0m             \u001b[0;32mexcept\u001b[0m \u001b[0mStopIteration\u001b[0m \u001b[0;32mas\u001b[0m \u001b[0mexc\u001b[0m\u001b[0;34m:\u001b[0m\u001b[0;34m\u001b[0m\u001b[0;34m\u001b[0m\u001b[0m\n\u001b[1;32m    132\u001b[0m                 \u001b[0;31m# Suppress StopIteration *unless* it's the same exception that\u001b[0m\u001b[0;34m\u001b[0m\u001b[0;34m\u001b[0m\u001b[0;34m\u001b[0m\u001b[0m\n",
      "\u001b[0;32m~/miniconda3/lib/python3.7/site-packages/tensorflow_core/python/eager/context.py\u001b[0m in \u001b[0;36mexecution_mode\u001b[0;34m(mode)\u001b[0m\n\u001b[1;32m   1898\u001b[0m   \u001b[0;32mfinally\u001b[0m\u001b[0;34m:\u001b[0m\u001b[0;34m\u001b[0m\u001b[0;34m\u001b[0m\u001b[0m\n\u001b[1;32m   1899\u001b[0m     \u001b[0mctx\u001b[0m\u001b[0;34m.\u001b[0m\u001b[0mexecutor\u001b[0m \u001b[0;34m=\u001b[0m \u001b[0mexecutor_old\u001b[0m\u001b[0;34m\u001b[0m\u001b[0;34m\u001b[0m\u001b[0m\n\u001b[0;32m-> 1900\u001b[0;31m     \u001b[0mexecutor_new\u001b[0m\u001b[0;34m.\u001b[0m\u001b[0mwait\u001b[0m\u001b[0;34m(\u001b[0m\u001b[0;34m)\u001b[0m\u001b[0;34m\u001b[0m\u001b[0;34m\u001b[0m\u001b[0m\n\u001b[0m\u001b[1;32m   1901\u001b[0m \u001b[0;34m\u001b[0m\u001b[0m\n\u001b[1;32m   1902\u001b[0m \u001b[0;34m\u001b[0m\u001b[0m\n",
      "\u001b[0;32m~/miniconda3/lib/python3.7/site-packages/tensorflow_core/python/eager/executor.py\u001b[0m in \u001b[0;36mwait\u001b[0;34m(self)\u001b[0m\n\u001b[1;32m     65\u001b[0m   \u001b[0;32mdef\u001b[0m \u001b[0mwait\u001b[0m\u001b[0;34m(\u001b[0m\u001b[0mself\u001b[0m\u001b[0;34m)\u001b[0m\u001b[0;34m:\u001b[0m\u001b[0;34m\u001b[0m\u001b[0;34m\u001b[0m\u001b[0m\n\u001b[1;32m     66\u001b[0m     \u001b[0;34m\"\"\"Waits for ops dispatched in this executor to finish.\"\"\"\u001b[0m\u001b[0;34m\u001b[0m\u001b[0;34m\u001b[0m\u001b[0m\n\u001b[0;32m---> 67\u001b[0;31m     \u001b[0mpywrap_tensorflow\u001b[0m\u001b[0;34m.\u001b[0m\u001b[0mTFE_ExecutorWaitForAllPendingNodes\u001b[0m\u001b[0;34m(\u001b[0m\u001b[0mself\u001b[0m\u001b[0;34m.\u001b[0m\u001b[0m_handle\u001b[0m\u001b[0;34m)\u001b[0m\u001b[0;34m\u001b[0m\u001b[0;34m\u001b[0m\u001b[0m\n\u001b[0m\u001b[1;32m     68\u001b[0m \u001b[0;34m\u001b[0m\u001b[0m\n\u001b[1;32m     69\u001b[0m   \u001b[0;32mdef\u001b[0m \u001b[0mclear_error\u001b[0m\u001b[0;34m(\u001b[0m\u001b[0mself\u001b[0m\u001b[0;34m)\u001b[0m\u001b[0;34m:\u001b[0m\u001b[0;34m\u001b[0m\u001b[0;34m\u001b[0m\u001b[0m\n",
      "\u001b[0;31mDataLossError\u001b[0m: truncated record at 2802609"
     ]
    }
   ],
   "source": [
    "for p in parsed_ds.take(9):\n",
    "    print(p['time'])"
   ]
  },
  {
   "cell_type": "code",
   "execution_count": 282,
   "metadata": {},
   "outputs": [],
   "source": [
    "o = next(iter(parsed_ds))"
   ]
  },
  {
   "cell_type": "code",
   "execution_count": 283,
   "metadata": {},
   "outputs": [
    {
     "data": {
      "text/plain": [
       "<tf.Tensor: shape=(), dtype=string, numpy=b'2015-01-01T00:00:00.000000000'>"
      ]
     },
     "execution_count": 283,
     "metadata": {},
     "output_type": "execute_result"
    }
   ],
   "source": [
    "o['time']"
   ]
  },
  {
   "cell_type": "markdown",
   "metadata": {
    "collapsed": "true"
   },
   "source": [
    "## Implement from data generator"
   ]
  },
  {
   "cell_type": "code",
   "execution_count": 8,
   "metadata": {},
   "outputs": [],
   "source": [
    "dg_train = DataGenerator(\n",
    "    ds_train, args['var_dict'], args['lead_time'], batch_size=args['batch_size'], output_vars=args['output_vars'],\n",
    "    data_subsample=1, norm_subsample=10, nt_in=1, dt_in=args['dt_in'], load=True, normalize=False, \n",
    "    shuffle=False\n",
    ")"
   ]
  },
  {
   "cell_type": "code",
   "execution_count": 9,
   "metadata": {},
   "outputs": [],
   "source": [
    "def _tensor_feature(value):\n",
    "    value = tf.io.serialize_tensor(value).numpy()\n",
    "    return tf.train.Feature(bytes_list=tf.train.BytesList(value=[value]))"
   ]
  },
  {
   "cell_type": "code",
   "execution_count": 10,
   "metadata": {},
   "outputs": [],
   "source": [
    "def _bytes_feature(value):\n",
    "    \"\"\"Returns a bytes_list from a string / byte.\"\"\"\n",
    "    return tf.train.Feature(bytes_list=tf.train.BytesList(value=[value]))"
   ]
  },
  {
   "cell_type": "code",
   "execution_count": 11,
   "metadata": {},
   "outputs": [],
   "source": [
    "def serialize_example(time, data):\n",
    "    feature = {\n",
    "        'time': _bytes_feature(time),\n",
    "        'data': _tensor_feature(data)\n",
    "    }\n",
    "    feature = tf.train.Features(feature=feature)\n",
    "    example_proto = tf.train.Example(features=feature)\n",
    "    return example_proto.SerializeToString()"
   ]
  },
  {
   "cell_type": "code",
   "execution_count": 12,
   "metadata": {},
   "outputs": [],
   "source": [
    "savedir = '/data/stephan/WeatherBench/tfrecords/'\n",
    "!mkdir -p $savedir"
   ]
  },
  {
   "cell_type": "code",
   "execution_count": 13,
   "metadata": {},
   "outputs": [],
   "source": [
    "filename = f'{savedir}test1.tfrecord'"
   ]
  },
  {
   "cell_type": "code",
   "execution_count": 322,
   "metadata": {},
   "outputs": [],
   "source": [
    "!rm $filename"
   ]
  },
  {
   "cell_type": "code",
   "execution_count": 323,
   "metadata": {},
   "outputs": [],
   "source": [
    "writer = tf.io.TFRecordWriter(filename)"
   ]
  },
  {
   "cell_type": "code",
   "execution_count": 324,
   "metadata": {},
   "outputs": [
    {
     "data": {
      "application/vnd.jupyter.widget-view+json": {
       "model_id": "47207bc7545d41869c663c49f034e0eb",
       "version_major": 2,
       "version_minor": 0
      },
      "text/plain": [
       "HBox(children=(FloatProgress(value=0.0, max=8760.0), HTML(value='')))"
      ]
     },
     "metadata": {},
     "output_type": "display_data"
    },
    {
     "name": "stdout",
     "output_type": "stream",
     "text": [
      "\n"
     ]
    }
   ],
   "source": [
    "for t in tqdm(dg_train.data.time):\n",
    "    time = str(t.values).encode('utf-8')\n",
    "    data = dg_train.data.sel(time=t).values.astype('float32')\n",
    "    serialized_example = serialize_example(time, data)\n",
    "    writer.write(serialized_example)"
   ]
  },
  {
   "cell_type": "code",
   "execution_count": 325,
   "metadata": {},
   "outputs": [],
   "source": [
    "writer.close()"
   ]
  },
  {
   "cell_type": "code",
   "execution_count": 14,
   "metadata": {},
   "outputs": [
    {
     "name": "stdout",
     "output_type": "stream",
     "text": [
      "total 3,0G\n",
      "-rw-rw-r-- 1 rasp rasp 221M Jun  7 15:07 month_01.tfrecord\n",
      "-rw-rw-r-- 1 rasp rasp 200M Jun  7 16:06 month_02.tfrecord\n",
      "-rw-rw-r-- 1 rasp rasp 2,6G Jun  7 15:01 test1.tfrecord\n"
     ]
    }
   ],
   "source": [
    "!ls -lh $savedir"
   ]
  },
  {
   "cell_type": "code",
   "execution_count": null,
   "metadata": {},
   "outputs": [],
   "source": []
  },
  {
   "cell_type": "markdown",
   "metadata": {},
   "source": [
    "Too large. 1 year = 2.6G. Should be around 100-200G. What about one month? 2.6/12 = 216M. Let's try reading it to check whether the different lengths would be a problem."
   ]
  },
  {
   "cell_type": "code",
   "execution_count": 56,
   "metadata": {},
   "outputs": [
    {
     "name": "stderr",
     "output_type": "stream",
     "text": [
      "[autoreload of src.data_generator failed: Traceback (most recent call last):\n",
      "  File \"/home/rasp/miniconda3/lib/python3.7/site-packages/IPython/extensions/autoreload.py\", line 245, in check\n",
      "    superreload(m, reload, self.old_objects)\n",
      "  File \"/home/rasp/miniconda3/lib/python3.7/site-packages/IPython/extensions/autoreload.py\", line 394, in superreload\n",
      "    module = reload(module)\n",
      "  File \"/home/rasp/miniconda3/lib/python3.7/imp.py\", line 314, in reload\n",
      "    return importlib.reload(module)\n",
      "  File \"/home/rasp/miniconda3/lib/python3.7/importlib/__init__.py\", line 169, in reload\n",
      "    _bootstrap._exec(spec, module)\n",
      "  File \"<frozen importlib._bootstrap>\", line 630, in _exec\n",
      "  File \"<frozen importlib._bootstrap_external>\", line 724, in exec_module\n",
      "  File \"<frozen importlib._bootstrap_external>\", line 860, in get_code\n",
      "  File \"<frozen importlib._bootstrap_external>\", line 791, in source_to_code\n",
      "  File \"<frozen importlib._bootstrap>\", line 219, in _call_with_frames_removed\n",
      "  File \"/home/rasp/repositories/myWeatherBench/devlog/src/data_generator.py\", line 192\n",
      "    for year in years\n",
      "                    ^\n",
      "SyntaxError: invalid syntax\n",
      "]\n"
     ]
    },
    {
     "data": {
      "text/plain": [
       "'[1979 1980 1981 1982 1983 1984 1985 1986 1987 1988 1989 1990 1991 1992\\n 1993 1994 1995 1996 1997 1998 1999 2000 2001 2002 2003 2004 2005 2006\\n 2007 2008 2009 2010 2011 2012 2013 2014 2015 2016 2017 2018]'"
      ]
     },
     "execution_count": 56,
     "metadata": {},
     "output_type": "execute_result"
    }
   ],
   "source": [
    "np.unique(ds.time.dt.year)"
   ]
  },
  {
   "cell_type": "code",
   "execution_count": 330,
   "metadata": {},
   "outputs": [
    {
     "data": {
      "application/vnd.jupyter.widget-view+json": {
       "model_id": "c8375f871dce427cbce4139ee3349a00",
       "version_major": 2,
       "version_minor": 0
      },
      "text/plain": [
       "HBox(children=(FloatProgress(value=0.0, max=2.0), HTML(value='')))"
      ]
     },
     "metadata": {},
     "output_type": "display_data"
    },
    {
     "data": {
      "application/vnd.jupyter.widget-view+json": {
       "model_id": "daa1353639c74a5895ed01e6a5aefafb",
       "version_major": 2,
       "version_minor": 0
      },
      "text/plain": [
       "HBox(children=(FloatProgress(value=0.0, max=744.0), HTML(value='')))"
      ]
     },
     "metadata": {},
     "output_type": "display_data"
    },
    {
     "name": "stdout",
     "output_type": "stream",
     "text": [
      "\n"
     ]
    },
    {
     "data": {
      "application/vnd.jupyter.widget-view+json": {
       "model_id": "48cf43239fb94bc0bc7a41ba1af1760f",
       "version_major": 2,
       "version_minor": 0
      },
      "text/plain": [
       "HBox(children=(FloatProgress(value=0.0, max=672.0), HTML(value='')))"
      ]
     },
     "metadata": {},
     "output_type": "display_data"
    },
    {
     "name": "stdout",
     "output_type": "stream",
     "text": [
      "\n",
      "\n"
     ]
    }
   ],
   "source": [
    "for m in tqdm(range(1, 3)):\n",
    "    data_slice = dg_train.data.sel(time=f'2015-{str(m).zfill(2)}')\n",
    "    filename = f'{savedir}month_{str(m).zfill(2)}.tfrecord'\n",
    "    writer = tf.io.TFRecordWriter(filename)\n",
    "    for t in tqdm(data_slice.time):\n",
    "        time = str(t.values).encode('utf-8')\n",
    "        data = data_slice.sel(time=t).values.astype('float32')\n",
    "        serialized_example = serialize_example(time, data)\n",
    "        writer.write(serialized_example)"
   ]
  },
  {
   "cell_type": "code",
   "execution_count": 331,
   "metadata": {},
   "outputs": [],
   "source": [
    "write.close()"
   ]
  },
  {
   "cell_type": "code",
   "execution_count": 332,
   "metadata": {},
   "outputs": [
    {
     "name": "stdout",
     "output_type": "stream",
     "text": [
      "total 3,0G\n",
      "-rw-rw-r-- 1 rasp rasp 221M Jun  7 15:07 month_01.tfrecord\n",
      "-rw-rw-r-- 1 rasp rasp 200M Jun  7 15:07 month_02.tfrecord\n",
      "-rw-rw-r-- 1 rasp rasp 2,6G Jun  7 15:01 test1.tfrecord\n"
     ]
    }
   ],
   "source": [
    "!ls -lh $savedir"
   ]
  },
  {
   "cell_type": "markdown",
   "metadata": {},
   "source": [
    "### Now read the data"
   ]
  },
  {
   "cell_type": "code",
   "execution_count": 22,
   "metadata": {},
   "outputs": [],
   "source": [
    "features = {\n",
    "    'time': tf.io.FixedLenFeature([], tf.string),\n",
    "    'data': tf.io.FixedLenFeature([], tf.string)\n",
    "}"
   ]
  },
  {
   "cell_type": "code",
   "execution_count": 15,
   "metadata": {},
   "outputs": [],
   "source": [
    "def _parse(example_proto):\n",
    "    return tf.io.parse_single_example(example_proto, features)\n",
    "def decode(example_proto):\n",
    "    dic = _parse(example_proto)\n",
    "    time = dic['time']\n",
    "    data = dic['data']\n",
    "    # Normalize I guess\n",
    "    return tf.io.parse_tensor(data, np.float32)\n",
    "def decode_time(example_proto):\n",
    "    dic = _parse(example_proto)\n",
    "    time = dic['time']\n",
    "    data = dic['data']\n",
    "    # Normalize I guess\n",
    "    return time"
   ]
  },
  {
   "cell_type": "code",
   "execution_count": 16,
   "metadata": {},
   "outputs": [],
   "source": [
    "lead_time=72"
   ]
  },
  {
   "cell_type": "code",
   "execution_count": 17,
   "metadata": {},
   "outputs": [],
   "source": [
    "filenames = [f'{savedir}month_{str(m).zfill(2)}.tfrecord' for m in range(1, 3)]"
   ]
  },
  {
   "cell_type": "code",
   "execution_count": 78,
   "metadata": {},
   "outputs": [],
   "source": [
    "raw_ds = tf.data.TFRecordDataset(filenames)"
   ]
  },
  {
   "cell_type": "code",
   "execution_count": 79,
   "metadata": {},
   "outputs": [],
   "source": [
    "parsed_ds = raw_ds.map(decode_time)"
   ]
  },
  {
   "cell_type": "code",
   "execution_count": 80,
   "metadata": {},
   "outputs": [],
   "source": [
    "pp = [p for p in parsed_ds]"
   ]
  },
  {
   "cell_type": "code",
   "execution_count": 81,
   "metadata": {},
   "outputs": [
    {
     "data": {
      "text/plain": [
       "1416"
      ]
     },
     "execution_count": 81,
     "metadata": {},
     "output_type": "execute_result"
    }
   ],
   "source": [
    "len(pp)"
   ]
  },
  {
   "cell_type": "code",
   "execution_count": 82,
   "metadata": {},
   "outputs": [
    {
     "ename": "TypeError",
     "evalue": "'MapDataset' object is not subscriptable",
     "output_type": "error",
     "traceback": [
      "\u001b[0;31m---------------------------------------------------------------------------\u001b[0m",
      "\u001b[0;31mTypeError\u001b[0m                                 Traceback (most recent call last)",
      "\u001b[0;32m<ipython-input-82-ac401f38f2d2>\u001b[0m in \u001b[0;36m<module>\u001b[0;34m\u001b[0m\n\u001b[0;32m----> 1\u001b[0;31m \u001b[0mparsed_ds\u001b[0m\u001b[0;34m[\u001b[0m\u001b[0;36m1\u001b[0m\u001b[0;34m]\u001b[0m\u001b[0;34m\u001b[0m\u001b[0;34m\u001b[0m\u001b[0m\n\u001b[0m",
      "\u001b[0;31mTypeError\u001b[0m: 'MapDataset' object is not subscriptable"
     ]
    }
   ],
   "source": [
    "parsed_ds._"
   ]
  },
  {
   "cell_type": "code",
   "execution_count": 35,
   "metadata": {},
   "outputs": [],
   "source": [
    "batch = parsed_ds"
   ]
  },
  {
   "cell_type": "code",
   "execution_count": 36,
   "metadata": {},
   "outputs": [],
   "source": [
    "batch2 = parsed_ds.skip(lead_time)"
   ]
  },
  {
   "cell_type": "code",
   "execution_count": 26,
   "metadata": {},
   "outputs": [],
   "source": [
    "bb = [b for b in batch]"
   ]
  },
  {
   "cell_type": "code",
   "execution_count": 27,
   "metadata": {},
   "outputs": [
    {
     "data": {
      "text/plain": [
       "44"
      ]
     },
     "execution_count": 27,
     "metadata": {},
     "output_type": "execute_result"
    }
   ],
   "source": [
    "len(bb)"
   ]
  },
  {
   "cell_type": "code",
   "execution_count": 37,
   "metadata": {},
   "outputs": [],
   "source": [
    "combined = tf.data.Dataset.zip((batch, batch2))"
   ]
  },
  {
   "cell_type": "code",
   "execution_count": 47,
   "metadata": {},
   "outputs": [],
   "source": [
    "cc = combined.batch(32)"
   ]
  },
  {
   "cell_type": "code",
   "execution_count": 85,
   "metadata": {},
   "outputs": [],
   "source": [
    "ccc = cc.__iter__()"
   ]
  },
  {
   "cell_type": "code",
   "execution_count": 86,
   "metadata": {},
   "outputs": [
    {
     "data": {
      "text/plain": [
       "(<tf.Tensor: shape=(32,), dtype=string, numpy=\n",
       " array([b'2015-01-01T00:00:00.000000000', b'2015-01-01T01:00:00.000000000',\n",
       "        b'2015-01-01T02:00:00.000000000', b'2015-01-01T03:00:00.000000000',\n",
       "        b'2015-01-01T04:00:00.000000000', b'2015-01-01T05:00:00.000000000',\n",
       "        b'2015-01-01T06:00:00.000000000', b'2015-01-01T07:00:00.000000000',\n",
       "        b'2015-01-01T08:00:00.000000000', b'2015-01-01T09:00:00.000000000',\n",
       "        b'2015-01-01T10:00:00.000000000', b'2015-01-01T11:00:00.000000000',\n",
       "        b'2015-01-01T12:00:00.000000000', b'2015-01-01T13:00:00.000000000',\n",
       "        b'2015-01-01T14:00:00.000000000', b'2015-01-01T15:00:00.000000000',\n",
       "        b'2015-01-01T16:00:00.000000000', b'2015-01-01T17:00:00.000000000',\n",
       "        b'2015-01-01T18:00:00.000000000', b'2015-01-01T19:00:00.000000000',\n",
       "        b'2015-01-01T20:00:00.000000000', b'2015-01-01T21:00:00.000000000',\n",
       "        b'2015-01-01T22:00:00.000000000', b'2015-01-01T23:00:00.000000000',\n",
       "        b'2015-01-02T00:00:00.000000000', b'2015-01-02T01:00:00.000000000',\n",
       "        b'2015-01-02T02:00:00.000000000', b'2015-01-02T03:00:00.000000000',\n",
       "        b'2015-01-02T04:00:00.000000000', b'2015-01-02T05:00:00.000000000',\n",
       "        b'2015-01-02T06:00:00.000000000', b'2015-01-02T07:00:00.000000000'],\n",
       "       dtype=object)>,\n",
       " <tf.Tensor: shape=(32,), dtype=string, numpy=\n",
       " array([b'2015-01-04T00:00:00.000000000', b'2015-01-04T01:00:00.000000000',\n",
       "        b'2015-01-04T02:00:00.000000000', b'2015-01-04T03:00:00.000000000',\n",
       "        b'2015-01-04T04:00:00.000000000', b'2015-01-04T05:00:00.000000000',\n",
       "        b'2015-01-04T06:00:00.000000000', b'2015-01-04T07:00:00.000000000',\n",
       "        b'2015-01-04T08:00:00.000000000', b'2015-01-04T09:00:00.000000000',\n",
       "        b'2015-01-04T10:00:00.000000000', b'2015-01-04T11:00:00.000000000',\n",
       "        b'2015-01-04T12:00:00.000000000', b'2015-01-04T13:00:00.000000000',\n",
       "        b'2015-01-04T14:00:00.000000000', b'2015-01-04T15:00:00.000000000',\n",
       "        b'2015-01-04T16:00:00.000000000', b'2015-01-04T17:00:00.000000000',\n",
       "        b'2015-01-04T18:00:00.000000000', b'2015-01-04T19:00:00.000000000',\n",
       "        b'2015-01-04T20:00:00.000000000', b'2015-01-04T21:00:00.000000000',\n",
       "        b'2015-01-04T22:00:00.000000000', b'2015-01-04T23:00:00.000000000',\n",
       "        b'2015-01-05T00:00:00.000000000', b'2015-01-05T01:00:00.000000000',\n",
       "        b'2015-01-05T02:00:00.000000000', b'2015-01-05T03:00:00.000000000',\n",
       "        b'2015-01-05T04:00:00.000000000', b'2015-01-05T05:00:00.000000000',\n",
       "        b'2015-01-05T06:00:00.000000000', b'2015-01-05T07:00:00.000000000'],\n",
       "       dtype=object)>)"
      ]
     },
     "execution_count": 86,
     "metadata": {},
     "output_type": "execute_result"
    }
   ],
   "source": [
    "next(ccc)"
   ]
  },
  {
   "cell_type": "code",
   "execution_count": 48,
   "metadata": {},
   "outputs": [],
   "source": [
    "bb = [b for b in cc]"
   ]
  },
  {
   "cell_type": "code",
   "execution_count": 49,
   "metadata": {},
   "outputs": [
    {
     "data": {
      "text/plain": [
       "42"
      ]
     },
     "execution_count": 49,
     "metadata": {},
     "output_type": "execute_result"
    }
   ],
   "source": [
    "len(bb)"
   ]
  },
  {
   "cell_type": "code",
   "execution_count": 50,
   "metadata": {
    "collapsed": true,
    "jupyter": {
     "outputs_hidden": true
    }
   },
   "outputs": [
    {
     "data": {
      "text/plain": [
       "((<tf.Tensor: shape=(32,), dtype=string, numpy=\n",
       "  array([b'2015-01-01T00:00:00.000000000', b'2015-01-01T01:00:00.000000000',\n",
       "         b'2015-01-01T02:00:00.000000000', b'2015-01-01T03:00:00.000000000',\n",
       "         b'2015-01-01T04:00:00.000000000', b'2015-01-01T05:00:00.000000000',\n",
       "         b'2015-01-01T06:00:00.000000000', b'2015-01-01T07:00:00.000000000',\n",
       "         b'2015-01-01T08:00:00.000000000', b'2015-01-01T09:00:00.000000000',\n",
       "         b'2015-01-01T10:00:00.000000000', b'2015-01-01T11:00:00.000000000',\n",
       "         b'2015-01-01T12:00:00.000000000', b'2015-01-01T13:00:00.000000000',\n",
       "         b'2015-01-01T14:00:00.000000000', b'2015-01-01T15:00:00.000000000',\n",
       "         b'2015-01-01T16:00:00.000000000', b'2015-01-01T17:00:00.000000000',\n",
       "         b'2015-01-01T18:00:00.000000000', b'2015-01-01T19:00:00.000000000',\n",
       "         b'2015-01-01T20:00:00.000000000', b'2015-01-01T21:00:00.000000000',\n",
       "         b'2015-01-01T22:00:00.000000000', b'2015-01-01T23:00:00.000000000',\n",
       "         b'2015-01-02T00:00:00.000000000', b'2015-01-02T01:00:00.000000000',\n",
       "         b'2015-01-02T02:00:00.000000000', b'2015-01-02T03:00:00.000000000',\n",
       "         b'2015-01-02T04:00:00.000000000', b'2015-01-02T05:00:00.000000000',\n",
       "         b'2015-01-02T06:00:00.000000000', b'2015-01-02T07:00:00.000000000'],\n",
       "        dtype=object)>,\n",
       "  <tf.Tensor: shape=(32,), dtype=string, numpy=\n",
       "  array([b'2015-01-04T00:00:00.000000000', b'2015-01-04T01:00:00.000000000',\n",
       "         b'2015-01-04T02:00:00.000000000', b'2015-01-04T03:00:00.000000000',\n",
       "         b'2015-01-04T04:00:00.000000000', b'2015-01-04T05:00:00.000000000',\n",
       "         b'2015-01-04T06:00:00.000000000', b'2015-01-04T07:00:00.000000000',\n",
       "         b'2015-01-04T08:00:00.000000000', b'2015-01-04T09:00:00.000000000',\n",
       "         b'2015-01-04T10:00:00.000000000', b'2015-01-04T11:00:00.000000000',\n",
       "         b'2015-01-04T12:00:00.000000000', b'2015-01-04T13:00:00.000000000',\n",
       "         b'2015-01-04T14:00:00.000000000', b'2015-01-04T15:00:00.000000000',\n",
       "         b'2015-01-04T16:00:00.000000000', b'2015-01-04T17:00:00.000000000',\n",
       "         b'2015-01-04T18:00:00.000000000', b'2015-01-04T19:00:00.000000000',\n",
       "         b'2015-01-04T20:00:00.000000000', b'2015-01-04T21:00:00.000000000',\n",
       "         b'2015-01-04T22:00:00.000000000', b'2015-01-04T23:00:00.000000000',\n",
       "         b'2015-01-05T00:00:00.000000000', b'2015-01-05T01:00:00.000000000',\n",
       "         b'2015-01-05T02:00:00.000000000', b'2015-01-05T03:00:00.000000000',\n",
       "         b'2015-01-05T04:00:00.000000000', b'2015-01-05T05:00:00.000000000',\n",
       "         b'2015-01-05T06:00:00.000000000', b'2015-01-05T07:00:00.000000000'],\n",
       "        dtype=object)>),\n",
       " (<tf.Tensor: shape=(32,), dtype=string, numpy=\n",
       "  array([b'2015-02-24T16:00:00.000000000', b'2015-02-24T17:00:00.000000000',\n",
       "         b'2015-02-24T18:00:00.000000000', b'2015-02-24T19:00:00.000000000',\n",
       "         b'2015-02-24T20:00:00.000000000', b'2015-02-24T21:00:00.000000000',\n",
       "         b'2015-02-24T22:00:00.000000000', b'2015-02-24T23:00:00.000000000',\n",
       "         b'2015-02-25T00:00:00.000000000', b'2015-02-25T01:00:00.000000000',\n",
       "         b'2015-02-25T02:00:00.000000000', b'2015-02-25T03:00:00.000000000',\n",
       "         b'2015-02-25T04:00:00.000000000', b'2015-02-25T05:00:00.000000000',\n",
       "         b'2015-02-25T06:00:00.000000000', b'2015-02-25T07:00:00.000000000',\n",
       "         b'2015-02-25T08:00:00.000000000', b'2015-02-25T09:00:00.000000000',\n",
       "         b'2015-02-25T10:00:00.000000000', b'2015-02-25T11:00:00.000000000',\n",
       "         b'2015-02-25T12:00:00.000000000', b'2015-02-25T13:00:00.000000000',\n",
       "         b'2015-02-25T14:00:00.000000000', b'2015-02-25T15:00:00.000000000',\n",
       "         b'2015-02-25T16:00:00.000000000', b'2015-02-25T17:00:00.000000000',\n",
       "         b'2015-02-25T18:00:00.000000000', b'2015-02-25T19:00:00.000000000',\n",
       "         b'2015-02-25T20:00:00.000000000', b'2015-02-25T21:00:00.000000000',\n",
       "         b'2015-02-25T22:00:00.000000000', b'2015-02-25T23:00:00.000000000'],\n",
       "        dtype=object)>,\n",
       "  <tf.Tensor: shape=(32,), dtype=string, numpy=\n",
       "  array([b'2015-02-27T16:00:00.000000000', b'2015-02-27T17:00:00.000000000',\n",
       "         b'2015-02-27T18:00:00.000000000', b'2015-02-27T19:00:00.000000000',\n",
       "         b'2015-02-27T20:00:00.000000000', b'2015-02-27T21:00:00.000000000',\n",
       "         b'2015-02-27T22:00:00.000000000', b'2015-02-27T23:00:00.000000000',\n",
       "         b'2015-02-28T00:00:00.000000000', b'2015-02-28T01:00:00.000000000',\n",
       "         b'2015-02-28T02:00:00.000000000', b'2015-02-28T03:00:00.000000000',\n",
       "         b'2015-02-28T04:00:00.000000000', b'2015-02-28T05:00:00.000000000',\n",
       "         b'2015-02-28T06:00:00.000000000', b'2015-02-28T07:00:00.000000000',\n",
       "         b'2015-02-28T08:00:00.000000000', b'2015-02-28T09:00:00.000000000',\n",
       "         b'2015-02-28T10:00:00.000000000', b'2015-02-28T11:00:00.000000000',\n",
       "         b'2015-02-28T12:00:00.000000000', b'2015-02-28T13:00:00.000000000',\n",
       "         b'2015-02-28T14:00:00.000000000', b'2015-02-28T15:00:00.000000000',\n",
       "         b'2015-02-28T16:00:00.000000000', b'2015-02-28T17:00:00.000000000',\n",
       "         b'2015-02-28T18:00:00.000000000', b'2015-02-28T19:00:00.000000000',\n",
       "         b'2015-02-28T20:00:00.000000000', b'2015-02-28T21:00:00.000000000',\n",
       "         b'2015-02-28T22:00:00.000000000', b'2015-02-28T23:00:00.000000000'],\n",
       "        dtype=object)>))"
      ]
     },
     "execution_count": 50,
     "metadata": {},
     "output_type": "execute_result"
    }
   ],
   "source": [
    "bb[0], bb[-1]"
   ]
  },
  {
   "cell_type": "code",
   "execution_count": 399,
   "metadata": {
    "collapsed": true,
    "jupyter": {
     "outputs_hidden": true
    }
   },
   "outputs": [
    {
     "name": "stdout",
     "output_type": "stream",
     "text": [
      "tf.Tensor(\n",
      "[[b'2015-01-02T14:00:00.000000000' b'2015-01-02T15:00:00.000000000']\n",
      " [b'2015-01-04T14:00:00.000000000' b'2015-01-04T15:00:00.000000000']\n",
      " [b'2015-01-03T14:00:00.000000000' b'2015-01-03T15:00:00.000000000']\n",
      " [b'2015-01-09T04:00:00.000000000' b'2015-01-09T05:00:00.000000000']\n",
      " [b'2015-01-07T20:00:00.000000000' b'2015-01-07T21:00:00.000000000']\n",
      " [b'2015-01-09T06:00:00.000000000' b'2015-01-09T07:00:00.000000000']\n",
      " [b'2015-01-05T08:00:00.000000000' b'2015-01-05T09:00:00.000000000']\n",
      " [b'2015-01-04T06:00:00.000000000' b'2015-01-04T07:00:00.000000000']\n",
      " [b'2015-01-07T16:00:00.000000000' b'2015-01-07T17:00:00.000000000']\n",
      " [b'2015-01-02T12:00:00.000000000' b'2015-01-02T13:00:00.000000000']\n",
      " [b'2015-01-03T02:00:00.000000000' b'2015-01-03T03:00:00.000000000']\n",
      " [b'2015-01-04T22:00:00.000000000' b'2015-01-04T23:00:00.000000000']\n",
      " [b'2015-01-02T08:00:00.000000000' b'2015-01-02T09:00:00.000000000']\n",
      " [b'2015-01-08T02:00:00.000000000' b'2015-01-08T03:00:00.000000000']\n",
      " [b'2015-01-07T00:00:00.000000000' b'2015-01-07T01:00:00.000000000']\n",
      " [b'2015-01-07T02:00:00.000000000' b'2015-01-07T03:00:00.000000000']\n",
      " [b'2015-01-07T18:00:00.000000000' b'2015-01-07T19:00:00.000000000']\n",
      " [b'2015-01-09T14:00:00.000000000' b'2015-01-09T15:00:00.000000000']\n",
      " [b'2015-01-03T12:00:00.000000000' b'2015-01-03T13:00:00.000000000']\n",
      " [b'2015-01-07T04:00:00.000000000' b'2015-01-07T05:00:00.000000000']\n",
      " [b'2015-01-09T10:00:00.000000000' b'2015-01-09T11:00:00.000000000']\n",
      " [b'2015-01-06T20:00:00.000000000' b'2015-01-06T21:00:00.000000000']\n",
      " [b'2015-01-10T00:00:00.000000000' b'2015-01-10T01:00:00.000000000']\n",
      " [b'2015-01-05T00:00:00.000000000' b'2015-01-05T01:00:00.000000000']\n",
      " [b'2015-01-06T00:00:00.000000000' b'2015-01-06T01:00:00.000000000']\n",
      " [b'2015-01-01T00:00:00.000000000' b'2015-01-01T01:00:00.000000000']\n",
      " [b'2015-01-03T18:00:00.000000000' b'2015-01-03T19:00:00.000000000']\n",
      " [b'2015-01-01T10:00:00.000000000' b'2015-01-01T11:00:00.000000000']\n",
      " [b'2015-01-02T02:00:00.000000000' b'2015-01-02T03:00:00.000000000']\n",
      " [b'2015-01-09T00:00:00.000000000' b'2015-01-09T01:00:00.000000000']\n",
      " [b'2015-01-08T04:00:00.000000000' b'2015-01-08T05:00:00.000000000']\n",
      " [b'2015-01-05T14:00:00.000000000' b'2015-01-05T15:00:00.000000000']], shape=(32, 2), dtype=string) tf.Tensor(\n",
      "[[b'2015-01-05T14:00:00.000000000' b'2015-01-05T15:00:00.000000000']\n",
      " [b'2015-01-07T14:00:00.000000000' b'2015-01-07T15:00:00.000000000']\n",
      " [b'2015-01-06T14:00:00.000000000' b'2015-01-06T15:00:00.000000000']\n",
      " [b'2015-01-12T04:00:00.000000000' b'2015-01-12T05:00:00.000000000']\n",
      " [b'2015-01-10T20:00:00.000000000' b'2015-01-10T21:00:00.000000000']\n",
      " [b'2015-01-12T06:00:00.000000000' b'2015-01-12T07:00:00.000000000']\n",
      " [b'2015-01-08T08:00:00.000000000' b'2015-01-08T09:00:00.000000000']\n",
      " [b'2015-01-07T06:00:00.000000000' b'2015-01-07T07:00:00.000000000']\n",
      " [b'2015-01-10T16:00:00.000000000' b'2015-01-10T17:00:00.000000000']\n",
      " [b'2015-01-05T12:00:00.000000000' b'2015-01-05T13:00:00.000000000']\n",
      " [b'2015-01-06T02:00:00.000000000' b'2015-01-06T03:00:00.000000000']\n",
      " [b'2015-01-07T22:00:00.000000000' b'2015-01-07T23:00:00.000000000']\n",
      " [b'2015-01-05T08:00:00.000000000' b'2015-01-05T09:00:00.000000000']\n",
      " [b'2015-01-11T02:00:00.000000000' b'2015-01-11T03:00:00.000000000']\n",
      " [b'2015-01-10T00:00:00.000000000' b'2015-01-10T01:00:00.000000000']\n",
      " [b'2015-01-10T02:00:00.000000000' b'2015-01-10T03:00:00.000000000']\n",
      " [b'2015-01-10T18:00:00.000000000' b'2015-01-10T19:00:00.000000000']\n",
      " [b'2015-01-12T14:00:00.000000000' b'2015-01-12T15:00:00.000000000']\n",
      " [b'2015-01-06T12:00:00.000000000' b'2015-01-06T13:00:00.000000000']\n",
      " [b'2015-01-10T04:00:00.000000000' b'2015-01-10T05:00:00.000000000']\n",
      " [b'2015-01-12T10:00:00.000000000' b'2015-01-12T11:00:00.000000000']\n",
      " [b'2015-01-09T20:00:00.000000000' b'2015-01-09T21:00:00.000000000']\n",
      " [b'2015-01-13T00:00:00.000000000' b'2015-01-13T01:00:00.000000000']\n",
      " [b'2015-01-08T00:00:00.000000000' b'2015-01-08T01:00:00.000000000']\n",
      " [b'2015-01-09T00:00:00.000000000' b'2015-01-09T01:00:00.000000000']\n",
      " [b'2015-01-04T00:00:00.000000000' b'2015-01-04T01:00:00.000000000']\n",
      " [b'2015-01-06T18:00:00.000000000' b'2015-01-06T19:00:00.000000000']\n",
      " [b'2015-01-04T10:00:00.000000000' b'2015-01-04T11:00:00.000000000']\n",
      " [b'2015-01-05T02:00:00.000000000' b'2015-01-05T03:00:00.000000000']\n",
      " [b'2015-01-12T00:00:00.000000000' b'2015-01-12T01:00:00.000000000']\n",
      " [b'2015-01-11T04:00:00.000000000' b'2015-01-11T05:00:00.000000000']\n",
      " [b'2015-01-08T14:00:00.000000000' b'2015-01-08T15:00:00.000000000']], shape=(32, 2), dtype=string)\n",
      "tf.Tensor(\n",
      "[[b'2015-01-04T18:00:00.000000000' b'2015-01-04T19:00:00.000000000']\n",
      " [b'2015-01-07T06:00:00.000000000' b'2015-01-07T07:00:00.000000000']\n",
      " [b'2015-01-12T00:00:00.000000000' b'2015-01-12T01:00:00.000000000']\n",
      " [b'2015-01-09T20:00:00.000000000' b'2015-01-09T21:00:00.000000000']\n",
      " [b'2015-01-06T22:00:00.000000000' b'2015-01-06T23:00:00.000000000']\n",
      " [b'2015-01-07T12:00:00.000000000' b'2015-01-07T13:00:00.000000000']\n",
      " [b'2015-01-12T08:00:00.000000000' b'2015-01-12T09:00:00.000000000']\n",
      " [b'2015-01-07T22:00:00.000000000' b'2015-01-07T23:00:00.000000000']\n",
      " [b'2015-01-11T20:00:00.000000000' b'2015-01-11T21:00:00.000000000']\n",
      " [b'2015-01-06T18:00:00.000000000' b'2015-01-06T19:00:00.000000000']\n",
      " [b'2015-01-12T18:00:00.000000000' b'2015-01-12T19:00:00.000000000']\n",
      " [b'2015-01-11T02:00:00.000000000' b'2015-01-11T03:00:00.000000000']\n",
      " [b'2015-01-04T00:00:00.000000000' b'2015-01-04T01:00:00.000000000']\n",
      " [b'2015-01-12T04:00:00.000000000' b'2015-01-12T05:00:00.000000000']\n",
      " [b'2015-01-10T04:00:00.000000000' b'2015-01-10T05:00:00.000000000']\n",
      " [b'2015-01-03T06:00:00.000000000' b'2015-01-03T07:00:00.000000000']\n",
      " [b'2015-01-13T04:00:00.000000000' b'2015-01-13T05:00:00.000000000']\n",
      " [b'2015-01-12T12:00:00.000000000' b'2015-01-12T13:00:00.000000000']\n",
      " [b'2015-01-06T04:00:00.000000000' b'2015-01-06T05:00:00.000000000']\n",
      " [b'2015-01-12T10:00:00.000000000' b'2015-01-12T11:00:00.000000000']\n",
      " [b'2015-01-07T10:00:00.000000000' b'2015-01-07T11:00:00.000000000']\n",
      " [b'2015-01-10T02:00:00.000000000' b'2015-01-10T03:00:00.000000000']\n",
      " [b'2015-01-01T14:00:00.000000000' b'2015-01-01T15:00:00.000000000']\n",
      " [b'2015-01-10T18:00:00.000000000' b'2015-01-10T19:00:00.000000000']\n",
      " [b'2015-01-12T22:00:00.000000000' b'2015-01-12T23:00:00.000000000']\n",
      " [b'2015-01-02T06:00:00.000000000' b'2015-01-02T07:00:00.000000000']\n",
      " [b'2015-01-02T10:00:00.000000000' b'2015-01-02T11:00:00.000000000']\n",
      " [b'2015-01-04T02:00:00.000000000' b'2015-01-04T03:00:00.000000000']\n",
      " [b'2015-01-03T22:00:00.000000000' b'2015-01-03T23:00:00.000000000']\n",
      " [b'2015-01-11T22:00:00.000000000' b'2015-01-11T23:00:00.000000000']\n",
      " [b'2015-01-12T20:00:00.000000000' b'2015-01-12T21:00:00.000000000']\n",
      " [b'2015-01-04T12:00:00.000000000' b'2015-01-04T13:00:00.000000000']], shape=(32, 2), dtype=string) tf.Tensor(\n",
      "[[b'2015-01-07T18:00:00.000000000' b'2015-01-07T19:00:00.000000000']\n",
      " [b'2015-01-10T06:00:00.000000000' b'2015-01-10T07:00:00.000000000']\n",
      " [b'2015-01-15T00:00:00.000000000' b'2015-01-15T01:00:00.000000000']\n",
      " [b'2015-01-12T20:00:00.000000000' b'2015-01-12T21:00:00.000000000']\n",
      " [b'2015-01-09T22:00:00.000000000' b'2015-01-09T23:00:00.000000000']\n",
      " [b'2015-01-10T12:00:00.000000000' b'2015-01-10T13:00:00.000000000']\n",
      " [b'2015-01-15T08:00:00.000000000' b'2015-01-15T09:00:00.000000000']\n",
      " [b'2015-01-10T22:00:00.000000000' b'2015-01-10T23:00:00.000000000']\n",
      " [b'2015-01-14T20:00:00.000000000' b'2015-01-14T21:00:00.000000000']\n",
      " [b'2015-01-09T18:00:00.000000000' b'2015-01-09T19:00:00.000000000']\n",
      " [b'2015-01-15T18:00:00.000000000' b'2015-01-15T19:00:00.000000000']\n",
      " [b'2015-01-14T02:00:00.000000000' b'2015-01-14T03:00:00.000000000']\n",
      " [b'2015-01-07T00:00:00.000000000' b'2015-01-07T01:00:00.000000000']\n",
      " [b'2015-01-15T04:00:00.000000000' b'2015-01-15T05:00:00.000000000']\n",
      " [b'2015-01-13T04:00:00.000000000' b'2015-01-13T05:00:00.000000000']\n",
      " [b'2015-01-06T06:00:00.000000000' b'2015-01-06T07:00:00.000000000']\n",
      " [b'2015-01-16T04:00:00.000000000' b'2015-01-16T05:00:00.000000000']\n",
      " [b'2015-01-15T12:00:00.000000000' b'2015-01-15T13:00:00.000000000']\n",
      " [b'2015-01-09T04:00:00.000000000' b'2015-01-09T05:00:00.000000000']\n",
      " [b'2015-01-15T10:00:00.000000000' b'2015-01-15T11:00:00.000000000']\n",
      " [b'2015-01-10T10:00:00.000000000' b'2015-01-10T11:00:00.000000000']\n",
      " [b'2015-01-13T02:00:00.000000000' b'2015-01-13T03:00:00.000000000']\n",
      " [b'2015-01-04T14:00:00.000000000' b'2015-01-04T15:00:00.000000000']\n",
      " [b'2015-01-13T18:00:00.000000000' b'2015-01-13T19:00:00.000000000']\n",
      " [b'2015-01-15T22:00:00.000000000' b'2015-01-15T23:00:00.000000000']\n",
      " [b'2015-01-05T06:00:00.000000000' b'2015-01-05T07:00:00.000000000']\n",
      " [b'2015-01-05T10:00:00.000000000' b'2015-01-05T11:00:00.000000000']\n",
      " [b'2015-01-07T02:00:00.000000000' b'2015-01-07T03:00:00.000000000']\n",
      " [b'2015-01-06T22:00:00.000000000' b'2015-01-06T23:00:00.000000000']\n",
      " [b'2015-01-14T22:00:00.000000000' b'2015-01-14T23:00:00.000000000']\n",
      " [b'2015-01-15T20:00:00.000000000' b'2015-01-15T21:00:00.000000000']\n",
      " [b'2015-01-07T12:00:00.000000000' b'2015-01-07T13:00:00.000000000']], shape=(32, 2), dtype=string)\n",
      "tf.Tensor(\n",
      "[[b'2015-01-12T16:00:00.000000000' b'2015-01-12T17:00:00.000000000']\n",
      " [b'2015-01-02T18:00:00.000000000' b'2015-01-02T19:00:00.000000000']\n",
      " [b'2015-01-01T20:00:00.000000000' b'2015-01-01T21:00:00.000000000']\n",
      " [b'2015-01-14T16:00:00.000000000' b'2015-01-14T17:00:00.000000000']\n",
      " [b'2015-01-11T16:00:00.000000000' b'2015-01-11T17:00:00.000000000']\n",
      " [b'2015-01-14T12:00:00.000000000' b'2015-01-14T13:00:00.000000000']\n",
      " [b'2015-01-08T08:00:00.000000000' b'2015-01-08T09:00:00.000000000']\n",
      " [b'2015-01-11T08:00:00.000000000' b'2015-01-11T09:00:00.000000000']\n",
      " [b'2015-01-05T02:00:00.000000000' b'2015-01-05T03:00:00.000000000']\n",
      " [b'2015-01-14T08:00:00.000000000' b'2015-01-14T09:00:00.000000000']\n",
      " [b'2015-01-06T14:00:00.000000000' b'2015-01-06T15:00:00.000000000']\n",
      " [b'2015-01-05T16:00:00.000000000' b'2015-01-05T17:00:00.000000000']\n",
      " [b'2015-01-09T22:00:00.000000000' b'2015-01-09T23:00:00.000000000']\n",
      " [b'2015-01-15T08:00:00.000000000' b'2015-01-15T09:00:00.000000000']\n",
      " [b'2015-01-04T10:00:00.000000000' b'2015-01-04T11:00:00.000000000']\n",
      " [b'2015-01-01T12:00:00.000000000' b'2015-01-01T13:00:00.000000000']\n",
      " [b'2015-01-13T22:00:00.000000000' b'2015-01-13T23:00:00.000000000']\n",
      " [b'2015-01-15T20:00:00.000000000' b'2015-01-15T21:00:00.000000000']\n",
      " [b'2015-01-13T16:00:00.000000000' b'2015-01-13T17:00:00.000000000']\n",
      " [b'2015-01-04T16:00:00.000000000' b'2015-01-04T17:00:00.000000000']\n",
      " [b'2015-01-06T16:00:00.000000000' b'2015-01-06T17:00:00.000000000']\n",
      " [b'2015-01-08T18:00:00.000000000' b'2015-01-08T19:00:00.000000000']\n",
      " [b'2015-01-03T16:00:00.000000000' b'2015-01-03T17:00:00.000000000']\n",
      " [b'2015-01-16T10:00:00.000000000' b'2015-01-16T11:00:00.000000000']\n",
      " [b'2015-01-14T02:00:00.000000000' b'2015-01-14T03:00:00.000000000']\n",
      " [b'2015-01-08T00:00:00.000000000' b'2015-01-08T01:00:00.000000000']\n",
      " [b'2015-01-16T14:00:00.000000000' b'2015-01-16T15:00:00.000000000']\n",
      " [b'2015-01-10T14:00:00.000000000' b'2015-01-10T15:00:00.000000000']\n",
      " [b'2015-01-15T12:00:00.000000000' b'2015-01-15T13:00:00.000000000']\n",
      " [b'2015-01-06T02:00:00.000000000' b'2015-01-06T03:00:00.000000000']\n",
      " [b'2015-01-13T02:00:00.000000000' b'2015-01-13T03:00:00.000000000']\n",
      " [b'2015-01-13T08:00:00.000000000' b'2015-01-13T09:00:00.000000000']], shape=(32, 2), dtype=string) tf.Tensor(\n",
      "[[b'2015-01-15T16:00:00.000000000' b'2015-01-15T17:00:00.000000000']\n",
      " [b'2015-01-05T18:00:00.000000000' b'2015-01-05T19:00:00.000000000']\n",
      " [b'2015-01-04T20:00:00.000000000' b'2015-01-04T21:00:00.000000000']\n",
      " [b'2015-01-17T16:00:00.000000000' b'2015-01-17T17:00:00.000000000']\n",
      " [b'2015-01-14T16:00:00.000000000' b'2015-01-14T17:00:00.000000000']\n",
      " [b'2015-01-17T12:00:00.000000000' b'2015-01-17T13:00:00.000000000']\n",
      " [b'2015-01-11T08:00:00.000000000' b'2015-01-11T09:00:00.000000000']\n",
      " [b'2015-01-14T08:00:00.000000000' b'2015-01-14T09:00:00.000000000']\n",
      " [b'2015-01-08T02:00:00.000000000' b'2015-01-08T03:00:00.000000000']\n",
      " [b'2015-01-17T08:00:00.000000000' b'2015-01-17T09:00:00.000000000']\n",
      " [b'2015-01-09T14:00:00.000000000' b'2015-01-09T15:00:00.000000000']\n",
      " [b'2015-01-08T16:00:00.000000000' b'2015-01-08T17:00:00.000000000']\n",
      " [b'2015-01-12T22:00:00.000000000' b'2015-01-12T23:00:00.000000000']\n",
      " [b'2015-01-18T08:00:00.000000000' b'2015-01-18T09:00:00.000000000']\n",
      " [b'2015-01-07T10:00:00.000000000' b'2015-01-07T11:00:00.000000000']\n",
      " [b'2015-01-04T12:00:00.000000000' b'2015-01-04T13:00:00.000000000']\n",
      " [b'2015-01-16T22:00:00.000000000' b'2015-01-16T23:00:00.000000000']\n",
      " [b'2015-01-18T20:00:00.000000000' b'2015-01-18T21:00:00.000000000']\n",
      " [b'2015-01-16T16:00:00.000000000' b'2015-01-16T17:00:00.000000000']\n",
      " [b'2015-01-07T16:00:00.000000000' b'2015-01-07T17:00:00.000000000']\n",
      " [b'2015-01-09T16:00:00.000000000' b'2015-01-09T17:00:00.000000000']\n",
      " [b'2015-01-11T18:00:00.000000000' b'2015-01-11T19:00:00.000000000']\n",
      " [b'2015-01-06T16:00:00.000000000' b'2015-01-06T17:00:00.000000000']\n",
      " [b'2015-01-19T10:00:00.000000000' b'2015-01-19T11:00:00.000000000']\n",
      " [b'2015-01-17T02:00:00.000000000' b'2015-01-17T03:00:00.000000000']\n",
      " [b'2015-01-11T00:00:00.000000000' b'2015-01-11T01:00:00.000000000']\n",
      " [b'2015-01-19T14:00:00.000000000' b'2015-01-19T15:00:00.000000000']\n",
      " [b'2015-01-13T14:00:00.000000000' b'2015-01-13T15:00:00.000000000']\n",
      " [b'2015-01-18T12:00:00.000000000' b'2015-01-18T13:00:00.000000000']\n",
      " [b'2015-01-09T02:00:00.000000000' b'2015-01-09T03:00:00.000000000']\n",
      " [b'2015-01-16T02:00:00.000000000' b'2015-01-16T03:00:00.000000000']\n",
      " [b'2015-01-16T08:00:00.000000000' b'2015-01-16T09:00:00.000000000']], shape=(32, 2), dtype=string)\n",
      "tf.Tensor(\n",
      "[[b'2015-01-09T08:00:00.000000000' b'2015-01-09T09:00:00.000000000']\n",
      " [b'2015-01-12T02:00:00.000000000' b'2015-01-12T03:00:00.000000000']\n",
      " [b'2015-01-05T06:00:00.000000000' b'2015-01-05T07:00:00.000000000']\n",
      " [b'2015-01-13T20:00:00.000000000' b'2015-01-13T21:00:00.000000000']\n",
      " [b'2015-01-08T22:00:00.000000000' b'2015-01-08T23:00:00.000000000']\n",
      " [b'2015-01-14T06:00:00.000000000' b'2015-01-14T07:00:00.000000000']\n",
      " [b'2015-01-14T04:00:00.000000000' b'2015-01-14T05:00:00.000000000']\n",
      " [b'2015-01-01T04:00:00.000000000' b'2015-01-01T05:00:00.000000000']\n",
      " [b'2015-01-14T22:00:00.000000000' b'2015-01-14T23:00:00.000000000']\n",
      " [b'2015-01-17T06:00:00.000000000' b'2015-01-17T07:00:00.000000000']\n",
      " [b'2015-01-05T18:00:00.000000000' b'2015-01-05T19:00:00.000000000']\n",
      " [b'2015-01-17T14:00:00.000000000' b'2015-01-17T15:00:00.000000000']\n",
      " [b'2015-01-15T04:00:00.000000000' b'2015-01-15T05:00:00.000000000']\n",
      " [b'2015-01-03T04:00:00.000000000' b'2015-01-03T05:00:00.000000000']\n",
      " [b'2015-01-16T22:00:00.000000000' b'2015-01-16T23:00:00.000000000']\n",
      " [b'2015-01-01T06:00:00.000000000' b'2015-01-01T07:00:00.000000000']\n",
      " [b'2015-01-08T20:00:00.000000000' b'2015-01-08T21:00:00.000000000']\n",
      " [b'2015-01-14T14:00:00.000000000' b'2015-01-14T15:00:00.000000000']\n",
      " [b'2015-01-06T06:00:00.000000000' b'2015-01-06T07:00:00.000000000']\n",
      " [b'2015-01-18T12:00:00.000000000' b'2015-01-18T13:00:00.000000000']\n",
      " [b'2015-01-10T20:00:00.000000000' b'2015-01-10T21:00:00.000000000']\n",
      " [b'2015-01-15T00:00:00.000000000' b'2015-01-15T01:00:00.000000000']\n",
      " [b'2015-01-01T16:00:00.000000000' b'2015-01-01T17:00:00.000000000']\n",
      " [b'2015-01-06T10:00:00.000000000' b'2015-01-06T11:00:00.000000000']\n",
      " [b'2015-01-17T04:00:00.000000000' b'2015-01-17T05:00:00.000000000']\n",
      " [b'2015-01-18T20:00:00.000000000' b'2015-01-18T21:00:00.000000000']\n",
      " [b'2015-01-16T12:00:00.000000000' b'2015-01-16T13:00:00.000000000']\n",
      " [b'2015-01-02T16:00:00.000000000' b'2015-01-02T17:00:00.000000000']\n",
      " [b'2015-01-14T10:00:00.000000000' b'2015-01-14T11:00:00.000000000']\n",
      " [b'2015-01-15T14:00:00.000000000' b'2015-01-15T15:00:00.000000000']\n",
      " [b'2015-01-03T10:00:00.000000000' b'2015-01-03T11:00:00.000000000']\n",
      " [b'2015-01-02T20:00:00.000000000' b'2015-01-02T21:00:00.000000000']], shape=(32, 2), dtype=string) tf.Tensor(\n",
      "[[b'2015-01-12T08:00:00.000000000' b'2015-01-12T09:00:00.000000000']\n",
      " [b'2015-01-15T02:00:00.000000000' b'2015-01-15T03:00:00.000000000']\n",
      " [b'2015-01-08T06:00:00.000000000' b'2015-01-08T07:00:00.000000000']\n",
      " [b'2015-01-16T20:00:00.000000000' b'2015-01-16T21:00:00.000000000']\n",
      " [b'2015-01-11T22:00:00.000000000' b'2015-01-11T23:00:00.000000000']\n",
      " [b'2015-01-17T06:00:00.000000000' b'2015-01-17T07:00:00.000000000']\n",
      " [b'2015-01-17T04:00:00.000000000' b'2015-01-17T05:00:00.000000000']\n",
      " [b'2015-01-04T04:00:00.000000000' b'2015-01-04T05:00:00.000000000']\n",
      " [b'2015-01-17T22:00:00.000000000' b'2015-01-17T23:00:00.000000000']\n",
      " [b'2015-01-20T06:00:00.000000000' b'2015-01-20T07:00:00.000000000']\n",
      " [b'2015-01-08T18:00:00.000000000' b'2015-01-08T19:00:00.000000000']\n",
      " [b'2015-01-20T14:00:00.000000000' b'2015-01-20T15:00:00.000000000']\n",
      " [b'2015-01-18T04:00:00.000000000' b'2015-01-18T05:00:00.000000000']\n",
      " [b'2015-01-06T04:00:00.000000000' b'2015-01-06T05:00:00.000000000']\n",
      " [b'2015-01-19T22:00:00.000000000' b'2015-01-19T23:00:00.000000000']\n",
      " [b'2015-01-04T06:00:00.000000000' b'2015-01-04T07:00:00.000000000']\n",
      " [b'2015-01-11T20:00:00.000000000' b'2015-01-11T21:00:00.000000000']\n",
      " [b'2015-01-17T14:00:00.000000000' b'2015-01-17T15:00:00.000000000']\n",
      " [b'2015-01-09T06:00:00.000000000' b'2015-01-09T07:00:00.000000000']\n",
      " [b'2015-01-21T12:00:00.000000000' b'2015-01-21T13:00:00.000000000']\n",
      " [b'2015-01-13T20:00:00.000000000' b'2015-01-13T21:00:00.000000000']\n",
      " [b'2015-01-18T00:00:00.000000000' b'2015-01-18T01:00:00.000000000']\n",
      " [b'2015-01-04T16:00:00.000000000' b'2015-01-04T17:00:00.000000000']\n",
      " [b'2015-01-09T10:00:00.000000000' b'2015-01-09T11:00:00.000000000']\n",
      " [b'2015-01-20T04:00:00.000000000' b'2015-01-20T05:00:00.000000000']\n",
      " [b'2015-01-21T20:00:00.000000000' b'2015-01-21T21:00:00.000000000']\n",
      " [b'2015-01-19T12:00:00.000000000' b'2015-01-19T13:00:00.000000000']\n",
      " [b'2015-01-05T16:00:00.000000000' b'2015-01-05T17:00:00.000000000']\n",
      " [b'2015-01-17T10:00:00.000000000' b'2015-01-17T11:00:00.000000000']\n",
      " [b'2015-01-18T14:00:00.000000000' b'2015-01-18T15:00:00.000000000']\n",
      " [b'2015-01-06T10:00:00.000000000' b'2015-01-06T11:00:00.000000000']\n",
      " [b'2015-01-05T20:00:00.000000000' b'2015-01-05T21:00:00.000000000']], shape=(32, 2), dtype=string)\n",
      "tf.Tensor(\n",
      "[[b'2015-01-07T08:00:00.000000000' b'2015-01-07T09:00:00.000000000']\n",
      " [b'2015-01-10T08:00:00.000000000' b'2015-01-10T09:00:00.000000000']\n",
      " [b'2015-01-10T10:00:00.000000000' b'2015-01-10T11:00:00.000000000']\n",
      " [b'2015-01-05T22:00:00.000000000' b'2015-01-05T23:00:00.000000000']\n",
      " [b'2015-01-19T06:00:00.000000000' b'2015-01-19T07:00:00.000000000']\n",
      " [b'2015-01-13T12:00:00.000000000' b'2015-01-13T13:00:00.000000000']\n",
      " [b'2015-01-16T20:00:00.000000000' b'2015-01-16T21:00:00.000000000']\n",
      " [b'2015-01-18T04:00:00.000000000' b'2015-01-18T05:00:00.000000000']\n",
      " [b'2015-01-08T14:00:00.000000000' b'2015-01-08T15:00:00.000000000']\n",
      " [b'2015-01-19T12:00:00.000000000' b'2015-01-19T13:00:00.000000000']\n",
      " [b'2015-01-15T16:00:00.000000000' b'2015-01-15T17:00:00.000000000']\n",
      " [b'2015-01-18T14:00:00.000000000' b'2015-01-18T15:00:00.000000000']\n",
      " [b'2015-01-16T18:00:00.000000000' b'2015-01-16T19:00:00.000000000']\n",
      " [b'2015-01-12T06:00:00.000000000' b'2015-01-12T07:00:00.000000000']\n",
      " [b'2015-01-19T18:00:00.000000000' b'2015-01-19T19:00:00.000000000']\n",
      " [b'2015-01-16T16:00:00.000000000' b'2015-01-16T17:00:00.000000000']\n",
      " [b'2015-01-18T02:00:00.000000000' b'2015-01-18T03:00:00.000000000']\n",
      " [b'2015-01-17T10:00:00.000000000' b'2015-01-17T11:00:00.000000000']\n",
      " [b'2015-01-16T06:00:00.000000000' b'2015-01-16T07:00:00.000000000']\n",
      " [b'2015-01-17T00:00:00.000000000' b'2015-01-17T01:00:00.000000000']\n",
      " [b'2015-01-21T08:00:00.000000000' b'2015-01-21T09:00:00.000000000']\n",
      " [b'2015-01-05T12:00:00.000000000' b'2015-01-05T13:00:00.000000000']\n",
      " [b'2015-01-11T10:00:00.000000000' b'2015-01-11T11:00:00.000000000']\n",
      " [b'2015-01-04T20:00:00.000000000' b'2015-01-04T21:00:00.000000000']\n",
      " [b'2015-01-16T08:00:00.000000000' b'2015-01-16T09:00:00.000000000']\n",
      " [b'2015-01-06T08:00:00.000000000' b'2015-01-06T09:00:00.000000000']\n",
      " [b'2015-01-22T00:00:00.000000000' b'2015-01-22T01:00:00.000000000']\n",
      " [b'2015-01-19T02:00:00.000000000' b'2015-01-19T03:00:00.000000000']\n",
      " [b'2015-01-20T06:00:00.000000000' b'2015-01-20T07:00:00.000000000']\n",
      " [b'2015-01-05T10:00:00.000000000' b'2015-01-05T11:00:00.000000000']\n",
      " [b'2015-01-11T12:00:00.000000000' b'2015-01-11T13:00:00.000000000']\n",
      " [b'2015-01-18T22:00:00.000000000' b'2015-01-18T23:00:00.000000000']], shape=(32, 2), dtype=string) tf.Tensor(\n",
      "[[b'2015-01-10T08:00:00.000000000' b'2015-01-10T09:00:00.000000000']\n",
      " [b'2015-01-13T08:00:00.000000000' b'2015-01-13T09:00:00.000000000']\n",
      " [b'2015-01-13T10:00:00.000000000' b'2015-01-13T11:00:00.000000000']\n",
      " [b'2015-01-08T22:00:00.000000000' b'2015-01-08T23:00:00.000000000']\n",
      " [b'2015-01-22T06:00:00.000000000' b'2015-01-22T07:00:00.000000000']\n",
      " [b'2015-01-16T12:00:00.000000000' b'2015-01-16T13:00:00.000000000']\n",
      " [b'2015-01-19T20:00:00.000000000' b'2015-01-19T21:00:00.000000000']\n",
      " [b'2015-01-21T04:00:00.000000000' b'2015-01-21T05:00:00.000000000']\n",
      " [b'2015-01-11T14:00:00.000000000' b'2015-01-11T15:00:00.000000000']\n",
      " [b'2015-01-22T12:00:00.000000000' b'2015-01-22T13:00:00.000000000']\n",
      " [b'2015-01-18T16:00:00.000000000' b'2015-01-18T17:00:00.000000000']\n",
      " [b'2015-01-21T14:00:00.000000000' b'2015-01-21T15:00:00.000000000']\n",
      " [b'2015-01-19T18:00:00.000000000' b'2015-01-19T19:00:00.000000000']\n",
      " [b'2015-01-15T06:00:00.000000000' b'2015-01-15T07:00:00.000000000']\n",
      " [b'2015-01-22T18:00:00.000000000' b'2015-01-22T19:00:00.000000000']\n",
      " [b'2015-01-19T16:00:00.000000000' b'2015-01-19T17:00:00.000000000']\n",
      " [b'2015-01-21T02:00:00.000000000' b'2015-01-21T03:00:00.000000000']\n",
      " [b'2015-01-20T10:00:00.000000000' b'2015-01-20T11:00:00.000000000']\n",
      " [b'2015-01-19T06:00:00.000000000' b'2015-01-19T07:00:00.000000000']\n",
      " [b'2015-01-20T00:00:00.000000000' b'2015-01-20T01:00:00.000000000']\n",
      " [b'2015-01-24T08:00:00.000000000' b'2015-01-24T09:00:00.000000000']\n",
      " [b'2015-01-08T12:00:00.000000000' b'2015-01-08T13:00:00.000000000']\n",
      " [b'2015-01-14T10:00:00.000000000' b'2015-01-14T11:00:00.000000000']\n",
      " [b'2015-01-07T20:00:00.000000000' b'2015-01-07T21:00:00.000000000']\n",
      " [b'2015-01-19T08:00:00.000000000' b'2015-01-19T09:00:00.000000000']\n",
      " [b'2015-01-09T08:00:00.000000000' b'2015-01-09T09:00:00.000000000']\n",
      " [b'2015-01-25T00:00:00.000000000' b'2015-01-25T01:00:00.000000000']\n",
      " [b'2015-01-22T02:00:00.000000000' b'2015-01-22T03:00:00.000000000']\n",
      " [b'2015-01-23T06:00:00.000000000' b'2015-01-23T07:00:00.000000000']\n",
      " [b'2015-01-08T10:00:00.000000000' b'2015-01-08T11:00:00.000000000']\n",
      " [b'2015-01-14T12:00:00.000000000' b'2015-01-14T13:00:00.000000000']\n",
      " [b'2015-01-21T22:00:00.000000000' b'2015-01-21T23:00:00.000000000']], shape=(32, 2), dtype=string)\n",
      "tf.Tensor(\n",
      "[[b'2015-01-11T14:00:00.000000000' b'2015-01-11T15:00:00.000000000']\n",
      " [b'2015-01-22T06:00:00.000000000' b'2015-01-22T07:00:00.000000000']\n",
      " [b'2015-01-20T12:00:00.000000000' b'2015-01-20T13:00:00.000000000']\n",
      " [b'2015-01-14T20:00:00.000000000' b'2015-01-14T21:00:00.000000000']\n",
      " [b'2015-01-20T18:00:00.000000000' b'2015-01-20T19:00:00.000000000']\n",
      " [b'2015-01-11T18:00:00.000000000' b'2015-01-11T19:00:00.000000000']\n",
      " [b'2015-01-21T18:00:00.000000000' b'2015-01-21T19:00:00.000000000']\n",
      " [b'2015-01-22T12:00:00.000000000' b'2015-01-22T13:00:00.000000000']\n",
      " [b'2015-01-18T16:00:00.000000000' b'2015-01-18T17:00:00.000000000']\n",
      " [b'2015-01-18T18:00:00.000000000' b'2015-01-18T19:00:00.000000000']\n",
      " [b'2015-01-22T18:00:00.000000000' b'2015-01-22T19:00:00.000000000']\n",
      " [b'2015-01-08T16:00:00.000000000' b'2015-01-08T17:00:00.000000000']\n",
      " [b'2015-01-01T08:00:00.000000000' b'2015-01-01T09:00:00.000000000']\n",
      " [b'2015-01-02T00:00:00.000000000' b'2015-01-02T01:00:00.000000000']\n",
      " [b'2015-01-15T18:00:00.000000000' b'2015-01-15T19:00:00.000000000']\n",
      " [b'2015-01-13T06:00:00.000000000' b'2015-01-13T07:00:00.000000000']\n",
      " [b'2015-01-17T20:00:00.000000000' b'2015-01-17T21:00:00.000000000']\n",
      " [b'2015-01-18T08:00:00.000000000' b'2015-01-18T09:00:00.000000000']\n",
      " [b'2015-01-17T12:00:00.000000000' b'2015-01-17T13:00:00.000000000']\n",
      " [b'2015-01-17T02:00:00.000000000' b'2015-01-17T03:00:00.000000000']\n",
      " [b'2015-01-21T16:00:00.000000000' b'2015-01-21T17:00:00.000000000']\n",
      " [b'2015-01-20T14:00:00.000000000' b'2015-01-20T15:00:00.000000000']\n",
      " [b'2015-01-01T18:00:00.000000000' b'2015-01-01T19:00:00.000000000']\n",
      " [b'2015-01-23T12:00:00.000000000' b'2015-01-23T13:00:00.000000000']\n",
      " [b'2015-01-08T06:00:00.000000000' b'2015-01-08T07:00:00.000000000']\n",
      " [b'2015-01-13T10:00:00.000000000' b'2015-01-13T11:00:00.000000000']\n",
      " [b'2015-01-09T16:00:00.000000000' b'2015-01-09T17:00:00.000000000']\n",
      " [b'2015-01-16T00:00:00.000000000' b'2015-01-16T01:00:00.000000000']\n",
      " [b'2015-01-03T20:00:00.000000000' b'2015-01-03T21:00:00.000000000']\n",
      " [b'2015-01-13T14:00:00.000000000' b'2015-01-13T15:00:00.000000000']\n",
      " [b'2015-01-03T08:00:00.000000000' b'2015-01-03T09:00:00.000000000']\n",
      " [b'2015-01-14T00:00:00.000000000' b'2015-01-14T01:00:00.000000000']], shape=(32, 2), dtype=string) tf.Tensor(\n",
      "[[b'2015-01-14T14:00:00.000000000' b'2015-01-14T15:00:00.000000000']\n",
      " [b'2015-01-25T06:00:00.000000000' b'2015-01-25T07:00:00.000000000']\n",
      " [b'2015-01-23T12:00:00.000000000' b'2015-01-23T13:00:00.000000000']\n",
      " [b'2015-01-17T20:00:00.000000000' b'2015-01-17T21:00:00.000000000']\n",
      " [b'2015-01-23T18:00:00.000000000' b'2015-01-23T19:00:00.000000000']\n",
      " [b'2015-01-14T18:00:00.000000000' b'2015-01-14T19:00:00.000000000']\n",
      " [b'2015-01-24T18:00:00.000000000' b'2015-01-24T19:00:00.000000000']\n",
      " [b'2015-01-25T12:00:00.000000000' b'2015-01-25T13:00:00.000000000']\n",
      " [b'2015-01-21T16:00:00.000000000' b'2015-01-21T17:00:00.000000000']\n",
      " [b'2015-01-21T18:00:00.000000000' b'2015-01-21T19:00:00.000000000']\n",
      " [b'2015-01-25T18:00:00.000000000' b'2015-01-25T19:00:00.000000000']\n",
      " [b'2015-01-11T16:00:00.000000000' b'2015-01-11T17:00:00.000000000']\n",
      " [b'2015-01-04T08:00:00.000000000' b'2015-01-04T09:00:00.000000000']\n",
      " [b'2015-01-05T00:00:00.000000000' b'2015-01-05T01:00:00.000000000']\n",
      " [b'2015-01-18T18:00:00.000000000' b'2015-01-18T19:00:00.000000000']\n",
      " [b'2015-01-16T06:00:00.000000000' b'2015-01-16T07:00:00.000000000']\n",
      " [b'2015-01-20T20:00:00.000000000' b'2015-01-20T21:00:00.000000000']\n",
      " [b'2015-01-21T08:00:00.000000000' b'2015-01-21T09:00:00.000000000']\n",
      " [b'2015-01-20T12:00:00.000000000' b'2015-01-20T13:00:00.000000000']\n",
      " [b'2015-01-20T02:00:00.000000000' b'2015-01-20T03:00:00.000000000']\n",
      " [b'2015-01-24T16:00:00.000000000' b'2015-01-24T17:00:00.000000000']\n",
      " [b'2015-01-23T14:00:00.000000000' b'2015-01-23T15:00:00.000000000']\n",
      " [b'2015-01-04T18:00:00.000000000' b'2015-01-04T19:00:00.000000000']\n",
      " [b'2015-01-26T12:00:00.000000000' b'2015-01-26T13:00:00.000000000']\n",
      " [b'2015-01-11T06:00:00.000000000' b'2015-01-11T07:00:00.000000000']\n",
      " [b'2015-01-16T10:00:00.000000000' b'2015-01-16T11:00:00.000000000']\n",
      " [b'2015-01-12T16:00:00.000000000' b'2015-01-12T17:00:00.000000000']\n",
      " [b'2015-01-19T00:00:00.000000000' b'2015-01-19T01:00:00.000000000']\n",
      " [b'2015-01-06T20:00:00.000000000' b'2015-01-06T21:00:00.000000000']\n",
      " [b'2015-01-16T14:00:00.000000000' b'2015-01-16T15:00:00.000000000']\n",
      " [b'2015-01-06T08:00:00.000000000' b'2015-01-06T09:00:00.000000000']\n",
      " [b'2015-01-17T00:00:00.000000000' b'2015-01-17T01:00:00.000000000']], shape=(32, 2), dtype=string)\n",
      "tf.Tensor(\n",
      "[[b'2015-01-15T22:00:00.000000000' b'2015-01-15T23:00:00.000000000']\n",
      " [b'2015-01-18T00:00:00.000000000' b'2015-01-18T01:00:00.000000000']\n",
      " [b'2015-01-17T16:00:00.000000000' b'2015-01-17T17:00:00.000000000']\n",
      " [b'2015-01-23T20:00:00.000000000' b'2015-01-23T21:00:00.000000000']\n",
      " [b'2015-01-19T16:00:00.000000000' b'2015-01-19T17:00:00.000000000']\n",
      " [b'2015-01-09T12:00:00.000000000' b'2015-01-09T13:00:00.000000000']\n",
      " [b'2015-01-22T20:00:00.000000000' b'2015-01-22T21:00:00.000000000']\n",
      " [b'2015-01-10T12:00:00.000000000' b'2015-01-10T13:00:00.000000000']\n",
      " [b'2015-01-24T00:00:00.000000000' b'2015-01-24T01:00:00.000000000']\n",
      " [b'2015-01-23T16:00:00.000000000' b'2015-01-23T17:00:00.000000000']\n",
      " [b'2015-01-25T22:00:00.000000000' b'2015-01-25T23:00:00.000000000']\n",
      " [b'2015-01-13T00:00:00.000000000' b'2015-01-13T01:00:00.000000000']\n",
      " [b'2015-01-24T04:00:00.000000000' b'2015-01-24T05:00:00.000000000']\n",
      " [b'2015-01-10T06:00:00.000000000' b'2015-01-10T07:00:00.000000000']\n",
      " [b'2015-01-22T16:00:00.000000000' b'2015-01-22T17:00:00.000000000']\n",
      " [b'2015-01-05T04:00:00.000000000' b'2015-01-05T05:00:00.000000000']\n",
      " [b'2015-01-21T20:00:00.000000000' b'2015-01-21T21:00:00.000000000']\n",
      " [b'2015-01-10T22:00:00.000000000' b'2015-01-10T23:00:00.000000000']\n",
      " [b'2015-01-26T02:00:00.000000000' b'2015-01-26T03:00:00.000000000']\n",
      " [b'2015-01-20T16:00:00.000000000' b'2015-01-20T17:00:00.000000000']\n",
      " [b'2015-01-01T22:00:00.000000000' b'2015-01-01T23:00:00.000000000']\n",
      " [b'2015-01-24T20:00:00.000000000' b'2015-01-24T21:00:00.000000000']\n",
      " [b'2015-01-17T22:00:00.000000000' b'2015-01-17T23:00:00.000000000']\n",
      " [b'2015-01-08T10:00:00.000000000' b'2015-01-08T11:00:00.000000000']\n",
      " [b'2015-01-26T12:00:00.000000000' b'2015-01-26T13:00:00.000000000']\n",
      " [b'2015-01-26T14:00:00.000000000' b'2015-01-26T15:00:00.000000000']\n",
      " [b'2015-01-23T18:00:00.000000000' b'2015-01-23T19:00:00.000000000']\n",
      " [b'2015-01-26T18:00:00.000000000' b'2015-01-26T19:00:00.000000000']\n",
      " [b'2015-01-13T18:00:00.000000000' b'2015-01-13T19:00:00.000000000']\n",
      " [b'2015-01-06T12:00:00.000000000' b'2015-01-06T13:00:00.000000000']\n",
      " [b'2015-01-18T06:00:00.000000000' b'2015-01-18T07:00:00.000000000']\n",
      " [b'2015-01-26T06:00:00.000000000' b'2015-01-26T07:00:00.000000000']], shape=(32, 2), dtype=string) tf.Tensor(\n",
      "[[b'2015-01-18T22:00:00.000000000' b'2015-01-18T23:00:00.000000000']\n",
      " [b'2015-01-21T00:00:00.000000000' b'2015-01-21T01:00:00.000000000']\n",
      " [b'2015-01-20T16:00:00.000000000' b'2015-01-20T17:00:00.000000000']\n",
      " [b'2015-01-26T20:00:00.000000000' b'2015-01-26T21:00:00.000000000']\n",
      " [b'2015-01-22T16:00:00.000000000' b'2015-01-22T17:00:00.000000000']\n",
      " [b'2015-01-12T12:00:00.000000000' b'2015-01-12T13:00:00.000000000']\n",
      " [b'2015-01-25T20:00:00.000000000' b'2015-01-25T21:00:00.000000000']\n",
      " [b'2015-01-13T12:00:00.000000000' b'2015-01-13T13:00:00.000000000']\n",
      " [b'2015-01-27T00:00:00.000000000' b'2015-01-27T01:00:00.000000000']\n",
      " [b'2015-01-26T16:00:00.000000000' b'2015-01-26T17:00:00.000000000']\n",
      " [b'2015-01-28T22:00:00.000000000' b'2015-01-28T23:00:00.000000000']\n",
      " [b'2015-01-16T00:00:00.000000000' b'2015-01-16T01:00:00.000000000']\n",
      " [b'2015-01-27T04:00:00.000000000' b'2015-01-27T05:00:00.000000000']\n",
      " [b'2015-01-13T06:00:00.000000000' b'2015-01-13T07:00:00.000000000']\n",
      " [b'2015-01-25T16:00:00.000000000' b'2015-01-25T17:00:00.000000000']\n",
      " [b'2015-01-08T04:00:00.000000000' b'2015-01-08T05:00:00.000000000']\n",
      " [b'2015-01-24T20:00:00.000000000' b'2015-01-24T21:00:00.000000000']\n",
      " [b'2015-01-13T22:00:00.000000000' b'2015-01-13T23:00:00.000000000']\n",
      " [b'2015-01-29T02:00:00.000000000' b'2015-01-29T03:00:00.000000000']\n",
      " [b'2015-01-23T16:00:00.000000000' b'2015-01-23T17:00:00.000000000']\n",
      " [b'2015-01-04T22:00:00.000000000' b'2015-01-04T23:00:00.000000000']\n",
      " [b'2015-01-27T20:00:00.000000000' b'2015-01-27T21:00:00.000000000']\n",
      " [b'2015-01-20T22:00:00.000000000' b'2015-01-20T23:00:00.000000000']\n",
      " [b'2015-01-11T10:00:00.000000000' b'2015-01-11T11:00:00.000000000']\n",
      " [b'2015-01-29T12:00:00.000000000' b'2015-01-29T13:00:00.000000000']\n",
      " [b'2015-01-29T14:00:00.000000000' b'2015-01-29T15:00:00.000000000']\n",
      " [b'2015-01-26T18:00:00.000000000' b'2015-01-26T19:00:00.000000000']\n",
      " [b'2015-01-29T18:00:00.000000000' b'2015-01-29T19:00:00.000000000']\n",
      " [b'2015-01-16T18:00:00.000000000' b'2015-01-16T19:00:00.000000000']\n",
      " [b'2015-01-09T12:00:00.000000000' b'2015-01-09T13:00:00.000000000']\n",
      " [b'2015-01-21T06:00:00.000000000' b'2015-01-21T07:00:00.000000000']\n",
      " [b'2015-01-29T06:00:00.000000000' b'2015-01-29T07:00:00.000000000']], shape=(32, 2), dtype=string)\n",
      "tf.Tensor(\n",
      "[[b'2015-01-21T04:00:00.000000000' b'2015-01-21T05:00:00.000000000']\n",
      " [b'2015-01-25T14:00:00.000000000' b'2015-01-25T15:00:00.000000000']\n",
      " [b'2015-01-25T06:00:00.000000000' b'2015-01-25T07:00:00.000000000']\n",
      " [b'2015-01-25T00:00:00.000000000' b'2015-01-25T01:00:00.000000000']\n",
      " [b'2015-01-27T16:00:00.000000000' b'2015-01-27T17:00:00.000000000']\n",
      " [b'2015-01-20T08:00:00.000000000' b'2015-01-20T09:00:00.000000000']\n",
      " [b'2015-01-19T20:00:00.000000000' b'2015-01-19T21:00:00.000000000']\n",
      " [b'2015-01-19T08:00:00.000000000' b'2015-01-19T09:00:00.000000000']\n",
      " [b'2015-01-20T10:00:00.000000000' b'2015-01-20T11:00:00.000000000']\n",
      " [b'2015-01-21T12:00:00.000000000' b'2015-01-21T13:00:00.000000000']\n",
      " [b'2015-01-21T06:00:00.000000000' b'2015-01-21T07:00:00.000000000']\n",
      " [b'2015-01-15T02:00:00.000000000' b'2015-01-15T03:00:00.000000000']\n",
      " [b'2015-01-28T10:00:00.000000000' b'2015-01-28T11:00:00.000000000']\n",
      " [b'2015-01-27T00:00:00.000000000' b'2015-01-27T01:00:00.000000000']\n",
      " [b'2015-01-19T22:00:00.000000000' b'2015-01-19T23:00:00.000000000']\n",
      " [b'2015-01-19T10:00:00.000000000' b'2015-01-19T11:00:00.000000000']\n",
      " [b'2015-01-27T12:00:00.000000000' b'2015-01-27T13:00:00.000000000']\n",
      " [b'2015-01-24T22:00:00.000000000' b'2015-01-24T23:00:00.000000000']\n",
      " [b'2015-01-01T02:00:00.000000000' b'2015-01-01T03:00:00.000000000']\n",
      " [b'2015-01-24T12:00:00.000000000' b'2015-01-24T13:00:00.000000000']\n",
      " [b'2015-01-28T00:00:00.000000000' b'2015-01-28T01:00:00.000000000']\n",
      " [b'2015-01-25T04:00:00.000000000' b'2015-01-25T05:00:00.000000000']\n",
      " [b'2015-01-26T08:00:00.000000000' b'2015-01-26T09:00:00.000000000']\n",
      " [b'2015-01-29T00:00:00.000000000' b'2015-01-29T01:00:00.000000000']\n",
      " [b'2015-01-25T18:00:00.000000000' b'2015-01-25T19:00:00.000000000']\n",
      " [b'2015-01-21T00:00:00.000000000' b'2015-01-21T01:00:00.000000000']\n",
      " [b'2015-01-22T04:00:00.000000000' b'2015-01-22T05:00:00.000000000']\n",
      " [b'2015-01-28T18:00:00.000000000' b'2015-01-28T19:00:00.000000000']\n",
      " [b'2015-01-29T16:00:00.000000000' b'2015-01-29T17:00:00.000000000']\n",
      " [b'2015-01-26T04:00:00.000000000' b'2015-01-26T05:00:00.000000000']\n",
      " [b'2015-01-22T22:00:00.000000000' b'2015-01-22T23:00:00.000000000']\n",
      " [b'2015-01-09T18:00:00.000000000' b'2015-01-09T19:00:00.000000000']], shape=(32, 2), dtype=string) tf.Tensor(\n",
      "[[b'2015-01-24T04:00:00.000000000' b'2015-01-24T05:00:00.000000000']\n",
      " [b'2015-01-28T14:00:00.000000000' b'2015-01-28T15:00:00.000000000']\n",
      " [b'2015-01-28T06:00:00.000000000' b'2015-01-28T07:00:00.000000000']\n",
      " [b'2015-01-28T00:00:00.000000000' b'2015-01-28T01:00:00.000000000']\n",
      " [b'2015-01-30T16:00:00.000000000' b'2015-01-30T17:00:00.000000000']\n",
      " [b'2015-01-23T08:00:00.000000000' b'2015-01-23T09:00:00.000000000']\n",
      " [b'2015-01-22T20:00:00.000000000' b'2015-01-22T21:00:00.000000000']\n",
      " [b'2015-01-22T08:00:00.000000000' b'2015-01-22T09:00:00.000000000']\n",
      " [b'2015-01-23T10:00:00.000000000' b'2015-01-23T11:00:00.000000000']\n",
      " [b'2015-01-24T12:00:00.000000000' b'2015-01-24T13:00:00.000000000']\n",
      " [b'2015-01-24T06:00:00.000000000' b'2015-01-24T07:00:00.000000000']\n",
      " [b'2015-01-18T02:00:00.000000000' b'2015-01-18T03:00:00.000000000']\n",
      " [b'2015-01-31T10:00:00.000000000' b'2015-01-31T11:00:00.000000000']\n",
      " [b'2015-01-30T00:00:00.000000000' b'2015-01-30T01:00:00.000000000']\n",
      " [b'2015-01-22T22:00:00.000000000' b'2015-01-22T23:00:00.000000000']\n",
      " [b'2015-01-22T10:00:00.000000000' b'2015-01-22T11:00:00.000000000']\n",
      " [b'2015-01-30T12:00:00.000000000' b'2015-01-30T13:00:00.000000000']\n",
      " [b'2015-01-27T22:00:00.000000000' b'2015-01-27T23:00:00.000000000']\n",
      " [b'2015-01-04T02:00:00.000000000' b'2015-01-04T03:00:00.000000000']\n",
      " [b'2015-01-27T12:00:00.000000000' b'2015-01-27T13:00:00.000000000']\n",
      " [b'2015-01-31T00:00:00.000000000' b'2015-01-31T01:00:00.000000000']\n",
      " [b'2015-01-28T04:00:00.000000000' b'2015-01-28T05:00:00.000000000']\n",
      " [b'2015-01-29T08:00:00.000000000' b'2015-01-29T09:00:00.000000000']\n",
      " [b'2015-02-01T00:00:00.000000000' b'2015-02-01T01:00:00.000000000']\n",
      " [b'2015-01-28T18:00:00.000000000' b'2015-01-28T19:00:00.000000000']\n",
      " [b'2015-01-24T00:00:00.000000000' b'2015-01-24T01:00:00.000000000']\n",
      " [b'2015-01-25T04:00:00.000000000' b'2015-01-25T05:00:00.000000000']\n",
      " [b'2015-01-31T18:00:00.000000000' b'2015-01-31T19:00:00.000000000']\n",
      " [b'2015-02-01T16:00:00.000000000' b'2015-02-01T17:00:00.000000000']\n",
      " [b'2015-01-29T04:00:00.000000000' b'2015-01-29T05:00:00.000000000']\n",
      " [b'2015-01-25T22:00:00.000000000' b'2015-01-25T23:00:00.000000000']\n",
      " [b'2015-01-12T18:00:00.000000000' b'2015-01-12T19:00:00.000000000']], shape=(32, 2), dtype=string)\n",
      "tf.Tensor(\n",
      "[[b'2015-01-21T14:00:00.000000000' b'2015-01-21T15:00:00.000000000']\n",
      " [b'2015-01-08T12:00:00.000000000' b'2015-01-08T13:00:00.000000000']\n",
      " [b'2015-01-23T22:00:00.000000000' b'2015-01-23T23:00:00.000000000']\n",
      " [b'2015-01-22T10:00:00.000000000' b'2015-01-22T11:00:00.000000000']\n",
      " [b'2015-01-25T02:00:00.000000000' b'2015-01-25T03:00:00.000000000']\n",
      " [b'2015-01-20T00:00:00.000000000' b'2015-01-20T01:00:00.000000000']\n",
      " [b'2015-01-23T08:00:00.000000000' b'2015-01-23T09:00:00.000000000']\n",
      " [b'2015-01-30T00:00:00.000000000' b'2015-01-30T01:00:00.000000000']\n",
      " [b'2015-01-30T18:00:00.000000000' b'2015-01-30T19:00:00.000000000']\n",
      " [b'2015-01-28T04:00:00.000000000' b'2015-01-28T05:00:00.000000000']\n",
      " [b'2015-01-27T14:00:00.000000000' b'2015-01-27T15:00:00.000000000']\n",
      " [b'2015-01-30T02:00:00.000000000' b'2015-01-30T03:00:00.000000000']\n",
      " [b'2015-01-31T08:00:00.000000000' b'2015-01-31T09:00:00.000000000']\n",
      " [b'2015-01-24T02:00:00.000000000' b'2015-01-24T03:00:00.000000000']\n",
      " [b'2015-01-14T18:00:00.000000000' b'2015-01-14T19:00:00.000000000']\n",
      " [b'2015-01-23T04:00:00.000000000' b'2015-01-23T05:00:00.000000000']\n",
      " [b'2015-01-28T08:00:00.000000000' b'2015-01-28T09:00:00.000000000']\n",
      " [b'2015-01-31T12:00:00.000000000' b'2015-01-31T13:00:00.000000000']\n",
      " [b'2015-01-31T02:00:00.000000000' b'2015-01-31T03:00:00.000000000']\n",
      " [b'2015-01-24T08:00:00.000000000' b'2015-01-24T09:00:00.000000000']\n",
      " [b'2015-01-17T18:00:00.000000000' b'2015-01-17T19:00:00.000000000']\n",
      " [b'2015-01-17T08:00:00.000000000' b'2015-01-17T09:00:00.000000000']\n",
      " [b'2015-01-24T14:00:00.000000000' b'2015-01-24T15:00:00.000000000']\n",
      " [b'2015-01-27T22:00:00.000000000' b'2015-01-27T23:00:00.000000000']\n",
      " [b'2015-01-22T08:00:00.000000000' b'2015-01-22T09:00:00.000000000']\n",
      " [b'2015-01-30T08:00:00.000000000' b'2015-01-30T09:00:00.000000000']\n",
      " [b'2015-01-18T10:00:00.000000000' b'2015-01-18T11:00:00.000000000']\n",
      " [b'2015-02-01T04:00:00.000000000' b'2015-02-01T05:00:00.000000000']\n",
      " [b'2015-02-01T00:00:00.000000000' b'2015-02-01T01:00:00.000000000']\n",
      " [b'2015-01-23T10:00:00.000000000' b'2015-01-23T11:00:00.000000000']\n",
      " [b'2015-01-31T22:00:00.000000000' b'2015-01-31T23:00:00.000000000']\n",
      " [b'2015-01-27T20:00:00.000000000' b'2015-01-27T21:00:00.000000000']], shape=(32, 2), dtype=string) tf.Tensor(\n",
      "[[b'2015-01-24T14:00:00.000000000' b'2015-01-24T15:00:00.000000000']\n",
      " [b'2015-01-11T12:00:00.000000000' b'2015-01-11T13:00:00.000000000']\n",
      " [b'2015-01-26T22:00:00.000000000' b'2015-01-26T23:00:00.000000000']\n",
      " [b'2015-01-25T10:00:00.000000000' b'2015-01-25T11:00:00.000000000']\n",
      " [b'2015-01-28T02:00:00.000000000' b'2015-01-28T03:00:00.000000000']\n",
      " [b'2015-01-23T00:00:00.000000000' b'2015-01-23T01:00:00.000000000']\n",
      " [b'2015-01-26T08:00:00.000000000' b'2015-01-26T09:00:00.000000000']\n",
      " [b'2015-02-02T00:00:00.000000000' b'2015-02-02T01:00:00.000000000']\n",
      " [b'2015-02-02T18:00:00.000000000' b'2015-02-02T19:00:00.000000000']\n",
      " [b'2015-01-31T04:00:00.000000000' b'2015-01-31T05:00:00.000000000']\n",
      " [b'2015-01-30T14:00:00.000000000' b'2015-01-30T15:00:00.000000000']\n",
      " [b'2015-02-02T02:00:00.000000000' b'2015-02-02T03:00:00.000000000']\n",
      " [b'2015-02-03T08:00:00.000000000' b'2015-02-03T09:00:00.000000000']\n",
      " [b'2015-01-27T02:00:00.000000000' b'2015-01-27T03:00:00.000000000']\n",
      " [b'2015-01-17T18:00:00.000000000' b'2015-01-17T19:00:00.000000000']\n",
      " [b'2015-01-26T04:00:00.000000000' b'2015-01-26T05:00:00.000000000']\n",
      " [b'2015-01-31T08:00:00.000000000' b'2015-01-31T09:00:00.000000000']\n",
      " [b'2015-02-03T12:00:00.000000000' b'2015-02-03T13:00:00.000000000']\n",
      " [b'2015-02-03T02:00:00.000000000' b'2015-02-03T03:00:00.000000000']\n",
      " [b'2015-01-27T08:00:00.000000000' b'2015-01-27T09:00:00.000000000']\n",
      " [b'2015-01-20T18:00:00.000000000' b'2015-01-20T19:00:00.000000000']\n",
      " [b'2015-01-20T08:00:00.000000000' b'2015-01-20T09:00:00.000000000']\n",
      " [b'2015-01-27T14:00:00.000000000' b'2015-01-27T15:00:00.000000000']\n",
      " [b'2015-01-30T22:00:00.000000000' b'2015-01-30T23:00:00.000000000']\n",
      " [b'2015-01-25T08:00:00.000000000' b'2015-01-25T09:00:00.000000000']\n",
      " [b'2015-02-02T08:00:00.000000000' b'2015-02-02T09:00:00.000000000']\n",
      " [b'2015-01-21T10:00:00.000000000' b'2015-01-21T11:00:00.000000000']\n",
      " [b'2015-02-04T04:00:00.000000000' b'2015-02-04T05:00:00.000000000']\n",
      " [b'2015-02-04T00:00:00.000000000' b'2015-02-04T01:00:00.000000000']\n",
      " [b'2015-01-26T10:00:00.000000000' b'2015-01-26T11:00:00.000000000']\n",
      " [b'2015-02-03T22:00:00.000000000' b'2015-02-03T23:00:00.000000000']\n",
      " [b'2015-01-30T20:00:00.000000000' b'2015-01-30T21:00:00.000000000']], shape=(32, 2), dtype=string)\n",
      "tf.Tensor(\n",
      "[[b'2015-01-11T06:00:00.000000000' b'2015-01-11T07:00:00.000000000']\n",
      " [b'2015-02-01T10:00:00.000000000' b'2015-02-01T11:00:00.000000000']\n",
      " [b'2015-01-19T04:00:00.000000000' b'2015-01-19T05:00:00.000000000']\n",
      " [b'2015-02-01T08:00:00.000000000' b'2015-02-01T09:00:00.000000000']\n",
      " [b'2015-01-22T14:00:00.000000000' b'2015-01-22T15:00:00.000000000']\n",
      " [b'2015-01-31T10:00:00.000000000' b'2015-01-31T11:00:00.000000000']\n",
      " [b'2015-01-03T00:00:00.000000000' b'2015-01-03T01:00:00.000000000']\n",
      " [b'2015-01-20T04:00:00.000000000' b'2015-01-20T05:00:00.000000000']\n",
      " [b'2015-01-29T12:00:00.000000000' b'2015-01-29T13:00:00.000000000']\n",
      " [b'2015-01-24T16:00:00.000000000' b'2015-01-24T17:00:00.000000000']\n",
      " [b'2015-01-11T00:00:00.000000000' b'2015-01-11T01:00:00.000000000']\n",
      " [b'2015-01-25T16:00:00.000000000' b'2015-01-25T17:00:00.000000000']\n",
      " [b'2015-01-28T22:00:00.000000000' b'2015-01-28T23:00:00.000000000']\n",
      " [b'2015-01-24T06:00:00.000000000' b'2015-01-24T07:00:00.000000000']\n",
      " [b'2015-01-27T02:00:00.000000000' b'2015-01-27T03:00:00.000000000']\n",
      " [b'2015-01-12T14:00:00.000000000' b'2015-01-12T15:00:00.000000000']\n",
      " [b'2015-01-28T02:00:00.000000000' b'2015-01-28T03:00:00.000000000']\n",
      " [b'2015-01-29T06:00:00.000000000' b'2015-01-29T07:00:00.000000000']\n",
      " [b'2015-02-03T18:00:00.000000000' b'2015-02-03T19:00:00.000000000']\n",
      " [b'2015-01-31T16:00:00.000000000' b'2015-01-31T17:00:00.000000000']\n",
      " [b'2015-01-26T00:00:00.000000000' b'2015-01-26T01:00:00.000000000']\n",
      " [b'2015-02-01T16:00:00.000000000' b'2015-02-01T17:00:00.000000000']\n",
      " [b'2015-01-29T14:00:00.000000000' b'2015-01-29T15:00:00.000000000']\n",
      " [b'2015-01-24T10:00:00.000000000' b'2015-01-24T11:00:00.000000000']\n",
      " [b'2015-01-25T12:00:00.000000000' b'2015-01-25T13:00:00.000000000']\n",
      " [b'2015-01-26T20:00:00.000000000' b'2015-01-26T21:00:00.000000000']\n",
      " [b'2015-02-04T08:00:00.000000000' b'2015-02-04T09:00:00.000000000']\n",
      " [b'2015-01-23T06:00:00.000000000' b'2015-01-23T07:00:00.000000000']\n",
      " [b'2015-01-27T08:00:00.000000000' b'2015-01-27T09:00:00.000000000']\n",
      " [b'2015-01-28T16:00:00.000000000' b'2015-01-28T17:00:00.000000000']\n",
      " [b'2015-01-04T04:00:00.000000000' b'2015-01-04T05:00:00.000000000']\n",
      " [b'2015-01-23T00:00:00.000000000' b'2015-01-23T01:00:00.000000000']], shape=(32, 2), dtype=string) tf.Tensor(\n",
      "[[b'2015-01-14T06:00:00.000000000' b'2015-01-14T07:00:00.000000000']\n",
      " [b'2015-02-04T10:00:00.000000000' b'2015-02-04T11:00:00.000000000']\n",
      " [b'2015-01-22T04:00:00.000000000' b'2015-01-22T05:00:00.000000000']\n",
      " [b'2015-02-04T08:00:00.000000000' b'2015-02-04T09:00:00.000000000']\n",
      " [b'2015-01-25T14:00:00.000000000' b'2015-01-25T15:00:00.000000000']\n",
      " [b'2015-02-03T10:00:00.000000000' b'2015-02-03T11:00:00.000000000']\n",
      " [b'2015-01-06T00:00:00.000000000' b'2015-01-06T01:00:00.000000000']\n",
      " [b'2015-01-23T04:00:00.000000000' b'2015-01-23T05:00:00.000000000']\n",
      " [b'2015-02-01T12:00:00.000000000' b'2015-02-01T13:00:00.000000000']\n",
      " [b'2015-01-27T16:00:00.000000000' b'2015-01-27T17:00:00.000000000']\n",
      " [b'2015-01-14T00:00:00.000000000' b'2015-01-14T01:00:00.000000000']\n",
      " [b'2015-01-28T16:00:00.000000000' b'2015-01-28T17:00:00.000000000']\n",
      " [b'2015-01-31T22:00:00.000000000' b'2015-01-31T23:00:00.000000000']\n",
      " [b'2015-01-27T06:00:00.000000000' b'2015-01-27T07:00:00.000000000']\n",
      " [b'2015-01-30T02:00:00.000000000' b'2015-01-30T03:00:00.000000000']\n",
      " [b'2015-01-15T14:00:00.000000000' b'2015-01-15T15:00:00.000000000']\n",
      " [b'2015-01-31T02:00:00.000000000' b'2015-01-31T03:00:00.000000000']\n",
      " [b'2015-02-01T06:00:00.000000000' b'2015-02-01T07:00:00.000000000']\n",
      " [b'2015-02-06T18:00:00.000000000' b'2015-02-06T19:00:00.000000000']\n",
      " [b'2015-02-03T16:00:00.000000000' b'2015-02-03T17:00:00.000000000']\n",
      " [b'2015-01-29T00:00:00.000000000' b'2015-01-29T01:00:00.000000000']\n",
      " [b'2015-02-04T16:00:00.000000000' b'2015-02-04T17:00:00.000000000']\n",
      " [b'2015-02-01T14:00:00.000000000' b'2015-02-01T15:00:00.000000000']\n",
      " [b'2015-01-27T10:00:00.000000000' b'2015-01-27T11:00:00.000000000']\n",
      " [b'2015-01-28T12:00:00.000000000' b'2015-01-28T13:00:00.000000000']\n",
      " [b'2015-01-29T20:00:00.000000000' b'2015-01-29T21:00:00.000000000']\n",
      " [b'2015-02-07T08:00:00.000000000' b'2015-02-07T09:00:00.000000000']\n",
      " [b'2015-01-26T06:00:00.000000000' b'2015-01-26T07:00:00.000000000']\n",
      " [b'2015-01-30T08:00:00.000000000' b'2015-01-30T09:00:00.000000000']\n",
      " [b'2015-01-31T16:00:00.000000000' b'2015-01-31T17:00:00.000000000']\n",
      " [b'2015-01-07T04:00:00.000000000' b'2015-01-07T05:00:00.000000000']\n",
      " [b'2015-01-26T00:00:00.000000000' b'2015-01-26T01:00:00.000000000']], shape=(32, 2), dtype=string)\n",
      "tf.Tensor(\n",
      "[[b'2015-02-04T14:00:00.000000000' b'2015-02-04T15:00:00.000000000']\n",
      " [b'2015-01-30T14:00:00.000000000' b'2015-01-30T15:00:00.000000000']\n",
      " [b'2015-01-15T06:00:00.000000000' b'2015-01-15T07:00:00.000000000']\n",
      " [b'2015-01-26T10:00:00.000000000' b'2015-01-26T11:00:00.000000000']\n",
      " [b'2015-02-04T20:00:00.000000000' b'2015-02-04T21:00:00.000000000']\n",
      " [b'2015-01-26T16:00:00.000000000' b'2015-01-26T17:00:00.000000000']\n",
      " [b'2015-02-03T14:00:00.000000000' b'2015-02-03T15:00:00.000000000']\n",
      " [b'2015-02-05T02:00:00.000000000' b'2015-02-05T03:00:00.000000000']\n",
      " [b'2015-01-22T02:00:00.000000000' b'2015-01-22T03:00:00.000000000']\n",
      " [b'2015-02-03T08:00:00.000000000' b'2015-02-03T09:00:00.000000000']\n",
      " [b'2015-01-30T12:00:00.000000000' b'2015-01-30T13:00:00.000000000']\n",
      " [b'2015-01-16T02:00:00.000000000' b'2015-01-16T03:00:00.000000000']\n",
      " [b'2015-02-03T04:00:00.000000000' b'2015-02-03T05:00:00.000000000']\n",
      " [b'2015-02-02T08:00:00.000000000' b'2015-02-02T09:00:00.000000000']\n",
      " [b'2015-01-27T04:00:00.000000000' b'2015-01-27T05:00:00.000000000']\n",
      " [b'2015-02-06T00:00:00.000000000' b'2015-02-06T01:00:00.000000000']\n",
      " [b'2015-01-20T22:00:00.000000000' b'2015-01-20T23:00:00.000000000']\n",
      " [b'2015-02-01T02:00:00.000000000' b'2015-02-01T03:00:00.000000000']\n",
      " [b'2015-02-03T12:00:00.000000000' b'2015-02-03T13:00:00.000000000']\n",
      " [b'2015-01-27T10:00:00.000000000' b'2015-01-27T11:00:00.000000000']\n",
      " [b'2015-01-29T20:00:00.000000000' b'2015-01-29T21:00:00.000000000']\n",
      " [b'2015-02-05T08:00:00.000000000' b'2015-02-05T09:00:00.000000000']\n",
      " [b'2015-02-05T16:00:00.000000000' b'2015-02-05T17:00:00.000000000']\n",
      " [b'2015-01-19T14:00:00.000000000' b'2015-01-19T15:00:00.000000000']\n",
      " [b'2015-02-06T18:00:00.000000000' b'2015-02-06T19:00:00.000000000']\n",
      " [b'2015-01-29T10:00:00.000000000' b'2015-01-29T11:00:00.000000000']\n",
      " [b'2015-01-23T14:00:00.000000000' b'2015-01-23T15:00:00.000000000']\n",
      " [b'2015-02-06T14:00:00.000000000' b'2015-02-06T15:00:00.000000000']\n",
      " [b'2015-02-07T02:00:00.000000000' b'2015-02-07T03:00:00.000000000']\n",
      " [b'2015-01-31T04:00:00.000000000' b'2015-01-31T05:00:00.000000000']\n",
      " [b'2015-02-04T10:00:00.000000000' b'2015-02-04T11:00:00.000000000']\n",
      " [b'2015-02-05T18:00:00.000000000' b'2015-02-05T19:00:00.000000000']], shape=(32, 2), dtype=string) tf.Tensor(\n",
      "[[b'2015-02-07T14:00:00.000000000' b'2015-02-07T15:00:00.000000000']\n",
      " [b'2015-02-02T14:00:00.000000000' b'2015-02-02T15:00:00.000000000']\n",
      " [b'2015-01-18T06:00:00.000000000' b'2015-01-18T07:00:00.000000000']\n",
      " [b'2015-01-29T10:00:00.000000000' b'2015-01-29T11:00:00.000000000']\n",
      " [b'2015-02-07T20:00:00.000000000' b'2015-02-07T21:00:00.000000000']\n",
      " [b'2015-01-29T16:00:00.000000000' b'2015-01-29T17:00:00.000000000']\n",
      " [b'2015-02-06T14:00:00.000000000' b'2015-02-06T15:00:00.000000000']\n",
      " [b'2015-02-08T02:00:00.000000000' b'2015-02-08T03:00:00.000000000']\n",
      " [b'2015-01-25T02:00:00.000000000' b'2015-01-25T03:00:00.000000000']\n",
      " [b'2015-02-06T08:00:00.000000000' b'2015-02-06T09:00:00.000000000']\n",
      " [b'2015-02-02T12:00:00.000000000' b'2015-02-02T13:00:00.000000000']\n",
      " [b'2015-01-19T02:00:00.000000000' b'2015-01-19T03:00:00.000000000']\n",
      " [b'2015-02-06T04:00:00.000000000' b'2015-02-06T05:00:00.000000000']\n",
      " [b'2015-02-05T08:00:00.000000000' b'2015-02-05T09:00:00.000000000']\n",
      " [b'2015-01-30T04:00:00.000000000' b'2015-01-30T05:00:00.000000000']\n",
      " [b'2015-02-09T00:00:00.000000000' b'2015-02-09T01:00:00.000000000']\n",
      " [b'2015-01-23T22:00:00.000000000' b'2015-01-23T23:00:00.000000000']\n",
      " [b'2015-02-04T02:00:00.000000000' b'2015-02-04T03:00:00.000000000']\n",
      " [b'2015-02-06T12:00:00.000000000' b'2015-02-06T13:00:00.000000000']\n",
      " [b'2015-01-30T10:00:00.000000000' b'2015-01-30T11:00:00.000000000']\n",
      " [b'2015-02-01T20:00:00.000000000' b'2015-02-01T21:00:00.000000000']\n",
      " [b'2015-02-08T08:00:00.000000000' b'2015-02-08T09:00:00.000000000']\n",
      " [b'2015-02-08T16:00:00.000000000' b'2015-02-08T17:00:00.000000000']\n",
      " [b'2015-01-22T14:00:00.000000000' b'2015-01-22T15:00:00.000000000']\n",
      " [b'2015-02-09T18:00:00.000000000' b'2015-02-09T19:00:00.000000000']\n",
      " [b'2015-02-01T10:00:00.000000000' b'2015-02-01T11:00:00.000000000']\n",
      " [b'2015-01-26T14:00:00.000000000' b'2015-01-26T15:00:00.000000000']\n",
      " [b'2015-02-09T14:00:00.000000000' b'2015-02-09T15:00:00.000000000']\n",
      " [b'2015-02-10T02:00:00.000000000' b'2015-02-10T03:00:00.000000000']\n",
      " [b'2015-02-03T04:00:00.000000000' b'2015-02-03T05:00:00.000000000']\n",
      " [b'2015-02-07T10:00:00.000000000' b'2015-02-07T11:00:00.000000000']\n",
      " [b'2015-02-08T18:00:00.000000000' b'2015-02-08T19:00:00.000000000']], shape=(32, 2), dtype=string)\n",
      "tf.Tensor(\n",
      "[[b'2015-02-04T12:00:00.000000000' b'2015-02-04T13:00:00.000000000']\n",
      " [b'2015-01-31T00:00:00.000000000' b'2015-01-31T01:00:00.000000000']\n",
      " [b'2015-02-03T22:00:00.000000000' b'2015-02-03T23:00:00.000000000']\n",
      " [b'2015-02-04T06:00:00.000000000' b'2015-02-04T07:00:00.000000000']\n",
      " [b'2015-02-06T16:00:00.000000000' b'2015-02-06T17:00:00.000000000']\n",
      " [b'2015-02-03T16:00:00.000000000' b'2015-02-03T17:00:00.000000000']\n",
      " [b'2015-01-24T18:00:00.000000000' b'2015-01-24T19:00:00.000000000']\n",
      " [b'2015-02-02T06:00:00.000000000' b'2015-02-02T07:00:00.000000000']\n",
      " [b'2015-02-04T16:00:00.000000000' b'2015-02-04T17:00:00.000000000']\n",
      " [b'2015-02-04T02:00:00.000000000' b'2015-02-04T03:00:00.000000000']\n",
      " [b'2015-02-01T18:00:00.000000000' b'2015-02-01T19:00:00.000000000']\n",
      " [b'2015-02-02T10:00:00.000000000' b'2015-02-02T11:00:00.000000000']\n",
      " [b'2015-01-15T10:00:00.000000000' b'2015-01-15T11:00:00.000000000']\n",
      " [b'2015-01-29T18:00:00.000000000' b'2015-01-29T19:00:00.000000000']\n",
      " [b'2015-01-30T20:00:00.000000000' b'2015-01-30T21:00:00.000000000']\n",
      " [b'2015-02-05T20:00:00.000000000' b'2015-02-05T21:00:00.000000000']\n",
      " [b'2015-01-28T20:00:00.000000000' b'2015-01-28T21:00:00.000000000']\n",
      " [b'2015-01-25T10:00:00.000000000' b'2015-01-25T11:00:00.000000000']\n",
      " [b'2015-01-21T02:00:00.000000000' b'2015-01-21T03:00:00.000000000']\n",
      " [b'2015-01-07T14:00:00.000000000' b'2015-01-07T15:00:00.000000000']\n",
      " [b'2015-01-19T00:00:00.000000000' b'2015-01-19T01:00:00.000000000']\n",
      " [b'2015-02-05T00:00:00.000000000' b'2015-02-05T01:00:00.000000000']\n",
      " [b'2015-02-06T02:00:00.000000000' b'2015-02-06T03:00:00.000000000']\n",
      " [b'2015-01-27T06:00:00.000000000' b'2015-01-27T07:00:00.000000000']\n",
      " [b'2015-02-07T14:00:00.000000000' b'2015-02-07T15:00:00.000000000']\n",
      " [b'2015-01-29T08:00:00.000000000' b'2015-01-29T09:00:00.000000000']\n",
      " [b'2015-02-07T22:00:00.000000000' b'2015-02-07T23:00:00.000000000']\n",
      " [b'2015-01-31T20:00:00.000000000' b'2015-01-31T21:00:00.000000000']\n",
      " [b'2015-02-07T20:00:00.000000000' b'2015-02-07T21:00:00.000000000']\n",
      " [b'2015-01-30T04:00:00.000000000' b'2015-01-30T05:00:00.000000000']\n",
      " [b'2015-01-26T22:00:00.000000000' b'2015-01-26T23:00:00.000000000']\n",
      " [b'2015-02-06T08:00:00.000000000' b'2015-02-06T09:00:00.000000000']], shape=(32, 2), dtype=string) tf.Tensor(\n",
      "[[b'2015-02-07T12:00:00.000000000' b'2015-02-07T13:00:00.000000000']\n",
      " [b'2015-02-03T00:00:00.000000000' b'2015-02-03T01:00:00.000000000']\n",
      " [b'2015-02-06T22:00:00.000000000' b'2015-02-06T23:00:00.000000000']\n",
      " [b'2015-02-07T06:00:00.000000000' b'2015-02-07T07:00:00.000000000']\n",
      " [b'2015-02-09T16:00:00.000000000' b'2015-02-09T17:00:00.000000000']\n",
      " [b'2015-02-06T16:00:00.000000000' b'2015-02-06T17:00:00.000000000']\n",
      " [b'2015-01-27T18:00:00.000000000' b'2015-01-27T19:00:00.000000000']\n",
      " [b'2015-02-05T06:00:00.000000000' b'2015-02-05T07:00:00.000000000']\n",
      " [b'2015-02-07T16:00:00.000000000' b'2015-02-07T17:00:00.000000000']\n",
      " [b'2015-02-07T02:00:00.000000000' b'2015-02-07T03:00:00.000000000']\n",
      " [b'2015-02-04T18:00:00.000000000' b'2015-02-04T19:00:00.000000000']\n",
      " [b'2015-02-05T10:00:00.000000000' b'2015-02-05T11:00:00.000000000']\n",
      " [b'2015-01-18T10:00:00.000000000' b'2015-01-18T11:00:00.000000000']\n",
      " [b'2015-02-01T18:00:00.000000000' b'2015-02-01T19:00:00.000000000']\n",
      " [b'2015-02-02T20:00:00.000000000' b'2015-02-02T21:00:00.000000000']\n",
      " [b'2015-02-08T20:00:00.000000000' b'2015-02-08T21:00:00.000000000']\n",
      " [b'2015-01-31T20:00:00.000000000' b'2015-01-31T21:00:00.000000000']\n",
      " [b'2015-01-28T10:00:00.000000000' b'2015-01-28T11:00:00.000000000']\n",
      " [b'2015-01-24T02:00:00.000000000' b'2015-01-24T03:00:00.000000000']\n",
      " [b'2015-01-10T14:00:00.000000000' b'2015-01-10T15:00:00.000000000']\n",
      " [b'2015-01-22T00:00:00.000000000' b'2015-01-22T01:00:00.000000000']\n",
      " [b'2015-02-08T00:00:00.000000000' b'2015-02-08T01:00:00.000000000']\n",
      " [b'2015-02-09T02:00:00.000000000' b'2015-02-09T03:00:00.000000000']\n",
      " [b'2015-01-30T06:00:00.000000000' b'2015-01-30T07:00:00.000000000']\n",
      " [b'2015-02-10T14:00:00.000000000' b'2015-02-10T15:00:00.000000000']\n",
      " [b'2015-02-01T08:00:00.000000000' b'2015-02-01T09:00:00.000000000']\n",
      " [b'2015-02-10T22:00:00.000000000' b'2015-02-10T23:00:00.000000000']\n",
      " [b'2015-02-03T20:00:00.000000000' b'2015-02-03T21:00:00.000000000']\n",
      " [b'2015-02-10T20:00:00.000000000' b'2015-02-10T21:00:00.000000000']\n",
      " [b'2015-02-02T04:00:00.000000000' b'2015-02-02T05:00:00.000000000']\n",
      " [b'2015-01-29T22:00:00.000000000' b'2015-01-29T23:00:00.000000000']\n",
      " [b'2015-02-09T08:00:00.000000000' b'2015-02-09T09:00:00.000000000']], shape=(32, 2), dtype=string)\n",
      "tf.Tensor(\n",
      "[[b'2015-01-25T20:00:00.000000000' b'2015-01-25T21:00:00.000000000']\n",
      " [b'2015-02-08T18:00:00.000000000' b'2015-02-08T19:00:00.000000000']\n",
      " [b'2015-01-21T10:00:00.000000000' b'2015-01-21T11:00:00.000000000']\n",
      " [b'2015-01-29T02:00:00.000000000' b'2015-01-29T03:00:00.000000000']\n",
      " [b'2015-01-30T10:00:00.000000000' b'2015-01-30T11:00:00.000000000']\n",
      " [b'2015-02-02T04:00:00.000000000' b'2015-02-02T05:00:00.000000000']\n",
      " [b'2015-01-29T04:00:00.000000000' b'2015-01-29T05:00:00.000000000']\n",
      " [b'2015-02-02T02:00:00.000000000' b'2015-02-02T03:00:00.000000000']\n",
      " [b'2015-02-01T14:00:00.000000000' b'2015-02-01T15:00:00.000000000']\n",
      " [b'2015-02-10T04:00:00.000000000' b'2015-02-10T05:00:00.000000000']\n",
      " [b'2015-01-27T18:00:00.000000000' b'2015-01-27T19:00:00.000000000']\n",
      " [b'2015-02-08T08:00:00.000000000' b'2015-02-08T09:00:00.000000000']\n",
      " [b'2015-02-05T04:00:00.000000000' b'2015-02-05T05:00:00.000000000']\n",
      " [b'2015-02-08T06:00:00.000000000' b'2015-02-08T07:00:00.000000000']\n",
      " [b'2015-02-09T02:00:00.000000000' b'2015-02-09T03:00:00.000000000']\n",
      " [b'2015-02-09T14:00:00.000000000' b'2015-02-09T15:00:00.000000000']\n",
      " [b'2015-01-10T16:00:00.000000000' b'2015-01-10T17:00:00.000000000']\n",
      " [b'2015-02-09T20:00:00.000000000' b'2015-02-09T21:00:00.000000000']\n",
      " [b'2015-02-05T22:00:00.000000000' b'2015-02-05T23:00:00.000000000']\n",
      " [b'2015-02-07T16:00:00.000000000' b'2015-02-07T17:00:00.000000000']\n",
      " [b'2015-02-07T10:00:00.000000000' b'2015-02-07T11:00:00.000000000']\n",
      " [b'2015-01-20T20:00:00.000000000' b'2015-01-20T21:00:00.000000000']\n",
      " [b'2015-02-01T12:00:00.000000000' b'2015-02-01T13:00:00.000000000']\n",
      " [b'2015-01-05T20:00:00.000000000' b'2015-01-05T21:00:00.000000000']\n",
      " [b'2015-01-29T22:00:00.000000000' b'2015-01-29T23:00:00.000000000']\n",
      " [b'2015-01-28T06:00:00.000000000' b'2015-01-28T07:00:00.000000000']\n",
      " [b'2015-02-09T06:00:00.000000000' b'2015-02-09T07:00:00.000000000']\n",
      " [b'2015-02-01T22:00:00.000000000' b'2015-02-01T23:00:00.000000000']\n",
      " [b'2015-02-09T04:00:00.000000000' b'2015-02-09T05:00:00.000000000']\n",
      " [b'2015-02-12T12:00:00.000000000' b'2015-02-12T13:00:00.000000000']\n",
      " [b'2015-02-03T06:00:00.000000000' b'2015-02-03T07:00:00.000000000']\n",
      " [b'2015-02-08T10:00:00.000000000' b'2015-02-08T11:00:00.000000000']], shape=(32, 2), dtype=string) tf.Tensor(\n",
      "[[b'2015-01-28T20:00:00.000000000' b'2015-01-28T21:00:00.000000000']\n",
      " [b'2015-02-11T18:00:00.000000000' b'2015-02-11T19:00:00.000000000']\n",
      " [b'2015-01-24T10:00:00.000000000' b'2015-01-24T11:00:00.000000000']\n",
      " [b'2015-02-01T02:00:00.000000000' b'2015-02-01T03:00:00.000000000']\n",
      " [b'2015-02-02T10:00:00.000000000' b'2015-02-02T11:00:00.000000000']\n",
      " [b'2015-02-05T04:00:00.000000000' b'2015-02-05T05:00:00.000000000']\n",
      " [b'2015-02-01T04:00:00.000000000' b'2015-02-01T05:00:00.000000000']\n",
      " [b'2015-02-05T02:00:00.000000000' b'2015-02-05T03:00:00.000000000']\n",
      " [b'2015-02-04T14:00:00.000000000' b'2015-02-04T15:00:00.000000000']\n",
      " [b'2015-02-13T04:00:00.000000000' b'2015-02-13T05:00:00.000000000']\n",
      " [b'2015-01-30T18:00:00.000000000' b'2015-01-30T19:00:00.000000000']\n",
      " [b'2015-02-11T08:00:00.000000000' b'2015-02-11T09:00:00.000000000']\n",
      " [b'2015-02-08T04:00:00.000000000' b'2015-02-08T05:00:00.000000000']\n",
      " [b'2015-02-11T06:00:00.000000000' b'2015-02-11T07:00:00.000000000']\n",
      " [b'2015-02-12T02:00:00.000000000' b'2015-02-12T03:00:00.000000000']\n",
      " [b'2015-02-12T14:00:00.000000000' b'2015-02-12T15:00:00.000000000']\n",
      " [b'2015-01-13T16:00:00.000000000' b'2015-01-13T17:00:00.000000000']\n",
      " [b'2015-02-12T20:00:00.000000000' b'2015-02-12T21:00:00.000000000']\n",
      " [b'2015-02-08T22:00:00.000000000' b'2015-02-08T23:00:00.000000000']\n",
      " [b'2015-02-10T16:00:00.000000000' b'2015-02-10T17:00:00.000000000']\n",
      " [b'2015-02-10T10:00:00.000000000' b'2015-02-10T11:00:00.000000000']\n",
      " [b'2015-01-23T20:00:00.000000000' b'2015-01-23T21:00:00.000000000']\n",
      " [b'2015-02-04T12:00:00.000000000' b'2015-02-04T13:00:00.000000000']\n",
      " [b'2015-01-08T20:00:00.000000000' b'2015-01-08T21:00:00.000000000']\n",
      " [b'2015-02-01T22:00:00.000000000' b'2015-02-01T23:00:00.000000000']\n",
      " [b'2015-01-31T06:00:00.000000000' b'2015-01-31T07:00:00.000000000']\n",
      " [b'2015-02-12T06:00:00.000000000' b'2015-02-12T07:00:00.000000000']\n",
      " [b'2015-02-04T22:00:00.000000000' b'2015-02-04T23:00:00.000000000']\n",
      " [b'2015-02-12T04:00:00.000000000' b'2015-02-12T05:00:00.000000000']\n",
      " [b'2015-02-15T12:00:00.000000000' b'2015-02-15T13:00:00.000000000']\n",
      " [b'2015-02-06T06:00:00.000000000' b'2015-02-06T07:00:00.000000000']\n",
      " [b'2015-02-11T10:00:00.000000000' b'2015-02-11T11:00:00.000000000']], shape=(32, 2), dtype=string)\n",
      "tf.Tensor(\n",
      "[[b'2015-02-10T00:00:00.000000000' b'2015-02-10T01:00:00.000000000']\n",
      " [b'2015-02-05T12:00:00.000000000' b'2015-02-05T13:00:00.000000000']\n",
      " [b'2015-01-31T06:00:00.000000000' b'2015-01-31T07:00:00.000000000']\n",
      " [b'2015-02-04T04:00:00.000000000' b'2015-02-04T05:00:00.000000000']\n",
      " [b'2015-02-11T00:00:00.000000000' b'2015-02-11T01:00:00.000000000']\n",
      " [b'2015-02-10T06:00:00.000000000' b'2015-02-10T07:00:00.000000000']\n",
      " [b'2015-02-02T20:00:00.000000000' b'2015-02-02T21:00:00.000000000']\n",
      " [b'2015-02-12T00:00:00.000000000' b'2015-02-12T01:00:00.000000000']\n",
      " [b'2015-02-13T06:00:00.000000000' b'2015-02-13T07:00:00.000000000']\n",
      " [b'2015-02-06T12:00:00.000000000' b'2015-02-06T13:00:00.000000000']\n",
      " [b'2015-02-07T18:00:00.000000000' b'2015-02-07T19:00:00.000000000']\n",
      " [b'2015-01-11T04:00:00.000000000' b'2015-01-11T05:00:00.000000000']\n",
      " [b'2015-02-01T20:00:00.000000000' b'2015-02-01T21:00:00.000000000']\n",
      " [b'2015-02-14T00:00:00.000000000' b'2015-02-14T01:00:00.000000000']\n",
      " [b'2015-02-12T02:00:00.000000000' b'2015-02-12T03:00:00.000000000']\n",
      " [b'2015-02-02T16:00:00.000000000' b'2015-02-02T17:00:00.000000000']\n",
      " [b'2015-02-13T10:00:00.000000000' b'2015-02-13T11:00:00.000000000']\n",
      " [b'2015-02-13T16:00:00.000000000' b'2015-02-13T17:00:00.000000000']\n",
      " [b'2015-02-03T02:00:00.000000000' b'2015-02-03T03:00:00.000000000']\n",
      " [b'2015-02-03T10:00:00.000000000' b'2015-02-03T11:00:00.000000000']\n",
      " [b'2015-01-02T22:00:00.000000000' b'2015-01-02T23:00:00.000000000']\n",
      " [b'2015-02-08T04:00:00.000000000' b'2015-02-08T05:00:00.000000000']\n",
      " [b'2015-01-31T18:00:00.000000000' b'2015-01-31T19:00:00.000000000']\n",
      " [b'2015-02-10T08:00:00.000000000' b'2015-02-10T09:00:00.000000000']\n",
      " [b'2015-02-11T16:00:00.000000000' b'2015-02-11T17:00:00.000000000']\n",
      " [b'2015-01-16T04:00:00.000000000' b'2015-01-16T05:00:00.000000000']\n",
      " [b'2015-02-10T22:00:00.000000000' b'2015-02-10T23:00:00.000000000']\n",
      " [b'2015-02-15T02:00:00.000000000' b'2015-02-15T03:00:00.000000000']\n",
      " [b'2015-02-12T22:00:00.000000000' b'2015-02-12T23:00:00.000000000']\n",
      " [b'2015-02-11T20:00:00.000000000' b'2015-02-11T21:00:00.000000000']\n",
      " [b'2015-02-06T22:00:00.000000000' b'2015-02-06T23:00:00.000000000']\n",
      " [b'2015-02-10T10:00:00.000000000' b'2015-02-10T11:00:00.000000000']], shape=(32, 2), dtype=string) tf.Tensor(\n",
      "[[b'2015-02-13T00:00:00.000000000' b'2015-02-13T01:00:00.000000000']\n",
      " [b'2015-02-08T12:00:00.000000000' b'2015-02-08T13:00:00.000000000']\n",
      " [b'2015-02-03T06:00:00.000000000' b'2015-02-03T07:00:00.000000000']\n",
      " [b'2015-02-07T04:00:00.000000000' b'2015-02-07T05:00:00.000000000']\n",
      " [b'2015-02-14T00:00:00.000000000' b'2015-02-14T01:00:00.000000000']\n",
      " [b'2015-02-13T06:00:00.000000000' b'2015-02-13T07:00:00.000000000']\n",
      " [b'2015-02-05T20:00:00.000000000' b'2015-02-05T21:00:00.000000000']\n",
      " [b'2015-02-15T00:00:00.000000000' b'2015-02-15T01:00:00.000000000']\n",
      " [b'2015-02-16T06:00:00.000000000' b'2015-02-16T07:00:00.000000000']\n",
      " [b'2015-02-09T12:00:00.000000000' b'2015-02-09T13:00:00.000000000']\n",
      " [b'2015-02-10T18:00:00.000000000' b'2015-02-10T19:00:00.000000000']\n",
      " [b'2015-01-14T04:00:00.000000000' b'2015-01-14T05:00:00.000000000']\n",
      " [b'2015-02-04T20:00:00.000000000' b'2015-02-04T21:00:00.000000000']\n",
      " [b'2015-02-17T00:00:00.000000000' b'2015-02-17T01:00:00.000000000']\n",
      " [b'2015-02-15T02:00:00.000000000' b'2015-02-15T03:00:00.000000000']\n",
      " [b'2015-02-05T16:00:00.000000000' b'2015-02-05T17:00:00.000000000']\n",
      " [b'2015-02-16T10:00:00.000000000' b'2015-02-16T11:00:00.000000000']\n",
      " [b'2015-02-16T16:00:00.000000000' b'2015-02-16T17:00:00.000000000']\n",
      " [b'2015-02-06T02:00:00.000000000' b'2015-02-06T03:00:00.000000000']\n",
      " [b'2015-02-06T10:00:00.000000000' b'2015-02-06T11:00:00.000000000']\n",
      " [b'2015-01-05T22:00:00.000000000' b'2015-01-05T23:00:00.000000000']\n",
      " [b'2015-02-11T04:00:00.000000000' b'2015-02-11T05:00:00.000000000']\n",
      " [b'2015-02-03T18:00:00.000000000' b'2015-02-03T19:00:00.000000000']\n",
      " [b'2015-02-13T08:00:00.000000000' b'2015-02-13T09:00:00.000000000']\n",
      " [b'2015-02-14T16:00:00.000000000' b'2015-02-14T17:00:00.000000000']\n",
      " [b'2015-01-19T04:00:00.000000000' b'2015-01-19T05:00:00.000000000']\n",
      " [b'2015-02-13T22:00:00.000000000' b'2015-02-13T23:00:00.000000000']\n",
      " [b'2015-02-18T02:00:00.000000000' b'2015-02-18T03:00:00.000000000']\n",
      " [b'2015-02-15T22:00:00.000000000' b'2015-02-15T23:00:00.000000000']\n",
      " [b'2015-02-14T20:00:00.000000000' b'2015-02-14T21:00:00.000000000']\n",
      " [b'2015-02-09T22:00:00.000000000' b'2015-02-09T23:00:00.000000000']\n",
      " [b'2015-02-13T10:00:00.000000000' b'2015-02-13T11:00:00.000000000']], shape=(32, 2), dtype=string)\n",
      "tf.Tensor(\n",
      "[[b'2015-02-11T04:00:00.000000000' b'2015-02-11T05:00:00.000000000']\n",
      " [b'2015-01-25T08:00:00.000000000' b'2015-01-25T09:00:00.000000000']\n",
      " [b'2015-01-02T04:00:00.000000000' b'2015-01-02T05:00:00.000000000']\n",
      " [b'2015-02-10T14:00:00.000000000' b'2015-02-10T15:00:00.000000000']\n",
      " [b'2015-02-05T14:00:00.000000000' b'2015-02-05T15:00:00.000000000']\n",
      " [b'2015-02-09T18:00:00.000000000' b'2015-02-09T19:00:00.000000000']\n",
      " [b'2015-02-15T12:00:00.000000000' b'2015-02-15T13:00:00.000000000']\n",
      " [b'2015-02-14T10:00:00.000000000' b'2015-02-14T11:00:00.000000000']\n",
      " [b'2015-02-04T22:00:00.000000000' b'2015-02-04T23:00:00.000000000']\n",
      " [b'2015-02-10T12:00:00.000000000' b'2015-02-10T13:00:00.000000000']\n",
      " [b'2015-02-09T10:00:00.000000000' b'2015-02-09T11:00:00.000000000']\n",
      " [b'2015-02-16T10:00:00.000000000' b'2015-02-16T11:00:00.000000000']\n",
      " [b'2015-02-11T08:00:00.000000000' b'2015-02-11T09:00:00.000000000']\n",
      " [b'2015-02-14T22:00:00.000000000' b'2015-02-14T23:00:00.000000000']\n",
      " [b'2015-01-20T02:00:00.000000000' b'2015-01-20T03:00:00.000000000']\n",
      " [b'2015-02-02T12:00:00.000000000' b'2015-02-02T13:00:00.000000000']\n",
      " [b'2015-02-13T14:00:00.000000000' b'2015-02-13T15:00:00.000000000']\n",
      " [b'2015-02-12T08:00:00.000000000' b'2015-02-12T09:00:00.000000000']\n",
      " [b'2015-02-14T14:00:00.000000000' b'2015-02-14T15:00:00.000000000']\n",
      " [b'2015-02-16T14:00:00.000000000' b'2015-02-16T15:00:00.000000000']\n",
      " [b'2015-02-16T00:00:00.000000000' b'2015-02-16T01:00:00.000000000']\n",
      " [b'2015-02-02T22:00:00.000000000' b'2015-02-02T23:00:00.000000000']\n",
      " [b'2015-02-16T06:00:00.000000000' b'2015-02-16T07:00:00.000000000']\n",
      " [b'2015-02-17T06:00:00.000000000' b'2015-02-17T07:00:00.000000000']\n",
      " [b'2015-02-17T12:00:00.000000000' b'2015-02-17T13:00:00.000000000']\n",
      " [b'2015-02-10T02:00:00.000000000' b'2015-02-10T03:00:00.000000000']\n",
      " [b'2015-02-08T02:00:00.000000000' b'2015-02-08T03:00:00.000000000']\n",
      " [b'2015-02-15T16:00:00.000000000' b'2015-02-15T17:00:00.000000000']\n",
      " [b'2015-02-07T00:00:00.000000000' b'2015-02-07T01:00:00.000000000']\n",
      " [b'2015-02-16T08:00:00.000000000' b'2015-02-16T09:00:00.000000000']\n",
      " [b'2015-02-03T20:00:00.000000000' b'2015-02-03T21:00:00.000000000']\n",
      " [b'2015-02-15T22:00:00.000000000' b'2015-02-15T23:00:00.000000000']], shape=(32, 2), dtype=string) tf.Tensor(\n",
      "[[b'2015-02-14T04:00:00.000000000' b'2015-02-14T05:00:00.000000000']\n",
      " [b'2015-01-28T08:00:00.000000000' b'2015-01-28T09:00:00.000000000']\n",
      " [b'2015-01-05T04:00:00.000000000' b'2015-01-05T05:00:00.000000000']\n",
      " [b'2015-02-13T14:00:00.000000000' b'2015-02-13T15:00:00.000000000']\n",
      " [b'2015-02-08T14:00:00.000000000' b'2015-02-08T15:00:00.000000000']\n",
      " [b'2015-02-12T18:00:00.000000000' b'2015-02-12T19:00:00.000000000']\n",
      " [b'2015-02-18T12:00:00.000000000' b'2015-02-18T13:00:00.000000000']\n",
      " [b'2015-02-17T10:00:00.000000000' b'2015-02-17T11:00:00.000000000']\n",
      " [b'2015-02-07T22:00:00.000000000' b'2015-02-07T23:00:00.000000000']\n",
      " [b'2015-02-13T12:00:00.000000000' b'2015-02-13T13:00:00.000000000']\n",
      " [b'2015-02-12T10:00:00.000000000' b'2015-02-12T11:00:00.000000000']\n",
      " [b'2015-02-19T10:00:00.000000000' b'2015-02-19T11:00:00.000000000']\n",
      " [b'2015-02-14T08:00:00.000000000' b'2015-02-14T09:00:00.000000000']\n",
      " [b'2015-02-17T22:00:00.000000000' b'2015-02-17T23:00:00.000000000']\n",
      " [b'2015-01-23T02:00:00.000000000' b'2015-01-23T03:00:00.000000000']\n",
      " [b'2015-02-05T12:00:00.000000000' b'2015-02-05T13:00:00.000000000']\n",
      " [b'2015-02-16T14:00:00.000000000' b'2015-02-16T15:00:00.000000000']\n",
      " [b'2015-02-15T08:00:00.000000000' b'2015-02-15T09:00:00.000000000']\n",
      " [b'2015-02-17T14:00:00.000000000' b'2015-02-17T15:00:00.000000000']\n",
      " [b'2015-02-19T14:00:00.000000000' b'2015-02-19T15:00:00.000000000']\n",
      " [b'2015-02-19T00:00:00.000000000' b'2015-02-19T01:00:00.000000000']\n",
      " [b'2015-02-05T22:00:00.000000000' b'2015-02-05T23:00:00.000000000']\n",
      " [b'2015-02-19T06:00:00.000000000' b'2015-02-19T07:00:00.000000000']\n",
      " [b'2015-02-20T06:00:00.000000000' b'2015-02-20T07:00:00.000000000']\n",
      " [b'2015-02-20T12:00:00.000000000' b'2015-02-20T13:00:00.000000000']\n",
      " [b'2015-02-13T02:00:00.000000000' b'2015-02-13T03:00:00.000000000']\n",
      " [b'2015-02-11T02:00:00.000000000' b'2015-02-11T03:00:00.000000000']\n",
      " [b'2015-02-18T16:00:00.000000000' b'2015-02-18T17:00:00.000000000']\n",
      " [b'2015-02-10T00:00:00.000000000' b'2015-02-10T01:00:00.000000000']\n",
      " [b'2015-02-19T08:00:00.000000000' b'2015-02-19T09:00:00.000000000']\n",
      " [b'2015-02-06T20:00:00.000000000' b'2015-02-06T21:00:00.000000000']\n",
      " [b'2015-02-18T22:00:00.000000000' b'2015-02-18T23:00:00.000000000']], shape=(32, 2), dtype=string)\n",
      "tf.Tensor(\n",
      "[[b'2015-02-17T02:00:00.000000000' b'2015-02-17T03:00:00.000000000']\n",
      " [b'2015-02-18T02:00:00.000000000' b'2015-02-18T03:00:00.000000000']\n",
      " [b'2015-02-09T16:00:00.000000000' b'2015-02-09T17:00:00.000000000']\n",
      " [b'2015-02-15T00:00:00.000000000' b'2015-02-15T01:00:00.000000000']\n",
      " [b'2015-02-14T02:00:00.000000000' b'2015-02-14T03:00:00.000000000']\n",
      " [b'2015-02-14T04:00:00.000000000' b'2015-02-14T05:00:00.000000000']\n",
      " [b'2015-02-16T18:00:00.000000000' b'2015-02-16T19:00:00.000000000']\n",
      " [b'2015-02-18T08:00:00.000000000' b'2015-02-18T09:00:00.000000000']\n",
      " [b'2015-02-08T22:00:00.000000000' b'2015-02-08T23:00:00.000000000']\n",
      " [b'2015-02-07T12:00:00.000000000' b'2015-02-07T13:00:00.000000000']\n",
      " [b'2015-02-06T20:00:00.000000000' b'2015-02-06T21:00:00.000000000']\n",
      " [b'2015-02-15T08:00:00.000000000' b'2015-02-15T09:00:00.000000000']\n",
      " [b'2015-02-17T04:00:00.000000000' b'2015-02-17T05:00:00.000000000']\n",
      " [b'2015-02-18T22:00:00.000000000' b'2015-02-18T23:00:00.000000000']\n",
      " [b'2015-02-13T02:00:00.000000000' b'2015-02-13T03:00:00.000000000']\n",
      " [b'2015-02-19T00:00:00.000000000' b'2015-02-19T01:00:00.000000000']\n",
      " [b'2015-02-07T04:00:00.000000000' b'2015-02-07T05:00:00.000000000']\n",
      " [b'2015-02-18T00:00:00.000000000' b'2015-02-18T01:00:00.000000000']\n",
      " [b'2015-02-12T20:00:00.000000000' b'2015-02-12T21:00:00.000000000']\n",
      " [b'2015-02-19T18:00:00.000000000' b'2015-02-19T19:00:00.000000000']\n",
      " [b'2015-02-07T06:00:00.000000000' b'2015-02-07T07:00:00.000000000']\n",
      " [b'2015-02-16T20:00:00.000000000' b'2015-02-16T21:00:00.000000000']\n",
      " [b'2015-02-16T16:00:00.000000000' b'2015-02-16T17:00:00.000000000']\n",
      " [b'2015-02-19T12:00:00.000000000' b'2015-02-19T13:00:00.000000000']\n",
      " [b'2015-02-10T20:00:00.000000000' b'2015-02-10T21:00:00.000000000']\n",
      " [b'2015-02-13T04:00:00.000000000' b'2015-02-13T05:00:00.000000000']\n",
      " [b'2015-01-30T06:00:00.000000000' b'2015-01-30T07:00:00.000000000']\n",
      " [b'2015-02-20T06:00:00.000000000' b'2015-02-20T07:00:00.000000000']\n",
      " [b'2015-02-09T00:00:00.000000000' b'2015-02-09T01:00:00.000000000']\n",
      " [b'2015-02-17T16:00:00.000000000' b'2015-02-17T17:00:00.000000000']\n",
      " [b'2015-02-08T14:00:00.000000000' b'2015-02-08T15:00:00.000000000']\n",
      " [b'2015-02-20T02:00:00.000000000' b'2015-02-20T03:00:00.000000000']], shape=(32, 2), dtype=string) tf.Tensor(\n",
      "[[b'2015-02-20T02:00:00.000000000' b'2015-02-20T03:00:00.000000000']\n",
      " [b'2015-02-21T02:00:00.000000000' b'2015-02-21T03:00:00.000000000']\n",
      " [b'2015-02-12T16:00:00.000000000' b'2015-02-12T17:00:00.000000000']\n",
      " [b'2015-02-18T00:00:00.000000000' b'2015-02-18T01:00:00.000000000']\n",
      " [b'2015-02-17T02:00:00.000000000' b'2015-02-17T03:00:00.000000000']\n",
      " [b'2015-02-17T04:00:00.000000000' b'2015-02-17T05:00:00.000000000']\n",
      " [b'2015-02-19T18:00:00.000000000' b'2015-02-19T19:00:00.000000000']\n",
      " [b'2015-02-21T08:00:00.000000000' b'2015-02-21T09:00:00.000000000']\n",
      " [b'2015-02-11T22:00:00.000000000' b'2015-02-11T23:00:00.000000000']\n",
      " [b'2015-02-10T12:00:00.000000000' b'2015-02-10T13:00:00.000000000']\n",
      " [b'2015-02-09T20:00:00.000000000' b'2015-02-09T21:00:00.000000000']\n",
      " [b'2015-02-18T08:00:00.000000000' b'2015-02-18T09:00:00.000000000']\n",
      " [b'2015-02-20T04:00:00.000000000' b'2015-02-20T05:00:00.000000000']\n",
      " [b'2015-02-21T22:00:00.000000000' b'2015-02-21T23:00:00.000000000']\n",
      " [b'2015-02-16T02:00:00.000000000' b'2015-02-16T03:00:00.000000000']\n",
      " [b'2015-02-22T00:00:00.000000000' b'2015-02-22T01:00:00.000000000']\n",
      " [b'2015-02-10T04:00:00.000000000' b'2015-02-10T05:00:00.000000000']\n",
      " [b'2015-02-21T00:00:00.000000000' b'2015-02-21T01:00:00.000000000']\n",
      " [b'2015-02-15T20:00:00.000000000' b'2015-02-15T21:00:00.000000000']\n",
      " [b'2015-02-22T18:00:00.000000000' b'2015-02-22T19:00:00.000000000']\n",
      " [b'2015-02-10T06:00:00.000000000' b'2015-02-10T07:00:00.000000000']\n",
      " [b'2015-02-19T20:00:00.000000000' b'2015-02-19T21:00:00.000000000']\n",
      " [b'2015-02-19T16:00:00.000000000' b'2015-02-19T17:00:00.000000000']\n",
      " [b'2015-02-22T12:00:00.000000000' b'2015-02-22T13:00:00.000000000']\n",
      " [b'2015-02-13T20:00:00.000000000' b'2015-02-13T21:00:00.000000000']\n",
      " [b'2015-02-16T04:00:00.000000000' b'2015-02-16T05:00:00.000000000']\n",
      " [b'2015-02-02T06:00:00.000000000' b'2015-02-02T07:00:00.000000000']\n",
      " [b'2015-02-23T06:00:00.000000000' b'2015-02-23T07:00:00.000000000']\n",
      " [b'2015-02-12T00:00:00.000000000' b'2015-02-12T01:00:00.000000000']\n",
      " [b'2015-02-20T16:00:00.000000000' b'2015-02-20T17:00:00.000000000']\n",
      " [b'2015-02-11T14:00:00.000000000' b'2015-02-11T15:00:00.000000000']\n",
      " [b'2015-02-23T02:00:00.000000000' b'2015-02-23T03:00:00.000000000']], shape=(32, 2), dtype=string)\n",
      "tf.Tensor(\n",
      "[[b'2015-02-05T06:00:00.000000000' b'2015-02-05T07:00:00.000000000']\n",
      " [b'2015-02-19T04:00:00.000000000' b'2015-02-19T05:00:00.000000000']\n",
      " [b'2015-01-30T16:00:00.000000000' b'2015-01-30T17:00:00.000000000']\n",
      " [b'2015-01-21T22:00:00.000000000' b'2015-01-21T23:00:00.000000000']\n",
      " [b'2015-02-21T00:00:00.000000000' b'2015-02-21T01:00:00.000000000']\n",
      " [b'2015-02-12T16:00:00.000000000' b'2015-02-12T17:00:00.000000000']\n",
      " [b'2015-02-21T06:00:00.000000000' b'2015-02-21T07:00:00.000000000']\n",
      " [b'2015-02-12T04:00:00.000000000' b'2015-02-12T05:00:00.000000000']\n",
      " [b'2015-02-03T00:00:00.000000000' b'2015-02-03T01:00:00.000000000']\n",
      " [b'2015-02-14T12:00:00.000000000' b'2015-02-14T13:00:00.000000000']\n",
      " [b'2015-02-16T02:00:00.000000000' b'2015-02-16T03:00:00.000000000']\n",
      " [b'2015-02-12T10:00:00.000000000' b'2015-02-12T11:00:00.000000000']\n",
      " [b'2015-02-08T12:00:00.000000000' b'2015-02-08T13:00:00.000000000']\n",
      " [b'2015-02-17T08:00:00.000000000' b'2015-02-17T09:00:00.000000000']\n",
      " [b'2015-02-16T04:00:00.000000000' b'2015-02-16T05:00:00.000000000']\n",
      " [b'2015-02-09T12:00:00.000000000' b'2015-02-09T13:00:00.000000000']\n",
      " [b'2015-02-18T20:00:00.000000000' b'2015-02-18T21:00:00.000000000']\n",
      " [b'2015-01-28T12:00:00.000000000' b'2015-01-28T13:00:00.000000000']\n",
      " [b'2015-02-16T12:00:00.000000000' b'2015-02-16T13:00:00.000000000']\n",
      " [b'2015-02-12T14:00:00.000000000' b'2015-02-12T15:00:00.000000000']\n",
      " [b'2015-02-13T22:00:00.000000000' b'2015-02-13T23:00:00.000000000']\n",
      " [b'2015-02-11T22:00:00.000000000' b'2015-02-11T23:00:00.000000000']\n",
      " [b'2015-02-20T22:00:00.000000000' b'2015-02-20T23:00:00.000000000']\n",
      " [b'2015-02-22T20:00:00.000000000' b'2015-02-22T21:00:00.000000000']\n",
      " [b'2015-02-12T06:00:00.000000000' b'2015-02-12T07:00:00.000000000']\n",
      " [b'2015-02-19T08:00:00.000000000' b'2015-02-19T09:00:00.000000000']\n",
      " [b'2015-02-06T10:00:00.000000000' b'2015-02-06T11:00:00.000000000']\n",
      " [b'2015-02-22T08:00:00.000000000' b'2015-02-22T09:00:00.000000000']\n",
      " [b'2015-02-13T00:00:00.000000000' b'2015-02-13T01:00:00.000000000']\n",
      " [b'2015-02-08T00:00:00.000000000' b'2015-02-08T01:00:00.000000000']\n",
      " [b'2015-02-15T06:00:00.000000000' b'2015-02-15T07:00:00.000000000']\n",
      " [b'2015-02-11T06:00:00.000000000' b'2015-02-11T07:00:00.000000000']], shape=(32, 2), dtype=string) tf.Tensor(\n",
      "[[b'2015-02-08T06:00:00.000000000' b'2015-02-08T07:00:00.000000000']\n",
      " [b'2015-02-22T04:00:00.000000000' b'2015-02-22T05:00:00.000000000']\n",
      " [b'2015-02-02T16:00:00.000000000' b'2015-02-02T17:00:00.000000000']\n",
      " [b'2015-01-24T22:00:00.000000000' b'2015-01-24T23:00:00.000000000']\n",
      " [b'2015-02-24T00:00:00.000000000' b'2015-02-24T01:00:00.000000000']\n",
      " [b'2015-02-15T16:00:00.000000000' b'2015-02-15T17:00:00.000000000']\n",
      " [b'2015-02-24T06:00:00.000000000' b'2015-02-24T07:00:00.000000000']\n",
      " [b'2015-02-15T04:00:00.000000000' b'2015-02-15T05:00:00.000000000']\n",
      " [b'2015-02-06T00:00:00.000000000' b'2015-02-06T01:00:00.000000000']\n",
      " [b'2015-02-17T12:00:00.000000000' b'2015-02-17T13:00:00.000000000']\n",
      " [b'2015-02-19T02:00:00.000000000' b'2015-02-19T03:00:00.000000000']\n",
      " [b'2015-02-15T10:00:00.000000000' b'2015-02-15T11:00:00.000000000']\n",
      " [b'2015-02-11T12:00:00.000000000' b'2015-02-11T13:00:00.000000000']\n",
      " [b'2015-02-20T08:00:00.000000000' b'2015-02-20T09:00:00.000000000']\n",
      " [b'2015-02-19T04:00:00.000000000' b'2015-02-19T05:00:00.000000000']\n",
      " [b'2015-02-12T12:00:00.000000000' b'2015-02-12T13:00:00.000000000']\n",
      " [b'2015-02-21T20:00:00.000000000' b'2015-02-21T21:00:00.000000000']\n",
      " [b'2015-01-31T12:00:00.000000000' b'2015-01-31T13:00:00.000000000']\n",
      " [b'2015-02-19T12:00:00.000000000' b'2015-02-19T13:00:00.000000000']\n",
      " [b'2015-02-15T14:00:00.000000000' b'2015-02-15T15:00:00.000000000']\n",
      " [b'2015-02-16T22:00:00.000000000' b'2015-02-16T23:00:00.000000000']\n",
      " [b'2015-02-14T22:00:00.000000000' b'2015-02-14T23:00:00.000000000']\n",
      " [b'2015-02-23T22:00:00.000000000' b'2015-02-23T23:00:00.000000000']\n",
      " [b'2015-02-25T20:00:00.000000000' b'2015-02-25T21:00:00.000000000']\n",
      " [b'2015-02-15T06:00:00.000000000' b'2015-02-15T07:00:00.000000000']\n",
      " [b'2015-02-22T08:00:00.000000000' b'2015-02-22T09:00:00.000000000']\n",
      " [b'2015-02-09T10:00:00.000000000' b'2015-02-09T11:00:00.000000000']\n",
      " [b'2015-02-25T08:00:00.000000000' b'2015-02-25T09:00:00.000000000']\n",
      " [b'2015-02-16T00:00:00.000000000' b'2015-02-16T01:00:00.000000000']\n",
      " [b'2015-02-11T00:00:00.000000000' b'2015-02-11T01:00:00.000000000']\n",
      " [b'2015-02-18T06:00:00.000000000' b'2015-02-18T07:00:00.000000000']\n",
      " [b'2015-02-14T06:00:00.000000000' b'2015-02-14T07:00:00.000000000']], shape=(32, 2), dtype=string)\n"
     ]
    },
    {
     "ename": "DataLossError",
     "evalue": "truncated record at 208950071",
     "output_type": "error",
     "traceback": [
      "\u001b[0;31m---------------------------------------------------------------------------\u001b[0m",
      "\u001b[0;31mDataLossError\u001b[0m                             Traceback (most recent call last)",
      "\u001b[0;32m~/miniconda3/lib/python3.7/site-packages/tensorflow_core/python/eager/context.py\u001b[0m in \u001b[0;36mexecution_mode\u001b[0;34m(mode)\u001b[0m\n\u001b[1;32m   1896\u001b[0m     \u001b[0mctx\u001b[0m\u001b[0;34m.\u001b[0m\u001b[0mexecutor\u001b[0m \u001b[0;34m=\u001b[0m \u001b[0mexecutor_new\u001b[0m\u001b[0;34m\u001b[0m\u001b[0;34m\u001b[0m\u001b[0m\n\u001b[0;32m-> 1897\u001b[0;31m     \u001b[0;32myield\u001b[0m\u001b[0;34m\u001b[0m\u001b[0;34m\u001b[0m\u001b[0m\n\u001b[0m\u001b[1;32m   1898\u001b[0m   \u001b[0;32mfinally\u001b[0m\u001b[0;34m:\u001b[0m\u001b[0;34m\u001b[0m\u001b[0;34m\u001b[0m\u001b[0m\n",
      "\u001b[0;32m~/miniconda3/lib/python3.7/site-packages/tensorflow_core/python/data/ops/iterator_ops.py\u001b[0m in \u001b[0;36m_next_internal\u001b[0;34m(self)\u001b[0m\n\u001b[1;32m    658\u001b[0m             \u001b[0moutput_types\u001b[0m\u001b[0;34m=\u001b[0m\u001b[0mself\u001b[0m\u001b[0;34m.\u001b[0m\u001b[0m_flat_output_types\u001b[0m\u001b[0;34m,\u001b[0m\u001b[0;34m\u001b[0m\u001b[0;34m\u001b[0m\u001b[0m\n\u001b[0;32m--> 659\u001b[0;31m             output_shapes=self._flat_output_shapes)\n\u001b[0m\u001b[1;32m    660\u001b[0m \u001b[0;34m\u001b[0m\u001b[0m\n",
      "\u001b[0;32m~/miniconda3/lib/python3.7/site-packages/tensorflow_core/python/ops/gen_dataset_ops.py\u001b[0m in \u001b[0;36miterator_get_next_sync\u001b[0;34m(iterator, output_types, output_shapes, name)\u001b[0m\n\u001b[1;32m   2478\u001b[0m     \u001b[0;32mexcept\u001b[0m \u001b[0m_core\u001b[0m\u001b[0;34m.\u001b[0m\u001b[0m_NotOkStatusException\u001b[0m \u001b[0;32mas\u001b[0m \u001b[0me\u001b[0m\u001b[0;34m:\u001b[0m\u001b[0;34m\u001b[0m\u001b[0;34m\u001b[0m\u001b[0m\n\u001b[0;32m-> 2479\u001b[0;31m       \u001b[0m_ops\u001b[0m\u001b[0;34m.\u001b[0m\u001b[0mraise_from_not_ok_status\u001b[0m\u001b[0;34m(\u001b[0m\u001b[0me\u001b[0m\u001b[0;34m,\u001b[0m \u001b[0mname\u001b[0m\u001b[0;34m)\u001b[0m\u001b[0;34m\u001b[0m\u001b[0;34m\u001b[0m\u001b[0m\n\u001b[0m\u001b[1;32m   2480\u001b[0m   \u001b[0;31m# Add nodes to the TensorFlow graph.\u001b[0m\u001b[0;34m\u001b[0m\u001b[0;34m\u001b[0m\u001b[0;34m\u001b[0m\u001b[0m\n",
      "\u001b[0;32m~/miniconda3/lib/python3.7/site-packages/tensorflow_core/python/framework/ops.py\u001b[0m in \u001b[0;36mraise_from_not_ok_status\u001b[0;34m(e, name)\u001b[0m\n\u001b[1;32m   6605\u001b[0m   \u001b[0;31m# pylint: disable=protected-access\u001b[0m\u001b[0;34m\u001b[0m\u001b[0;34m\u001b[0m\u001b[0;34m\u001b[0m\u001b[0m\n\u001b[0;32m-> 6606\u001b[0;31m   \u001b[0msix\u001b[0m\u001b[0;34m.\u001b[0m\u001b[0mraise_from\u001b[0m\u001b[0;34m(\u001b[0m\u001b[0mcore\u001b[0m\u001b[0;34m.\u001b[0m\u001b[0m_status_to_exception\u001b[0m\u001b[0;34m(\u001b[0m\u001b[0me\u001b[0m\u001b[0;34m.\u001b[0m\u001b[0mcode\u001b[0m\u001b[0;34m,\u001b[0m \u001b[0mmessage\u001b[0m\u001b[0;34m)\u001b[0m\u001b[0;34m,\u001b[0m \u001b[0;32mNone\u001b[0m\u001b[0;34m)\u001b[0m\u001b[0;34m\u001b[0m\u001b[0;34m\u001b[0m\u001b[0m\n\u001b[0m\u001b[1;32m   6607\u001b[0m   \u001b[0;31m# pylint: enable=protected-access\u001b[0m\u001b[0;34m\u001b[0m\u001b[0;34m\u001b[0m\u001b[0;34m\u001b[0m\u001b[0m\n",
      "\u001b[0;32m~/miniconda3/lib/python3.7/site-packages/six.py\u001b[0m in \u001b[0;36mraise_from\u001b[0;34m(value, from_value)\u001b[0m\n",
      "\u001b[0;31mDataLossError\u001b[0m: truncated record at 208950071 [Op:IteratorGetNextSync]",
      "\nDuring handling of the above exception, another exception occurred:\n",
      "\u001b[0;31mDataLossError\u001b[0m                             Traceback (most recent call last)",
      "\u001b[0;32m<ipython-input-399-978555e70c7e>\u001b[0m in \u001b[0;36m<module>\u001b[0;34m\u001b[0m\n\u001b[0;32m----> 1\u001b[0;31m \u001b[0;32mfor\u001b[0m \u001b[0mb\u001b[0m\u001b[0;34m,\u001b[0m \u001b[0mc\u001b[0m \u001b[0;32min\u001b[0m \u001b[0mcc\u001b[0m\u001b[0;34m.\u001b[0m\u001b[0mtake\u001b[0m\u001b[0;34m(\u001b[0m\u001b[0;36m10000\u001b[0m\u001b[0;34m)\u001b[0m\u001b[0;34m:\u001b[0m\u001b[0;34m\u001b[0m\u001b[0;34m\u001b[0m\u001b[0m\n\u001b[0m\u001b[1;32m      2\u001b[0m     \u001b[0mprint\u001b[0m\u001b[0;34m(\u001b[0m\u001b[0mb\u001b[0m\u001b[0;34m,\u001b[0m \u001b[0mc\u001b[0m\u001b[0;34m)\u001b[0m\u001b[0;34m\u001b[0m\u001b[0;34m\u001b[0m\u001b[0m\n",
      "\u001b[0;32m~/miniconda3/lib/python3.7/site-packages/tensorflow_core/python/data/ops/iterator_ops.py\u001b[0m in \u001b[0;36m__next__\u001b[0;34m(self)\u001b[0m\n\u001b[1;32m    628\u001b[0m \u001b[0;34m\u001b[0m\u001b[0m\n\u001b[1;32m    629\u001b[0m   \u001b[0;32mdef\u001b[0m \u001b[0m__next__\u001b[0m\u001b[0;34m(\u001b[0m\u001b[0mself\u001b[0m\u001b[0;34m)\u001b[0m\u001b[0;34m:\u001b[0m  \u001b[0;31m# For Python 3 compatibility\u001b[0m\u001b[0;34m\u001b[0m\u001b[0;34m\u001b[0m\u001b[0m\n\u001b[0;32m--> 630\u001b[0;31m     \u001b[0;32mreturn\u001b[0m \u001b[0mself\u001b[0m\u001b[0;34m.\u001b[0m\u001b[0mnext\u001b[0m\u001b[0;34m(\u001b[0m\u001b[0;34m)\u001b[0m\u001b[0;34m\u001b[0m\u001b[0;34m\u001b[0m\u001b[0m\n\u001b[0m\u001b[1;32m    631\u001b[0m \u001b[0;34m\u001b[0m\u001b[0m\n\u001b[1;32m    632\u001b[0m   \u001b[0;32mdef\u001b[0m \u001b[0m_next_internal\u001b[0m\u001b[0;34m(\u001b[0m\u001b[0mself\u001b[0m\u001b[0;34m)\u001b[0m\u001b[0;34m:\u001b[0m\u001b[0;34m\u001b[0m\u001b[0;34m\u001b[0m\u001b[0m\n",
      "\u001b[0;32m~/miniconda3/lib/python3.7/site-packages/tensorflow_core/python/data/ops/iterator_ops.py\u001b[0m in \u001b[0;36mnext\u001b[0;34m(self)\u001b[0m\n\u001b[1;32m    672\u001b[0m     \u001b[0;34m\"\"\"Returns a nested structure of `Tensor`s containing the next element.\"\"\"\u001b[0m\u001b[0;34m\u001b[0m\u001b[0;34m\u001b[0m\u001b[0m\n\u001b[1;32m    673\u001b[0m     \u001b[0;32mtry\u001b[0m\u001b[0;34m:\u001b[0m\u001b[0;34m\u001b[0m\u001b[0;34m\u001b[0m\u001b[0m\n\u001b[0;32m--> 674\u001b[0;31m       \u001b[0;32mreturn\u001b[0m \u001b[0mself\u001b[0m\u001b[0;34m.\u001b[0m\u001b[0m_next_internal\u001b[0m\u001b[0;34m(\u001b[0m\u001b[0;34m)\u001b[0m\u001b[0;34m\u001b[0m\u001b[0;34m\u001b[0m\u001b[0m\n\u001b[0m\u001b[1;32m    675\u001b[0m     \u001b[0;32mexcept\u001b[0m \u001b[0merrors\u001b[0m\u001b[0;34m.\u001b[0m\u001b[0mOutOfRangeError\u001b[0m\u001b[0;34m:\u001b[0m\u001b[0;34m\u001b[0m\u001b[0;34m\u001b[0m\u001b[0m\n\u001b[1;32m    676\u001b[0m       \u001b[0;32mraise\u001b[0m \u001b[0mStopIteration\u001b[0m\u001b[0;34m\u001b[0m\u001b[0;34m\u001b[0m\u001b[0m\n",
      "\u001b[0;32m~/miniconda3/lib/python3.7/site-packages/tensorflow_core/python/data/ops/iterator_ops.py\u001b[0m in \u001b[0;36m_next_internal\u001b[0;34m(self)\u001b[0m\n\u001b[1;32m    663\u001b[0m         \u001b[0;32mreturn\u001b[0m \u001b[0mself\u001b[0m\u001b[0;34m.\u001b[0m\u001b[0m_element_spec\u001b[0m\u001b[0;34m.\u001b[0m\u001b[0m_from_compatible_tensor_list\u001b[0m\u001b[0;34m(\u001b[0m\u001b[0mret\u001b[0m\u001b[0;34m)\u001b[0m  \u001b[0;31m# pylint: disable=protected-access\u001b[0m\u001b[0;34m\u001b[0m\u001b[0;34m\u001b[0m\u001b[0m\n\u001b[1;32m    664\u001b[0m       \u001b[0;32mexcept\u001b[0m \u001b[0mAttributeError\u001b[0m\u001b[0;34m:\u001b[0m\u001b[0;34m\u001b[0m\u001b[0;34m\u001b[0m\u001b[0m\n\u001b[0;32m--> 665\u001b[0;31m         \u001b[0;32mreturn\u001b[0m \u001b[0mstructure\u001b[0m\u001b[0;34m.\u001b[0m\u001b[0mfrom_compatible_tensor_list\u001b[0m\u001b[0;34m(\u001b[0m\u001b[0mself\u001b[0m\u001b[0;34m.\u001b[0m\u001b[0m_element_spec\u001b[0m\u001b[0;34m,\u001b[0m \u001b[0mret\u001b[0m\u001b[0;34m)\u001b[0m\u001b[0;34m\u001b[0m\u001b[0;34m\u001b[0m\u001b[0m\n\u001b[0m\u001b[1;32m    666\u001b[0m \u001b[0;34m\u001b[0m\u001b[0m\n\u001b[1;32m    667\u001b[0m   \u001b[0;34m@\u001b[0m\u001b[0mproperty\u001b[0m\u001b[0;34m\u001b[0m\u001b[0;34m\u001b[0m\u001b[0m\n",
      "\u001b[0;32m~/miniconda3/lib/python3.7/contextlib.py\u001b[0m in \u001b[0;36m__exit__\u001b[0;34m(self, type, value, traceback)\u001b[0m\n\u001b[1;32m    128\u001b[0m                 \u001b[0mvalue\u001b[0m \u001b[0;34m=\u001b[0m \u001b[0mtype\u001b[0m\u001b[0;34m(\u001b[0m\u001b[0;34m)\u001b[0m\u001b[0;34m\u001b[0m\u001b[0;34m\u001b[0m\u001b[0m\n\u001b[1;32m    129\u001b[0m             \u001b[0;32mtry\u001b[0m\u001b[0;34m:\u001b[0m\u001b[0;34m\u001b[0m\u001b[0;34m\u001b[0m\u001b[0m\n\u001b[0;32m--> 130\u001b[0;31m                 \u001b[0mself\u001b[0m\u001b[0;34m.\u001b[0m\u001b[0mgen\u001b[0m\u001b[0;34m.\u001b[0m\u001b[0mthrow\u001b[0m\u001b[0;34m(\u001b[0m\u001b[0mtype\u001b[0m\u001b[0;34m,\u001b[0m \u001b[0mvalue\u001b[0m\u001b[0;34m,\u001b[0m \u001b[0mtraceback\u001b[0m\u001b[0;34m)\u001b[0m\u001b[0;34m\u001b[0m\u001b[0;34m\u001b[0m\u001b[0m\n\u001b[0m\u001b[1;32m    131\u001b[0m             \u001b[0;32mexcept\u001b[0m \u001b[0mStopIteration\u001b[0m \u001b[0;32mas\u001b[0m \u001b[0mexc\u001b[0m\u001b[0;34m:\u001b[0m\u001b[0;34m\u001b[0m\u001b[0;34m\u001b[0m\u001b[0m\n\u001b[1;32m    132\u001b[0m                 \u001b[0;31m# Suppress StopIteration *unless* it's the same exception that\u001b[0m\u001b[0;34m\u001b[0m\u001b[0;34m\u001b[0m\u001b[0;34m\u001b[0m\u001b[0m\n",
      "\u001b[0;32m~/miniconda3/lib/python3.7/site-packages/tensorflow_core/python/eager/context.py\u001b[0m in \u001b[0;36mexecution_mode\u001b[0;34m(mode)\u001b[0m\n\u001b[1;32m   1898\u001b[0m   \u001b[0;32mfinally\u001b[0m\u001b[0;34m:\u001b[0m\u001b[0;34m\u001b[0m\u001b[0;34m\u001b[0m\u001b[0m\n\u001b[1;32m   1899\u001b[0m     \u001b[0mctx\u001b[0m\u001b[0;34m.\u001b[0m\u001b[0mexecutor\u001b[0m \u001b[0;34m=\u001b[0m \u001b[0mexecutor_old\u001b[0m\u001b[0;34m\u001b[0m\u001b[0;34m\u001b[0m\u001b[0m\n\u001b[0;32m-> 1900\u001b[0;31m     \u001b[0mexecutor_new\u001b[0m\u001b[0;34m.\u001b[0m\u001b[0mwait\u001b[0m\u001b[0;34m(\u001b[0m\u001b[0;34m)\u001b[0m\u001b[0;34m\u001b[0m\u001b[0;34m\u001b[0m\u001b[0m\n\u001b[0m\u001b[1;32m   1901\u001b[0m \u001b[0;34m\u001b[0m\u001b[0m\n\u001b[1;32m   1902\u001b[0m \u001b[0;34m\u001b[0m\u001b[0m\n",
      "\u001b[0;32m~/miniconda3/lib/python3.7/site-packages/tensorflow_core/python/eager/executor.py\u001b[0m in \u001b[0;36mwait\u001b[0;34m(self)\u001b[0m\n\u001b[1;32m     65\u001b[0m   \u001b[0;32mdef\u001b[0m \u001b[0mwait\u001b[0m\u001b[0;34m(\u001b[0m\u001b[0mself\u001b[0m\u001b[0;34m)\u001b[0m\u001b[0;34m:\u001b[0m\u001b[0;34m\u001b[0m\u001b[0;34m\u001b[0m\u001b[0m\n\u001b[1;32m     66\u001b[0m     \u001b[0;34m\"\"\"Waits for ops dispatched in this executor to finish.\"\"\"\u001b[0m\u001b[0;34m\u001b[0m\u001b[0;34m\u001b[0m\u001b[0m\n\u001b[0;32m---> 67\u001b[0;31m     \u001b[0mpywrap_tensorflow\u001b[0m\u001b[0;34m.\u001b[0m\u001b[0mTFE_ExecutorWaitForAllPendingNodes\u001b[0m\u001b[0;34m(\u001b[0m\u001b[0mself\u001b[0m\u001b[0;34m.\u001b[0m\u001b[0m_handle\u001b[0m\u001b[0;34m)\u001b[0m\u001b[0;34m\u001b[0m\u001b[0;34m\u001b[0m\u001b[0m\n\u001b[0m\u001b[1;32m     68\u001b[0m \u001b[0;34m\u001b[0m\u001b[0m\n\u001b[1;32m     69\u001b[0m   \u001b[0;32mdef\u001b[0m \u001b[0mclear_error\u001b[0m\u001b[0;34m(\u001b[0m\u001b[0mself\u001b[0m\u001b[0;34m)\u001b[0m\u001b[0;34m:\u001b[0m\u001b[0;34m\u001b[0m\u001b[0;34m\u001b[0m\u001b[0m\n",
      "\u001b[0;31mDataLossError\u001b[0m: truncated record at 208950071"
     ]
    }
   ],
   "source": [
    "for b, c in cc.take():\n",
    "    print(b, c)"
   ]
  },
  {
   "cell_type": "code",
   "execution_count": 382,
   "metadata": {},
   "outputs": [],
   "source": [
    "for b in batch.take(1):\n",
    "    pass"
   ]
  },
  {
   "cell_type": "code",
   "execution_count": 383,
   "metadata": {},
   "outputs": [
    {
     "data": {
      "text/plain": [
       "<tf.Tensor: shape=(2,), dtype=string, numpy=\n",
       "array([b'2015-01-01T00:00:00.000000000', b'2015-01-01T01:00:00.000000000'],\n",
       "      dtype=object)>"
      ]
     },
     "execution_count": 383,
     "metadata": {},
     "output_type": "execute_result"
    }
   ],
   "source": [
    "b"
   ]
  },
  {
   "cell_type": "code",
   "execution_count": 384,
   "metadata": {},
   "outputs": [],
   "source": [
    "X = next(iter(parsed_ds))"
   ]
  },
  {
   "cell_type": "code",
   "execution_count": 387,
   "metadata": {},
   "outputs": [
    {
     "data": {
      "text/plain": [
       "b'2015-01-01T00:00:00.000000000'"
      ]
     },
     "execution_count": 387,
     "metadata": {},
     "output_type": "execute_result"
    }
   ],
   "source": [
    "X.numpy()"
   ]
  },
  {
   "cell_type": "markdown",
   "metadata": {},
   "source": [
    "## Now the full implementation"
   ]
  },
  {
   "cell_type": "code",
   "execution_count": 6,
   "metadata": {},
   "outputs": [],
   "source": [
    "!rm /data/stephan/WeatherBench/tfrecords/ERA/*"
   ]
  },
  {
   "cell_type": "code",
   "execution_count": 7,
   "metadata": {},
   "outputs": [],
   "source": [
    "ds_train = ds.sel(time=slice('2015', '2015'))"
   ]
  },
  {
   "cell_type": "code",
   "execution_count": 8,
   "metadata": {},
   "outputs": [],
   "source": [
    "dg_train = DataGenerator(\n",
    "    ds_train, args['var_dict'], args['lead_time'], batch_size=args['batch_size'], output_vars=args['output_vars'],\n",
    "    data_subsample=1, norm_subsample=10, nt_in=1, dt_in=args['dt_in'], load=True, normalize=False, shuffle=False\n",
    ")"
   ]
  },
  {
   "cell_type": "code",
   "execution_count": 9,
   "metadata": {},
   "outputs": [],
   "source": [
    "savedir = '/data/stephan/WeatherBench/tfrecords/ERA/'\n",
    "!mkdir -p $savedir"
   ]
  },
  {
   "cell_type": "code",
   "execution_count": 10,
   "metadata": {},
   "outputs": [
    {
     "data": {
      "application/vnd.jupyter.widget-view+json": {
       "model_id": "0973a62f019642fbb0b923dd0c280613",
       "version_major": 2,
       "version_minor": 0
      },
      "text/plain": [
       "HBox(children=(FloatProgress(value=0.0, max=1.0), HTML(value='')))"
      ]
     },
     "metadata": {},
     "output_type": "display_data"
    },
    {
     "name": "stdout",
     "output_type": "stream",
     "text": [
      "\n"
     ]
    }
   ],
   "source": [
    "dg_train.to_tfrecord(savedir)"
   ]
  },
  {
   "cell_type": "code",
   "execution_count": 12,
   "metadata": {},
   "outputs": [],
   "source": [
    "dg_train.mean.to_netcdf(f'{savedir}mean.nc')\n",
    "dg_train.std.to_netcdf(f'{savedir}std.nc')"
   ]
  },
  {
   "cell_type": "code",
   "execution_count": 480,
   "metadata": {},
   "outputs": [],
   "source": [
    "fns = sorted(glob('/data/stephan/WeatherBench/tfrecords/ERA/2015-*.tfrecord'))"
   ]
  },
  {
   "cell_type": "code",
   "execution_count": 481,
   "metadata": {},
   "outputs": [],
   "source": [
    "features = {\n",
    "    'time': tf.io.FixedLenFeature([], tf.string),\n",
    "    'data': tf.io.FixedLenFeature([], tf.string)\n",
    "}"
   ]
  },
  {
   "cell_type": "code",
   "execution_count": 482,
   "metadata": {},
   "outputs": [],
   "source": [
    "def _parse(example_proto):\n",
    "    return tf.io.parse_single_example(example_proto, features)"
   ]
  },
  {
   "cell_type": "code",
   "execution_count": 596,
   "metadata": {},
   "outputs": [],
   "source": [
    "def decode(example_proto):\n",
    "    dic = _parse(example_proto)\n",
    "    time = dic['time']\n",
    "    data = dic['data']\n",
    "#     return tf.io.parse_tensor(data, np.float32)\n",
    "    return time"
   ]
  },
  {
   "cell_type": "code",
   "execution_count": 214,
   "metadata": {},
   "outputs": [
    {
     "data": {
      "text/plain": [
       "12"
      ]
     },
     "execution_count": 214,
     "metadata": {},
     "output_type": "execute_result"
    }
   ],
   "source": [
    "len(fns)"
   ]
  },
  {
   "cell_type": "code",
   "execution_count": 485,
   "metadata": {},
   "outputs": [],
   "source": [
    "nt_in = 3\n",
    "dt_in = 2"
   ]
  },
  {
   "cell_type": "code",
   "execution_count": 486,
   "metadata": {},
   "outputs": [],
   "source": [
    "lead_time=72"
   ]
  },
  {
   "cell_type": "code",
   "execution_count": 487,
   "metadata": {},
   "outputs": [
    {
     "data": {
      "text/plain": [
       "['/data/stephan/WeatherBench/tfrecords/ERA/2015-01.tfrecord',\n",
       " '/data/stephan/WeatherBench/tfrecords/ERA/2015-02.tfrecord',\n",
       " '/data/stephan/WeatherBench/tfrecords/ERA/2015-03.tfrecord',\n",
       " '/data/stephan/WeatherBench/tfrecords/ERA/2015-04.tfrecord',\n",
       " '/data/stephan/WeatherBench/tfrecords/ERA/2015-05.tfrecord',\n",
       " '/data/stephan/WeatherBench/tfrecords/ERA/2015-06.tfrecord',\n",
       " '/data/stephan/WeatherBench/tfrecords/ERA/2015-07.tfrecord',\n",
       " '/data/stephan/WeatherBench/tfrecords/ERA/2015-08.tfrecord',\n",
       " '/data/stephan/WeatherBench/tfrecords/ERA/2015-09.tfrecord',\n",
       " '/data/stephan/WeatherBench/tfrecords/ERA/2015-10.tfrecord',\n",
       " '/data/stephan/WeatherBench/tfrecords/ERA/2015-11.tfrecord',\n",
       " '/data/stephan/WeatherBench/tfrecords/ERA/2015-12.tfrecord']"
      ]
     },
     "execution_count": 487,
     "metadata": {},
     "output_type": "execute_result"
    }
   ],
   "source": [
    "fns "
   ]
  },
  {
   "cell_type": "code",
   "execution_count": 488,
   "metadata": {},
   "outputs": [],
   "source": [
    "files_per_dataset = 5"
   ]
  },
  {
   "cell_type": "code",
   "execution_count": 489,
   "metadata": {},
   "outputs": [],
   "source": [
    "fnss = [fns[i*files_per_dataset:i*files_per_dataset+files_per_dataset] for i in range(len(fns)//files_per_dataset)]"
   ]
  },
  {
   "cell_type": "code",
   "execution_count": 490,
   "metadata": {},
   "outputs": [
    {
     "data": {
      "text/plain": [
       "[['/data/stephan/WeatherBench/tfrecords/ERA/2015-01.tfrecord',\n",
       "  '/data/stephan/WeatherBench/tfrecords/ERA/2015-02.tfrecord',\n",
       "  '/data/stephan/WeatherBench/tfrecords/ERA/2015-03.tfrecord',\n",
       "  '/data/stephan/WeatherBench/tfrecords/ERA/2015-04.tfrecord',\n",
       "  '/data/stephan/WeatherBench/tfrecords/ERA/2015-05.tfrecord'],\n",
       " ['/data/stephan/WeatherBench/tfrecords/ERA/2015-06.tfrecord',\n",
       "  '/data/stephan/WeatherBench/tfrecords/ERA/2015-07.tfrecord',\n",
       "  '/data/stephan/WeatherBench/tfrecords/ERA/2015-08.tfrecord',\n",
       "  '/data/stephan/WeatherBench/tfrecords/ERA/2015-09.tfrecord',\n",
       "  '/data/stephan/WeatherBench/tfrecords/ERA/2015-10.tfrecord']]"
      ]
     },
     "execution_count": 490,
     "metadata": {},
     "output_type": "execute_result"
    }
   ],
   "source": [
    "fnss"
   ]
  },
  {
   "cell_type": "code",
   "execution_count": 597,
   "metadata": {},
   "outputs": [],
   "source": [
    "nt_in = 3\n",
    "dt_in = 2\n",
    "nt_offset = (nt_in - 1) * dt_in"
   ]
  },
  {
   "cell_type": "code",
   "execution_count": 598,
   "metadata": {},
   "outputs": [],
   "source": [
    "lead_time=72\n",
    "cont_time=True"
   ]
  },
  {
   "cell_type": "code",
   "execution_count": 608,
   "metadata": {},
   "outputs": [],
   "source": [
    "def fnc(fn):\n",
    "    window_size = lead_time + nt_offset + 1\n",
    "    d = tf.data.TFRecordDataset(fn)\n",
    "    d = d.map(decode).window(window_size, shift=1, drop_remainder=True).flat_map(\n",
    "        lambda window: window.batch(window_size))\n",
    "    if cont_time:\n",
    "        y_slice = slice(nt_offset+1, None)\n",
    "    else:\n",
    "        y_slice = -1\n",
    "    if nt_in > 1:\n",
    "        d = d.map(lambda window: ([window[n*dt_in] for n in range(nt_in)], window[y_slice]))\n",
    "    else:\n",
    "        d = d.map(lambda window: (window[0], window[y_slice]))\n",
    "    return d"
   ]
  },
  {
   "cell_type": "code",
   "execution_count": 609,
   "metadata": {},
   "outputs": [],
   "source": [
    "dataset = tf.data.Dataset.from_tensor_slices(fnss)"
   ]
  },
  {
   "cell_type": "code",
   "execution_count": 610,
   "metadata": {},
   "outputs": [],
   "source": [
    "dataset = dataset.interleave(fnc, cycle_length=4, block_length=1, num_parallel_calls=1)"
   ]
  },
  {
   "cell_type": "code",
   "execution_count": 611,
   "metadata": {},
   "outputs": [],
   "source": [
    "dataset = dataset.repeat().batch(2)\n",
    "# dataset = dataset.shuffle(1000).repeat().batch(10)"
   ]
  },
  {
   "cell_type": "code",
   "execution_count": 612,
   "metadata": {
    "collapsed": true,
    "jupyter": {
     "outputs_hidden": true
    }
   },
   "outputs": [
    {
     "name": "stdout",
     "output_type": "stream",
     "text": [
      "(<tf.Tensor: shape=(2, 3), dtype=string, numpy=\n",
      "array([[b'2015-01-01T00:00:00.000000000',\n",
      "        b'2015-01-01T02:00:00.000000000',\n",
      "        b'2015-01-01T04:00:00.000000000'],\n",
      "       [b'2015-06-01T00:00:00.000000000',\n",
      "        b'2015-06-01T02:00:00.000000000',\n",
      "        b'2015-06-01T04:00:00.000000000']], dtype=object)>, <tf.Tensor: shape=(2, 72), dtype=string, numpy=\n",
      "array([[b'2015-01-01T05:00:00.000000000',\n",
      "        b'2015-01-01T06:00:00.000000000',\n",
      "        b'2015-01-01T07:00:00.000000000',\n",
      "        b'2015-01-01T08:00:00.000000000',\n",
      "        b'2015-01-01T09:00:00.000000000',\n",
      "        b'2015-01-01T10:00:00.000000000',\n",
      "        b'2015-01-01T11:00:00.000000000',\n",
      "        b'2015-01-01T12:00:00.000000000',\n",
      "        b'2015-01-01T13:00:00.000000000',\n",
      "        b'2015-01-01T14:00:00.000000000',\n",
      "        b'2015-01-01T15:00:00.000000000',\n",
      "        b'2015-01-01T16:00:00.000000000',\n",
      "        b'2015-01-01T17:00:00.000000000',\n",
      "        b'2015-01-01T18:00:00.000000000',\n",
      "        b'2015-01-01T19:00:00.000000000',\n",
      "        b'2015-01-01T20:00:00.000000000',\n",
      "        b'2015-01-01T21:00:00.000000000',\n",
      "        b'2015-01-01T22:00:00.000000000',\n",
      "        b'2015-01-01T23:00:00.000000000',\n",
      "        b'2015-01-02T00:00:00.000000000',\n",
      "        b'2015-01-02T01:00:00.000000000',\n",
      "        b'2015-01-02T02:00:00.000000000',\n",
      "        b'2015-01-02T03:00:00.000000000',\n",
      "        b'2015-01-02T04:00:00.000000000',\n",
      "        b'2015-01-02T05:00:00.000000000',\n",
      "        b'2015-01-02T06:00:00.000000000',\n",
      "        b'2015-01-02T07:00:00.000000000',\n",
      "        b'2015-01-02T08:00:00.000000000',\n",
      "        b'2015-01-02T09:00:00.000000000',\n",
      "        b'2015-01-02T10:00:00.000000000',\n",
      "        b'2015-01-02T11:00:00.000000000',\n",
      "        b'2015-01-02T12:00:00.000000000',\n",
      "        b'2015-01-02T13:00:00.000000000',\n",
      "        b'2015-01-02T14:00:00.000000000',\n",
      "        b'2015-01-02T15:00:00.000000000',\n",
      "        b'2015-01-02T16:00:00.000000000',\n",
      "        b'2015-01-02T17:00:00.000000000',\n",
      "        b'2015-01-02T18:00:00.000000000',\n",
      "        b'2015-01-02T19:00:00.000000000',\n",
      "        b'2015-01-02T20:00:00.000000000',\n",
      "        b'2015-01-02T21:00:00.000000000',\n",
      "        b'2015-01-02T22:00:00.000000000',\n",
      "        b'2015-01-02T23:00:00.000000000',\n",
      "        b'2015-01-03T00:00:00.000000000',\n",
      "        b'2015-01-03T01:00:00.000000000',\n",
      "        b'2015-01-03T02:00:00.000000000',\n",
      "        b'2015-01-03T03:00:00.000000000',\n",
      "        b'2015-01-03T04:00:00.000000000',\n",
      "        b'2015-01-03T05:00:00.000000000',\n",
      "        b'2015-01-03T06:00:00.000000000',\n",
      "        b'2015-01-03T07:00:00.000000000',\n",
      "        b'2015-01-03T08:00:00.000000000',\n",
      "        b'2015-01-03T09:00:00.000000000',\n",
      "        b'2015-01-03T10:00:00.000000000',\n",
      "        b'2015-01-03T11:00:00.000000000',\n",
      "        b'2015-01-03T12:00:00.000000000',\n",
      "        b'2015-01-03T13:00:00.000000000',\n",
      "        b'2015-01-03T14:00:00.000000000',\n",
      "        b'2015-01-03T15:00:00.000000000',\n",
      "        b'2015-01-03T16:00:00.000000000',\n",
      "        b'2015-01-03T17:00:00.000000000',\n",
      "        b'2015-01-03T18:00:00.000000000',\n",
      "        b'2015-01-03T19:00:00.000000000',\n",
      "        b'2015-01-03T20:00:00.000000000',\n",
      "        b'2015-01-03T21:00:00.000000000',\n",
      "        b'2015-01-03T22:00:00.000000000',\n",
      "        b'2015-01-03T23:00:00.000000000',\n",
      "        b'2015-01-04T00:00:00.000000000',\n",
      "        b'2015-01-04T01:00:00.000000000',\n",
      "        b'2015-01-04T02:00:00.000000000',\n",
      "        b'2015-01-04T03:00:00.000000000',\n",
      "        b'2015-01-04T04:00:00.000000000'],\n",
      "       [b'2015-06-01T05:00:00.000000000',\n",
      "        b'2015-06-01T06:00:00.000000000',\n",
      "        b'2015-06-01T07:00:00.000000000',\n",
      "        b'2015-06-01T08:00:00.000000000',\n",
      "        b'2015-06-01T09:00:00.000000000',\n",
      "        b'2015-06-01T10:00:00.000000000',\n",
      "        b'2015-06-01T11:00:00.000000000',\n",
      "        b'2015-06-01T12:00:00.000000000',\n",
      "        b'2015-06-01T13:00:00.000000000',\n",
      "        b'2015-06-01T14:00:00.000000000',\n",
      "        b'2015-06-01T15:00:00.000000000',\n",
      "        b'2015-06-01T16:00:00.000000000',\n",
      "        b'2015-06-01T17:00:00.000000000',\n",
      "        b'2015-06-01T18:00:00.000000000',\n",
      "        b'2015-06-01T19:00:00.000000000',\n",
      "        b'2015-06-01T20:00:00.000000000',\n",
      "        b'2015-06-01T21:00:00.000000000',\n",
      "        b'2015-06-01T22:00:00.000000000',\n",
      "        b'2015-06-01T23:00:00.000000000',\n",
      "        b'2015-06-02T00:00:00.000000000',\n",
      "        b'2015-06-02T01:00:00.000000000',\n",
      "        b'2015-06-02T02:00:00.000000000',\n",
      "        b'2015-06-02T03:00:00.000000000',\n",
      "        b'2015-06-02T04:00:00.000000000',\n",
      "        b'2015-06-02T05:00:00.000000000',\n",
      "        b'2015-06-02T06:00:00.000000000',\n",
      "        b'2015-06-02T07:00:00.000000000',\n",
      "        b'2015-06-02T08:00:00.000000000',\n",
      "        b'2015-06-02T09:00:00.000000000',\n",
      "        b'2015-06-02T10:00:00.000000000',\n",
      "        b'2015-06-02T11:00:00.000000000',\n",
      "        b'2015-06-02T12:00:00.000000000',\n",
      "        b'2015-06-02T13:00:00.000000000',\n",
      "        b'2015-06-02T14:00:00.000000000',\n",
      "        b'2015-06-02T15:00:00.000000000',\n",
      "        b'2015-06-02T16:00:00.000000000',\n",
      "        b'2015-06-02T17:00:00.000000000',\n",
      "        b'2015-06-02T18:00:00.000000000',\n",
      "        b'2015-06-02T19:00:00.000000000',\n",
      "        b'2015-06-02T20:00:00.000000000',\n",
      "        b'2015-06-02T21:00:00.000000000',\n",
      "        b'2015-06-02T22:00:00.000000000',\n",
      "        b'2015-06-02T23:00:00.000000000',\n",
      "        b'2015-06-03T00:00:00.000000000',\n",
      "        b'2015-06-03T01:00:00.000000000',\n",
      "        b'2015-06-03T02:00:00.000000000',\n",
      "        b'2015-06-03T03:00:00.000000000',\n",
      "        b'2015-06-03T04:00:00.000000000',\n",
      "        b'2015-06-03T05:00:00.000000000',\n",
      "        b'2015-06-03T06:00:00.000000000',\n",
      "        b'2015-06-03T07:00:00.000000000',\n",
      "        b'2015-06-03T08:00:00.000000000',\n",
      "        b'2015-06-03T09:00:00.000000000',\n",
      "        b'2015-06-03T10:00:00.000000000',\n",
      "        b'2015-06-03T11:00:00.000000000',\n",
      "        b'2015-06-03T12:00:00.000000000',\n",
      "        b'2015-06-03T13:00:00.000000000',\n",
      "        b'2015-06-03T14:00:00.000000000',\n",
      "        b'2015-06-03T15:00:00.000000000',\n",
      "        b'2015-06-03T16:00:00.000000000',\n",
      "        b'2015-06-03T17:00:00.000000000',\n",
      "        b'2015-06-03T18:00:00.000000000',\n",
      "        b'2015-06-03T19:00:00.000000000',\n",
      "        b'2015-06-03T20:00:00.000000000',\n",
      "        b'2015-06-03T21:00:00.000000000',\n",
      "        b'2015-06-03T22:00:00.000000000',\n",
      "        b'2015-06-03T23:00:00.000000000',\n",
      "        b'2015-06-04T00:00:00.000000000',\n",
      "        b'2015-06-04T01:00:00.000000000',\n",
      "        b'2015-06-04T02:00:00.000000000',\n",
      "        b'2015-06-04T03:00:00.000000000',\n",
      "        b'2015-06-04T04:00:00.000000000']], dtype=object)>)\n",
      "\n",
      "\n"
     ]
    }
   ],
   "source": [
    "for e in dataset.take(1):\n",
    "    print(e)\n",
    "    print('\\n')"
   ]
  },
  {
   "cell_type": "code",
   "execution_count": 613,
   "metadata": {},
   "outputs": [],
   "source": [
    "dataset = dataset.as_numpy_iterator()"
   ]
  },
  {
   "cell_type": "code",
   "execution_count": 614,
   "metadata": {},
   "outputs": [],
   "source": [
    "X, y = next(dataset)"
   ]
  },
  {
   "cell_type": "code",
   "execution_count": 627,
   "metadata": {},
   "outputs": [],
   "source": [
    "nt = np.random.randint(1, lead_time + 1, 2)"
   ]
  },
  {
   "cell_type": "code",
   "execution_count": 628,
   "metadata": {},
   "outputs": [
    {
     "data": {
      "text/plain": [
       "(2, 72)"
      ]
     },
     "execution_count": 628,
     "metadata": {},
     "output_type": "execute_result"
    }
   ],
   "source": [
    "y.shape"
   ]
  },
  {
   "cell_type": "code",
   "execution_count": 629,
   "metadata": {},
   "outputs": [
    {
     "data": {
      "text/plain": [
       "array([23, 24])"
      ]
     },
     "execution_count": 629,
     "metadata": {},
     "output_type": "execute_result"
    }
   ],
   "source": [
    "nt"
   ]
  },
  {
   "cell_type": "code",
   "execution_count": 630,
   "metadata": {},
   "outputs": [
    {
     "data": {
      "text/plain": [
       "array([b'2015-01-02T04:00:00.000000000', b'2015-06-02T05:00:00.000000000'],\n",
       "      dtype=object)"
      ]
     },
     "execution_count": 630,
     "metadata": {},
     "output_type": "execute_result"
    }
   ],
   "source": [
    "y[np.arange(len(y)), nt]"
   ]
  },
  {
   "cell_type": "code",
   "execution_count": 623,
   "metadata": {},
   "outputs": [
    {
     "ename": "IndexError",
     "evalue": "index 65 is out of bounds for axis 0 with size 2",
     "output_type": "error",
     "traceback": [
      "\u001b[0;31m---------------------------------------------------------------------------\u001b[0m",
      "\u001b[0;31mIndexError\u001b[0m                                Traceback (most recent call last)",
      "\u001b[0;32m<ipython-input-623-12265ec6c50d>\u001b[0m in \u001b[0;36m<module>\u001b[0;34m\u001b[0m\n\u001b[0;32m----> 1\u001b[0;31m \u001b[0my\u001b[0m\u001b[0;34m[\u001b[0m\u001b[0mnt\u001b[0m\u001b[0;34m]\u001b[0m\u001b[0;34m\u001b[0m\u001b[0;34m\u001b[0m\u001b[0m\n\u001b[0m",
      "\u001b[0;31mIndexError\u001b[0m: index 65 is out of bounds for axis 0 with size 2"
     ]
    }
   ],
   "source": [
    "y[]"
   ]
  },
  {
   "cell_type": "code",
   "execution_count": 620,
   "metadata": {},
   "outputs": [
    {
     "data": {
      "text/plain": [
       "array([[b'2015-01-01T00:00:00.000000000',\n",
       "        b'2015-01-01T02:00:00.000000000',\n",
       "        b'2015-01-01T04:00:00.000000000'],\n",
       "       [b'2015-06-01T00:00:00.000000000',\n",
       "        b'2015-06-01T02:00:00.000000000',\n",
       "        b'2015-06-01T04:00:00.000000000']], dtype=object)"
      ]
     },
     "execution_count": 620,
     "metadata": {},
     "output_type": "execute_result"
    }
   ],
   "source": [
    "X"
   ]
  },
  {
   "cell_type": "code",
   "execution_count": 619,
   "metadata": {},
   "outputs": [
    {
     "data": {
      "text/plain": [
       "array([[b'2015-01-03T22:00:00.000000000',\n",
       "        b'2015-01-02T14:00:00.000000000'],\n",
       "       [b'2015-06-03T22:00:00.000000000',\n",
       "        b'2015-06-02T14:00:00.000000000']], dtype=object)"
      ]
     },
     "execution_count": 619,
     "metadata": {},
     "output_type": "execute_result"
    }
   ],
   "source": [
    "y[:, nt]"
   ]
  },
  {
   "cell_type": "code",
   "execution_count": null,
   "metadata": {},
   "outputs": [],
   "source": []
  },
  {
   "cell_type": "code",
   "execution_count": 563,
   "metadata": {},
   "outputs": [],
   "source": [
    "ds_train = ds.sel(time=slice('2015', '2015'))"
   ]
  },
  {
   "cell_type": "code",
   "execution_count": 569,
   "metadata": {},
   "outputs": [],
   "source": [
    "dg_train = DataGenerator(\n",
    "    ds_train, args['var_dict'], args['lead_time'], batch_size=args['batch_size'], output_vars=args['output_vars'],\n",
    "    data_subsample=1, norm_subsample=10, nt_in=3, dt_in=2, load=True, normalize=False, shuffle=False,\n",
    "    mean=xr.open_dataarray(f'{savedir}mean.nc'), std=xr.open_dataarray(f'{savedir}std.nc')\n",
    ")"
   ]
  },
  {
   "cell_type": "code",
   "execution_count": 570,
   "metadata": {},
   "outputs": [],
   "source": [
    "Xref, yref = dg_train[0]"
   ]
  },
  {
   "cell_type": "code",
   "execution_count": 571,
   "metadata": {},
   "outputs": [
    {
     "data": {
      "text/plain": [
       "((32, 32, 64, 114), (32, 32, 64, 2))"
      ]
     },
     "execution_count": 571,
     "metadata": {},
     "output_type": "execute_result"
    }
   ],
   "source": [
    "Xref.shape, yref.shape"
   ]
  },
  {
   "cell_type": "code",
   "execution_count": 586,
   "metadata": {},
   "outputs": [
    {
     "data": {
      "text/plain": [
       "array([[201331.  , 201344.16, 201337.6 ],\n",
       "       [201314.56, 201314.56, 201331.  ],\n",
       "       [201344.16, 201337.6 , 201373.75],\n",
       "       [201314.56, 201331.  , 201383.61],\n",
       "       [201337.6 , 201373.75, 201423.06]], dtype=float32)"
      ]
     },
     "execution_count": 586,
     "metadata": {},
     "output_type": "execute_result"
    }
   ],
   "source": [
    "Xref[:5, 0, 0, np.array([0, 38, 38*2])]"
   ]
  },
  {
   "cell_type": "code",
   "execution_count": 573,
   "metadata": {},
   "outputs": [
    {
     "data": {
      "text/plain": [
       "array([50566.88 , 50570.164, 50583.316, 50599.754, 50593.176],\n",
       "      dtype=float32)"
      ]
     },
     "execution_count": 573,
     "metadata": {},
     "output_type": "execute_result"
    }
   ],
   "source": [
    "yref[:5, 0, 0, 0]"
   ]
  },
  {
   "cell_type": "markdown",
   "metadata": {},
   "source": [
    "### Ok here comes the hard part\n",
    "\n",
    "Reading in the data in exactly the same way"
   ]
  },
  {
   "cell_type": "code",
   "execution_count": 574,
   "metadata": {},
   "outputs": [],
   "source": [
    "tfrecord_files = '/data/stephan/WeatherBench/tfrecords/ERA/2015*'"
   ]
  },
  {
   "cell_type": "code",
   "execution_count": 671,
   "metadata": {},
   "outputs": [],
   "source": [
    "dg_tfr = DataGenerator(\n",
    "    ds_train, args['var_dict'], args['lead_time'], batch_size=args['batch_size'], output_vars=args['output_vars'],\n",
    "    data_subsample=1, norm_subsample=10, nt_in=3, dt_in=2, load=False, normalize=False, shuffle=False,\n",
    "    mean=xr.open_dataarray(f'{savedir}mean.nc'), std=xr.open_dataarray(f'{savedir}std.nc'),\n",
    "    tfrecord_files=tfrecord_files, tfr_return_time=False, tfr_cycle_length=6, tfr_num_parallel_calls=6,\n",
    "    tfr_buffer_size=100, tfr_fpds=2, cont_time=True\n",
    ")"
   ]
  },
  {
   "cell_type": "code",
   "execution_count": 672,
   "metadata": {},
   "outputs": [
    {
     "data": {
      "text/plain": [
       "Timer unit: 1e-06 s\n",
       "\n",
       "Total time: 6.94695 s\n",
       "File: /home/rasp/repositories/myWeatherBench/devlog/src/data_generator.py\n",
       "Function: _get_tfrecord_item at line 292\n",
       "\n",
       "Line #      Hits         Time  Per Hit   % Time  Line Contents\n",
       "==============================================================\n",
       "   292                                               def _get_tfrecord_item(self, i):\n",
       "   293         1    6853931.0 6853931.0     98.7          X, y = next(self.tfr_dataset)\n",
       "   294                                           \n",
       "   295         1          5.0      5.0      0.0          if self.cont_time:\n",
       "   296                                                       # y will have lead_time as second dimension\n",
       "   297         1          2.0      2.0      0.0              if not self.fixed_time:\n",
       "   298         1          1.0      1.0      0.0                  if self.min_lead_time is None:\n",
       "   299         1          1.0      1.0      0.0                      min_nt = 0\n",
       "   300                                                           else:\n",
       "   301                                                               min_nt = int(self.min_lead_time / self.dt)\n",
       "   302         1       4939.0   4939.0      0.1                  nt = np.random.randint(min_nt, self.nt + 0, self.batch_size)\n",
       "   303                                                       else:\n",
       "   304                                                           nt = np.ones(self.batch_size, dtype='int') * self.nt\n",
       "   305         1        783.0    783.0      0.0              ftime = (nt * self.dt / 100)[:, None, None] * np.ones((1, len(self.data.lat),\n",
       "   306         1        890.0    890.0      0.0                                                                     len(self.data.lon)))\n",
       "   307         1      16131.0  16131.0      0.2              y = y[np.arange(len(y)), nt]\n",
       "   308                                           \n",
       "   309         1          4.0      4.0      0.0          if self.normalize:\n",
       "   310                                                       X = (X - self.mean.values) / self.std.values\n",
       "   311                                                       y = (y - self.mean.values) / self.std.values\n",
       "   312                                           \n",
       "   313         1          2.0      2.0      0.0          if self.nt_in > 1:\n",
       "   314                                                       # Roll nt_in axis to the second to last position\n",
       "   315         1         38.0     38.0      0.0              X = np.rollaxis(X, 1, -1)\n",
       "   316                                                       # Then combine the two last axes\n",
       "   317         1          5.0      5.0      0.0              shape = (*X.shape[:-2], -1)\n",
       "   318         1      17463.0  17463.0      0.3              X = X.reshape(shape)\n",
       "   319         1       1262.0   1262.0      0.0          y = y[..., self.output_idxs]\n",
       "   320                                           \n",
       "   321         1          5.0      5.0      0.0          if self.cont_time:\n",
       "   322         1      51482.0  51482.0      0.7              X = np.concatenate([X, ftime[..., None]], -1).astype('float32')\n",
       "   323         1          3.0      3.0      0.0          return X, y"
      ]
     },
     "metadata": {},
     "output_type": "display_data"
    }
   ],
   "source": [
    "%lprun -f dg_tfr._get_tfrecord_item dg_tfr[0]"
   ]
  },
  {
   "cell_type": "code",
   "execution_count": null,
   "metadata": {},
   "outputs": [],
   "source": [
    "%%time\n",
    "Xtf, ytf = next(iter(dg_tfr))"
   ]
  },
  {
   "cell_type": "code",
   "execution_count": 583,
   "metadata": {},
   "outputs": [
    {
     "data": {
      "text/plain": [
       "((32, 32, 64, 114), (32, 32, 64, 2))"
      ]
     },
     "execution_count": 583,
     "metadata": {},
     "output_type": "execute_result"
    }
   ],
   "source": [
    "Xtf.shape, ytf.shape"
   ]
  },
  {
   "cell_type": "code",
   "execution_count": 588,
   "metadata": {},
   "outputs": [
    {
     "data": {
      "text/plain": [
       "array([[201331.  , 201344.16, 201337.6 ],\n",
       "       [201314.56, 201314.56, 201331.  ],\n",
       "       [201344.16, 201337.6 , 201373.75],\n",
       "       [201314.56, 201331.  , 201383.61],\n",
       "       [201337.6 , 201373.75, 201423.06]], dtype=float32)"
      ]
     },
     "execution_count": 588,
     "metadata": {},
     "output_type": "execute_result"
    }
   ],
   "source": [
    "Xtf[:5, 0, 0, np.array([0, 38, 38*2])]"
   ]
  },
  {
   "cell_type": "code",
   "execution_count": 585,
   "metadata": {},
   "outputs": [
    {
     "data": {
      "text/plain": [
       "array([50566.88 , 50570.164, 50583.316, 50599.754, 50593.176],\n",
       "      dtype=float32)"
      ]
     },
     "execution_count": 585,
     "metadata": {},
     "output_type": "execute_result"
    }
   ],
   "source": [
    "ytf[:5, 0, 0, 0]"
   ]
  },
  {
   "cell_type": "code",
   "execution_count": 580,
   "metadata": {},
   "outputs": [
    {
     "name": "stdout",
     "output_type": "stream",
     "text": [
      "334 ms ± 15.3 ms per loop (mean ± std. dev. of 7 runs, 1 loop each)\n"
     ]
    }
   ],
   "source": [
    "%%timeit \n",
    "next(iter(dg_tfr))"
   ]
  },
  {
   "cell_type": "markdown",
   "metadata": {},
   "source": [
    "Now try training a model"
   ]
  },
  {
   "cell_type": "code",
   "execution_count": 37,
   "metadata": {},
   "outputs": [],
   "source": [
    "model_ref = build_resnet(\n",
    "    [64, 64, 2], [7, 3, 3], input_shape=dg_tfr.shape,\n",
    "    bn_position=args['bn_position'], use_bias=args['use_bias'], l2=args['l2'], skip=args['skip'],\n",
    "    dropout=args['dropout'], activation=args['activation']\n",
    ")"
   ]
  },
  {
   "cell_type": "code",
   "execution_count": 38,
   "metadata": {},
   "outputs": [],
   "source": [
    "model_ref.compile('adam', 'mse')"
   ]
  },
  {
   "cell_type": "code",
   "execution_count": 39,
   "metadata": {},
   "outputs": [
    {
     "name": "stdout",
     "output_type": "stream",
     "text": [
      "WARNING:tensorflow:sample_weight modes were coerced from\n",
      "  ...\n",
      "    to  \n",
      "  ['...']\n",
      "Train for 4656 steps\n",
      "4656/4656 [==============================] - 213s 46ms/step - loss: 0.2060\n"
     ]
    },
    {
     "data": {
      "text/plain": [
       "<tensorflow.python.keras.callbacks.History at 0x7f17da719bd0>"
      ]
     },
     "execution_count": 39,
     "metadata": {},
     "output_type": "execute_result"
    }
   ],
   "source": [
    "model_ref.fit(dg_tfr)"
   ]
  },
  {
   "cell_type": "code",
   "execution_count": 239,
   "metadata": {},
   "outputs": [],
   "source": [
    "\n",
    "dataset = tf.data.Dataset.from_tensor_slices(np.arange(20))\n",
    "dataset = dataset.shuffle(buffer_size=20)"
   ]
  },
  {
   "cell_type": "code",
   "execution_count": 240,
   "metadata": {},
   "outputs": [],
   "source": [
    "dataset = dataset.batch(10)"
   ]
  },
  {
   "cell_type": "code",
   "execution_count": 241,
   "metadata": {},
   "outputs": [],
   "source": [
    "bb = [b for b in dataset]"
   ]
  },
  {
   "cell_type": "code",
   "execution_count": 242,
   "metadata": {},
   "outputs": [
    {
     "data": {
      "text/plain": [
       "[<tf.Tensor: shape=(10,), dtype=int64, numpy=array([17, 10,  6,  9,  7,  5, 18, 11,  0,  4])>,\n",
       " <tf.Tensor: shape=(10,), dtype=int64, numpy=array([12,  3, 15, 14, 16, 13, 19,  8,  2,  1])>]"
      ]
     },
     "execution_count": 242,
     "metadata": {},
     "output_type": "execute_result"
    }
   ],
   "source": [
    "bb"
   ]
  },
  {
   "cell_type": "code",
   "execution_count": null,
   "metadata": {},
   "outputs": [],
   "source": []
  }
 ],
 "metadata": {
  "kernelspec": {
   "display_name": "Python 3",
   "language": "python",
   "name": "python3"
  },
  "language_info": {
   "codemirror_mode": {
    "name": "ipython",
    "version": 3
   },
   "file_extension": ".py",
   "mimetype": "text/x-python",
   "name": "python",
   "nbconvert_exporter": "python",
   "pygments_lexer": "ipython3",
   "version": "3.7.4"
  }
 },
 "nbformat": 4,
 "nbformat_minor": 4
}
