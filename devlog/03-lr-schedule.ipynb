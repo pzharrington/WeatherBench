{
 "cells": [
  {
   "cell_type": "markdown",
   "metadata": {
    "Collapsed": "false"
   },
   "source": [
    "# Trying our different learning rate schedules\n",
    "\n",
    "Using the default network configuration, the goal is to get to the reference valid loss as quickly as possible.\n",
    "\n",
    "1. Typical learning rate decau\n",
    "2. One cycle LR"
   ]
  },
  {
   "cell_type": "code",
   "execution_count": 1,
   "metadata": {
    "Collapsed": "false"
   },
   "outputs": [],
   "source": [
    "%load_ext autoreload\n",
    "%autoreload 2"
   ]
  },
  {
   "cell_type": "code",
   "execution_count": 2,
   "metadata": {
    "Collapsed": "false",
    "collapsed": true,
    "jupyter": {
     "outputs_hidden": true
    }
   },
   "outputs": [
    {
     "name": "stderr",
     "output_type": "stream",
     "text": [
      "/home/stephan/miniconda3/lib/python3.6/site-packages/tensorflow/python/framework/dtypes.py:523: FutureWarning: Passing (type, 1) or '1type' as a synonym of type is deprecated; in a future version of numpy, it will be understood as (type, (1,)) / '(1,)type'.\n",
      "  _np_qint8 = np.dtype([(\"qint8\", np.int8, 1)])\n",
      "/home/stephan/miniconda3/lib/python3.6/site-packages/tensorflow/python/framework/dtypes.py:524: FutureWarning: Passing (type, 1) or '1type' as a synonym of type is deprecated; in a future version of numpy, it will be understood as (type, (1,)) / '(1,)type'.\n",
      "  _np_quint8 = np.dtype([(\"quint8\", np.uint8, 1)])\n",
      "/home/stephan/miniconda3/lib/python3.6/site-packages/tensorflow/python/framework/dtypes.py:525: FutureWarning: Passing (type, 1) or '1type' as a synonym of type is deprecated; in a future version of numpy, it will be understood as (type, (1,)) / '(1,)type'.\n",
      "  _np_qint16 = np.dtype([(\"qint16\", np.int16, 1)])\n",
      "/home/stephan/miniconda3/lib/python3.6/site-packages/tensorflow/python/framework/dtypes.py:526: FutureWarning: Passing (type, 1) or '1type' as a synonym of type is deprecated; in a future version of numpy, it will be understood as (type, (1,)) / '(1,)type'.\n",
      "  _np_quint16 = np.dtype([(\"quint16\", np.uint16, 1)])\n",
      "/home/stephan/miniconda3/lib/python3.6/site-packages/tensorflow/python/framework/dtypes.py:527: FutureWarning: Passing (type, 1) or '1type' as a synonym of type is deprecated; in a future version of numpy, it will be understood as (type, (1,)) / '(1,)type'.\n",
      "  _np_qint32 = np.dtype([(\"qint32\", np.int32, 1)])\n",
      "/home/stephan/miniconda3/lib/python3.6/site-packages/tensorflow/python/framework/dtypes.py:532: FutureWarning: Passing (type, 1) or '1type' as a synonym of type is deprecated; in a future version of numpy, it will be understood as (type, (1,)) / '(1,)type'.\n",
      "  np_resource = np.dtype([(\"resource\", np.ubyte, 1)])\n"
     ]
    }
   ],
   "source": [
    "from src.score import *\n",
    "from src.train_nn import *\n",
    "import matplotlib.pyplot as plt"
   ]
  },
  {
   "cell_type": "code",
   "execution_count": 3,
   "metadata": {
    "Collapsed": "false"
   },
   "outputs": [],
   "source": [
    "os.environ[\"CUDA_VISIBLE_DEVICES\"]=str(3)\n",
    "limit_mem()"
   ]
  },
  {
   "cell_type": "code",
   "execution_count": 4,
   "metadata": {
    "Collapsed": "false"
   },
   "outputs": [],
   "source": [
    "datadir = '/data/stephan/WeatherBench/5.625deg/'\n",
    "var_dict = {'geopotential': ('z', [500]), 'temperature': ('t', [850])}\n",
    "output_vars = None\n",
    "filters = [64, 64, 64, 64, 2]\n",
    "kernels = [5, 5, 5, 5, 5]\n",
    "lead_time = 72\n",
    "batch_size = 128\n",
    "activation = 'elu'"
   ]
  },
  {
   "cell_type": "code",
   "execution_count": 5,
   "metadata": {
    "Collapsed": "false"
   },
   "outputs": [],
   "source": [
    "ds = xr.merge([xr.open_mfdataset(f'{datadir}/{var}/*.nc', combine='by_coords') for var in var_dict.keys()])"
   ]
  },
  {
   "cell_type": "code",
   "execution_count": 6,
   "metadata": {
    "Collapsed": "false"
   },
   "outputs": [],
   "source": [
    "ds_train = ds.sel(time=slice('1979', '2015'))\n",
    "ds_valid = ds.sel(time=slice('2016', '2016'))\n",
    "ds_test = ds.sel(time=slice('2017', '2018'))"
   ]
  },
  {
   "cell_type": "code",
   "execution_count": 7,
   "metadata": {
    "Collapsed": "false"
   },
   "outputs": [
    {
     "data": {
      "text/plain": [
       "3.24336"
      ]
     },
     "execution_count": 7,
     "metadata": {},
     "output_type": "execute_result"
    }
   ],
   "source": [
    "324336 /100000"
   ]
  },
  {
   "cell_type": "code",
   "execution_count": 8,
   "metadata": {
    "Collapsed": "false"
   },
   "outputs": [
    {
     "name": "stdout",
     "output_type": "stream",
     "text": [
      "DG start 08:03:44.600137\n",
      "DG normalize 08:03:44.617996\n",
      "DG load 08:03:48.418884\n",
      "Loading data into RAM\n",
      "DG done 08:05:07.073975\n",
      "DG start 08:05:07.074241\n",
      "DG normalize 08:05:07.081251\n",
      "DG load 08:05:07.089127\n",
      "Loading data into RAM\n",
      "DG done 08:05:08.335510\n",
      "DG start 08:05:08.336194\n",
      "DG normalize 08:05:08.347442\n",
      "DG load 08:05:08.357824\n",
      "Loading data into RAM\n",
      "DG done 08:05:09.841732\n",
      "Mean = <xarray.DataArray 'z' (level: 2)>\n",
      "array([53999.11   ,   273.80154], dtype=float32)\n",
      "Coordinates:\n",
      "  * level        (level) int64 500 850\n",
      "    level_names  (level) <U5 'z_500' 't_850'; Std = <xarray.DataArray 'z' (level: 2)>\n",
      "array([3353.02    ,   15.909879], dtype=float32)\n",
      "Coordinates:\n",
      "  * level        (level) int64 500 850\n",
      "    level_names  (level) <U5 'z_500' 't_850'\n"
     ]
    }
   ],
   "source": [
    "dg_train = DataGenerator(ds_train, var_dict, lead_time, batch_size=batch_size, \n",
    "                         output_vars=output_vars, norm_subsample=100000)\n",
    "dg_valid = DataGenerator(ds_valid, var_dict, lead_time, batch_size=batch_size, mean=dg_train.mean,\n",
    "                         std=dg_train.std, shuffle=False, output_vars=output_vars)\n",
    "dg_test =  DataGenerator(ds_test, var_dict, lead_time, batch_size=batch_size, mean=dg_train.mean,\n",
    "                         std=dg_train.std, shuffle=False, output_vars=output_vars)\n",
    "print(f'Mean = {dg_train.mean}; Std = {dg_train.std}')"
   ]
  },
  {
   "cell_type": "code",
   "execution_count": 9,
   "metadata": {
    "Collapsed": "false"
   },
   "outputs": [
    {
     "data": {
      "text/plain": [
       "(<xarray.DataArray 'z' (level: 2)>\n",
       " array([53999.11   ,   273.80154], dtype=float32)\n",
       " Coordinates:\n",
       "   * level        (level) int64 500 850\n",
       "     level_names  (level) <U5 'z_500' 't_850',\n",
       " <xarray.DataArray 'z' (level: 2)>\n",
       " array([3353.02    ,   15.909879], dtype=float32)\n",
       " Coordinates:\n",
       "   * level        (level) int64 500 850\n",
       "     level_names  (level) <U5 'z_500' 't_850')"
      ]
     },
     "execution_count": 9,
     "metadata": {},
     "output_type": "execute_result"
    }
   ],
   "source": [
    "dg_train.mean, dg_train.std"
   ]
  },
  {
   "cell_type": "markdown",
   "metadata": {
    "Collapsed": "false"
   },
   "source": [
    "## Learning rate decay"
   ]
  },
  {
   "cell_type": "code",
   "execution_count": 10,
   "metadata": {
    "Collapsed": "false"
   },
   "outputs": [],
   "source": [
    "class LRUpdate(object):\n",
    "    def __init__(self, init_lr, step, divide):\n",
    "        # From goo.gl/GXQaK6\n",
    "        self.init_lr = init_lr\n",
    "        self.step = step\n",
    "        self.drop = 1. / divide\n",
    "\n",
    "    def __call__(self, epoch):\n",
    "        lr = self.init_lr * np.power(self.drop, np.floor((epoch) / self.step))\n",
    "        print(f'Learning rate = {lr}')\n",
    "        return lr"
   ]
  },
  {
   "cell_type": "code",
   "execution_count": 31,
   "metadata": {
    "Collapsed": "false"
   },
   "outputs": [],
   "source": [
    "lrs = LRUpdate(2.5e-4, 4, 3)"
   ]
  },
  {
   "cell_type": "code",
   "execution_count": 36,
   "metadata": {
    "Collapsed": "false"
   },
   "outputs": [
    {
     "name": "stdout",
     "output_type": "stream",
     "text": [
      "Learning rate = [2.50000000e-04 2.50000000e-04 2.50000000e-04 2.50000000e-04\n",
      " 8.33333333e-05 8.33333333e-05 8.33333333e-05 8.33333333e-05\n",
      " 2.77777778e-05 2.77777778e-05]\n"
     ]
    },
    {
     "data": {
      "image/png": "[encoded data removed]",
      "text/plain": [
       "<Figure size 432x288 with 1 Axes>"
      ]
     },
     "metadata": {
      "needs_background": "light"
     },
     "output_type": "display_data"
    }
   ],
   "source": [
    "plt.plot(lrs(np.arange(10)))\n",
    "plt.yscale('log')"
   ]
  },
  {
   "cell_type": "code",
   "execution_count": 37,
   "metadata": {
    "Collapsed": "false"
   },
   "outputs": [],
   "source": [
    "model = build_cnn(filters, kernels, input_shape=(32, 64, len(dg_train.data.level)), activation=activation)\n",
    "model.compile(keras.optimizers.Adam(), 'mse')"
   ]
  },
  {
   "cell_type": "code",
   "execution_count": 38,
   "metadata": {
    "Collapsed": "false"
   },
   "outputs": [
    {
     "name": "stdout",
     "output_type": "stream",
     "text": [
      "_________________________________________________________________\n",
      "Layer (type)                 Output Shape              Param #   \n",
      "=================================================================\n",
      "input_6 (InputLayer)         (None, 32, 64, 2)         0         \n",
      "_________________________________________________________________\n",
      "lambda_25 (Lambda)           (None, 36, 68, 2)         0         \n",
      "_________________________________________________________________\n",
      "periodic_conv2d_25 (Periodic (None, 32, 64, 64)        3264      \n",
      "_________________________________________________________________\n",
      "lambda_26 (Lambda)           (None, 36, 68, 64)        0         \n",
      "_________________________________________________________________\n",
      "periodic_conv2d_26 (Periodic (None, 32, 64, 64)        102464    \n",
      "_________________________________________________________________\n",
      "lambda_27 (Lambda)           (None, 36, 68, 64)        0         \n",
      "_________________________________________________________________\n",
      "periodic_conv2d_27 (Periodic (None, 32, 64, 64)        102464    \n",
      "_________________________________________________________________\n",
      "lambda_28 (Lambda)           (None, 36, 68, 64)        0         \n",
      "_________________________________________________________________\n",
      "periodic_conv2d_28 (Periodic (None, 32, 64, 64)        102464    \n",
      "_________________________________________________________________\n",
      "lambda_29 (Lambda)           (None, 36, 68, 64)        0         \n",
      "_________________________________________________________________\n",
      "periodic_conv2d_29 (Periodic (None, 32, 64, 2)         3202      \n",
      "=================================================================\n",
      "Total params: 313,858\n",
      "Trainable params: 313,858\n",
      "Non-trainable params: 0\n",
      "_________________________________________________________________\n"
     ]
    }
   ],
   "source": [
    "model.summary()"
   ]
  },
  {
   "cell_type": "code",
   "execution_count": null,
   "metadata": {
    "Collapsed": "false"
   },
   "outputs": [
    {
     "name": "stdout",
     "output_type": "stream",
     "text": [
      "Learning rate = 0.00025\n",
      "Epoch 1/40\n",
      "2534/2534 [==============================] - 179s 70ms/step - loss: 7.8587 - val_loss: 7.2469\n",
      "Learning rate = 0.00025\n",
      "Epoch 2/40\n",
      "2534/2534 [==============================] - 178s 70ms/step - loss: 7.0348 - val_loss: 6.8925\n",
      "Learning rate = 0.00025\n",
      "Epoch 3/40\n",
      "2534/2534 [==============================] - 178s 70ms/step - loss: 6.7613 - val_loss: 6.7130\n",
      "Learning rate = 0.00025\n",
      "Epoch 4/40\n",
      "2534/2534 [==============================] - 178s 70ms/step - loss: 6.5858 - val_loss: 6.7136\n",
      "Learning rate = 8.333333333333333e-05\n",
      "Epoch 5/40\n",
      "2534/2534 [==============================] - 178s 70ms/step - loss: 6.4053 - val_loss: 6.5001\n",
      "Learning rate = 8.333333333333333e-05\n",
      "Epoch 6/40\n",
      "2534/2534 [==============================] - 178s 70ms/step - loss: 6.3488 - val_loss: 6.4579\n",
      "Learning rate = 8.333333333333333e-05\n",
      "Epoch 7/40\n",
      "2534/2534 [==============================] - 178s 70ms/step - loss: 6.2976 - val_loss: 6.4019\n",
      "Learning rate = 8.333333333333333e-05\n",
      "Epoch 8/40\n",
      "2534/2534 [==============================] - 178s 70ms/step - loss: 6.2526 - val_loss: 6.3477\n",
      "Learning rate = 2.7777777777777776e-05\n",
      "Epoch 9/40\n",
      "2534/2534 [==============================] - 178s 70ms/step - loss: 6.1917 - val_loss: 6.2910\n",
      "Learning rate = 2.7777777777777776e-05\n",
      "Epoch 10/40\n",
      "2534/2534 [==============================] - 178s 70ms/step - loss: 6.1756 - val_loss: 6.2555\n",
      "Learning rate = 2.7777777777777776e-05\n",
      "Epoch 11/40\n",
      "2534/2534 [==============================] - 178s 70ms/step - loss: 6.1588 - val_loss: 6.2799\n",
      "Learning rate = 2.7777777777777776e-05\n",
      "Epoch 12/40\n",
      "2534/2534 [==============================] - 178s 70ms/step - loss: 6.1434 - val_loss: 6.2758\n",
      "Learning rate = 9.259259259259257e-06\n",
      "Epoch 13/40\n",
      "2534/2534 [==============================] - 178s 70ms/step - loss: 6.1190 - val_loss: 6.2268\n",
      "Learning rate = 9.259259259259257e-06\n",
      "Epoch 14/40\n",
      "2534/2534 [==============================] - 178s 70ms/step - loss: 6.1134 - val_loss: 6.2288\n",
      "Learning rate = 9.259259259259257e-06\n",
      "Epoch 15/40\n",
      "2534/2534 [==============================] - 178s 70ms/step - loss: 6.1072 - val_loss: 6.2342\n",
      "Learning rate = 9.259259259259257e-06\n",
      "Epoch 16/40\n",
      "2534/2534 [==============================] - 178s 70ms/step - loss: 6.1017 - val_loss: 6.2205\n",
      "Learning rate = 3.086419753086419e-06\n",
      "Epoch 17/40\n",
      "2534/2534 [==============================] - 178s 70ms/step - loss: 6.0914 - val_loss: 6.2141\n",
      "Learning rate = 3.086419753086419e-06\n",
      "Epoch 18/40\n",
      " 271/2534 [==>...........................] - ETA: 2:37 - loss: 6.0858"
     ]
    }
   ],
   "source": [
    "h = model.fit_generator(dg_train, epochs=40, validation_data=dg_valid, \n",
    "                    callbacks=[keras.callbacks.LearningRateScheduler(lrs)])"
   ]
  },
  {
   "cell_type": "code",
   "execution_count": 40,
   "metadata": {
    "Collapsed": "false"
   },
   "outputs": [
    {
     "name": "stderr",
     "output_type": "stream",
     "text": [
      "[autoreload of h5py failed: Traceback (most recent call last):\n",
      "  File \"/home/stephan/miniconda3/lib/python3.6/site-packages/IPython/extensions/autoreload.py\", line 245, in check\n",
      "    superreload(m, reload, self.old_objects)\n",
      "  File \"/home/stephan/miniconda3/lib/python3.6/site-packages/IPython/extensions/autoreload.py\", line 394, in superreload\n",
      "    module = reload(module)\n",
      "  File \"/home/stephan/miniconda3/lib/python3.6/imp.py\", line 315, in reload\n",
      "    return importlib.reload(module)\n",
      "  File \"/home/stephan/miniconda3/lib/python3.6/importlib/__init__.py\", line 166, in reload\n",
      "    _bootstrap._exec(spec, module)\n",
      "  File \"<frozen importlib._bootstrap>\", line 618, in _exec\n",
      "  File \"<frozen importlib._bootstrap_external>\", line 678, in exec_module\n",
      "  File \"<frozen importlib._bootstrap>\", line 219, in _call_with_frames_removed\n",
      "  File \"/home/stephan/miniconda3/lib/python3.6/site-packages/h5py/__init__.py\", line 55, in <module>\n",
      "    from . import h5a, h5d, h5ds, h5f, h5fd, h5g, h5r, h5s, h5t, h5p, h5z, h5pl\n",
      "  File \"h5py/h5pl.pyx\", line 1, in init h5py.h5pl\n",
      "ImportError: h5py.defs does not export expected C function H5PLappend\n",
      "]\n",
      "[autoreload of h5py._hl.files failed: Traceback (most recent call last):\n",
      "  File \"/home/stephan/miniconda3/lib/python3.6/site-packages/IPython/extensions/autoreload.py\", line 245, in check\n",
      "    superreload(m, reload, self.old_objects)\n",
      "  File \"/home/stephan/miniconda3/lib/python3.6/site-packages/IPython/extensions/autoreload.py\", line 394, in superreload\n",
      "    module = reload(module)\n",
      "  File \"/home/stephan/miniconda3/lib/python3.6/imp.py\", line 315, in reload\n",
      "    return importlib.reload(module)\n",
      "  File \"/home/stephan/miniconda3/lib/python3.6/importlib/__init__.py\", line 166, in reload\n",
      "    _bootstrap._exec(spec, module)\n",
      "  File \"<frozen importlib._bootstrap>\", line 618, in _exec\n",
      "  File \"<frozen importlib._bootstrap_external>\", line 678, in exec_module\n",
      "  File \"<frozen importlib._bootstrap>\", line 219, in _call_with_frames_removed\n",
      "  File \"/home/stephan/miniconda3/lib/python3.6/site-packages/h5py/_hl/files.py\", line 41, in <module>\n",
      "    libver_dict.update({'v108': h5f.LIBVER_V18, 'v110': h5f.LIBVER_V110})\n",
      "AttributeError: module 'h5py.h5f' has no attribute 'LIBVER_V18'\n",
      "]\n",
      "[autoreload of netCDF4 failed: Traceback (most recent call last):\n",
      "  File \"/home/stephan/miniconda3/lib/python3.6/site-packages/IPython/extensions/autoreload.py\", line 245, in check\n",
      "    superreload(m, reload, self.old_objects)\n",
      "  File \"/home/stephan/miniconda3/lib/python3.6/site-packages/IPython/extensions/autoreload.py\", line 394, in superreload\n",
      "    module = reload(module)\n",
      "  File \"/home/stephan/miniconda3/lib/python3.6/imp.py\", line 315, in reload\n",
      "    return importlib.reload(module)\n",
      "  File \"/home/stephan/miniconda3/lib/python3.6/importlib/__init__.py\", line 166, in reload\n",
      "    _bootstrap._exec(spec, module)\n",
      "  File \"<frozen importlib._bootstrap>\", line 618, in _exec\n",
      "  File \"<frozen importlib._bootstrap_external>\", line 678, in exec_module\n",
      "  File \"<frozen importlib._bootstrap>\", line 219, in _call_with_frames_removed\n",
      "  File \"/home/stephan/miniconda3/lib/python3.6/site-packages/netCDF4/__init__.py\", line 6, in <module>\n",
      "    from ._netCDF4 import (__version__, __netcdf4libversion__, __hdf5libversion__,\n",
      "ImportError: cannot import name '__has_nc_create_mem__'\n",
      "]\n"
     ]
    },
    {
     "data": {
      "text/plain": [
       "<tensorflow.python.keras.callbacks.History at 0x7fb911ecd748>"
      ]
     },
     "execution_count": 40,
     "metadata": {},
     "output_type": "execute_result"
    }
   ],
   "source": [
    "h"
   ]
  },
  {
   "cell_type": "code",
   "execution_count": null,
   "metadata": {
    "Collapsed": "false"
   },
   "outputs": [],
   "source": []
  },
  {
   "cell_type": "markdown",
   "metadata": {
    "Collapsed": "false"
   },
   "source": [
    "## One Cycle"
   ]
  },
  {
   "cell_type": "code",
   "execution_count": 6,
   "metadata": {
    "Collapsed": "false"
   },
   "outputs": [],
   "source": [
    "from src.clr import LRFinder"
   ]
  },
  {
   "cell_type": "code",
   "execution_count": null,
   "metadata": {
    "Collapsed": "false"
   },
   "outputs": [],
   "source": []
  }
 ],
 "metadata": {
  "kernelspec": {
   "display_name": "Python 3",
   "language": "python",
   "name": "python3"
  },
  "language_info": {
   "codemirror_mode": {
    "name": "ipython",
    "version": 3
   },
   "file_extension": ".py",
   "mimetype": "text/x-python",
   "name": "python",
   "nbconvert_exporter": "python",
   "pygments_lexer": "ipython3",
   "version": "3.6.9"
  }
 },
 "nbformat": 4,
 "nbformat_minor": 4
}
