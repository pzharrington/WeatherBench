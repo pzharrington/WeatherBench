{
 "cells": [
  {
   "cell_type": "markdown",
   "metadata": {
    "Collapsed": "false"
   },
   "source": [
    "# Trying our different learning rate schedules\n",
    "\n",
    "Using the default network configuration, the goal is to get to the reference valid loss as quickly as possible.\n",
    "\n",
    "1. Typical learning rate decau\n",
    "2. One cycle LR"
   ]
  },
  {
   "cell_type": "code",
   "execution_count": 2,
   "metadata": {
    "Collapsed": "false"
   },
   "outputs": [],
   "source": [
    "%load_ext autoreload\n",
    "%autoreload 2"
   ]
  },
  {
   "cell_type": "code",
   "execution_count": 4,
   "metadata": {
    "Collapsed": "false"
   },
   "outputs": [],
   "source": [
    "from src.score import *\n",
    "from src.utils import *\n",
    "from src.networks import *\n",
    "from src.data_generator import *\n",
    "import matplotlib.pyplot as plt"
   ]
  },
  {
   "cell_type": "code",
   "execution_count": 37,
   "metadata": {
    "Collapsed": "false"
   },
   "outputs": [],
   "source": [
    "os.environ[\"CUDA_VISIBLE_DEVICES\"]=str(1)\n",
    "limit_mem()"
   ]
  },
  {
   "cell_type": "code",
   "execution_count": 38,
   "metadata": {
    "Collapsed": "false"
   },
   "outputs": [],
   "source": [
    "datadir = '/data/stephan/WeatherBench/5.625deg/'\n",
    "var_dict = {'geopotential': ('z', [500]), 'temperature': ('t', [850])}\n",
    "output_vars = None\n",
    "filters = [64, 64, 64, 64, 2]\n",
    "kernels = [5, 5, 5, 5, 5]\n",
    "lead_time = 72\n",
    "batch_size = 128\n",
    "activation = 'elu'"
   ]
  },
  {
   "cell_type": "code",
   "execution_count": 39,
   "metadata": {
    "Collapsed": "false"
   },
   "outputs": [],
   "source": [
    "ds = xr.merge([xr.open_mfdataset(f'{datadir}/{var}/*.nc', combine='by_coords') for var in var_dict.keys()])"
   ]
  },
  {
   "cell_type": "code",
   "execution_count": 56,
   "metadata": {
    "Collapsed": "false"
   },
   "outputs": [],
   "source": [
    "# ds_train = ds.sel(time=slice('1979', '2015'))\n",
    "ds_train = ds.sel(time=slice('2000', '2015'))\n",
    "ds_valid = ds.sel(time=slice('2016', '2016'))\n",
    "ds_test = ds.sel(time=slice('2017', '2018'))"
   ]
  },
  {
   "cell_type": "code",
   "execution_count": 57,
   "metadata": {
    "Collapsed": "false"
   },
   "outputs": [
    {
     "data": {
      "text/plain": [
       "3.24336"
      ]
     },
     "execution_count": 57,
     "metadata": {},
     "output_type": "execute_result"
    }
   ],
   "source": [
    "324336 /100000"
   ]
  },
  {
   "cell_type": "code",
   "execution_count": 59,
   "metadata": {
    "Collapsed": "false"
   },
   "outputs": [
    {
     "name": "stdout",
     "output_type": "stream",
     "text": [
      "DG start 09:10:56.383430\n",
      "DG normalize 09:10:56.401051\n",
      "DG load 09:11:30.396642\n",
      "Loading data into RAM\n",
      "DG done 09:13:37.304046\n",
      "DG start 09:13:37.304276\n",
      "DG normalize 09:13:37.312669\n",
      "DG load 09:13:37.319004\n",
      "Loading data into RAM\n",
      "DG done 09:13:40.212086\n",
      "DG start 09:13:40.212988\n",
      "DG normalize 09:13:40.223527\n",
      "DG load 09:13:40.231712\n",
      "Loading data into RAM\n",
      "DG done 09:13:47.238962\n",
      "Mean = <xarray.DataArray 'z' (level: 2)>\n",
      "array([54079.2    ,   274.53073], dtype=float32)\n",
      "Coordinates:\n",
      "  * level        (level) int64 500 850\n",
      "    level_names  (level) <U5 'z_500' 't_850'; Std = <xarray.DataArray 'z' (level: 2)>\n",
      "array([3414.2642  ,   15.530695], dtype=float32)\n",
      "Coordinates:\n",
      "  * level        (level) int64 500 850\n",
      "    level_names  (level) <U5 'z_500' 't_850'\n"
     ]
    }
   ],
   "source": [
    "dg_train = DataGenerator(ds_train, var_dict, lead_time, batch_size=batch_size, \n",
    "                         output_vars=output_vars, norm_subsample=10000)\n",
    "dg_valid = DataGenerator(ds_valid, var_dict, lead_time, batch_size=batch_size, mean=dg_train.mean,\n",
    "                         std=dg_train.std, shuffle=False, output_vars=output_vars)\n",
    "dg_test =  DataGenerator(ds_test, var_dict, lead_time, batch_size=batch_size, mean=dg_train.mean,\n",
    "                         std=dg_train.std, shuffle=False, output_vars=output_vars)\n",
    "print(f'Mean = {dg_train.mean}; Std = {dg_train.std}')"
   ]
  },
  {
   "cell_type": "code",
   "execution_count": 60,
   "metadata": {
    "Collapsed": "false"
   },
   "outputs": [
    {
     "data": {
      "text/plain": [
       "(<xarray.DataArray 'z' (level: 2)>\n",
       " array([54079.2    ,   274.53073], dtype=float32)\n",
       " Coordinates:\n",
       "   * level        (level) int64 500 850\n",
       "     level_names  (level) <U5 'z_500' 't_850',\n",
       " <xarray.DataArray 'z' (level: 2)>\n",
       " array([3414.2642  ,   15.530695], dtype=float32)\n",
       " Coordinates:\n",
       "   * level        (level) int64 500 850\n",
       "     level_names  (level) <U5 'z_500' 't_850')"
      ]
     },
     "execution_count": 60,
     "metadata": {},
     "output_type": "execute_result"
    }
   ],
   "source": [
    "dg_train.mean, dg_train.std"
   ]
  },
  {
   "cell_type": "markdown",
   "metadata": {
    "Collapsed": "true"
   },
   "source": [
    "## Learning rate decay"
   ]
  },
  {
   "cell_type": "code",
   "execution_count": 17,
   "metadata": {
    "Collapsed": "false"
   },
   "outputs": [],
   "source": [
    "class LRUpdate(object):\n",
    "    def __init__(self, init_lr, step, divide):\n",
    "        # From goo.gl/GXQaK6\n",
    "        self.init_lr = init_lr\n",
    "        self.step = step\n",
    "        self.drop = 1. / divide\n",
    "\n",
    "    def __call__(self, epoch):\n",
    "        lr = self.init_lr * np.power(self.drop, np.floor((epoch) / self.step))\n",
    "        print(f'Learning rate = {lr}')\n",
    "        return lr"
   ]
  },
  {
   "cell_type": "code",
   "execution_count": 32,
   "metadata": {
    "Collapsed": "false"
   },
   "outputs": [],
   "source": [
    "lrs = LRUpdate(1e-3, 2, 5)"
   ]
  },
  {
   "cell_type": "code",
   "execution_count": 33,
   "metadata": {
    "Collapsed": "false"
   },
   "outputs": [
    {
     "name": "stdout",
     "output_type": "stream",
     "text": [
      "Learning rate = [1.0e-03 1.0e-03 2.0e-04 2.0e-04 4.0e-05 4.0e-05 8.0e-06 8.0e-06 1.6e-06\n",
      " 1.6e-06]\n"
     ]
    },
    {
     "data": {
      "image/png": "[encoded data removed]",
      "text/plain": [
       "<Figure size 432x288 with 1 Axes>"
      ]
     },
     "metadata": {
      "needs_background": "light"
     },
     "output_type": "display_data"
    }
   ],
   "source": [
    "plt.plot(lrs(np.arange(10)))\n",
    "plt.yscale('log')"
   ]
  },
  {
   "cell_type": "code",
   "execution_count": 34,
   "metadata": {
    "Collapsed": "false"
   },
   "outputs": [],
   "source": [
    "model = build_cnn(filters, kernels, input_shape=(32, 64, len(dg_train.data.level)), activation=activation)\n",
    "model.compile(keras.optimizers.Adam(), 'mse')"
   ]
  },
  {
   "cell_type": "code",
   "execution_count": 35,
   "metadata": {
    "Collapsed": "false"
   },
   "outputs": [
    {
     "name": "stdout",
     "output_type": "stream",
     "text": [
      "_________________________________________________________________\n",
      "Layer (type)                 Output Shape              Param #   \n",
      "=================================================================\n",
      "input_5 (InputLayer)         (None, 32, 64, 2)         0         \n",
      "_________________________________________________________________\n",
      "lambda_20 (Lambda)           (None, 36, 68, 2)         0         \n",
      "_________________________________________________________________\n",
      "periodic_conv2d_20 (Periodic (None, 32, 64, 64)        3264      \n",
      "_________________________________________________________________\n",
      "lambda_21 (Lambda)           (None, 36, 68, 64)        0         \n",
      "_________________________________________________________________\n",
      "periodic_conv2d_21 (Periodic (None, 32, 64, 64)        102464    \n",
      "_________________________________________________________________\n",
      "lambda_22 (Lambda)           (None, 36, 68, 64)        0         \n",
      "_________________________________________________________________\n",
      "periodic_conv2d_22 (Periodic (None, 32, 64, 64)        102464    \n",
      "_________________________________________________________________\n",
      "lambda_23 (Lambda)           (None, 36, 68, 64)        0         \n",
      "_________________________________________________________________\n",
      "periodic_conv2d_23 (Periodic (None, 32, 64, 64)        102464    \n",
      "_________________________________________________________________\n",
      "lambda_24 (Lambda)           (None, 36, 68, 64)        0         \n",
      "_________________________________________________________________\n",
      "periodic_conv2d_24 (Periodic (None, 32, 64, 2)         3202      \n",
      "=================================================================\n",
      "Total params: 313,858\n",
      "Trainable params: 313,858\n",
      "Non-trainable params: 0\n",
      "_________________________________________________________________\n"
     ]
    }
   ],
   "source": [
    "model.summary()"
   ]
  },
  {
   "cell_type": "code",
   "execution_count": null,
   "metadata": {
    "Collapsed": "false"
   },
   "outputs": [
    {
     "name": "stdout",
     "output_type": "stream",
     "text": [
      "Learning rate = 0.001\n",
      "Epoch 1/100\n",
      "2534/2534 [==============================] - 177s 70ms/step - loss: 8.0596 - val_loss: 7.3410\n",
      "Learning rate = 0.001\n",
      "Epoch 2/100\n",
      "2534/2534 [==============================] - 178s 70ms/step - loss: 7.0196 - val_loss: 6.8583\n",
      "Learning rate = 0.0002\n",
      "Epoch 3/100\n",
      "2534/2534 [==============================] - 178s 70ms/step - loss: 6.5630 - val_loss: 6.6140\n",
      "Learning rate = 0.0002\n",
      "Epoch 4/100\n",
      "1947/2534 [======================>.......] - ETA: 40s - loss: 6.4614"
     ]
    }
   ],
   "source": [
    "model.fit_generator(dg_train, epochs=100, validation_data=dg_valid, \n",
    "                    callbacks=[keras.callbacks.LearningRateScheduler(lrs)])"
   ]
  },
  {
   "cell_type": "markdown",
   "metadata": {
    "Collapsed": "false"
   },
   "source": [
    "## One Cycle"
   ]
  },
  {
   "cell_type": "code",
   "execution_count": 44,
   "metadata": {
    "Collapsed": "false"
   },
   "outputs": [],
   "source": [
    "from src.clr import LRFinder\n",
    "import seaborn as sns\n",
    "sns.set_style('darkgrid')"
   ]
  },
  {
   "cell_type": "code",
   "execution_count": 19,
   "metadata": {
    "Collapsed": "false"
   },
   "outputs": [
    {
     "data": {
      "text/plain": [
       "(324264, 128)"
      ]
     },
     "execution_count": 19,
     "metadata": {},
     "output_type": "execute_result"
    }
   ],
   "source": [
    "dg_train.n_samples, batch_size"
   ]
  },
  {
   "cell_type": "code",
   "execution_count": 29,
   "metadata": {
    "Collapsed": "false"
   },
   "outputs": [],
   "source": [
    "lrf = LRFinder(\n",
    "    dg_train.n_samples, batch_size,\n",
    "    minimum_lr=1e-4, maximum_lr=10,\n",
    "    lr_scale='exp', save_dir='./', verbose=0)"
   ]
  },
  {
   "cell_type": "code",
   "execution_count": 30,
   "metadata": {
    "Collapsed": "false"
   },
   "outputs": [],
   "source": [
    "model = build_cnn(filters, kernels, input_shape=(32, 64, len(dg_train.data.level)), activation=activation)\n",
    "model.compile(keras.optimizers.Adam(), 'mse')"
   ]
  },
  {
   "cell_type": "code",
   "execution_count": 31,
   "metadata": {
    "Collapsed": "false",
    "collapsed": true,
    "jupyter": {
     "outputs_hidden": true
    }
   },
   "outputs": [
    {
     "name": "stdout",
     "output_type": "stream",
     "text": [
      "Epoch 1/1\n",
      "1009/2534 [==========>...................] - ETA: 1:47 - loss: 568.1512"
     ]
    },
    {
     "ename": "KeyboardInterrupt",
     "evalue": "",
     "output_type": "error",
     "traceback": [
      "\u001b[0;31m---------------------------------------------------------------------------\u001b[0m",
      "\u001b[0;31mKeyboardInterrupt\u001b[0m                         Traceback (most recent call last)",
      "\u001b[0;32m<ipython-input-31-67e5a91827b8>\u001b[0m in \u001b[0;36m<module>\u001b[0;34m\u001b[0m\n\u001b[1;32m      1\u001b[0m model.fit_generator(dg_train, epochs=1, \n\u001b[0;32m----> 2\u001b[0;31m                     callbacks=[lrf])\n\u001b[0m",
      "\u001b[0;32m~/miniconda3/lib/python3.6/site-packages/tensorflow/python/keras/engine/training.py\u001b[0m in \u001b[0;36mfit_generator\u001b[0;34m(self, generator, steps_per_epoch, epochs, verbose, callbacks, validation_data, validation_steps, class_weight, max_queue_size, workers, use_multiprocessing, shuffle, initial_epoch)\u001b[0m\n\u001b[1;32m   2175\u001b[0m         \u001b[0muse_multiprocessing\u001b[0m\u001b[0;34m=\u001b[0m\u001b[0muse_multiprocessing\u001b[0m\u001b[0;34m,\u001b[0m\u001b[0;34m\u001b[0m\u001b[0;34m\u001b[0m\u001b[0m\n\u001b[1;32m   2176\u001b[0m         \u001b[0mshuffle\u001b[0m\u001b[0;34m=\u001b[0m\u001b[0mshuffle\u001b[0m\u001b[0;34m,\u001b[0m\u001b[0;34m\u001b[0m\u001b[0;34m\u001b[0m\u001b[0m\n\u001b[0;32m-> 2177\u001b[0;31m         initial_epoch=initial_epoch)\n\u001b[0m\u001b[1;32m   2178\u001b[0m \u001b[0;34m\u001b[0m\u001b[0m\n\u001b[1;32m   2179\u001b[0m   def evaluate_generator(self,\n",
      "\u001b[0;32m~/miniconda3/lib/python3.6/site-packages/tensorflow/python/keras/engine/training_generator.py\u001b[0m in \u001b[0;36mfit_generator\u001b[0;34m(model, generator, steps_per_epoch, epochs, verbose, callbacks, validation_data, validation_steps, class_weight, max_queue_size, workers, use_multiprocessing, shuffle, initial_epoch)\u001b[0m\n\u001b[1;32m    174\u001b[0m \u001b[0;34m\u001b[0m\u001b[0m\n\u001b[1;32m    175\u001b[0m         outs = model.train_on_batch(\n\u001b[0;32m--> 176\u001b[0;31m             x, y, sample_weight=sample_weight, class_weight=class_weight)\n\u001b[0m\u001b[1;32m    177\u001b[0m \u001b[0;34m\u001b[0m\u001b[0m\n\u001b[1;32m    178\u001b[0m         \u001b[0;32mif\u001b[0m \u001b[0;32mnot\u001b[0m \u001b[0misinstance\u001b[0m\u001b[0;34m(\u001b[0m\u001b[0mouts\u001b[0m\u001b[0;34m,\u001b[0m \u001b[0mlist\u001b[0m\u001b[0;34m)\u001b[0m\u001b[0;34m:\u001b[0m\u001b[0;34m\u001b[0m\u001b[0;34m\u001b[0m\u001b[0m\n",
      "\u001b[0;32m~/miniconda3/lib/python3.6/site-packages/tensorflow/python/keras/engine/training.py\u001b[0m in \u001b[0;36mtrain_on_batch\u001b[0;34m(self, x, y, sample_weight, class_weight)\u001b[0m\n\u001b[1;32m   1938\u001b[0m \u001b[0;34m\u001b[0m\u001b[0m\n\u001b[1;32m   1939\u001b[0m       \u001b[0mself\u001b[0m\u001b[0;34m.\u001b[0m\u001b[0m_make_train_function\u001b[0m\u001b[0;34m(\u001b[0m\u001b[0;34m)\u001b[0m\u001b[0;34m\u001b[0m\u001b[0;34m\u001b[0m\u001b[0m\n\u001b[0;32m-> 1940\u001b[0;31m       \u001b[0moutputs\u001b[0m \u001b[0;34m=\u001b[0m \u001b[0mself\u001b[0m\u001b[0;34m.\u001b[0m\u001b[0mtrain_function\u001b[0m\u001b[0;34m(\u001b[0m\u001b[0mins\u001b[0m\u001b[0;34m)\u001b[0m\u001b[0;34m\u001b[0m\u001b[0;34m\u001b[0m\u001b[0m\n\u001b[0m\u001b[1;32m   1941\u001b[0m \u001b[0;34m\u001b[0m\u001b[0m\n\u001b[1;32m   1942\u001b[0m     \u001b[0;32mif\u001b[0m \u001b[0mlen\u001b[0m\u001b[0;34m(\u001b[0m\u001b[0moutputs\u001b[0m\u001b[0;34m)\u001b[0m \u001b[0;34m==\u001b[0m \u001b[0;36m1\u001b[0m\u001b[0;34m:\u001b[0m\u001b[0;34m\u001b[0m\u001b[0;34m\u001b[0m\u001b[0m\n",
      "\u001b[0;32m~/miniconda3/lib/python3.6/site-packages/tensorflow/python/keras/backend.py\u001b[0m in \u001b[0;36m__call__\u001b[0;34m(self, inputs)\u001b[0m\n\u001b[1;32m   2984\u001b[0m \u001b[0;34m\u001b[0m\u001b[0m\n\u001b[1;32m   2985\u001b[0m     fetched = self._callable_fn(*array_vals,\n\u001b[0;32m-> 2986\u001b[0;31m                                 run_metadata=self.run_metadata)\n\u001b[0m\u001b[1;32m   2987\u001b[0m     \u001b[0mself\u001b[0m\u001b[0;34m.\u001b[0m\u001b[0m_call_fetch_callbacks\u001b[0m\u001b[0;34m(\u001b[0m\u001b[0mfetched\u001b[0m\u001b[0;34m[\u001b[0m\u001b[0;34m-\u001b[0m\u001b[0mlen\u001b[0m\u001b[0;34m(\u001b[0m\u001b[0mself\u001b[0m\u001b[0;34m.\u001b[0m\u001b[0m_fetches\u001b[0m\u001b[0;34m)\u001b[0m\u001b[0;34m:\u001b[0m\u001b[0;34m]\u001b[0m\u001b[0;34m)\u001b[0m\u001b[0;34m\u001b[0m\u001b[0;34m\u001b[0m\u001b[0m\n\u001b[1;32m   2988\u001b[0m     \u001b[0;32mreturn\u001b[0m \u001b[0mfetched\u001b[0m\u001b[0;34m[\u001b[0m\u001b[0;34m:\u001b[0m\u001b[0mlen\u001b[0m\u001b[0;34m(\u001b[0m\u001b[0mself\u001b[0m\u001b[0;34m.\u001b[0m\u001b[0moutputs\u001b[0m\u001b[0;34m)\u001b[0m\u001b[0;34m]\u001b[0m\u001b[0;34m\u001b[0m\u001b[0;34m\u001b[0m\u001b[0m\n",
      "\u001b[0;32m~/miniconda3/lib/python3.6/site-packages/tensorflow/python/client/session.py\u001b[0m in \u001b[0;36m__call__\u001b[0;34m(self, *args, **kwargs)\u001b[0m\n\u001b[1;32m   1437\u001b[0m           ret = tf_session.TF_SessionRunCallable(\n\u001b[1;32m   1438\u001b[0m               \u001b[0mself\u001b[0m\u001b[0;34m.\u001b[0m\u001b[0m_session\u001b[0m\u001b[0;34m.\u001b[0m\u001b[0m_session\u001b[0m\u001b[0;34m,\u001b[0m \u001b[0mself\u001b[0m\u001b[0;34m.\u001b[0m\u001b[0m_handle\u001b[0m\u001b[0;34m,\u001b[0m \u001b[0margs\u001b[0m\u001b[0;34m,\u001b[0m \u001b[0mstatus\u001b[0m\u001b[0;34m,\u001b[0m\u001b[0;34m\u001b[0m\u001b[0;34m\u001b[0m\u001b[0m\n\u001b[0;32m-> 1439\u001b[0;31m               run_metadata_ptr)\n\u001b[0m\u001b[1;32m   1440\u001b[0m         \u001b[0;32mif\u001b[0m \u001b[0mrun_metadata\u001b[0m\u001b[0;34m:\u001b[0m\u001b[0;34m\u001b[0m\u001b[0;34m\u001b[0m\u001b[0m\n\u001b[1;32m   1441\u001b[0m           \u001b[0mproto_data\u001b[0m \u001b[0;34m=\u001b[0m \u001b[0mtf_session\u001b[0m\u001b[0;34m.\u001b[0m\u001b[0mTF_GetBuffer\u001b[0m\u001b[0;34m(\u001b[0m\u001b[0mrun_metadata_ptr\u001b[0m\u001b[0;34m)\u001b[0m\u001b[0;34m\u001b[0m\u001b[0;34m\u001b[0m\u001b[0m\n",
      "\u001b[0;31mKeyboardInterrupt\u001b[0m: "
     ]
    }
   ],
   "source": [
    "model.fit_generator(dg_train, epochs=1, \n",
    "                    callbacks=[lrf])"
   ]
  },
  {
   "cell_type": "code",
   "execution_count": 45,
   "metadata": {
    "Collapsed": "false"
   },
   "outputs": [
    {
     "data": {
      "text/plain": [
       "(6, 10)"
      ]
     },
     "execution_count": 45,
     "metadata": {},
     "output_type": "execute_result"
    },
    {
     "data": {
      "image/png": "[encoded data removed]",
      "text/plain": [
       "<Figure size 432x288 with 1 Axes>"
      ]
     },
     "metadata": {},
     "output_type": "display_data"
    }
   ],
   "source": [
    "plt.plot(10**lrf.lrs, lrf.losses)\n",
    "# plt.yscale('log')\n",
    "plt.ylim(6, 10)"
   ]
  },
  {
   "cell_type": "code",
   "execution_count": 81,
   "metadata": {
    "Collapsed": "false"
   },
   "outputs": [],
   "source": [
    "max_lr = 2.5e-4\n",
    "# max_lr = 5e-4"
   ]
  },
  {
   "cell_type": "code",
   "execution_count": 82,
   "metadata": {
    "Collapsed": "false"
   },
   "outputs": [],
   "source": [
    "from src.clr import OneCycleLR"
   ]
  },
  {
   "cell_type": "code",
   "execution_count": 83,
   "metadata": {
    "Collapsed": "false"
   },
   "outputs": [],
   "source": [
    "one_cycle = OneCycleLR(max_lr,\n",
    "    end_percentage=0.1, scale_percentage=None,\n",
    "#     maximum_momentum=None, minimum_momentum=None\n",
    "                      )"
   ]
  },
  {
   "cell_type": "code",
   "execution_count": 84,
   "metadata": {
    "Collapsed": "false"
   },
   "outputs": [],
   "source": [
    "model = build_cnn(filters, kernels, input_shape=(32, 64, len(dg_train.data.level)), activation=activation)\n",
    "model.compile(keras.optimizers.SGD(), 'mse')"
   ]
  },
  {
   "cell_type": "code",
   "execution_count": 85,
   "metadata": {
    "Collapsed": "false"
   },
   "outputs": [
    {
     "name": "stdout",
     "output_type": "stream",
     "text": [
      "Epoch 1/5\n",
      "2533/2534 [============================>.] - ETA: 0s - loss: 8.1397 - lr: 0.00012 - momentum: 0.91 \n",
      "2534/2534 [==============================] - 185s 73ms/step - loss: 8.1395 - val_loss: 7.5917\n",
      "Epoch 2/5\n",
      "2533/2534 [============================>.] - ETA: 0s - loss: 7.3381 - lr: 0.00022 - momentum: 0.86 \n",
      "2534/2534 [==============================] - 186s 73ms/step - loss: 7.3380 - val_loss: 7.3206\n",
      "Epoch 3/5\n",
      "2533/2534 [============================>.] - ETA: 0s - loss: 7.0502 - lr: 0.00018 - momentum: 0.88 \n",
      "2534/2534 [==============================] - 185s 73ms/step - loss: 7.0502 - val_loss: 6.9504\n",
      "Epoch 4/5\n",
      "2533/2534 [============================>.] - ETA: 0s - loss: 6.8243 - lr: 0.00008 - momentum: 0.93 \n",
      "2534/2534 [==============================] - 185s 73ms/step - loss: 6.8242 - val_loss: 6.8008\n",
      "Epoch 5/5\n",
      "2533/2534 [============================>.] - ETA: 0s - loss: 6.6957 - lr: 0.00000 - momentum: 0.95 \n",
      "2534/2534 [==============================] - 186s 73ms/step - loss: 6.6957 - val_loss: 6.7314\n"
     ]
    },
    {
     "data": {
      "text/plain": [
       "<tensorflow.python.keras.callbacks.History at 0x7ff0aa08ab70>"
      ]
     },
     "execution_count": 85,
     "metadata": {},
     "output_type": "execute_result"
    }
   ],
   "source": [
    "model.fit_generator(dg_train, epochs=5, validation_data=dg_valid, \n",
    "                    callbacks=[one_cycle])"
   ]
  },
  {
   "cell_type": "code",
   "execution_count": 88,
   "metadata": {
    "Collapsed": "false"
   },
   "outputs": [
    {
     "name": "stdout",
     "output_type": "stream",
     "text": [
      "Epoch 1/5\n",
      "2533/2534 [============================>.] - ETA: 0s - loss: 6.6846 - lr: 0.00012 - momentum: 0.91 \n",
      "2534/2534 [==============================] - 186s 73ms/step - loss: 6.6846 - val_loss: 6.7612\n",
      "Epoch 2/5\n",
      "2533/2534 [============================>.] - ETA: 0s - loss: 6.6887 - lr: 0.00022 - momentum: 0.86 \n",
      "2534/2534 [==============================] - 185s 73ms/step - loss: 6.6886 - val_loss: 6.7185\n",
      "Epoch 3/5\n",
      "2533/2534 [============================>.] - ETA: 0s - loss: 6.6222 - lr: 0.00018 - momentum: 0.88 \n",
      "2534/2534 [==============================] - 186s 73ms/step - loss: 6.6221 - val_loss: 6.6198\n",
      "Epoch 4/5\n",
      "2533/2534 [============================>.] - ETA: 0s - loss: 6.4922 - lr: 0.00008 - momentum: 0.93 \n",
      "2534/2534 [==============================] - 186s 73ms/step - loss: 6.4922 - val_loss: 6.5067\n",
      "Epoch 5/5\n",
      "2533/2534 [============================>.] - ETA: 0s - loss: 6.4067 - lr: 0.00000 - momentum: 0.95 \n",
      "2534/2534 [==============================] - 186s 73ms/step - loss: 6.4067 - val_loss: 6.4583\n"
     ]
    },
    {
     "data": {
      "text/plain": [
       "<tensorflow.python.keras.callbacks.History at 0x7ff084285cf8>"
      ]
     },
     "execution_count": 88,
     "metadata": {},
     "output_type": "execute_result"
    }
   ],
   "source": [
    "model.fit_generator(dg_train, epochs=5, validation_data=dg_valid, \n",
    "                    callbacks=[one_cycle])"
   ]
  },
  {
   "cell_type": "code",
   "execution_count": 89,
   "metadata": {
    "Collapsed": "false"
   },
   "outputs": [],
   "source": [
    "one_cycle = OneCycleLR(max_lr,\n",
    "    end_percentage=0.1, scale_percentage=None,\n",
    "    maximum_momentum=None, minimum_momentum=None\n",
    "                      )"
   ]
  },
  {
   "cell_type": "code",
   "execution_count": 90,
   "metadata": {
    "Collapsed": "false"
   },
   "outputs": [],
   "source": [
    "model = build_cnn(filters, kernels, input_shape=(32, 64, len(dg_train.data.level)), activation=activation)\n",
    "model.compile(keras.optimizers.Adam(), 'mse')"
   ]
  },
  {
   "cell_type": "code",
   "execution_count": null,
   "metadata": {
    "Collapsed": "false"
   },
   "outputs": [
    {
     "name": "stdout",
     "output_type": "stream",
     "text": [
      "Epoch 1/5\n",
      "2380/2534 [===========================>..] - ETA: 11s - loss: 9.0376"
     ]
    }
   ],
   "source": [
    "model.fit_generator(dg_train, epochs=5, validation_data=dg_valid, \n",
    "                    callbacks=[one_cycle])"
   ]
  },
  {
   "cell_type": "code",
   "execution_count": null,
   "metadata": {
    "Collapsed": "false"
   },
   "outputs": [],
   "source": [
    "model.fit_generator(dg_train, epochs=5, validation_data=dg_valid, \n",
    "                    callbacks=[one_cycle])"
   ]
  },
  {
   "cell_type": "code",
   "execution_count": 86,
   "metadata": {
    "Collapsed": "false"
   },
   "outputs": [
    {
     "data": {
      "text/plain": [
       "[<matplotlib.lines.Line2D at 0x7ff0843790f0>]"
      ]
     },
     "execution_count": 86,
     "metadata": {},
     "output_type": "execute_result"
    },
    {
     "data": {
      "image/png": "[encoded data removed]",
      "text/plain": [
       "<Figure size 432x288 with 1 Axes>"
      ]
     },
     "metadata": {},
     "output_type": "display_data"
    }
   ],
   "source": [
    "plt.plot(one_cycle.history['lr'])"
   ]
  },
  {
   "cell_type": "code",
   "execution_count": 87,
   "metadata": {
    "Collapsed": "false"
   },
   "outputs": [
    {
     "data": {
      "text/plain": [
       "[<matplotlib.lines.Line2D at 0x7ff0842cb5c0>]"
      ]
     },
     "execution_count": 87,
     "metadata": {},
     "output_type": "execute_result"
    },
    {
     "data": {
      "image/png": "[encoded data removed]",
      "text/plain": [
       "<Figure size 432x288 with 1 Axes>"
      ]
     },
     "metadata": {},
     "output_type": "display_data"
    }
   ],
   "source": [
    "plt.plot(one_cycle.history['momentum'])"
   ]
  },
  {
   "cell_type": "markdown",
   "metadata": {
    "Collapsed": "true"
   },
   "source": [
    "## Compare different schedules"
   ]
  },
  {
   "cell_type": "code",
   "execution_count": 5,
   "metadata": {
    "Collapsed": "false"
   },
   "outputs": [],
   "source": [
    "from src.utils import *"
   ]
  },
  {
   "cell_type": "code",
   "execution_count": 6,
   "metadata": {
    "Collapsed": "false"
   },
   "outputs": [
    {
     "name": "stdout",
     "output_type": "stream",
     "text": [
      "/home/stephan/data/myWeatherBench/predictions/saved_models/01.1-default_no_es_history.pkl\n",
      "/home/stephan/data/myWeatherBench/predictions/saved_models/02-6h_subsample_history.pkl\n",
      "/home/stephan/data/myWeatherBench/predictions/saved_models/03-12h_subsample_history.pkl\n",
      "/home/stephan/data/myWeatherBench/predictions/saved_models/04-36h_subsample_history.pkl\n",
      "/home/stephan/data/myWeatherBench/predictions/saved_models/05-2.5e-4_no_decay_history.pkl\n",
      "/home/stephan/data/myWeatherBench/predictions/saved_models/06-decay_10_5_history.pkl\n",
      "/home/stephan/data/myWeatherBench/predictions/saved_models/07-decay_40_10_history.pkl\n",
      "/home/stephan/data/myWeatherBench/predictions/saved_models/08-2.5e-4_es_history.pkl\n",
      "/home/stephan/data/myWeatherBench/predictions/saved_models/09-no_periodic_history.pkl\n",
      "/home/stephan/data/myWeatherBench/predictions/saved_models/10-big_fc_history.pkl\n",
      "/home/stephan/data/myWeatherBench/predictions/saved_models/11-add_orography_history.pkl\n",
      "/home/stephan/data/myWeatherBench/predictions/saved_models/12-add_lat_history.pkl\n",
      "/home/stephan/data/myWeatherBench/predictions/saved_models/13-add_lsm_history.pkl\n",
      "/home/stephan/data/myWeatherBench/predictions/saved_models/test_history.pkl\n"
     ]
    }
   ],
   "source": [
    "!ls /home/stephan/data/myWeatherBench/predictions/saved_models/*hist*"
   ]
  },
  {
   "cell_type": "code",
   "execution_count": 7,
   "metadata": {
    "Collapsed": "false"
   },
   "outputs": [],
   "source": [
    "h01 = read_pickle(\n",
    "    '/home/stephan/data/myWeatherBench/predictions/saved_models/01.1-default_no_es_history.pkl')\n",
    "h05 = read_pickle(\n",
    "    '/home/stephan/data/myWeatherBench/predictions/saved_models/05-2.5e-4_no_decay_history.pkl')\n",
    "h06 = read_pickle(\n",
    "    '/home/stephan/data/myWeatherBench/predictions/saved_models/06-decay_10_5_history.pkl')\n",
    "h07 = read_pickle(\n",
    "    '/home/stephan/data/myWeatherBench/predictions/saved_models/07-decay_40_10_history.pkl')\n",
    "h08 = read_pickle(\n",
    "    '/home/stephan/data/myWeatherBench/predictions/saved_models/08-2.5e-4_es_history.pkl')"
   ]
  },
  {
   "cell_type": "code",
   "execution_count": 8,
   "metadata": {
    "Collapsed": "false"
   },
   "outputs": [
    {
     "data": {
      "image/png": "[encoded data removed]",
      "text/plain": [
       "<Figure size 720x432 with 1 Axes>"
      ]
     },
     "metadata": {
      "needs_background": "light"
     },
     "output_type": "display_data"
    }
   ],
   "source": [
    "fig, ax = plt.subplots(1, 1, figsize=(10, 6))\n",
    "for h, name, c in zip([h01, h05, h06, h07, h08], ['01', '05', '06', '07', '08'], \n",
    "                      ['b', 'r', 'g', 'orange', 'black']):\n",
    "    plot_hist(h, ax, (4.5, 8), name, valid=False, c=c)\n",
    "    plot_hist(h, ax, (4.5, 8), name, train=False, c=c, ls='--')"
   ]
  },
  {
   "cell_type": "code",
   "execution_count": 9,
   "metadata": {
    "Collapsed": "false"
   },
   "outputs": [
    {
     "name": "stdout",
     "output_type": "stream",
     "text": [
      "5.617629877627717 142\n",
      "5.606985253270774 61\n",
      "5.841095121137805 48\n",
      "5.601057487605798 73\n",
      "5.648159567208548 41\n"
     ]
    }
   ],
   "source": [
    "for h in [h01, h05, h06, h07, h08]:\n",
    "    print(np.min(h['val_loss']), np.argmin(h['val_loss']))"
   ]
  },
  {
   "cell_type": "markdown",
   "metadata": {
    "Collapsed": "false"
   },
   "source": [
    "## LR schedule for big network"
   ]
  },
  {
   "cell_type": "code",
   "execution_count": 10,
   "metadata": {
    "Collapsed": "false"
   },
   "outputs": [],
   "source": [
    "h10 = read_pickle(\n",
    "    '/home/stephan/data/myWeatherBench/predictions/saved_models/10-big_fc_history.pkl')"
   ]
  },
  {
   "cell_type": "code",
   "execution_count": 12,
   "metadata": {
    "Collapsed": "false"
   },
   "outputs": [
    {
     "data": {
      "image/png": "[encoded data removed]",
      "text/plain": [
       "<Figure size 720x432 with 1 Axes>"
      ]
     },
     "metadata": {
      "needs_background": "light"
     },
     "output_type": "display_data"
    }
   ],
   "source": [
    "fig, ax = plt.subplots(1, 1, figsize=(10, 6))\n",
    "for h, name, c in zip([h08, h10], ['08', '10'], \n",
    "                      ['b', 'r']):\n",
    "    plot_hist(h, ax, (4, 8), name, valid=False, c=c)\n",
    "    plot_hist(h, ax, (4, 8), name, train=False, c=c, ls='--')"
   ]
  },
  {
   "cell_type": "code",
   "execution_count": 61,
   "metadata": {
    "Collapsed": "false"
   },
   "outputs": [],
   "source": [
    "lrf = LRFinder(\n",
    "    dg_train.n_samples, batch_size,\n",
    "    minimum_lr=1e-5, maximum_lr=1,\n",
    "    lr_scale='exp', save_dir='./', verbose=0)"
   ]
  },
  {
   "cell_type": "code",
   "execution_count": 62,
   "metadata": {
    "Collapsed": "false"
   },
   "outputs": [],
   "source": [
    "filters = [128, 128, 128, 128, 128, 128, 2]\n",
    "kernels = [5, 5, 5, 5, 5, 5, 5]"
   ]
  },
  {
   "cell_type": "code",
   "execution_count": 63,
   "metadata": {
    "Collapsed": "false"
   },
   "outputs": [],
   "source": [
    "model = build_cnn(filters, kernels, input_shape=(32, 64, len(dg_train.data.level)), activation=activation)\n",
    "model.compile(keras.optimizers.Adam(), 'mse')"
   ]
  },
  {
   "cell_type": "code",
   "execution_count": 64,
   "metadata": {
    "Collapsed": "false",
    "collapsed": true,
    "jupyter": {
     "outputs_hidden": true
    }
   },
   "outputs": [
    {
     "name": "stdout",
     "output_type": "stream",
     "text": [
      "Epoch 1/1\n",
      " 410/1096 [==========>...................] - ETA: 2:21 - loss: 2836.7694"
     ]
    },
    {
     "ename": "KeyboardInterrupt",
     "evalue": "",
     "output_type": "error",
     "traceback": [
      "\u001b[0;31m---------------------------------------------------------------------------\u001b[0m",
      "\u001b[0;31mKeyboardInterrupt\u001b[0m                         Traceback (most recent call last)",
      "\u001b[0;32m<ipython-input-64-67e5a91827b8>\u001b[0m in \u001b[0;36m<module>\u001b[0;34m\u001b[0m\n\u001b[1;32m      1\u001b[0m model.fit_generator(dg_train, epochs=1, \n\u001b[0;32m----> 2\u001b[0;31m                     callbacks=[lrf])\n\u001b[0m",
      "\u001b[0;32m~/miniconda3/lib/python3.6/site-packages/tensorflow/python/keras/engine/training.py\u001b[0m in \u001b[0;36mfit_generator\u001b[0;34m(self, generator, steps_per_epoch, epochs, verbose, callbacks, validation_data, validation_steps, class_weight, max_queue_size, workers, use_multiprocessing, shuffle, initial_epoch)\u001b[0m\n\u001b[1;32m   2175\u001b[0m         \u001b[0muse_multiprocessing\u001b[0m\u001b[0;34m=\u001b[0m\u001b[0muse_multiprocessing\u001b[0m\u001b[0;34m,\u001b[0m\u001b[0;34m\u001b[0m\u001b[0;34m\u001b[0m\u001b[0m\n\u001b[1;32m   2176\u001b[0m         \u001b[0mshuffle\u001b[0m\u001b[0;34m=\u001b[0m\u001b[0mshuffle\u001b[0m\u001b[0;34m,\u001b[0m\u001b[0;34m\u001b[0m\u001b[0;34m\u001b[0m\u001b[0m\n\u001b[0;32m-> 2177\u001b[0;31m         initial_epoch=initial_epoch)\n\u001b[0m\u001b[1;32m   2178\u001b[0m \u001b[0;34m\u001b[0m\u001b[0m\n\u001b[1;32m   2179\u001b[0m   def evaluate_generator(self,\n",
      "\u001b[0;32m~/miniconda3/lib/python3.6/site-packages/tensorflow/python/keras/engine/training_generator.py\u001b[0m in \u001b[0;36mfit_generator\u001b[0;34m(model, generator, steps_per_epoch, epochs, verbose, callbacks, validation_data, validation_steps, class_weight, max_queue_size, workers, use_multiprocessing, shuffle, initial_epoch)\u001b[0m\n\u001b[1;32m    174\u001b[0m \u001b[0;34m\u001b[0m\u001b[0m\n\u001b[1;32m    175\u001b[0m         outs = model.train_on_batch(\n\u001b[0;32m--> 176\u001b[0;31m             x, y, sample_weight=sample_weight, class_weight=class_weight)\n\u001b[0m\u001b[1;32m    177\u001b[0m \u001b[0;34m\u001b[0m\u001b[0m\n\u001b[1;32m    178\u001b[0m         \u001b[0;32mif\u001b[0m \u001b[0;32mnot\u001b[0m \u001b[0misinstance\u001b[0m\u001b[0;34m(\u001b[0m\u001b[0mouts\u001b[0m\u001b[0;34m,\u001b[0m \u001b[0mlist\u001b[0m\u001b[0;34m)\u001b[0m\u001b[0;34m:\u001b[0m\u001b[0;34m\u001b[0m\u001b[0;34m\u001b[0m\u001b[0m\n",
      "\u001b[0;32m~/miniconda3/lib/python3.6/site-packages/tensorflow/python/keras/engine/training.py\u001b[0m in \u001b[0;36mtrain_on_batch\u001b[0;34m(self, x, y, sample_weight, class_weight)\u001b[0m\n\u001b[1;32m   1938\u001b[0m \u001b[0;34m\u001b[0m\u001b[0m\n\u001b[1;32m   1939\u001b[0m       \u001b[0mself\u001b[0m\u001b[0;34m.\u001b[0m\u001b[0m_make_train_function\u001b[0m\u001b[0;34m(\u001b[0m\u001b[0;34m)\u001b[0m\u001b[0;34m\u001b[0m\u001b[0;34m\u001b[0m\u001b[0m\n\u001b[0;32m-> 1940\u001b[0;31m       \u001b[0moutputs\u001b[0m \u001b[0;34m=\u001b[0m \u001b[0mself\u001b[0m\u001b[0;34m.\u001b[0m\u001b[0mtrain_function\u001b[0m\u001b[0;34m(\u001b[0m\u001b[0mins\u001b[0m\u001b[0;34m)\u001b[0m\u001b[0;34m\u001b[0m\u001b[0;34m\u001b[0m\u001b[0m\n\u001b[0m\u001b[1;32m   1941\u001b[0m \u001b[0;34m\u001b[0m\u001b[0m\n\u001b[1;32m   1942\u001b[0m     \u001b[0;32mif\u001b[0m \u001b[0mlen\u001b[0m\u001b[0;34m(\u001b[0m\u001b[0moutputs\u001b[0m\u001b[0;34m)\u001b[0m \u001b[0;34m==\u001b[0m \u001b[0;36m1\u001b[0m\u001b[0;34m:\u001b[0m\u001b[0;34m\u001b[0m\u001b[0;34m\u001b[0m\u001b[0m\n",
      "\u001b[0;32m~/miniconda3/lib/python3.6/site-packages/tensorflow/python/keras/backend.py\u001b[0m in \u001b[0;36m__call__\u001b[0;34m(self, inputs)\u001b[0m\n\u001b[1;32m   2984\u001b[0m \u001b[0;34m\u001b[0m\u001b[0m\n\u001b[1;32m   2985\u001b[0m     fetched = self._callable_fn(*array_vals,\n\u001b[0;32m-> 2986\u001b[0;31m                                 run_metadata=self.run_metadata)\n\u001b[0m\u001b[1;32m   2987\u001b[0m     \u001b[0mself\u001b[0m\u001b[0;34m.\u001b[0m\u001b[0m_call_fetch_callbacks\u001b[0m\u001b[0;34m(\u001b[0m\u001b[0mfetched\u001b[0m\u001b[0;34m[\u001b[0m\u001b[0;34m-\u001b[0m\u001b[0mlen\u001b[0m\u001b[0;34m(\u001b[0m\u001b[0mself\u001b[0m\u001b[0;34m.\u001b[0m\u001b[0m_fetches\u001b[0m\u001b[0;34m)\u001b[0m\u001b[0;34m:\u001b[0m\u001b[0;34m]\u001b[0m\u001b[0;34m)\u001b[0m\u001b[0;34m\u001b[0m\u001b[0;34m\u001b[0m\u001b[0m\n\u001b[1;32m   2988\u001b[0m     \u001b[0;32mreturn\u001b[0m \u001b[0mfetched\u001b[0m\u001b[0;34m[\u001b[0m\u001b[0;34m:\u001b[0m\u001b[0mlen\u001b[0m\u001b[0;34m(\u001b[0m\u001b[0mself\u001b[0m\u001b[0;34m.\u001b[0m\u001b[0moutputs\u001b[0m\u001b[0;34m)\u001b[0m\u001b[0;34m]\u001b[0m\u001b[0;34m\u001b[0m\u001b[0;34m\u001b[0m\u001b[0m\n",
      "\u001b[0;32m~/miniconda3/lib/python3.6/site-packages/tensorflow/python/client/session.py\u001b[0m in \u001b[0;36m__call__\u001b[0;34m(self, *args, **kwargs)\u001b[0m\n\u001b[1;32m   1437\u001b[0m           ret = tf_session.TF_SessionRunCallable(\n\u001b[1;32m   1438\u001b[0m               \u001b[0mself\u001b[0m\u001b[0;34m.\u001b[0m\u001b[0m_session\u001b[0m\u001b[0;34m.\u001b[0m\u001b[0m_session\u001b[0m\u001b[0;34m,\u001b[0m \u001b[0mself\u001b[0m\u001b[0;34m.\u001b[0m\u001b[0m_handle\u001b[0m\u001b[0;34m,\u001b[0m \u001b[0margs\u001b[0m\u001b[0;34m,\u001b[0m \u001b[0mstatus\u001b[0m\u001b[0;34m,\u001b[0m\u001b[0;34m\u001b[0m\u001b[0;34m\u001b[0m\u001b[0m\n\u001b[0;32m-> 1439\u001b[0;31m               run_metadata_ptr)\n\u001b[0m\u001b[1;32m   1440\u001b[0m         \u001b[0;32mif\u001b[0m \u001b[0mrun_metadata\u001b[0m\u001b[0;34m:\u001b[0m\u001b[0;34m\u001b[0m\u001b[0;34m\u001b[0m\u001b[0m\n\u001b[1;32m   1441\u001b[0m           \u001b[0mproto_data\u001b[0m \u001b[0;34m=\u001b[0m \u001b[0mtf_session\u001b[0m\u001b[0;34m.\u001b[0m\u001b[0mTF_GetBuffer\u001b[0m\u001b[0;34m(\u001b[0m\u001b[0mrun_metadata_ptr\u001b[0m\u001b[0;34m)\u001b[0m\u001b[0;34m\u001b[0m\u001b[0;34m\u001b[0m\u001b[0m\n",
      "\u001b[0;31mKeyboardInterrupt\u001b[0m: "
     ]
    }
   ],
   "source": [
    "model.fit_generator(dg_train, epochs=1, \n",
    "                    callbacks=[lrf])"
   ]
  },
  {
   "cell_type": "code",
   "execution_count": 71,
   "metadata": {
    "Collapsed": "false"
   },
   "outputs": [
    {
     "data": {
      "text/plain": [
       "(7, 11)"
      ]
     },
     "execution_count": 71,
     "metadata": {},
     "output_type": "execute_result"
    },
    {
     "data": {
      "image/png": "[encoded data removed]",
      "text/plain": [
       "<Figure size 432x288 with 1 Axes>"
      ]
     },
     "metadata": {},
     "output_type": "display_data"
    }
   ],
   "source": [
    "plt.plot(10**lrf.lrs, lrf.losses)\n",
    "plt.ylim(7, 11)\n"
   ]
  },
  {
   "cell_type": "code",
   "execution_count": 72,
   "metadata": {
    "Collapsed": "false"
   },
   "outputs": [
    {
     "ename": "TypeError",
     "evalue": "__init__() got an unexpected keyword argument 'restore_best_weights'",
     "output_type": "error",
     "traceback": [
      "\u001b[0;31m---------------------------------------------------------------------------\u001b[0m",
      "\u001b[0;31mTypeError\u001b[0m                                 Traceback (most recent call last)",
      "\u001b[0;32m<ipython-input-72-7e100fe59cc8>\u001b[0m in \u001b[0;36m<module>\u001b[0;34m\u001b[0m\n\u001b[1;32m      5\u001b[0m                           \u001b[0mverbose\u001b[0m\u001b[0;34m=\u001b[0m\u001b[0;36m1\u001b[0m\u001b[0;34m,\u001b[0m\u001b[0;34m\u001b[0m\u001b[0;34m\u001b[0m\u001b[0m\n\u001b[1;32m      6\u001b[0m                           \u001b[0mmode\u001b[0m\u001b[0;34m=\u001b[0m\u001b[0;34m'auto'\u001b[0m\u001b[0;34m,\u001b[0m\u001b[0;34m\u001b[0m\u001b[0;34m\u001b[0m\u001b[0m\n\u001b[0;32m----> 7\u001b[0;31m                           \u001b[0mrestore_best_weights\u001b[0m\u001b[0;34m=\u001b[0m\u001b[0;32mTrue\u001b[0m\u001b[0;34m\u001b[0m\u001b[0;34m\u001b[0m\u001b[0m\n\u001b[0m\u001b[1;32m      8\u001b[0m                       )\n",
      "\u001b[0;31mTypeError\u001b[0m: __init__() got an unexpected keyword argument 'restore_best_weights'"
     ]
    }
   ],
   "source": [
    "tf.keras.callbacks.EarlyStopping(\n",
    "                          monitor='val_loss',\n",
    "                          min_delta=0,\n",
    "                          patience=5,\n",
    "                          verbose=1,\n",
    "                          mode='auto',\n",
    "                          restore_best_weights=True\n",
    "                      )"
   ]
  },
  {
   "cell_type": "code",
   "execution_count": null,
   "metadata": {
    "Collapsed": "false"
   },
   "outputs": [],
   "source": []
  }
 ],
 "metadata": {
  "kernelspec": {
   "display_name": "Python 3",
   "language": "python",
   "name": "python3"
  },
  "language_info": {
   "codemirror_mode": {
    "name": "ipython",
    "version": 3
   },
   "file_extension": ".py",
   "mimetype": "text/x-python",
   "name": "python",
   "nbconvert_exporter": "python",
   "pygments_lexer": "ipython3",
   "version": "3.7.4"
  }
 },
 "nbformat": 4,
 "nbformat_minor": 4
}
