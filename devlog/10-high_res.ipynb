{
 "cells": [
  {
   "cell_type": "code",
   "execution_count": null,
   "metadata": {},
   "outputs": [],
   "source": [
    "%load_ext autoreload\n",
    "%autoreload 2"
   ]
  },
  {
   "cell_type": "code",
   "execution_count": null,
   "metadata": {},
   "outputs": [],
   "source": [
    "from src.utils import *\n",
    "from src.score import *\n",
    "from src.data_generator import *\n",
    "from src.networks import *\n",
    "import matplotlib.pyplot as plt\n",
    "import yaml"
   ]
  },
  {
   "cell_type": "code",
   "execution_count": null,
   "metadata": {},
   "outputs": [],
   "source": [
    "os.environ[\"CUDA_VISIBLE_DEVICES\"]=str(0)\n",
    "limit_mem()"
   ]
  },
  {
   "cell_type": "code",
   "execution_count": null,
   "metadata": {},
   "outputs": [],
   "source": [
    "exp_id = '13-resnet_bn_dr_0.1'\n",
    "datadir = '/data/stephan/WeatherBench/2.8125deg/'\n",
    "# datadir = '/data/stephan/WeatherBench/5.625deg/'\n",
    "model_save_dir = '/home/rasp/data/myWeatherBench/predictions/saved_models/'\n",
    "pred_save_dir = '/home/rasp/data/myWeatherBench/predictions/'\n",
    "var_dict = {'geopotential': ('z', [200, 500, 850]), 'temperature': ('t', [200, 500, 850]), 'u_component_of_wind': ('u', [200, 500, 850]), 'v_component_of_wind': ('v', [200, 500, 850]), 'constants': ['lsm','orography','lat2d']}\n",
    "output_vars = ['z_500', 't_850']\n",
    "filters = [128, 128, 128, 128, 128, 128, 128, 128, 2]\n",
    "kernels = [7, 3, 3, 3, 3, 3, 3, 3, 3]\n",
    "lead_time = 72\n",
    "lr = 0.5e-4\n",
    "early_stopping_patience = 10\n",
    "reduce_lr_patience = 5\n",
    "data_subsample = 2\n",
    "norm_subsample = 30000\n",
    "bn_position = 'post'\n",
    "use_bias = True\n",
    "dropout = 0.1\n",
    "\n",
    "batch_size = 32\n",
    "nt_in = 1\n",
    "l2 = 0\n",
    "skip = True"
   ]
  },
  {
   "cell_type": "code",
   "execution_count": 33,
   "metadata": {},
   "outputs": [],
   "source": [
    "ds = xr.merge([xr.open_mfdataset(f'{datadir}/{var}/*.nc', combine='by_coords') for var in var_dict.keys()])"
   ]
  },
  {
   "cell_type": "code",
   "execution_count": 34,
   "metadata": {},
   "outputs": [],
   "source": [
    "ds_train = ds.sel(time=slice('2015', '2015'))\n",
    "ds_valid = ds.sel(time=slice('2016', '2016'))\n",
    "ds_test = ds.sel(time=slice('2017', '2018'))"
   ]
  },
  {
   "cell_type": "code",
   "execution_count": 35,
   "metadata": {},
   "outputs": [
    {
     "name": "stdout",
     "output_type": "stream",
     "text": [
      "DG start 13:49:04.245867\n",
      "DG normalize 13:49:04.272392\n",
      "DG load 13:49:18.132124\n",
      "Loading data into RAM\n",
      "DG done 13:49:31.354134\n",
      "DG start 13:49:31.354954\n",
      "DG normalize 13:49:31.377664\n",
      "DG load 13:49:31.387208\n",
      "Loading data into RAM\n",
      "DG done 13:49:50.233831\n",
      "DG start 13:49:50.234824\n",
      "DG normalize 13:49:50.260243\n",
      "DG load 13:49:50.270765\n",
      "Loading data into RAM\n",
      "DG done 13:50:19.196560\n"
     ]
    }
   ],
   "source": [
    "dg_train = DataGenerator(\n",
    "    ds_train, var_dict, lead_time, batch_size=batch_size, output_vars=output_vars,\n",
    "    data_subsample=data_subsample, norm_subsample=norm_subsample\n",
    ")\n",
    "dg_valid = DataGenerator(\n",
    "    ds_valid, var_dict, lead_time, batch_size=batch_size, mean=dg_train.mean, std=dg_train.std,\n",
    "    shuffle=False, output_vars=output_vars\n",
    ")\n",
    "dg_test =  DataGenerator(\n",
    "    ds_test, var_dict, lead_time, batch_size=batch_size, mean=dg_train.mean, std=dg_train.std,\n",
    "    shuffle=False, output_vars=output_vars\n",
    ")"
   ]
  },
  {
   "cell_type": "code",
   "execution_count": 8,
   "metadata": {},
   "outputs": [
    {
     "data": {
      "text/plain": [
       "(<xarray.DataArray 'z' (level: 15)>\n",
       " array([ 1.15201759e+05,  5.39444590e+04,  1.37032833e+04,  2.19051652e+02,\n",
       "         2.52386592e+02,  2.73755411e+02,  1.48783322e+01,  6.67773649e+00,\n",
       "         1.19053692e+00,  3.22724382e-01,  1.21706842e-01, -2.72158433e-01,\n",
       "         3.34394237e-01,  3.78530841e+02,  0.00000000e+00])\n",
       " Coordinates:\n",
       "   * level        (level) int64 200 500 850 200 500 850 200 ... 200 500 850 1 1 1\n",
       "     level_names  (level) <U9 'z_200' 'z_500' 'z_850' ... 'orography' 'lat2d',\n",
       " <xarray.DataArray 'z' (level: 15)>\n",
       " array([5.58323710e+03, 3.23706845e+03, 1.36864250e+03, 5.55358263e+00,\n",
       "        1.33121151e+01, 1.43570794e+01, 1.89776323e+01, 1.29311825e+01,\n",
       "        8.35005218e+00, 1.27525757e+01, 9.89100792e+00, 6.91514649e+00,\n",
       "        4.58128884e-01, 8.49150264e+02, 5.19551809e+01])\n",
       " Coordinates:\n",
       "   * level        (level) int64 200 500 850 200 500 850 200 ... 200 500 850 1 1 1\n",
       "     level_names  (level) <U9 'z_200' 'z_500' 'z_850' ... 'orography' 'lat2d')"
      ]
     },
     "execution_count": 8,
     "metadata": {},
     "output_type": "execute_result"
    }
   ],
   "source": [
    "# 2.8\n",
    "dg_train.mean, dg_train.std"
   ]
  },
  {
   "cell_type": "code",
   "execution_count": 9,
   "metadata": {},
   "outputs": [],
   "source": [
    "# 5.6\n",
    "# dg_train.mean, dg_train.std"
   ]
  },
  {
   "cell_type": "code",
   "execution_count": 82,
   "metadata": {},
   "outputs": [],
   "source": [
    "model = build_resnet(\n",
    "    filters, kernels, input_shape=(\n",
    "        len(dg_train.data.lat), len(dg_train.data.lon), len(dg_train.data.level) * nt_in\n",
    "    ),\n",
    "    bn_position=bn_position, use_bias=use_bias, l2=l2, skip=skip,\n",
    "    dropout=dropout\n",
    ")"
   ]
  },
  {
   "cell_type": "code",
   "execution_count": 127,
   "metadata": {},
   "outputs": [
    {
     "name": "stdout",
     "output_type": "stream",
     "text": [
      "Model: \"model_7\"\n",
      "__________________________________________________________________________________________________\n",
      "Layer (type)                    Output Shape         Param #     Connected to                     \n",
      "==================================================================================================\n",
      "input_8 (InputLayer)            [(None, 64, 128, 15) 0                                            \n",
      "__________________________________________________________________________________________________\n",
      "periodic_conv2d_112 (PeriodicCo (None, 64, 128, 128) 94208       input_8[0][0]                    \n",
      "__________________________________________________________________________________________________\n",
      "activation_105 (Activation)     (None, 64, 128, 128) 0           periodic_conv2d_112[0][0]        \n",
      "__________________________________________________________________________________________________\n",
      "batch_normalization_105 (BatchN (None, 64, 128, 128) 512         activation_105[0][0]             \n",
      "__________________________________________________________________________________________________\n",
      "dropout_105 (Dropout)           (None, 64, 128, 128) 0           batch_normalization_105[0][0]    \n",
      "__________________________________________________________________________________________________\n",
      "periodic_conv2d_113 (PeriodicCo (None, 64, 128, 128) 147584      dropout_105[0][0]                \n",
      "__________________________________________________________________________________________________\n",
      "activation_106 (Activation)     (None, 64, 128, 128) 0           periodic_conv2d_113[0][0]        \n",
      "__________________________________________________________________________________________________\n",
      "batch_normalization_106 (BatchN (None, 64, 128, 128) 512         activation_106[0][0]             \n",
      "__________________________________________________________________________________________________\n",
      "dropout_106 (Dropout)           (None, 64, 128, 128) 0           batch_normalization_106[0][0]    \n",
      "__________________________________________________________________________________________________\n",
      "periodic_conv2d_114 (PeriodicCo (None, 64, 128, 128) 147584      dropout_106[0][0]                \n",
      "__________________________________________________________________________________________________\n",
      "activation_107 (Activation)     (None, 64, 128, 128) 0           periodic_conv2d_114[0][0]        \n",
      "__________________________________________________________________________________________________\n",
      "batch_normalization_107 (BatchN (None, 64, 128, 128) 512         activation_107[0][0]             \n",
      "__________________________________________________________________________________________________\n",
      "dropout_107 (Dropout)           (None, 64, 128, 128) 0           batch_normalization_107[0][0]    \n",
      "__________________________________________________________________________________________________\n",
      "add_49 (Add)                    (None, 64, 128, 128) 0           dropout_105[0][0]                \n",
      "                                                                 dropout_107[0][0]                \n",
      "__________________________________________________________________________________________________\n",
      "periodic_conv2d_115 (PeriodicCo (None, 64, 128, 128) 147584      add_49[0][0]                     \n",
      "__________________________________________________________________________________________________\n",
      "activation_108 (Activation)     (None, 64, 128, 128) 0           periodic_conv2d_115[0][0]        \n",
      "__________________________________________________________________________________________________\n",
      "batch_normalization_108 (BatchN (None, 64, 128, 128) 512         activation_108[0][0]             \n",
      "__________________________________________________________________________________________________\n",
      "dropout_108 (Dropout)           (None, 64, 128, 128) 0           batch_normalization_108[0][0]    \n",
      "__________________________________________________________________________________________________\n",
      "periodic_conv2d_116 (PeriodicCo (None, 64, 128, 128) 147584      dropout_108[0][0]                \n",
      "__________________________________________________________________________________________________\n",
      "activation_109 (Activation)     (None, 64, 128, 128) 0           periodic_conv2d_116[0][0]        \n",
      "__________________________________________________________________________________________________\n",
      "batch_normalization_109 (BatchN (None, 64, 128, 128) 512         activation_109[0][0]             \n",
      "__________________________________________________________________________________________________\n",
      "dropout_109 (Dropout)           (None, 64, 128, 128) 0           batch_normalization_109[0][0]    \n",
      "__________________________________________________________________________________________________\n",
      "add_50 (Add)                    (None, 64, 128, 128) 0           add_49[0][0]                     \n",
      "                                                                 dropout_109[0][0]                \n",
      "__________________________________________________________________________________________________\n",
      "periodic_conv2d_117 (PeriodicCo (None, 64, 128, 128) 147584      add_50[0][0]                     \n",
      "__________________________________________________________________________________________________\n",
      "activation_110 (Activation)     (None, 64, 128, 128) 0           periodic_conv2d_117[0][0]        \n",
      "__________________________________________________________________________________________________\n",
      "batch_normalization_110 (BatchN (None, 64, 128, 128) 512         activation_110[0][0]             \n",
      "__________________________________________________________________________________________________\n",
      "dropout_110 (Dropout)           (None, 64, 128, 128) 0           batch_normalization_110[0][0]    \n",
      "__________________________________________________________________________________________________\n",
      "periodic_conv2d_118 (PeriodicCo (None, 64, 128, 128) 147584      dropout_110[0][0]                \n",
      "__________________________________________________________________________________________________\n",
      "activation_111 (Activation)     (None, 64, 128, 128) 0           periodic_conv2d_118[0][0]        \n",
      "__________________________________________________________________________________________________\n",
      "batch_normalization_111 (BatchN (None, 64, 128, 128) 512         activation_111[0][0]             \n",
      "__________________________________________________________________________________________________\n",
      "dropout_111 (Dropout)           (None, 64, 128, 128) 0           batch_normalization_111[0][0]    \n",
      "__________________________________________________________________________________________________\n",
      "add_51 (Add)                    (None, 64, 128, 128) 0           add_50[0][0]                     \n",
      "                                                                 dropout_111[0][0]                \n",
      "__________________________________________________________________________________________________\n",
      "periodic_conv2d_119 (PeriodicCo (None, 64, 128, 128) 147584      add_51[0][0]                     \n",
      "__________________________________________________________________________________________________\n",
      "activation_112 (Activation)     (None, 64, 128, 128) 0           periodic_conv2d_119[0][0]        \n",
      "__________________________________________________________________________________________________\n",
      "batch_normalization_112 (BatchN (None, 64, 128, 128) 512         activation_112[0][0]             \n",
      "__________________________________________________________________________________________________\n",
      "dropout_112 (Dropout)           (None, 64, 128, 128) 0           batch_normalization_112[0][0]    \n",
      "__________________________________________________________________________________________________\n",
      "periodic_conv2d_120 (PeriodicCo (None, 64, 128, 128) 147584      dropout_112[0][0]                \n",
      "__________________________________________________________________________________________________\n",
      "activation_113 (Activation)     (None, 64, 128, 128) 0           periodic_conv2d_120[0][0]        \n",
      "__________________________________________________________________________________________________\n",
      "batch_normalization_113 (BatchN (None, 64, 128, 128) 512         activation_113[0][0]             \n",
      "__________________________________________________________________________________________________\n",
      "dropout_113 (Dropout)           (None, 64, 128, 128) 0           batch_normalization_113[0][0]    \n",
      "__________________________________________________________________________________________________\n",
      "add_52 (Add)                    (None, 64, 128, 128) 0           add_51[0][0]                     \n",
      "                                                                 dropout_113[0][0]                \n",
      "__________________________________________________________________________________________________\n",
      "periodic_conv2d_121 (PeriodicCo (None, 64, 128, 128) 147584      add_52[0][0]                     \n",
      "__________________________________________________________________________________________________\n",
      "activation_114 (Activation)     (None, 64, 128, 128) 0           periodic_conv2d_121[0][0]        \n",
      "__________________________________________________________________________________________________\n",
      "batch_normalization_114 (BatchN (None, 64, 128, 128) 512         activation_114[0][0]             \n",
      "__________________________________________________________________________________________________\n",
      "dropout_114 (Dropout)           (None, 64, 128, 128) 0           batch_normalization_114[0][0]    \n",
      "__________________________________________________________________________________________________\n",
      "periodic_conv2d_122 (PeriodicCo (None, 64, 128, 128) 147584      dropout_114[0][0]                \n",
      "__________________________________________________________________________________________________\n",
      "activation_115 (Activation)     (None, 64, 128, 128) 0           periodic_conv2d_122[0][0]        \n",
      "__________________________________________________________________________________________________\n",
      "batch_normalization_115 (BatchN (None, 64, 128, 128) 512         activation_115[0][0]             \n",
      "__________________________________________________________________________________________________\n",
      "dropout_115 (Dropout)           (None, 64, 128, 128) 0           batch_normalization_115[0][0]    \n",
      "__________________________________________________________________________________________________\n",
      "add_53 (Add)                    (None, 64, 128, 128) 0           add_52[0][0]                     \n",
      "                                                                 dropout_115[0][0]                \n",
      "__________________________________________________________________________________________________\n",
      "periodic_conv2d_123 (PeriodicCo (None, 64, 128, 128) 147584      add_53[0][0]                     \n",
      "__________________________________________________________________________________________________\n",
      "activation_116 (Activation)     (None, 64, 128, 128) 0           periodic_conv2d_123[0][0]        \n",
      "__________________________________________________________________________________________________\n",
      "batch_normalization_116 (BatchN (None, 64, 128, 128) 512         activation_116[0][0]             \n",
      "__________________________________________________________________________________________________\n",
      "dropout_116 (Dropout)           (None, 64, 128, 128) 0           batch_normalization_116[0][0]    \n",
      "__________________________________________________________________________________________________\n",
      "periodic_conv2d_124 (PeriodicCo (None, 64, 128, 128) 147584      dropout_116[0][0]                \n",
      "__________________________________________________________________________________________________\n",
      "activation_117 (Activation)     (None, 64, 128, 128) 0           periodic_conv2d_124[0][0]        \n",
      "__________________________________________________________________________________________________\n",
      "batch_normalization_117 (BatchN (None, 64, 128, 128) 512         activation_117[0][0]             \n",
      "__________________________________________________________________________________________________\n",
      "dropout_117 (Dropout)           (None, 64, 128, 128) 0           batch_normalization_117[0][0]    \n",
      "__________________________________________________________________________________________________\n",
      "add_54 (Add)                    (None, 64, 128, 128) 0           add_53[0][0]                     \n",
      "                                                                 dropout_117[0][0]                \n",
      "__________________________________________________________________________________________________\n",
      "periodic_conv2d_125 (PeriodicCo (None, 64, 128, 128) 147584      add_54[0][0]                     \n",
      "__________________________________________________________________________________________________\n",
      "activation_118 (Activation)     (None, 64, 128, 128) 0           periodic_conv2d_125[0][0]        \n",
      "__________________________________________________________________________________________________\n",
      "batch_normalization_118 (BatchN (None, 64, 128, 128) 512         activation_118[0][0]             \n",
      "__________________________________________________________________________________________________\n",
      "dropout_118 (Dropout)           (None, 64, 128, 128) 0           batch_normalization_118[0][0]    \n",
      "__________________________________________________________________________________________________\n",
      "periodic_conv2d_126 (PeriodicCo (None, 64, 128, 128) 147584      dropout_118[0][0]                \n",
      "__________________________________________________________________________________________________\n",
      "activation_119 (Activation)     (None, 64, 128, 128) 0           periodic_conv2d_126[0][0]        \n",
      "__________________________________________________________________________________________________\n",
      "batch_normalization_119 (BatchN (None, 64, 128, 128) 512         activation_119[0][0]             \n",
      "__________________________________________________________________________________________________\n",
      "dropout_119 (Dropout)           (None, 64, 128, 128) 0           batch_normalization_119[0][0]    \n",
      "__________________________________________________________________________________________________\n",
      "add_55 (Add)                    (None, 64, 128, 128) 0           add_54[0][0]                     \n",
      "                                                                 dropout_119[0][0]                \n",
      "__________________________________________________________________________________________________\n",
      "periodic_conv2d_127 (PeriodicCo (None, 64, 128, 2)   2306        add_55[0][0]                     \n",
      "==================================================================================================\n",
      "Total params: 2,170,370\n",
      "Trainable params: 2,166,530\n",
      "Non-trainable params: 3,840\n",
      "__________________________________________________________________________________________________\n"
     ]
    }
   ],
   "source": [
    "model.summary()"
   ]
  },
  {
   "cell_type": "code",
   "execution_count": 38,
   "metadata": {},
   "outputs": [],
   "source": [
    "model.compile(keras.optimizers.Adam(lr), 'mse')"
   ]
  },
  {
   "cell_type": "code",
   "execution_count": 39,
   "metadata": {},
   "outputs": [
    {
     "name": "stdout",
     "output_type": "stream",
     "text": [
      "WARNING:tensorflow:sample_weight modes were coerced from\n",
      "  ...\n",
      "    to  \n",
      "  ['...']\n",
      "WARNING:tensorflow:sample_weight modes were coerced from\n",
      "  ...\n",
      "    to  \n",
      "  ['...']\n",
      "Train for 136 steps, validate for 273 steps\n",
      "136/136 [==============================] - 86s 631ms/step - loss: 4.7859 - val_loss: 0.9650\n"
     ]
    }
   ],
   "source": [
    "history = model.fit(dg_train, epochs=1, validation_data=dg_valid)"
   ]
  },
  {
   "cell_type": "markdown",
   "metadata": {},
   "source": [
    "## With pretraining"
   ]
  },
  {
   "cell_type": "code",
   "execution_count": 83,
   "metadata": {},
   "outputs": [],
   "source": [
    "model = build_resnet(\n",
    "    filters, kernels, input_shape=(\n",
    "        len(dg_train.data.lat), len(dg_train.data.lon), len(dg_train.data.level) * nt_in\n",
    "    ),\n",
    "    bn_position=bn_position, use_bias=use_bias, l2=l2, skip=skip,\n",
    "    dropout=dropout\n",
    ")"
   ]
  },
  {
   "cell_type": "code",
   "execution_count": 102,
   "metadata": {},
   "outputs": [
    {
     "data": {
      "text/plain": [
       "69"
      ]
     },
     "execution_count": 102,
     "metadata": {},
     "output_type": "execute_result"
    }
   ],
   "source": [
    "len(model.layers)"
   ]
  },
  {
   "cell_type": "code",
   "execution_count": 88,
   "metadata": {},
   "outputs": [],
   "source": [
    "pre_model = keras.models.load_model(f'{model_save_dir}/{exp_id}.h5', \n",
    "                                custom_objects={'PeriodicConv2D': PeriodicConv2D})"
   ]
  },
  {
   "cell_type": "code",
   "execution_count": 103,
   "metadata": {},
   "outputs": [
    {
     "data": {
      "text/plain": [
       "69"
      ]
     },
     "execution_count": 103,
     "metadata": {},
     "output_type": "execute_result"
    }
   ],
   "source": [
    "len(pre_model.layers)"
   ]
  },
  {
   "cell_type": "code",
   "execution_count": 92,
   "metadata": {},
   "outputs": [
    {
     "name": "stdout",
     "output_type": "stream",
     "text": [
      "WARNING:tensorflow:sample_weight modes were coerced from\n",
      "  ...\n",
      "    to  \n",
      "  ['...']\n",
      "273/273 [==============================] - 27s 97ms/step - loss: 0.1478\n"
     ]
    },
    {
     "data": {
      "text/plain": [
       "0.14779005377065568"
      ]
     },
     "execution_count": 92,
     "metadata": {},
     "output_type": "execute_result"
    }
   ],
   "source": [
    "pre_model.evaluate(dg_valid)"
   ]
  },
  {
   "cell_type": "code",
   "execution_count": 123,
   "metadata": {},
   "outputs": [],
   "source": [
    "n = 'periodic_conv2d_15'"
   ]
  },
  {
   "cell_type": "code",
   "execution_count": 126,
   "metadata": {},
   "outputs": [],
   "source": [
    "for i, l in enumerate(pre_model.layers):\n",
    "    model.layers[i].set_weights(l.get_weights())\n",
    "    if l.name == n: break"
   ]
  },
  {
   "cell_type": "code",
   "execution_count": 128,
   "metadata": {},
   "outputs": [],
   "source": [
    "last_trainable_layer = 'periodic_conv2d_122'"
   ]
  },
  {
   "cell_type": "code",
   "execution_count": 132,
   "metadata": {},
   "outputs": [
    {
     "data": {
      "text/plain": [
       "False"
      ]
     },
     "execution_count": 132,
     "metadata": {},
     "output_type": "execute_result"
    }
   ],
   "source": [
    "l.trainable"
   ]
  },
  {
   "cell_type": "code",
   "execution_count": 133,
   "metadata": {},
   "outputs": [],
   "source": [
    "for l in model.layers:\n",
    "    l.trainable = False\n",
    "    if l.name == last_trainable_layer: break"
   ]
  },
  {
   "cell_type": "code",
   "execution_count": 134,
   "metadata": {},
   "outputs": [
    {
     "name": "stdout",
     "output_type": "stream",
     "text": [
      "False\n",
      "False\n",
      "False\n",
      "False\n",
      "False\n",
      "False\n",
      "False\n",
      "False\n",
      "False\n",
      "False\n",
      "False\n",
      "False\n",
      "False\n",
      "False\n",
      "False\n",
      "False\n",
      "False\n",
      "False\n",
      "False\n",
      "False\n",
      "False\n",
      "False\n",
      "False\n",
      "False\n",
      "False\n",
      "False\n",
      "False\n",
      "False\n",
      "False\n",
      "False\n",
      "False\n",
      "False\n",
      "False\n",
      "False\n",
      "False\n",
      "False\n",
      "False\n",
      "False\n",
      "False\n",
      "False\n",
      "False\n",
      "False\n",
      "False\n",
      "False\n",
      "False\n",
      "False\n",
      "True\n",
      "True\n",
      "True\n",
      "True\n",
      "True\n",
      "True\n",
      "True\n",
      "True\n",
      "True\n",
      "True\n",
      "True\n",
      "True\n",
      "True\n",
      "True\n",
      "True\n",
      "True\n",
      "True\n",
      "True\n",
      "True\n",
      "True\n",
      "True\n",
      "True\n",
      "True\n"
     ]
    }
   ],
   "source": [
    "for l in model.layers:\n",
    "    print(l.trainable)"
   ]
  },
  {
   "cell_type": "code",
   "execution_count": 109,
   "metadata": {},
   "outputs": [],
   "source": [
    "model.compile('adam', 'mse')"
   ]
  },
  {
   "cell_type": "code",
   "execution_count": 110,
   "metadata": {},
   "outputs": [
    {
     "name": "stdout",
     "output_type": "stream",
     "text": [
      "WARNING:tensorflow:sample_weight modes were coerced from\n",
      "  ...\n",
      "    to  \n",
      "  ['...']\n",
      "273/273 [==============================] - 27s 100ms/step - loss: 0.1478\n"
     ]
    },
    {
     "data": {
      "text/plain": [
       "0.14779005377065568"
      ]
     },
     "execution_count": 110,
     "metadata": {},
     "output_type": "execute_result"
    }
   ],
   "source": [
    "model.evaluate(dg_valid)"
   ]
  },
  {
   "cell_type": "code",
   "execution_count": 100,
   "metadata": {},
   "outputs": [],
   "source": [
    "w = l.get_weights()"
   ]
  },
  {
   "cell_type": "code",
   "execution_count": null,
   "metadata": {},
   "outputs": [],
   "source": []
  },
  {
   "cell_type": "code",
   "execution_count": 101,
   "metadata": {},
   "outputs": [],
   "source": [
    "l.set_weights(w)"
   ]
  },
  {
   "cell_type": "code",
   "execution_count": 96,
   "metadata": {},
   "outputs": [
    {
     "data": {
      "text/plain": [
       "2"
      ]
     },
     "execution_count": 96,
     "metadata": {},
     "output_type": "execute_result"
    }
   ],
   "source": [
    "len(l.weights)"
   ]
  },
  {
   "cell_type": "code",
   "execution_count": 84,
   "metadata": {},
   "outputs": [],
   "source": [
    "weights = model.get_weights()"
   ]
  },
  {
   "cell_type": "code",
   "execution_count": 87,
   "metadata": {},
   "outputs": [
    {
     "data": {
      "text/plain": [
       "69"
      ]
     },
     "execution_count": 87,
     "metadata": {},
     "output_type": "execute_result"
    }
   ],
   "source": [
    "len(model.layers)"
   ]
  },
  {
   "cell_type": "code",
   "execution_count": 86,
   "metadata": {},
   "outputs": [
    {
     "data": {
      "text/plain": [
       "92"
      ]
     },
     "execution_count": 86,
     "metadata": {},
     "output_type": "execute_result"
    }
   ],
   "source": [
    "len(weights)"
   ]
  },
  {
   "cell_type": "code",
   "execution_count": 69,
   "metadata": {},
   "outputs": [],
   "source": [
    "model = keras.models.load_model(f'{model_save_dir}/{exp_id}.h5', \n",
    "                                custom_objects={'PeriodicConv2D': PeriodicConv2D})"
   ]
  },
  {
   "cell_type": "code",
   "execution_count": 70,
   "metadata": {},
   "outputs": [
    {
     "data": {
      "text/plain": [
       "True"
      ]
     },
     "execution_count": 70,
     "metadata": {},
     "output_type": "execute_result"
    }
   ],
   "source": [
    "model.layers[1].conv.use_bias"
   ]
  },
  {
   "cell_type": "code",
   "execution_count": 71,
   "metadata": {
    "collapsed": true,
    "jupyter": {
     "outputs_hidden": true
    }
   },
   "outputs": [
    {
     "name": "stdout",
     "output_type": "stream",
     "text": [
      "Model: \"model\"\n",
      "__________________________________________________________________________________________________\n",
      "Layer (type)                    Output Shape         Param #     Connected to                     \n",
      "==================================================================================================\n",
      "input_1 (InputLayer)            [(None, 32, 64, 15)] 0                                            \n",
      "__________________________________________________________________________________________________\n",
      "periodic_conv2d (PeriodicConv2D (None, 32, 64, 128)  94208       input_1[0][0]                    \n",
      "__________________________________________________________________________________________________\n",
      "re_lu (ReLU)                    (None, 32, 64, 128)  0           periodic_conv2d[0][0]            \n",
      "__________________________________________________________________________________________________\n",
      "batch_normalization (BatchNorma (None, 32, 64, 128)  512         re_lu[0][0]                      \n",
      "__________________________________________________________________________________________________\n",
      "dropout (Dropout)               (None, 32, 64, 128)  0           batch_normalization[0][0]        \n",
      "__________________________________________________________________________________________________\n",
      "periodic_conv2d_1 (PeriodicConv (None, 32, 64, 128)  147584      dropout[0][0]                    \n",
      "__________________________________________________________________________________________________\n",
      "re_lu_1 (ReLU)                  (None, 32, 64, 128)  0           periodic_conv2d_1[0][0]          \n",
      "__________________________________________________________________________________________________\n",
      "batch_normalization_1 (BatchNor (None, 32, 64, 128)  512         re_lu_1[0][0]                    \n",
      "__________________________________________________________________________________________________\n",
      "dropout_1 (Dropout)             (None, 32, 64, 128)  0           batch_normalization_1[0][0]      \n",
      "__________________________________________________________________________________________________\n",
      "periodic_conv2d_2 (PeriodicConv (None, 32, 64, 128)  147584      dropout_1[0][0]                  \n",
      "__________________________________________________________________________________________________\n",
      "re_lu_2 (ReLU)                  (None, 32, 64, 128)  0           periodic_conv2d_2[0][0]          \n",
      "__________________________________________________________________________________________________\n",
      "batch_normalization_2 (BatchNor (None, 32, 64, 128)  512         re_lu_2[0][0]                    \n",
      "__________________________________________________________________________________________________\n",
      "dropout_2 (Dropout)             (None, 32, 64, 128)  0           batch_normalization_2[0][0]      \n",
      "__________________________________________________________________________________________________\n",
      "add (Add)                       (None, 32, 64, 128)  0           dropout[0][0]                    \n",
      "                                                                 dropout_2[0][0]                  \n",
      "__________________________________________________________________________________________________\n",
      "periodic_conv2d_3 (PeriodicConv (None, 32, 64, 128)  147584      add[0][0]                        \n",
      "__________________________________________________________________________________________________\n",
      "re_lu_3 (ReLU)                  (None, 32, 64, 128)  0           periodic_conv2d_3[0][0]          \n",
      "__________________________________________________________________________________________________\n",
      "batch_normalization_3 (BatchNor (None, 32, 64, 128)  512         re_lu_3[0][0]                    \n",
      "__________________________________________________________________________________________________\n",
      "dropout_3 (Dropout)             (None, 32, 64, 128)  0           batch_normalization_3[0][0]      \n",
      "__________________________________________________________________________________________________\n",
      "periodic_conv2d_4 (PeriodicConv (None, 32, 64, 128)  147584      dropout_3[0][0]                  \n",
      "__________________________________________________________________________________________________\n",
      "re_lu_4 (ReLU)                  (None, 32, 64, 128)  0           periodic_conv2d_4[0][0]          \n",
      "__________________________________________________________________________________________________\n",
      "batch_normalization_4 (BatchNor (None, 32, 64, 128)  512         re_lu_4[0][0]                    \n",
      "__________________________________________________________________________________________________\n",
      "dropout_4 (Dropout)             (None, 32, 64, 128)  0           batch_normalization_4[0][0]      \n",
      "__________________________________________________________________________________________________\n",
      "add_1 (Add)                     (None, 32, 64, 128)  0           add[0][0]                        \n",
      "                                                                 dropout_4[0][0]                  \n",
      "__________________________________________________________________________________________________\n",
      "periodic_conv2d_5 (PeriodicConv (None, 32, 64, 128)  147584      add_1[0][0]                      \n",
      "__________________________________________________________________________________________________\n",
      "re_lu_5 (ReLU)                  (None, 32, 64, 128)  0           periodic_conv2d_5[0][0]          \n",
      "__________________________________________________________________________________________________\n",
      "batch_normalization_5 (BatchNor (None, 32, 64, 128)  512         re_lu_5[0][0]                    \n",
      "__________________________________________________________________________________________________\n",
      "dropout_5 (Dropout)             (None, 32, 64, 128)  0           batch_normalization_5[0][0]      \n",
      "__________________________________________________________________________________________________\n",
      "periodic_conv2d_6 (PeriodicConv (None, 32, 64, 128)  147584      dropout_5[0][0]                  \n",
      "__________________________________________________________________________________________________\n",
      "re_lu_6 (ReLU)                  (None, 32, 64, 128)  0           periodic_conv2d_6[0][0]          \n",
      "__________________________________________________________________________________________________\n",
      "batch_normalization_6 (BatchNor (None, 32, 64, 128)  512         re_lu_6[0][0]                    \n",
      "__________________________________________________________________________________________________\n",
      "dropout_6 (Dropout)             (None, 32, 64, 128)  0           batch_normalization_6[0][0]      \n",
      "__________________________________________________________________________________________________\n",
      "add_2 (Add)                     (None, 32, 64, 128)  0           add_1[0][0]                      \n",
      "                                                                 dropout_6[0][0]                  \n",
      "__________________________________________________________________________________________________\n",
      "periodic_conv2d_7 (PeriodicConv (None, 32, 64, 128)  147584      add_2[0][0]                      \n",
      "__________________________________________________________________________________________________\n",
      "re_lu_7 (ReLU)                  (None, 32, 64, 128)  0           periodic_conv2d_7[0][0]          \n",
      "__________________________________________________________________________________________________\n",
      "batch_normalization_7 (BatchNor (None, 32, 64, 128)  512         re_lu_7[0][0]                    \n",
      "__________________________________________________________________________________________________\n",
      "dropout_7 (Dropout)             (None, 32, 64, 128)  0           batch_normalization_7[0][0]      \n",
      "__________________________________________________________________________________________________\n",
      "periodic_conv2d_8 (PeriodicConv (None, 32, 64, 128)  147584      dropout_7[0][0]                  \n",
      "__________________________________________________________________________________________________\n",
      "re_lu_8 (ReLU)                  (None, 32, 64, 128)  0           periodic_conv2d_8[0][0]          \n",
      "__________________________________________________________________________________________________\n",
      "batch_normalization_8 (BatchNor (None, 32, 64, 128)  512         re_lu_8[0][0]                    \n",
      "__________________________________________________________________________________________________\n",
      "dropout_8 (Dropout)             (None, 32, 64, 128)  0           batch_normalization_8[0][0]      \n",
      "__________________________________________________________________________________________________\n",
      "add_3 (Add)                     (None, 32, 64, 128)  0           add_2[0][0]                      \n",
      "                                                                 dropout_8[0][0]                  \n",
      "__________________________________________________________________________________________________\n",
      "periodic_conv2d_9 (PeriodicConv (None, 32, 64, 128)  147584      add_3[0][0]                      \n",
      "__________________________________________________________________________________________________\n",
      "re_lu_9 (ReLU)                  (None, 32, 64, 128)  0           periodic_conv2d_9[0][0]          \n",
      "__________________________________________________________________________________________________\n",
      "batch_normalization_9 (BatchNor (None, 32, 64, 128)  512         re_lu_9[0][0]                    \n",
      "__________________________________________________________________________________________________\n",
      "dropout_9 (Dropout)             (None, 32, 64, 128)  0           batch_normalization_9[0][0]      \n",
      "__________________________________________________________________________________________________\n",
      "periodic_conv2d_10 (PeriodicCon (None, 32, 64, 128)  147584      dropout_9[0][0]                  \n",
      "__________________________________________________________________________________________________\n",
      "re_lu_10 (ReLU)                 (None, 32, 64, 128)  0           periodic_conv2d_10[0][0]         \n",
      "__________________________________________________________________________________________________\n",
      "batch_normalization_10 (BatchNo (None, 32, 64, 128)  512         re_lu_10[0][0]                   \n",
      "__________________________________________________________________________________________________\n",
      "dropout_10 (Dropout)            (None, 32, 64, 128)  0           batch_normalization_10[0][0]     \n",
      "__________________________________________________________________________________________________\n",
      "add_4 (Add)                     (None, 32, 64, 128)  0           add_3[0][0]                      \n",
      "                                                                 dropout_10[0][0]                 \n",
      "__________________________________________________________________________________________________\n",
      "periodic_conv2d_11 (PeriodicCon (None, 32, 64, 128)  147584      add_4[0][0]                      \n",
      "__________________________________________________________________________________________________\n",
      "re_lu_11 (ReLU)                 (None, 32, 64, 128)  0           periodic_conv2d_11[0][0]         \n",
      "__________________________________________________________________________________________________\n",
      "batch_normalization_11 (BatchNo (None, 32, 64, 128)  512         re_lu_11[0][0]                   \n",
      "__________________________________________________________________________________________________\n",
      "dropout_11 (Dropout)            (None, 32, 64, 128)  0           batch_normalization_11[0][0]     \n",
      "__________________________________________________________________________________________________\n",
      "periodic_conv2d_12 (PeriodicCon (None, 32, 64, 128)  147584      dropout_11[0][0]                 \n",
      "__________________________________________________________________________________________________\n",
      "re_lu_12 (ReLU)                 (None, 32, 64, 128)  0           periodic_conv2d_12[0][0]         \n",
      "__________________________________________________________________________________________________\n",
      "batch_normalization_12 (BatchNo (None, 32, 64, 128)  512         re_lu_12[0][0]                   \n",
      "__________________________________________________________________________________________________\n",
      "dropout_12 (Dropout)            (None, 32, 64, 128)  0           batch_normalization_12[0][0]     \n",
      "__________________________________________________________________________________________________\n",
      "add_5 (Add)                     (None, 32, 64, 128)  0           add_4[0][0]                      \n",
      "                                                                 dropout_12[0][0]                 \n",
      "__________________________________________________________________________________________________\n",
      "periodic_conv2d_13 (PeriodicCon (None, 32, 64, 128)  147584      add_5[0][0]                      \n",
      "__________________________________________________________________________________________________\n",
      "re_lu_13 (ReLU)                 (None, 32, 64, 128)  0           periodic_conv2d_13[0][0]         \n",
      "__________________________________________________________________________________________________\n",
      "batch_normalization_13 (BatchNo (None, 32, 64, 128)  512         re_lu_13[0][0]                   \n",
      "__________________________________________________________________________________________________\n",
      "dropout_13 (Dropout)            (None, 32, 64, 128)  0           batch_normalization_13[0][0]     \n",
      "__________________________________________________________________________________________________\n",
      "periodic_conv2d_14 (PeriodicCon (None, 32, 64, 128)  147584      dropout_13[0][0]                 \n",
      "__________________________________________________________________________________________________\n",
      "re_lu_14 (ReLU)                 (None, 32, 64, 128)  0           periodic_conv2d_14[0][0]         \n",
      "__________________________________________________________________________________________________\n",
      "batch_normalization_14 (BatchNo (None, 32, 64, 128)  512         re_lu_14[0][0]                   \n",
      "__________________________________________________________________________________________________\n",
      "dropout_14 (Dropout)            (None, 32, 64, 128)  0           batch_normalization_14[0][0]     \n",
      "__________________________________________________________________________________________________\n",
      "add_6 (Add)                     (None, 32, 64, 128)  0           add_5[0][0]                      \n",
      "                                                                 dropout_14[0][0]                 \n",
      "__________________________________________________________________________________________________\n",
      "periodic_conv2d_15 (PeriodicCon (None, 32, 64, 2)    2306        add_6[0][0]                      \n",
      "==================================================================================================\n",
      "Total params: 2,170,370\n",
      "Trainable params: 2,166,530\n",
      "Non-trainable params: 3,840\n",
      "__________________________________________________________________________________________________\n"
     ]
    }
   ],
   "source": [
    "model.summary()"
   ]
  },
  {
   "cell_type": "code",
   "execution_count": 12,
   "metadata": {},
   "outputs": [
    {
     "name": "stdout",
     "output_type": "stream",
     "text": [
      "WARNING:tensorflow:sample_weight modes were coerced from\n",
      "  ...\n",
      "    to  \n",
      "  ['...']\n",
      "WARNING:tensorflow:sample_weight modes were coerced from\n",
      "  ...\n",
      "    to  \n",
      "  ['...']\n",
      "Train for 272 steps, validate for 545 steps\n",
      "272/272 [==============================] - 88s 325ms/step - loss: 0.1158 - val_loss: 0.1122\n"
     ]
    }
   ],
   "source": [
    "history = model.fit(dg_train, epochs=1, validation_data=dg_valid)"
   ]
  },
  {
   "cell_type": "markdown",
   "metadata": {},
   "source": [
    "## Evaluation"
   ]
  },
  {
   "cell_type": "code",
   "execution_count": 13,
   "metadata": {},
   "outputs": [],
   "source": [
    "valdir = '/data/stephan/WeatherBench/5.625deg/'\n",
    "z500_valid = load_test_data(f'{valdir}geopotential_500', 'z')\n",
    "t850_valid = load_test_data(f'{valdir}temperature_850', 't')"
   ]
  },
  {
   "cell_type": "code",
   "execution_count": 14,
   "metadata": {},
   "outputs": [],
   "source": [
    "lr_preds = xr.open_dataset(f'{pred_save_dir}/{exp_id}.nc')"
   ]
  },
  {
   "cell_type": "code",
   "execution_count": 15,
   "metadata": {},
   "outputs": [],
   "source": [
    "preds = create_predictions(model, dg_test)"
   ]
  },
  {
   "cell_type": "code",
   "execution_count": 16,
   "metadata": {},
   "outputs": [
    {
     "data": {
      "text/html": [
       "<pre>&lt;xarray.Dataset&gt;\n",
       "Dimensions:  (lat: 64, lon: 128, time: 17448)\n",
       "Coordinates:\n",
       "  * time     (time) datetime64[ns] 2017-01-04 ... 2018-12-31T23:00:00\n",
       "  * lat      (lat) float64 -88.59 -85.78 -82.97 -80.16 ... 82.97 85.78 88.59\n",
       "  * lon      (lon) float64 0.0 2.812 5.625 8.438 ... 348.8 351.6 354.4 357.2\n",
       "Data variables:\n",
       "    t        (time, lat, lon) float64 253.5 253.7 253.8 ... 255.6 255.6 255.5\n",
       "    z        (time, lat, lon) float64 5.099e+04 5.09e+04 ... 4.916e+04 4.915e+04</pre>"
      ],
      "text/plain": [
       "<xarray.Dataset>\n",
       "Dimensions:  (lat: 64, lon: 128, time: 17448)\n",
       "Coordinates:\n",
       "  * time     (time) datetime64[ns] 2017-01-04 ... 2018-12-31T23:00:00\n",
       "  * lat      (lat) float64 -88.59 -85.78 -82.97 -80.16 ... 82.97 85.78 88.59\n",
       "  * lon      (lon) float64 0.0 2.812 5.625 8.438 ... 348.8 351.6 354.4 357.2\n",
       "Data variables:\n",
       "    t        (time, lat, lon) float64 253.5 253.7 253.8 ... 255.6 255.6 255.5\n",
       "    z        (time, lat, lon) float64 5.099e+04 5.09e+04 ... 4.916e+04 4.915e+04"
      ]
     },
     "execution_count": 16,
     "metadata": {},
     "output_type": "execute_result"
    }
   ],
   "source": [
    "preds"
   ]
  },
  {
   "cell_type": "code",
   "execution_count": 17,
   "metadata": {},
   "outputs": [
    {
     "data": {
      "text/plain": [
       "<matplotlib.collections.QuadMesh at 0x7f33585bc350>"
      ]
     },
     "execution_count": 17,
     "metadata": {},
     "output_type": "execute_result"
    },
    {
     "data": {
      "image/png": "[encoded data removed]",
      "text/plain": [
       "<Figure size 432x288 with 2 Axes>"
      ]
     },
     "metadata": {
      "needs_background": "light"
     },
     "output_type": "display_data"
    }
   ],
   "source": [
    "preds.isel(time=-1).z.plot()"
   ]
  },
  {
   "cell_type": "code",
   "execution_count": 18,
   "metadata": {},
   "outputs": [
    {
     "data": {
      "text/plain": [
       "<matplotlib.collections.QuadMesh at 0x7f33584c1950>"
      ]
     },
     "execution_count": 18,
     "metadata": {},
     "output_type": "execute_result"
    },
    {
     "data": {
      "image/png": "[encoded data removed]",
      "text/plain": [
       "<Figure size 432x288 with 2 Axes>"
      ]
     },
     "metadata": {
      "needs_background": "light"
     },
     "output_type": "display_data"
    }
   ],
   "source": [
    "lr_preds.isel(time=-1).z.plot()"
   ]
  },
  {
   "cell_type": "code",
   "execution_count": 19,
   "metadata": {},
   "outputs": [
    {
     "data": {
      "text/plain": [
       "<matplotlib.collections.QuadMesh at 0x7f3358407250>"
      ]
     },
     "execution_count": 19,
     "metadata": {},
     "output_type": "execute_result"
    },
    {
     "data": {
      "image/png": "[encoded data removed]",
      "text/plain": [
       "<Figure size 432x288 with 2 Axes>"
      ]
     },
     "metadata": {
      "needs_background": "light"
     },
     "output_type": "display_data"
    }
   ],
   "source": [
    "z500_valid.isel(time=-1).plot()"
   ]
  },
  {
   "cell_type": "code",
   "execution_count": 20,
   "metadata": {},
   "outputs": [],
   "source": [
    "from src.regrid import regrid"
   ]
  },
  {
   "cell_type": "code",
   "execution_count": 21,
   "metadata": {
    "collapsed": true,
    "jupyter": {
     "outputs_hidden": true
    }
   },
   "outputs": [
    {
     "name": "stdout",
     "output_type": "stream",
     "text": [
      "Create weight file: bilinear_64x128_32x64_peri.nc\n",
      "using dimensions ('lat', 'lon') from data variable t as the horizontal dimensions for this dataset.\n",
      "using dimensions ('lat', 'lon') from data variable t as the horizontal dimensions for this dataset.\n",
      "using dimensions ('lat', 'lon') from data variable t as the horizontal dimensions for this dataset.\n",
      "using dimensions ('lat', 'lon') from data variable t as the horizontal dimensions for this dataset.\n",
      "using dimensions ('lat', 'lon') from data variable t as the horizontal dimensions for this dataset.\n",
      "using dimensions ('lat', 'lon') from data variable t as the horizontal dimensions for this dataset.\n",
      "using dimensions ('lat', 'lon') from data variable t as the horizontal dimensions for this dataset.\n",
      "using dimensions ('lat', 'lon') from data variable t as the horizontal dimensions for this dataset.\n",
      "using dimensions ('lat', 'lon') from data variable t as the horizontal dimensions for this dataset.\n",
      "using dimensions ('lat', 'lon') from data variable t as the horizontal dimensions for this dataset.\n",
      "using dimensions ('lat', 'lon') from data variable t as the horizontal dimensions for this dataset.\n",
      "using dimensions ('lat', 'lon') from data variable t as the horizontal dimensions for this dataset.\n",
      "using dimensions ('lat', 'lon') from data variable t as the horizontal dimensions for this dataset.\n",
      "using dimensions ('lat', 'lon') from data variable t as the horizontal dimensions for this dataset.\n",
      "using dimensions ('lat', 'lon') from data variable t as the horizontal dimensions for this dataset.\n",
      "using dimensions ('lat', 'lon') from data variable t as the horizontal dimensions for this dataset.\n",
      "using dimensions ('lat', 'lon') from data variable t as the horizontal dimensions for this dataset.\n",
      "using dimensions ('lat', 'lon') from data variable t as the horizontal dimensions for this dataset.\n",
      "using dimensions ('lat', 'lon') from data variable t as the horizontal dimensions for this dataset.\n",
      "using dimensions ('lat', 'lon') from data variable t as the horizontal dimensions for this dataset.\n",
      "using dimensions ('lat', 'lon') from data variable t as the horizontal dimensions for this dataset.\n",
      "using dimensions ('lat', 'lon') from data variable t as the horizontal dimensions for this dataset.\n",
      "using dimensions ('lat', 'lon') from data variable t as the horizontal dimensions for this dataset.\n",
      "using dimensions ('lat', 'lon') from data variable t as the horizontal dimensions for this dataset.\n",
      "using dimensions ('lat', 'lon') from data variable t as the horizontal dimensions for this dataset.\n",
      "using dimensions ('lat', 'lon') from data variable t as the horizontal dimensions for this dataset.\n",
      "using dimensions ('lat', 'lon') from data variable t as the horizontal dimensions for this dataset.\n",
      "using dimensions ('lat', 'lon') from data variable t as the horizontal dimensions for this dataset.\n",
      "using dimensions ('lat', 'lon') from data variable t as the horizontal dimensions for this dataset.\n",
      "using dimensions ('lat', 'lon') from data variable t as the horizontal dimensions for this dataset.\n",
      "using dimensions ('lat', 'lon') from data variable t as the horizontal dimensions for this dataset.\n",
      "using dimensions ('lat', 'lon') from data variable t as the horizontal dimensions for this dataset.\n",
      "using dimensions ('lat', 'lon') from data variable t as the horizontal dimensions for this dataset.\n",
      "using dimensions ('lat', 'lon') from data variable t as the horizontal dimensions for this dataset.\n",
      "using dimensions ('lat', 'lon') from data variable t as the horizontal dimensions for this dataset.\n",
      "using dimensions ('lat', 'lon') from data variable t as the horizontal dimensions for this dataset.\n"
     ]
    }
   ],
   "source": [
    "hr_preds = regrid(preds, ddeg_out=5.625)"
   ]
  },
  {
   "cell_type": "code",
   "execution_count": 23,
   "metadata": {},
   "outputs": [
    {
     "data": {
      "text/html": [
       "<pre>&lt;xarray.DataArray &#x27;z_rmse&#x27; ()&gt;\n",
       "array(1015.60482197)\n",
       "Coordinates:\n",
       "    level    int32 500</pre>"
      ],
      "text/plain": [
       "<xarray.DataArray 'z_rmse' ()>\n",
       "array(1015.60482197)\n",
       "Coordinates:\n",
       "    level    int32 500"
      ]
     },
     "execution_count": 23,
     "metadata": {},
     "output_type": "execute_result"
    }
   ],
   "source": [
    "compute_weighted_rmse(hr_preds.z, z500_valid).load()"
   ]
  },
  {
   "cell_type": "code",
   "execution_count": 24,
   "metadata": {},
   "outputs": [
    {
     "data": {
      "text/html": [
       "<pre>&lt;xarray.DataArray &#x27;t_rmse&#x27; ()&gt;\n",
       "array(3.98893589)\n",
       "Coordinates:\n",
       "    level    int32 850</pre>"
      ],
      "text/plain": [
       "<xarray.DataArray 't_rmse' ()>\n",
       "array(3.98893589)\n",
       "Coordinates:\n",
       "    level    int32 850"
      ]
     },
     "execution_count": 24,
     "metadata": {},
     "output_type": "execute_result"
    }
   ],
   "source": [
    "compute_weighted_rmse(hr_preds.t, t850_valid).load()"
   ]
  },
  {
   "cell_type": "markdown",
   "metadata": {},
   "source": [
    "## Fix weight loading issue"
   ]
  },
  {
   "cell_type": "code",
   "execution_count": 76,
   "metadata": {},
   "outputs": [],
   "source": [
    "model = build_resnet(\n",
    "    filters, kernels, input_shape=(\n",
    "        len(dg_train.data.lat), len(dg_train.data.lon), len(dg_train.data.level) * nt_in\n",
    "    ),\n",
    "    bn_position=bn_position, use_bias=0, l2=l2, skip=skip,\n",
    "    dropout=dropout\n",
    ")"
   ]
  },
  {
   "cell_type": "code",
   "execution_count": 77,
   "metadata": {},
   "outputs": [
    {
     "data": {
      "text/plain": [
       "2168450"
      ]
     },
     "execution_count": 77,
     "metadata": {},
     "output_type": "execute_result"
    }
   ],
   "source": [
    "model.count_params()"
   ]
  },
  {
   "cell_type": "code",
   "execution_count": 75,
   "metadata": {},
   "outputs": [
    {
     "data": {
      "text/plain": [
       "2168450"
      ]
     },
     "execution_count": 75,
     "metadata": {},
     "output_type": "execute_result"
    }
   ],
   "source": [
    "model.count_params()"
   ]
  },
  {
   "cell_type": "code",
   "execution_count": 73,
   "metadata": {},
   "outputs": [
    {
     "data": {
      "text/plain": [
       "2170370"
      ]
     },
     "execution_count": 73,
     "metadata": {},
     "output_type": "execute_result"
    }
   ],
   "source": [
    "model.count_params()"
   ]
  },
  {
   "cell_type": "code",
   "execution_count": 63,
   "metadata": {},
   "outputs": [],
   "source": [
    "model.load_weights(f'{model_save_dir}/{exp_id}_weights.h5')"
   ]
  },
  {
   "cell_type": "code",
   "execution_count": 64,
   "metadata": {},
   "outputs": [],
   "source": [
    "l = model.layers[1].conv.use_bias"
   ]
  },
  {
   "cell_type": "code",
   "execution_count": 68,
   "metadata": {},
   "outputs": [
    {
     "data": {
      "text/plain": [
       "True"
      ]
     },
     "execution_count": 68,
     "metadata": {},
     "output_type": "execute_result"
    }
   ],
   "source": [
    "l.conv.use_bias"
   ]
  },
  {
   "cell_type": "code",
   "execution_count": 48,
   "metadata": {},
   "outputs": [
    {
     "data": {
      "text/plain": [
       "1"
      ]
     },
     "execution_count": 48,
     "metadata": {},
     "output_type": "execute_result"
    }
   ],
   "source": [
    "len(l.weights)"
   ]
  },
  {
   "cell_type": "code",
   "execution_count": 50,
   "metadata": {},
   "outputs": [
    {
     "name": "stdout",
     "output_type": "stream",
     "text": [
      "['add', 'add_1', 'add_2', 'add_3', 'add_4', 'add_5', 'add_6', 'batch_normalization', 'batch_normalization_1', 'batch_normalization_10', 'batch_normalization_11', 'batch_normalization_12', 'batch_normalization_13', 'batch_normalization_14', 'batch_normalization_2', 'batch_normalization_3', 'batch_normalization_4', 'batch_normalization_5', 'batch_normalization_6', 'batch_normalization_7', 'batch_normalization_8', 'batch_normalization_9', 'dropout', 'dropout_1', 'dropout_10', 'dropout_11', 'dropout_12', 'dropout_13', 'dropout_14', 'dropout_2', 'dropout_3', 'dropout_4', 'dropout_5', 'dropout_6', 'dropout_7', 'dropout_8', 'dropout_9', 'input_1', 'periodic_conv2d', 'periodic_conv2d_1', 'periodic_conv2d_10', 'periodic_conv2d_11', 'periodic_conv2d_12', 'periodic_conv2d_13', 'periodic_conv2d_14', 'periodic_conv2d_15', 'periodic_conv2d_2', 'periodic_conv2d_3', 'periodic_conv2d_4', 'periodic_conv2d_5', 'periodic_conv2d_6', 'periodic_conv2d_7', 'periodic_conv2d_8', 'periodic_conv2d_9', 're_lu', 're_lu_1', 're_lu_10', 're_lu_11', 're_lu_12', 're_lu_13', 're_lu_14', 're_lu_2', 're_lu_3', 're_lu_4', 're_lu_5', 're_lu_6', 're_lu_7', 're_lu_8', 're_lu_9']\n"
     ]
    }
   ],
   "source": [
    "import h5py\n",
    "f = h5py.File(f'{model_save_dir}/{exp_id}_weights.h5', 'r')\n",
    "print(list(f.keys()))"
   ]
  },
  {
   "cell_type": "code",
   "execution_count": 59,
   "metadata": {},
   "outputs": [
    {
     "data": {
      "text/plain": [
       "['bias:0', 'kernel:0']"
      ]
     },
     "execution_count": 59,
     "metadata": {},
     "output_type": "execute_result"
    }
   ],
   "source": [
    "list(f['periodic_conv2d_2']['periodic_conv2d_2']['conv2d_2']\n",
    ".keys())"
   ]
  },
  {
   "cell_type": "code",
   "execution_count": null,
   "metadata": {},
   "outputs": [],
   "source": [
    "import h5py\n",
    "f = h5py.File(f'{model_save_dir}/{exp_id}_weights.h5', 'r')\n",
    "print(list(f.keys())\n",
    "# will get a list of layer names which you can use as index\n",
    "d = f['dense']['dense_1']['kernel:0']\n",
    "# <HDF5 dataset \"kernel:0\": shape (128, 1), type \"<f4\">\n",
    "d.shape == (128, 1)\n",
    "d[0] == array([-0.14390108], dtype=float32)"
   ]
  }
 ],
 "metadata": {
  "kernelspec": {
   "display_name": "Python 3",
   "language": "python",
   "name": "python3"
  },
  "language_info": {
   "codemirror_mode": {
    "name": "ipython",
    "version": 3
   },
   "file_extension": ".py",
   "mimetype": "text/x-python",
   "name": "python",
   "nbconvert_exporter": "python",
   "pygments_lexer": "ipython3",
   "version": "3.7.4"
  }
 },
 "nbformat": 4,
 "nbformat_minor": 4
}
