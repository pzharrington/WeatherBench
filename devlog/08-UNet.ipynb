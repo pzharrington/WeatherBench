{
 "cells": [
  {
   "cell_type": "markdown",
   "metadata": {
    "Collapsed": "false"
   },
   "source": [
    "# Let's finally do this. UNet implementation."
   ]
  },
  {
   "cell_type": "code",
   "execution_count": 1,
   "metadata": {
    "Collapsed": "false"
   },
   "outputs": [],
   "source": [
    "%load_ext autoreload\n",
    "%autoreload 2"
   ]
  },
  {
   "cell_type": "code",
   "execution_count": 2,
   "metadata": {
    "Collapsed": "false"
   },
   "outputs": [],
   "source": [
    "from src.utils import *\n",
    "from src.score import *\n",
    "from src.data_generator import *\n",
    "from src.networks import *\n",
    "import matplotlib.pyplot as plt"
   ]
  },
  {
   "cell_type": "code",
   "execution_count": 3,
   "metadata": {
    "Collapsed": "false"
   },
   "outputs": [],
   "source": [
    "os.environ[\"CUDA_VISIBLE_DEVICES\"]=str(0)\n",
    "limit_mem()"
   ]
  },
  {
   "cell_type": "code",
   "execution_count": 4,
   "metadata": {
    "Collapsed": "false"
   },
   "outputs": [],
   "source": [
    "datadir = '/data/stephan/WeatherBench/5.625deg/'"
   ]
  },
  {
   "cell_type": "code",
   "execution_count": 5,
   "metadata": {
    "Collapsed": "false"
   },
   "outputs": [],
   "source": [
    "var_dict = {\n",
    "    'geopotential': ('z', [500]),\n",
    "    'temperature': ('t', [850]),\n",
    "    'constants': ['lat2d', 'orography', 'lsm']\n",
    "}"
   ]
  },
  {
   "cell_type": "code",
   "execution_count": 6,
   "metadata": {
    "Collapsed": "false"
   },
   "outputs": [],
   "source": [
    "output_vars = ['z_500', 't_850']"
   ]
  },
  {
   "cell_type": "code",
   "execution_count": 7,
   "metadata": {
    "Collapsed": "false"
   },
   "outputs": [],
   "source": [
    "ds = xr.merge([xr.open_mfdataset(f'{datadir}/{var}/*.nc', combine='by_coords') for var in var_dict.keys()])"
   ]
  },
  {
   "cell_type": "code",
   "execution_count": 8,
   "metadata": {
    "Collapsed": "false"
   },
   "outputs": [],
   "source": [
    "ds_train = ds.sel(time=slice('2000', '2015'))\n",
    "ds_valid = ds.sel(time=slice('2016', '2016'))\n",
    "ds_test = ds.sel(time=slice('2017', '2018'))"
   ]
  },
  {
   "cell_type": "code",
   "execution_count": 9,
   "metadata": {
    "Collapsed": "false"
   },
   "outputs": [],
   "source": [
    "lead_time=72\n",
    "filters = [128, 128, 128, 128, 128, 128, 2]\n",
    "kernels = [5, 5, 5, 5, 5, 5, 5]\n",
    "norm_subsample = 60000\n",
    "data_subsample = 1\n",
    "lr = 0.5e-4\n",
    "batch_size = 64"
   ]
  },
  {
   "cell_type": "code",
   "execution_count": 10,
   "metadata": {
    "Collapsed": "false"
   },
   "outputs": [
    {
     "name": "stdout",
     "output_type": "stream",
     "text": [
      "DG start 23:17:57.793018\n",
      "DG normalize 23:17:57.806901\n",
      "DG load 23:18:01.455478\n",
      "Loading data into RAM\n",
      "DG done 23:18:20.227341\n",
      "DG start 23:18:20.227980\n",
      "DG normalize 23:18:20.240674\n",
      "DG load 23:18:20.248867\n",
      "Loading data into RAM\n",
      "DG done 23:18:21.550600\n",
      "DG start 23:18:21.550858\n",
      "DG normalize 23:18:21.563891\n",
      "DG load 23:18:21.569397\n",
      "Loading data into RAM\n",
      "DG done 23:18:23.933476\n"
     ]
    }
   ],
   "source": [
    "dg_train = DataGenerator(\n",
    "    ds_train, var_dict, lead_time, batch_size=batch_size, output_vars=output_vars,\n",
    "    data_subsample=data_subsample, norm_subsample=norm_subsample\n",
    ")\n",
    "dg_valid = DataGenerator(\n",
    "    ds_valid, var_dict, lead_time, batch_size=batch_size, mean=dg_train.mean, std=dg_train.std,\n",
    "    shuffle=False, output_vars=output_vars\n",
    ")\n",
    "dg_test =  DataGenerator(\n",
    "    ds_test, var_dict, lead_time, batch_size=batch_size, mean=dg_train.mean, std=dg_train.std,\n",
    "    shuffle=False, output_vars=output_vars\n",
    ")"
   ]
  },
  {
   "cell_type": "code",
   "execution_count": 11,
   "metadata": {
    "Collapsed": "false"
   },
   "outputs": [],
   "source": [
    "def build_unet(input_shape, n_layers, filters_start, channels_out, kernel=3, u_skip=True, \n",
    "               res_skip=True, l2=0, bn_position=None, dropout=0):\n",
    "    \"https://github.com/Nishanksingla/UNet-with-ResBlock/blob/master/resnet34_unet_model.py\"\n",
    "    x = input = Input(shape=input_shape)\n",
    "    filters = filters_start\n",
    "    \n",
    "    # Down\n",
    "    down_layers = []\n",
    "    for i in range(n_layers):\n",
    "        # Resblock\n",
    "        x_res = PeriodicConv2D(\n",
    "            filters, 1, conv_kwargs={\n",
    "                'use_bias': False, 'kernel_regularizer': regularizers.l2(l2)})(x)\n",
    "        x = convblock(x, filters, kernel, bn_position=bn_position, l2=l2, dropout=dropout)\n",
    "        x = convblock(x, filters, kernel, bn_position=bn_position, l2=l2, activation='linear', \n",
    "                      dropout=dropout)\n",
    "        if res_skip: x = Add()([x, x_res])\n",
    "        x = ReLU()(x)\n",
    "        if not i == n_layers-1: \n",
    "            down_layers.append(x)\n",
    "            # Downsampling\n",
    "            x = MaxPooling2D()(x)\n",
    "            filters *= 2\n",
    "\n",
    "    # Up\n",
    "    for dl in reversed(down_layers):\n",
    "        filters //= 2\n",
    "        # Upsample\n",
    "        x = UpSampling2D()(x)\n",
    "        x = PeriodicConv2D(filters, 3, conv_kwargs={'kernel_regularizer': regularizers.l2(l2)})(x)\n",
    "        x = ReLU()(x)\n",
    "        \n",
    "        # Concatenate\n",
    "        if u_skip:\n",
    "            x = Concatenate()([x, dl])\n",
    "        \n",
    "        # Resblock\n",
    "        x_res = PeriodicConv2D(filters, 1, conv_kwargs={'use_bias': False})(x)\n",
    "        x = convblock(x, filters, kernel, bn_position=bn_position, l2=l2, dropout=dropout)\n",
    "        x = convblock(x, filters, kernel, bn_position=bn_position, l2=l2, activation='linear', \n",
    "                      dropout=dropout)\n",
    "        if res_skip: x = Add()([x, x_res])\n",
    "        x = ReLU()(x)\n",
    "    \n",
    "    x = PeriodicConv2D(channels_out, 1, conv_kwargs={'kernel_regularizer': regularizers.l2(l2)})(x)\n",
    "    return keras.models.Model(input, x)"
   ]
  },
  {
   "cell_type": "code",
   "execution_count": 12,
   "metadata": {
    "Collapsed": "false"
   },
   "outputs": [
    {
     "data": {
      "text/plain": [
       "(64, 32, 64, 5)"
      ]
     },
     "execution_count": 12,
     "metadata": {},
     "output_type": "execute_result"
    }
   ],
   "source": [
    "X, y = dg_train[0];X.shape"
   ]
  },
  {
   "cell_type": "code",
   "execution_count": 30,
   "metadata": {
    "Collapsed": "false"
   },
   "outputs": [],
   "source": [
    "model = build_unet((32, 64, 5), n_layers=5, filters_start=16, channels_out=2)"
   ]
  },
  {
   "cell_type": "code",
   "execution_count": 31,
   "metadata": {
    "Collapsed": "false"
   },
   "outputs": [],
   "source": [
    "# model.summary()"
   ]
  },
  {
   "cell_type": "code",
   "execution_count": 32,
   "metadata": {
    "Collapsed": "false"
   },
   "outputs": [],
   "source": [
    "# from IPython.display import SVG\n",
    "# from tensorflow.keras.utils import model_to_dot, plot_model\n",
    "\n",
    "# plot_model(model, to_file='model.png')"
   ]
  },
  {
   "cell_type": "code",
   "execution_count": 33,
   "metadata": {
    "Collapsed": "false"
   },
   "outputs": [],
   "source": [
    "model.compile('adam', 'mse')"
   ]
  },
  {
   "cell_type": "code",
   "execution_count": 34,
   "metadata": {
    "Collapsed": "false"
   },
   "outputs": [],
   "source": [
    "from src.clr import LRFinder\n",
    "import seaborn as sns\n",
    "sns.set_style('darkgrid')"
   ]
  },
  {
   "cell_type": "code",
   "execution_count": 35,
   "metadata": {
    "Collapsed": "false"
   },
   "outputs": [],
   "source": [
    "lrf = LRFinder(\n",
    "    dg_train.n_samples, batch_size,\n",
    "    minimum_lr=1e-5, maximum_lr=0.01,\n",
    "    lr_scale='exp', save_dir='./', verbose=0)"
   ]
  },
  {
   "cell_type": "code",
   "execution_count": 36,
   "metadata": {
    "Collapsed": "false"
   },
   "outputs": [
    {
     "name": "stdout",
     "output_type": "stream",
     "text": [
      "WARNING:tensorflow:sample_weight modes were coerced from\n",
      "  ...\n",
      "    to  \n",
      "  ['...']\n",
      "Train for 2191 steps\n",
      "2191/2191 [==============================] - 61s 28ms/step - loss: 0.1276\n"
     ]
    },
    {
     "data": {
      "text/plain": [
       "<tensorflow.python.keras.callbacks.History at 0x7fcaac731450>"
      ]
     },
     "execution_count": 36,
     "metadata": {},
     "output_type": "execute_result"
    }
   ],
   "source": [
    "model.fit_generator(dg_train, epochs=1, \n",
    "                    callbacks=[lrf])"
   ]
  },
  {
   "cell_type": "code",
   "execution_count": 41,
   "metadata": {
    "Collapsed": "false"
   },
   "outputs": [
    {
     "data": {
      "text/plain": [
       "<matplotlib.lines.Line2D at 0x7fca740cec90>"
      ]
     },
     "execution_count": 41,
     "metadata": {},
     "output_type": "execute_result"
    },
    {
     "data": {
      "image/png": "[encoded data removed]",
      "text/plain": [
       "<Figure size 432x288 with 1 Axes>"
      ]
     },
     "metadata": {},
     "output_type": "display_data"
    }
   ],
   "source": [
    "plt.plot(10**lrf.lrs, lrf.losses)\n",
    "# plt.yscale('log')\n",
    "plt.ylim(0, 1)\n",
    "plt.xlim(0, 0.002)\n",
    "plt.axvline(0.5e-4)"
   ]
  },
  {
   "cell_type": "code",
   "execution_count": null,
   "metadata": {
    "Collapsed": "false"
   },
   "outputs": [],
   "source": []
  },
  {
   "cell_type": "code",
   "execution_count": null,
   "metadata": {
    "Collapsed": "false"
   },
   "outputs": [],
   "source": []
  }
 ],
 "metadata": {
  "kernelspec": {
   "display_name": "Python 3",
   "language": "python",
   "name": "python3"
  },
  "language_info": {
   "codemirror_mode": {
    "name": "ipython",
    "version": 3
   },
   "file_extension": ".py",
   "mimetype": "text/x-python",
   "name": "python",
   "nbconvert_exporter": "python",
   "pygments_lexer": "ipython3",
   "version": "3.7.4"
  }
 },
 "nbformat": 4,
 "nbformat_minor": 4
}
